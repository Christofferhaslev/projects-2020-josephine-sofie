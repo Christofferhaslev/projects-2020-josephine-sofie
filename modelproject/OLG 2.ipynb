{
 "cells": [
  {
   "cell_type": "markdown",
   "metadata": {},
   "source": [
    "# YOUR PROJECT TITLE"
   ]
  },
  {
   "cell_type": "markdown",
   "metadata": {},
   "source": [
    "> **Note the following:** \n",
    "> 1. This is *not* meant to be an example of an actual **model analysis project**, just an example of how to structure such a project.\n",
    "> 1. Remember the general advice on structuring and commenting your code from [lecture 5](https://numeconcopenhagen.netlify.com/lectures/Workflow_and_debugging).\n",
    "> 1. Remember this [guide](https://www.markdownguide.org/basic-syntax/) on markdown and (a bit of) latex.\n",
    "> 1. Turn on automatic numbering by clicking on the small icon on top of the table of contents in the left sidebar.\n",
    "> 1. The `modelproject.py` file includes a function which could be used multiple times in this notebook."
   ]
  },
  {
   "cell_type": "markdown",
   "metadata": {},
   "source": [
    "Imports and set magics:"
   ]
  },
  {
   "cell_type": "code",
   "execution_count": 11,
   "metadata": {},
   "outputs": [],
   "source": [
    "import numpy as np\n",
    "from scipy import optimize\n",
    "import sympy as sm\n",
    "\n",
    "# autoreload modules when code is run\n",
    "%load_ext autoreload\n",
    "%autoreload 2\n",
    "\n",
    "%matplotlib inline\n",
    "import matplotlib.pyplot as plt\n",
    "plt.style.use('seaborn-whitegrid')\n",
    "from matplotlib import cm\n",
    "from mpl_toolkits.mplot3d import Axes3D"
   ]
  },
  {
   "cell_type": "markdown",
   "metadata": {
    "toc-hr-collapsed": true
   },
   "source": [
    "# Model description"
   ]
  },
  {
   "cell_type": "markdown",
   "metadata": {},
   "source": [
    "We consider the **standard OLG-model** where:\n",
    "\n",
    "We assume that utility is given by $u(c)$ with constant relative risk aversion (CRRA utility function): \n",
    "\n",
    "\\begin{equation}\n",
    "  u(c)=\\begin{cases}\n",
    "    \\frac{c^{1-\\sigma}-1}{1-\\sigma} , & \\sigma ≠ 1 \\\\\n",
    "    log c, & \\sigma = 1\n",
    "  \\end{cases}\n",
    "\\end{equation}\n",
    "\n",
    "Individuals live for two periods, t = 1,2. $L_t$ individuals are born in period t and we assume that the population grows with a constant rate, n: \n",
    "\n",
    "$$ L_t = L_{t-1}(1+n) $$\n",
    "\n",
    "agents derive utility while alive: \n",
    "\n",
    "$$ U_t = u(c_{1t})+\\frac{1}{1+\\rho} u(c_{2t}) $$\n",
    "\n",
    "Agtens' budget constraint in each period is given by: \n",
    "\n",
    "$$ c_{1t} + s_t = w_t $$\n",
    "\n",
    "$$ c_{2t+1} = (1+r_{t+1}) s_t $$\n",
    "\n",
    "This implies that agents' lifetime budget constraint is given by: \n",
    "\n",
    "$$ c_{1t} + \\frac{c_{2t+1}}{1+r_{t+1}} = w_t $$\n",
    "\n"
   ]
  },
  {
   "cell_type": "markdown",
   "metadata": {},
   "source": [
    "# Analytical solution"
   ]
  },
  {
   "cell_type": "markdown",
   "metadata": {},
   "source": [
    "## Household problem"
   ]
  },
  {
   "cell_type": "markdown",
   "metadata": {},
   "source": [
    "Every agtens born at time t maximize utility subject to their lifetime budget constraint.\n",
    "\n",
    "For now, we assume $\\sigma = 1$, which imply that utility is given by $u(c) = log (c)$"
   ]
  },
  {
   "cell_type": "markdown",
   "metadata": {},
   "source": [
    "First we define all **symbols**:"
   ]
  },
  {
   "cell_type": "code",
   "execution_count": 12,
   "metadata": {},
   "outputs": [],
   "source": [
    "c_1t = sm.symbols('c_1t')\n",
    "c_2t = sm.symbols('c_2t+1')\n",
    "rho = sm.symbols('rho')\n",
    "u_1 = sm.symbols('u_1')\n",
    "u_2 = sm.symbols('u_2')\n",
    "sigma = sm.symbols('sigma')\n",
    "w = sm.symbols('w_t')\n",
    "r_t1 = sm.symbols('r_t+1')\n",
    "lamb = sm.symbols('lambda')\n",
    "s = sm.symbols('s_t')\n",
    "k_2t = sm.symbols('k_t+1')\n",
    "k_1t = sm.symbols('k_t')\n",
    "alpha = sm.symbols('alpha')\n",
    "n = sm.symbols('n')\n",
    "k_star = sm.symbols('k^*')\n",
    "Y = sm.symbols('Y_t')\n",
    "K = sm.symbols('K_t')\n",
    "L_t = sm.symbols('L_t')\n",
    "r = sm.symbols('r_t')"
   ]
  },
  {
   "cell_type": "code",
   "execution_count": 13,
   "metadata": {},
   "outputs": [
    {
     "output_type": "execute_result",
     "data": {
      "text/plain": "log(c_1t) + log(c_2t+1)/(rho + 1)",
      "text/latex": "$\\displaystyle \\log{\\left(c_{1t} \\right)} + \\frac{\\log{\\left(c_{2t+1} \\right)}}{\\rho + 1}$"
     },
     "metadata": {},
     "execution_count": 13
    }
   ],
   "source": [
    "#Lifetime utility\n",
    "u_c1 = sm.ln(c_1t)\n",
    "u_c2 = sm.ln(c_2t)\n",
    "U = u_c1 + u_c2/(1+rho)\n",
    "U"
   ]
  },
  {
   "cell_type": "code",
   "execution_count": 14,
   "metadata": {},
   "outputs": [
    {
     "output_type": "execute_result",
     "data": {
      "text/plain": "-lambda*(c_1t + c_2t+1/(r_t+1 + 1) - w_t) + log(c_1t) + log(c_2t+1)/(rho + 1)",
      "text/latex": "$\\displaystyle - \\lambda \\left(c_{1t} + \\frac{c_{2t+1}}{r_{t+1} + 1} - w_{t}\\right) + \\log{\\left(c_{1t} \\right)} + \\frac{\\log{\\left(c_{2t+1} \\right)}}{\\rho + 1}$"
     },
     "metadata": {},
     "execution_count": 14
    }
   ],
   "source": [
    "# Lagrangian\n",
    "budget_l = c_1t + c_2t/(1+r_t1) - w\n",
    "L = U - lamb * budget_l\n",
    "L\n",
    "\n"
   ]
  },
  {
   "cell_type": "code",
   "execution_count": 15,
   "metadata": {},
   "outputs": [
    {
     "output_type": "execute_result",
     "data": {
      "text/plain": "Eq(c_2t+1, c_1t*(r_t+1 + 1)/(rho + 1))",
      "text/latex": "$\\displaystyle c_{2t+1} = \\frac{c_{1t} \\left(r_{t+1} + 1\\right)}{\\rho + 1}$"
     },
     "metadata": {},
     "execution_count": 15
    }
   ],
   "source": [
    "def Lan(x):\n",
    "    L_1 = sm.diff(L, x)\n",
    "    L_2 = sm.Eq(L_1,0)\n",
    "    L_3 = sm.solve(L_2, lamb) [0]\n",
    "    return L_3\n",
    "\n",
    "L_c1 = Lan(c_1t)\n",
    "L_c2 = Lan(c_2t)\n",
    "\n",
    "Eu = sm.Eq(L_c1, L_c2)\n",
    "Eu_1 = sm.solve(Eu, c_2t) [0]\n",
    "Euler = sm.Eq(c_2t, Eu_1)\n",
    "Euler\n",
    "\n",
    "\n"
   ]
  },
  {
   "cell_type": "code",
   "execution_count": 16,
   "metadata": {},
   "outputs": [
    {
     "output_type": "execute_result",
     "data": {
      "text/plain": "Eq(s_t, w_t/(rho + 2))",
      "text/latex": "$\\displaystyle s_{t} = \\frac{w_{t}}{\\rho + 2}$"
     },
     "metadata": {},
     "execution_count": 16
    }
   ],
   "source": [
    "budget_1 = w-s \n",
    "budget_2 = (1+r_t1)*s\n",
    "\n",
    "savings_1 = Euler.subs(c_1t,budget_1)\n",
    "\n",
    "savings_2 = savings_1.subs(c_2t, budget_2)\n",
    "\n",
    "savings = sm.solve(savings_2,s)[0]\n",
    "\n",
    "opt_savings = sm.Eq(s,savings)\n",
    "opt_savings"
   ]
  },
  {
   "cell_type": "code",
   "execution_count": 17,
   "metadata": {},
   "outputs": [
    {
     "output_type": "execute_result",
     "data": {
      "text/plain": "K_t**(alpha - 1)*L_t**(1 - alpha)*alpha",
      "text/latex": "$\\displaystyle K_{t}^{\\alpha - 1} L_{t}^{1 - \\alpha} \\alpha$"
     },
     "metadata": {},
     "execution_count": 17
    }
   ],
   "source": [
    "Y = K**alpha*L_t**(1-alpha)\n",
    "k_t = sm.diff(Y,K)\n",
    "k_t = sm.simplify(k_t)\n",
    "k_t"
   ]
  },
  {
   "cell_type": "markdown",
   "metadata": {},
   "source": [
    "divide by L"
   ]
  },
  {
   "cell_type": "code",
   "execution_count": 18,
   "metadata": {},
   "outputs": [
    {
     "output_type": "execute_result",
     "data": {
      "text/plain": "Eq(r_t, alpha*k_t**(alpha - 1))",
      "text/latex": "$\\displaystyle r_{t} = \\alpha k_{t}^{\\alpha - 1}$"
     },
     "metadata": {},
     "execution_count": 18
    }
   ],
   "source": [
    "rr = sm.Eq(r,alpha*k_1t**(alpha-1))\n",
    "rr"
   ]
  },
  {
   "cell_type": "code",
   "execution_count": 19,
   "metadata": {},
   "outputs": [
    {
     "output_type": "execute_result",
     "data": {
      "text/plain": "((1 - alpha)/(n*rho + 2*n + rho + 2))**(-1/(alpha - 1))",
      "text/latex": "$\\displaystyle \\left(\\frac{1 - \\alpha}{n \\rho + 2 n + \\rho + 2}\\right)^{- \\frac{1}{\\alpha - 1}}$"
     },
     "metadata": {},
     "execution_count": 19
    }
   ],
   "source": [
    "# In equilibrium s = K*L = k\n",
    "# We know that w is the marginal product of labor and given that the production function is a cobb-douglas we can insert w:\n",
    "\n",
    "capital = sm.Eq(k_2t*(1+n), (((1-alpha)*k_1t**alpha)/(rho+2)))\n",
    "capital\n",
    "\n",
    "# In equilibrium k_t+1 = k_t = k^* so: \n",
    "\n",
    "capital_eq=sm.Eq(k_star*(1+n), (((1-alpha)*k_star**alpha)/(rho+2)))\n",
    "Equilibrium = sm.solve(capital_eq,k_star)[0]\n",
    "Equilibrium"
   ]
  },
  {
   "cell_type": "markdown",
   "metadata": {},
   "source": [
    "## Numerical solution"
   ]
  },
  {
   "cell_type": "markdown",
   "metadata": {},
   "source": [
    "We can re-write the equation for the steady state capital per capita as\n",
    "\n",
    "\\\\[ 0 = \\frac{1}{(1+n)(1+g)}[sf(\\tilde{k}^{\\ast})+(1-\\delta)\\tilde{k}^{\\ast}] - \\tilde{k}^{\\ast} \\\\]\n",
    "\n",
    "whereby it clearly becomes a **root-finding problem**. Such a problem can be solved by a **bisection method**."
   ]
  },
  {
   "cell_type": "markdown",
   "metadata": {},
   "source": [
    "Define the model **parameters**:"
   ]
  },
  {
   "cell_type": "code",
   "execution_count": 20,
   "metadata": {},
   "outputs": [],
   "source": [
    "sigma = 1\n",
    "rho = 0.05\n",
    "n = 0.02\n",
    "alpha = 0.33"
   ]
  },
  {
   "cell_type": "markdown",
   "metadata": {},
   "source": [
    "## Define functions"
   ]
  },
  {
   "cell_type": "code",
   "execution_count": 21,
   "metadata": {},
   "outputs": [],
   "source": [
    "def u_func(c,sigma):\n",
    "    if sigma == 1:\n",
    "        u = np.log(c)\n",
    "    else:\n",
    "        u = (c**(1-sigma)-1)/(1-sigma)\n",
    "    return u\n",
    "\n",
    "def utility(sigma,rho,w,r,s):\n",
    "    return u_func(w-s,sigma) + 1/(1+rho)*u_func((1+r)*s,sigma)\n",
    "\n",
    "def wage(k,alpha):\n",
    "    return (1-alpha)*k**alpha\n",
    "\n",
    "def rr(k,alpha):\n",
    "     return alpha*k**(alpha-1)\n",
    "     \n",
    "def capital_2t(s,n):\n",
    "    return s/(1+n) \n",
    "\n",
    "def savings(w,rho):\n",
    "    return w/(2+rho)\n",
    "\n",
    "def transition(k,alpha,rho,n):\n",
    "    w = wage(k,alpha)\n",
    "    s = savings(w,rho)\n",
    "    return capital_2t(s,n)"
   ]
  },
  {
   "cell_type": "code",
   "execution_count": 22,
   "metadata": {},
   "outputs": [],
   "source": [
    "def transition_curve(alpha,rho,n):\n",
    "\n",
    "    # a. grids\n",
    "    capital_1 = np.linspace(1e-8,0.3,500)\n",
    "    capital_2 = np.empty(500)\n",
    "\n",
    "    #b. solve for each k in grid\n",
    "    for i,k in enumerate(capital_1):\n",
    "        \n",
    "        # i. capital in t+1\n",
    "        result = transition(k,alpha,rho,n)\n",
    "        capital_2[i] = result\n",
    "\n",
    "    return capital_1,capital_2\n"
   ]
  },
  {
   "cell_type": "code",
   "execution_count": 23,
   "metadata": {},
   "outputs": [],
   "source": [
    "capital_1,capital_2 = transition_curve(alpha,rho,n)"
   ]
  },
  {
   "cell_type": "code",
   "execution_count": 24,
   "metadata": {},
   "outputs": [
    {
     "output_type": "display_data",
     "data": {
      "text/plain": "<Figure size 432x288 with 1 Axes>",
      "image/svg+xml": "<?xml version=\"1.0\" encoding=\"utf-8\" standalone=\"no\"?>\n<!DOCTYPE svg PUBLIC \"-//W3C//DTD SVG 1.1//EN\"\n  \"http://www.w3.org/Graphics/SVG/1.1/DTD/svg11.dtd\">\n<!-- Created with matplotlib (http://matplotlib.org/) -->\n<svg height=\"272.374687pt\" version=\"1.1\" viewBox=\"0 0 385.460937 272.374687\" width=\"385.460937pt\" xmlns=\"http://www.w3.org/2000/svg\" xmlns:xlink=\"http://www.w3.org/1999/xlink\">\n <defs>\n  <style type=\"text/css\">\n*{stroke-linecap:butt;stroke-linejoin:round;}\n  </style>\n </defs>\n <g id=\"figure_1\">\n  <g id=\"patch_1\">\n   <path d=\"M 0 272.374687 \nL 385.460937 272.374687 \nL 385.460937 0 \nL 0 0 \nz\n\" style=\"fill:none;\"/>\n  </g>\n  <g id=\"axes_1\">\n   <g id=\"patch_2\">\n    <path d=\"M 43.460938 239.229375 \nL 378.260938 239.229375 \nL 378.260938 21.789375 \nL 43.460938 21.789375 \nz\n\" style=\"fill:#ffffff;\"/>\n   </g>\n   <g id=\"matplotlib.axis_1\">\n    <g id=\"xtick_1\">\n     <g id=\"line2d_1\">\n      <path clip-path=\"url(#pa5c6c2d93d)\" d=\"M 58.679109 239.229375 \nL 58.679109 21.789375 \n\" style=\"fill:none;stroke:#cccccc;stroke-linecap:round;stroke-width:0.8;\"/>\n     </g>\n     <g id=\"line2d_2\"/>\n     <g id=\"text_1\">\n      <!-- 0.00 -->\n      <defs>\n       <path d=\"M 4.15625 35.296875 \nQ 4.15625 48 6.765625 55.734375 \nQ 9.375 63.484375 14.515625 67.671875 \nQ 19.671875 71.875 27.484375 71.875 \nQ 33.25 71.875 37.59375 69.546875 \nQ 41.9375 67.234375 44.765625 62.859375 \nQ 47.609375 58.5 49.21875 52.21875 \nQ 50.828125 45.953125 50.828125 35.296875 \nQ 50.828125 22.703125 48.234375 14.96875 \nQ 45.65625 7.234375 40.5 3 \nQ 35.359375 -1.21875 27.484375 -1.21875 \nQ 17.140625 -1.21875 11.234375 6.203125 \nQ 4.15625 15.140625 4.15625 35.296875 \nz\nM 13.1875 35.296875 \nQ 13.1875 17.671875 17.3125 11.828125 \nQ 21.4375 6 27.484375 6 \nQ 33.546875 6 37.671875 11.859375 \nQ 41.796875 17.71875 41.796875 35.296875 \nQ 41.796875 52.984375 37.671875 58.78125 \nQ 33.546875 64.59375 27.390625 64.59375 \nQ 21.34375 64.59375 17.71875 59.46875 \nQ 13.1875 52.9375 13.1875 35.296875 \nz\n\" id=\"ArialMT-30\"/>\n       <path d=\"M 9.078125 0 \nL 9.078125 10.015625 \nL 19.09375 10.015625 \nL 19.09375 0 \nz\n\" id=\"ArialMT-2e\"/>\n      </defs>\n      <g style=\"fill:#262626;\" transform=\"translate(48.94864 249.887187)scale(0.1 -0.1)\">\n       <use xlink:href=\"#ArialMT-30\"/>\n       <use x=\"55.615234\" xlink:href=\"#ArialMT-2e\"/>\n       <use x=\"83.398438\" xlink:href=\"#ArialMT-30\"/>\n       <use x=\"139.013672\" xlink:href=\"#ArialMT-30\"/>\n      </g>\n     </g>\n    </g>\n    <g id=\"xtick_2\">\n     <g id=\"line2d_3\">\n      <path clip-path=\"url(#pa5c6c2d93d)\" d=\"M 109.406384 239.229375 \nL 109.406384 21.789375 \n\" style=\"fill:none;stroke:#cccccc;stroke-linecap:round;stroke-width:0.8;\"/>\n     </g>\n     <g id=\"line2d_4\"/>\n     <g id=\"text_2\">\n      <!-- 0.05 -->\n      <defs>\n       <path d=\"M 4.15625 18.75 \nL 13.375 19.53125 \nQ 14.40625 12.796875 18.140625 9.390625 \nQ 21.875 6 27.15625 6 \nQ 33.5 6 37.890625 10.78125 \nQ 42.28125 15.578125 42.28125 23.484375 \nQ 42.28125 31 38.0625 35.34375 \nQ 33.84375 39.703125 27 39.703125 \nQ 22.75 39.703125 19.328125 37.765625 \nQ 15.921875 35.84375 13.96875 32.765625 \nL 5.71875 33.84375 \nL 12.640625 70.609375 \nL 48.25 70.609375 \nL 48.25 62.203125 \nL 19.671875 62.203125 \nL 15.828125 42.96875 \nQ 22.265625 47.46875 29.34375 47.46875 \nQ 38.71875 47.46875 45.15625 40.96875 \nQ 51.609375 34.46875 51.609375 24.265625 \nQ 51.609375 14.546875 45.953125 7.46875 \nQ 39.0625 -1.21875 27.15625 -1.21875 \nQ 17.390625 -1.21875 11.203125 4.25 \nQ 5.03125 9.71875 4.15625 18.75 \nz\n\" id=\"ArialMT-35\"/>\n      </defs>\n      <g style=\"fill:#262626;\" transform=\"translate(99.675915 249.887187)scale(0.1 -0.1)\">\n       <use xlink:href=\"#ArialMT-30\"/>\n       <use x=\"55.615234\" xlink:href=\"#ArialMT-2e\"/>\n       <use x=\"83.398438\" xlink:href=\"#ArialMT-30\"/>\n       <use x=\"139.013672\" xlink:href=\"#ArialMT-35\"/>\n      </g>\n     </g>\n    </g>\n    <g id=\"xtick_3\">\n     <g id=\"line2d_5\">\n      <path clip-path=\"url(#pa5c6c2d93d)\" d=\"M 160.133658 239.229375 \nL 160.133658 21.789375 \n\" style=\"fill:none;stroke:#cccccc;stroke-linecap:round;stroke-width:0.8;\"/>\n     </g>\n     <g id=\"line2d_6\"/>\n     <g id=\"text_3\">\n      <!-- 0.10 -->\n      <defs>\n       <path d=\"M 37.25 0 \nL 28.46875 0 \nL 28.46875 56 \nQ 25.296875 52.984375 20.140625 49.953125 \nQ 14.984375 46.921875 10.890625 45.40625 \nL 10.890625 53.90625 \nQ 18.265625 57.375 23.78125 62.296875 \nQ 29.296875 67.234375 31.59375 71.875 \nL 37.25 71.875 \nz\n\" id=\"ArialMT-31\"/>\n      </defs>\n      <g style=\"fill:#262626;\" transform=\"translate(150.403189 249.887187)scale(0.1 -0.1)\">\n       <use xlink:href=\"#ArialMT-30\"/>\n       <use x=\"55.615234\" xlink:href=\"#ArialMT-2e\"/>\n       <use x=\"83.398438\" xlink:href=\"#ArialMT-31\"/>\n       <use x=\"139.013672\" xlink:href=\"#ArialMT-30\"/>\n      </g>\n     </g>\n    </g>\n    <g id=\"xtick_4\">\n     <g id=\"line2d_7\">\n      <path clip-path=\"url(#pa5c6c2d93d)\" d=\"M 210.860932 239.229375 \nL 210.860932 21.789375 \n\" style=\"fill:none;stroke:#cccccc;stroke-linecap:round;stroke-width:0.8;\"/>\n     </g>\n     <g id=\"line2d_8\"/>\n     <g id=\"text_4\">\n      <!-- 0.15 -->\n      <g style=\"fill:#262626;\" transform=\"translate(201.130464 249.887187)scale(0.1 -0.1)\">\n       <use xlink:href=\"#ArialMT-30\"/>\n       <use x=\"55.615234\" xlink:href=\"#ArialMT-2e\"/>\n       <use x=\"83.398438\" xlink:href=\"#ArialMT-31\"/>\n       <use x=\"139.013672\" xlink:href=\"#ArialMT-35\"/>\n      </g>\n     </g>\n    </g>\n    <g id=\"xtick_5\">\n     <g id=\"line2d_9\">\n      <path clip-path=\"url(#pa5c6c2d93d)\" d=\"M 261.588207 239.229375 \nL 261.588207 21.789375 \n\" style=\"fill:none;stroke:#cccccc;stroke-linecap:round;stroke-width:0.8;\"/>\n     </g>\n     <g id=\"line2d_10\"/>\n     <g id=\"text_5\">\n      <!-- 0.20 -->\n      <defs>\n       <path d=\"M 50.34375 8.453125 \nL 50.34375 0 \nL 3.03125 0 \nQ 2.9375 3.171875 4.046875 6.109375 \nQ 5.859375 10.9375 9.828125 15.625 \nQ 13.8125 20.3125 21.34375 26.46875 \nQ 33.015625 36.03125 37.109375 41.625 \nQ 41.21875 47.21875 41.21875 52.203125 \nQ 41.21875 57.421875 37.46875 61 \nQ 33.734375 64.59375 27.734375 64.59375 \nQ 21.390625 64.59375 17.578125 60.78125 \nQ 13.765625 56.984375 13.71875 50.25 \nL 4.6875 51.171875 \nQ 5.609375 61.28125 11.65625 66.578125 \nQ 17.71875 71.875 27.9375 71.875 \nQ 38.234375 71.875 44.234375 66.15625 \nQ 50.25 60.453125 50.25 52 \nQ 50.25 47.703125 48.484375 43.546875 \nQ 46.734375 39.40625 42.65625 34.8125 \nQ 38.578125 30.21875 29.109375 22.21875 \nQ 21.1875 15.578125 18.9375 13.203125 \nQ 16.703125 10.84375 15.234375 8.453125 \nz\n\" id=\"ArialMT-32\"/>\n      </defs>\n      <g style=\"fill:#262626;\" transform=\"translate(251.857738 249.887187)scale(0.1 -0.1)\">\n       <use xlink:href=\"#ArialMT-30\"/>\n       <use x=\"55.615234\" xlink:href=\"#ArialMT-2e\"/>\n       <use x=\"83.398438\" xlink:href=\"#ArialMT-32\"/>\n       <use x=\"139.013672\" xlink:href=\"#ArialMT-30\"/>\n      </g>\n     </g>\n    </g>\n    <g id=\"xtick_6\">\n     <g id=\"line2d_11\">\n      <path clip-path=\"url(#pa5c6c2d93d)\" d=\"M 312.315481 239.229375 \nL 312.315481 21.789375 \n\" style=\"fill:none;stroke:#cccccc;stroke-linecap:round;stroke-width:0.8;\"/>\n     </g>\n     <g id=\"line2d_12\"/>\n     <g id=\"text_6\">\n      <!-- 0.25 -->\n      <g style=\"fill:#262626;\" transform=\"translate(302.585013 249.887187)scale(0.1 -0.1)\">\n       <use xlink:href=\"#ArialMT-30\"/>\n       <use x=\"55.615234\" xlink:href=\"#ArialMT-2e\"/>\n       <use x=\"83.398438\" xlink:href=\"#ArialMT-32\"/>\n       <use x=\"139.013672\" xlink:href=\"#ArialMT-35\"/>\n      </g>\n     </g>\n    </g>\n    <g id=\"xtick_7\">\n     <g id=\"line2d_13\">\n      <path clip-path=\"url(#pa5c6c2d93d)\" d=\"M 363.042756 239.229375 \nL 363.042756 21.789375 \n\" style=\"fill:none;stroke:#cccccc;stroke-linecap:round;stroke-width:0.8;\"/>\n     </g>\n     <g id=\"line2d_14\"/>\n     <g id=\"text_7\">\n      <!-- 0.30 -->\n      <defs>\n       <path d=\"M 4.203125 18.890625 \nL 12.984375 20.0625 \nQ 14.5 12.59375 18.140625 9.296875 \nQ 21.78125 6 27 6 \nQ 33.203125 6 37.46875 10.296875 \nQ 41.75 14.59375 41.75 20.953125 \nQ 41.75 27 37.796875 30.921875 \nQ 33.84375 34.859375 27.734375 34.859375 \nQ 25.25 34.859375 21.53125 33.890625 \nL 22.515625 41.609375 \nQ 23.390625 41.5 23.921875 41.5 \nQ 29.546875 41.5 34.03125 44.421875 \nQ 38.53125 47.359375 38.53125 53.46875 \nQ 38.53125 58.296875 35.25 61.46875 \nQ 31.984375 64.65625 26.8125 64.65625 \nQ 21.6875 64.65625 18.265625 61.421875 \nQ 14.84375 58.203125 13.875 51.765625 \nL 5.078125 53.328125 \nQ 6.6875 62.15625 12.390625 67.015625 \nQ 18.109375 71.875 26.609375 71.875 \nQ 32.46875 71.875 37.390625 69.359375 \nQ 42.328125 66.84375 44.9375 62.5 \nQ 47.5625 58.15625 47.5625 53.265625 \nQ 47.5625 48.640625 45.0625 44.828125 \nQ 42.578125 41.015625 37.703125 38.765625 \nQ 44.046875 37.3125 47.5625 32.6875 \nQ 51.078125 28.078125 51.078125 21.140625 \nQ 51.078125 11.765625 44.234375 5.25 \nQ 37.40625 -1.265625 26.953125 -1.265625 \nQ 17.53125 -1.265625 11.296875 4.34375 \nQ 5.078125 9.96875 4.203125 18.890625 \nz\n\" id=\"ArialMT-33\"/>\n      </defs>\n      <g style=\"fill:#262626;\" transform=\"translate(353.312287 249.887187)scale(0.1 -0.1)\">\n       <use xlink:href=\"#ArialMT-30\"/>\n       <use x=\"55.615234\" xlink:href=\"#ArialMT-2e\"/>\n       <use x=\"83.398438\" xlink:href=\"#ArialMT-33\"/>\n       <use x=\"139.013672\" xlink:href=\"#ArialMT-30\"/>\n      </g>\n     </g>\n    </g>\n    <g id=\"text_8\">\n     <!-- $k_t$ -->\n     <defs>\n      <path d=\"M 18.3125 75.984375 \nL 27.296875 75.984375 \nL 18.703125 31.6875 \nL 49.515625 54.6875 \nL 61.1875 54.6875 \nL 26.8125 28.515625 \nL 51.90625 0 \nL 41.015625 0 \nL 17.671875 26.703125 \nL 12.5 0 \nL 3.515625 0 \nz\n\" id=\"DejaVuSans-Oblique-6b\"/>\n      <path d=\"M 42.28125 54.6875 \nL 40.921875 47.703125 \nL 23 47.703125 \nL 17.1875 18.015625 \nQ 16.890625 16.359375 16.75 15.234375 \nQ 16.609375 14.109375 16.609375 13.484375 \nQ 16.609375 10.359375 18.484375 8.9375 \nQ 20.359375 7.515625 24.515625 7.515625 \nL 33.59375 7.515625 \nL 32.078125 0 \nL 23.484375 0 \nQ 15.484375 0 11.546875 3.125 \nQ 7.625 6.25 7.625 12.59375 \nQ 7.625 13.71875 7.765625 15.0625 \nQ 7.90625 16.40625 8.203125 18.015625 \nL 14.015625 47.703125 \nL 6.390625 47.703125 \nL 7.8125 54.6875 \nL 15.28125 54.6875 \nL 18.3125 70.21875 \nL 27.296875 70.21875 \nL 24.3125 54.6875 \nz\n\" id=\"DejaVuSans-Oblique-74\"/>\n     </defs>\n     <g style=\"fill:#262626;\" transform=\"translate(206.410938 263.187187)scale(0.1 -0.1)\">\n      <use transform=\"translate(0 0.015625)\" xlink:href=\"#DejaVuSans-Oblique-6b\"/>\n      <use transform=\"translate(57.910156 -16.390625)scale(0.7)\" xlink:href=\"#DejaVuSans-Oblique-74\"/>\n     </g>\n    </g>\n   </g>\n   <g id=\"matplotlib.axis_2\">\n    <g id=\"ytick_1\">\n     <g id=\"line2d_15\">\n      <path clip-path=\"url(#pa5c6c2d93d)\" d=\"M 43.460938 230.02179 \nL 378.260938 230.02179 \n\" style=\"fill:none;stroke:#cccccc;stroke-linecap:round;stroke-width:0.8;\"/>\n     </g>\n     <g id=\"line2d_16\"/>\n     <g id=\"text_9\">\n      <!-- 0.00 -->\n      <g style=\"fill:#262626;\" transform=\"translate(20.5 233.600696)scale(0.1 -0.1)\">\n       <use xlink:href=\"#ArialMT-30\"/>\n       <use x=\"55.615234\" xlink:href=\"#ArialMT-2e\"/>\n       <use x=\"83.398438\" xlink:href=\"#ArialMT-30\"/>\n       <use x=\"139.013672\" xlink:href=\"#ArialMT-30\"/>\n      </g>\n     </g>\n    </g>\n    <g id=\"ytick_2\">\n     <g id=\"line2d_17\">\n      <path clip-path=\"url(#pa5c6c2d93d)\" d=\"M 43.460938 183.971883 \nL 378.260938 183.971883 \n\" style=\"fill:none;stroke:#cccccc;stroke-linecap:round;stroke-width:0.8;\"/>\n     </g>\n     <g id=\"line2d_18\"/>\n     <g id=\"text_10\">\n      <!-- 0.05 -->\n      <g style=\"fill:#262626;\" transform=\"translate(20.5 187.55079)scale(0.1 -0.1)\">\n       <use xlink:href=\"#ArialMT-30\"/>\n       <use x=\"55.615234\" xlink:href=\"#ArialMT-2e\"/>\n       <use x=\"83.398438\" xlink:href=\"#ArialMT-30\"/>\n       <use x=\"139.013672\" xlink:href=\"#ArialMT-35\"/>\n      </g>\n     </g>\n    </g>\n    <g id=\"ytick_3\">\n     <g id=\"line2d_19\">\n      <path clip-path=\"url(#pa5c6c2d93d)\" d=\"M 43.460938 137.921977 \nL 378.260938 137.921977 \n\" style=\"fill:none;stroke:#cccccc;stroke-linecap:round;stroke-width:0.8;\"/>\n     </g>\n     <g id=\"line2d_20\"/>\n     <g id=\"text_11\">\n      <!-- 0.10 -->\n      <g style=\"fill:#262626;\" transform=\"translate(20.5 141.500883)scale(0.1 -0.1)\">\n       <use xlink:href=\"#ArialMT-30\"/>\n       <use x=\"55.615234\" xlink:href=\"#ArialMT-2e\"/>\n       <use x=\"83.398438\" xlink:href=\"#ArialMT-31\"/>\n       <use x=\"139.013672\" xlink:href=\"#ArialMT-30\"/>\n      </g>\n     </g>\n    </g>\n    <g id=\"ytick_4\">\n     <g id=\"line2d_21\">\n      <path clip-path=\"url(#pa5c6c2d93d)\" d=\"M 43.460938 91.872071 \nL 378.260938 91.872071 \n\" style=\"fill:none;stroke:#cccccc;stroke-linecap:round;stroke-width:0.8;\"/>\n     </g>\n     <g id=\"line2d_22\"/>\n     <g id=\"text_12\">\n      <!-- 0.15 -->\n      <g style=\"fill:#262626;\" transform=\"translate(20.5 95.450977)scale(0.1 -0.1)\">\n       <use xlink:href=\"#ArialMT-30\"/>\n       <use x=\"55.615234\" xlink:href=\"#ArialMT-2e\"/>\n       <use x=\"83.398438\" xlink:href=\"#ArialMT-31\"/>\n       <use x=\"139.013672\" xlink:href=\"#ArialMT-35\"/>\n      </g>\n     </g>\n    </g>\n    <g id=\"ytick_5\">\n     <g id=\"line2d_23\">\n      <path clip-path=\"url(#pa5c6c2d93d)\" d=\"M 43.460938 45.822165 \nL 378.260938 45.822165 \n\" style=\"fill:none;stroke:#cccccc;stroke-linecap:round;stroke-width:0.8;\"/>\n     </g>\n     <g id=\"line2d_24\"/>\n     <g id=\"text_13\">\n      <!-- 0.20 -->\n      <g style=\"fill:#262626;\" transform=\"translate(20.5 49.401071)scale(0.1 -0.1)\">\n       <use xlink:href=\"#ArialMT-30\"/>\n       <use x=\"55.615234\" xlink:href=\"#ArialMT-2e\"/>\n       <use x=\"83.398438\" xlink:href=\"#ArialMT-32\"/>\n       <use x=\"139.013672\" xlink:href=\"#ArialMT-30\"/>\n      </g>\n     </g>\n    </g>\n    <g id=\"text_14\">\n     <!-- $k_t+1$ -->\n     <defs>\n      <path d=\"M 46 62.703125 \nL 46 35.5 \nL 73.1875 35.5 \nL 73.1875 27.203125 \nL 46 27.203125 \nL 46 0 \nL 37.796875 0 \nL 37.796875 27.203125 \nL 10.59375 27.203125 \nL 10.59375 35.5 \nL 37.796875 35.5 \nL 37.796875 62.703125 \nz\n\" id=\"DejaVuSans-2b\"/>\n      <path d=\"M 12.40625 8.296875 \nL 28.515625 8.296875 \nL 28.515625 63.921875 \nL 10.984375 60.40625 \nL 10.984375 69.390625 \nL 28.421875 72.90625 \nL 38.28125 72.90625 \nL 38.28125 8.296875 \nL 54.390625 8.296875 \nL 54.390625 0 \nL 12.40625 0 \nz\n\" id=\"DejaVuSans-31\"/>\n     </defs>\n     <g style=\"fill:#262626;\" transform=\"translate(14.5125 144.259375)rotate(-90)scale(0.1 -0.1)\">\n      <use transform=\"translate(0 0.015625)\" xlink:href=\"#DejaVuSans-Oblique-6b\"/>\n      <use transform=\"translate(57.910156 -16.390625)scale(0.7)\" xlink:href=\"#DejaVuSans-Oblique-74\"/>\n      <use transform=\"translate(107.573242 0.015625)\" xlink:href=\"#DejaVuSans-2b\"/>\n      <use transform=\"translate(210.844727 0.015625)\" xlink:href=\"#DejaVuSans-31\"/>\n     </g>\n    </g>\n   </g>\n   <g id=\"line2d_25\">\n    <path clip-path=\"url(#pa5c6c2d93d)\" d=\"M 58.679119 229.345739 \nL 59.289066 204.491324 \nL 59.899014 197.929742 \nL 60.508961 193.335216 \nL 61.728855 186.59908 \nL 62.948749 181.499751 \nL 64.168644 177.304067 \nL 65.998485 172.054052 \nL 67.828327 167.624372 \nL 69.658168 163.754928 \nL 72.097957 159.218092 \nL 74.537746 155.205246 \nL 76.977534 151.587415 \nL 80.02727 147.494256 \nL 83.077006 143.776338 \nL 86.736689 139.705418 \nL 90.396372 135.976403 \nL 94.666002 131.974058 \nL 98.935632 128.278476 \nL 103.81521 124.363678 \nL 108.694787 120.723103 \nL 114.184312 116.901624 \nL 120.283783 112.941868 \nL 126.993202 108.878793 \nL 133.702621 105.075015 \nL 141.021987 101.177105 \nL 148.9513 97.208135 \nL 157.49056 93.187068 \nL 166.639768 89.1294 \nL 176.398923 85.04774 \nL 186.768024 80.952314 \nL 197.747073 76.851387 \nL 209.946017 72.541789 \nL 222.754907 68.260498 \nL 236.173745 64.009194 \nL 250.812477 59.610315 \nL 266.061156 55.260841 \nL 282.52973 50.797795 \nL 300.218197 46.242841 \nL 318.516612 41.760288 \nL 338.034922 37.206283 \nL 358.773126 32.595568 \nL 363.042756 31.673011 \nL 363.042756 31.673011 \n\" style=\"fill:none;stroke:#1f77b4;stroke-linecap:round;stroke-width:1.5;\"/>\n   </g>\n   <g id=\"patch_3\">\n    <path d=\"M 43.460938 239.229375 \nL 43.460938 21.789375 \n\" style=\"fill:none;stroke:#cccccc;stroke-linecap:square;stroke-linejoin:miter;\"/>\n   </g>\n   <g id=\"patch_4\">\n    <path d=\"M 378.260938 239.229375 \nL 378.260938 21.789375 \n\" style=\"fill:none;stroke:#cccccc;stroke-linecap:square;stroke-linejoin:miter;\"/>\n   </g>\n   <g id=\"patch_5\">\n    <path d=\"M 43.460938 239.229375 \nL 378.260938 239.229375 \n\" style=\"fill:none;stroke:#cccccc;stroke-linecap:square;stroke-linejoin:miter;\"/>\n   </g>\n   <g id=\"patch_6\">\n    <path d=\"M 43.460938 21.789375 \nL 378.260938 21.789375 \n\" style=\"fill:none;stroke:#cccccc;stroke-linecap:square;stroke-linejoin:miter;\"/>\n   </g>\n   <g id=\"text_15\">\n    <!-- transition curve -->\n    <defs>\n     <path d=\"M 25.78125 7.859375 \nL 27.046875 0.09375 \nQ 23.34375 -0.6875 20.40625 -0.6875 \nQ 15.625 -0.6875 12.984375 0.828125 \nQ 10.359375 2.34375 9.28125 4.8125 \nQ 8.203125 7.28125 8.203125 15.1875 \nL 8.203125 45.015625 \nL 1.765625 45.015625 \nL 1.765625 51.859375 \nL 8.203125 51.859375 \nL 8.203125 64.703125 \nL 16.9375 69.96875 \nL 16.9375 51.859375 \nL 25.78125 51.859375 \nL 25.78125 45.015625 \nL 16.9375 45.015625 \nL 16.9375 14.703125 \nQ 16.9375 10.9375 17.40625 9.859375 \nQ 17.875 8.796875 18.921875 8.15625 \nQ 19.96875 7.515625 21.921875 7.515625 \nQ 23.390625 7.515625 25.78125 7.859375 \nz\n\" id=\"ArialMT-74\"/>\n     <path d=\"M 6.5 0 \nL 6.5 51.859375 \nL 14.40625 51.859375 \nL 14.40625 44 \nQ 17.4375 49.515625 20 51.265625 \nQ 22.5625 53.03125 25.640625 53.03125 \nQ 30.078125 53.03125 34.671875 50.203125 \nL 31.640625 42.046875 \nQ 28.421875 43.953125 25.203125 43.953125 \nQ 22.3125 43.953125 20.015625 42.21875 \nQ 17.71875 40.484375 16.75 37.40625 \nQ 15.28125 32.71875 15.28125 27.15625 \nL 15.28125 0 \nz\n\" id=\"ArialMT-72\"/>\n     <path d=\"M 40.4375 6.390625 \nQ 35.546875 2.25 31.03125 0.53125 \nQ 26.515625 -1.171875 21.34375 -1.171875 \nQ 12.796875 -1.171875 8.203125 3 \nQ 3.609375 7.171875 3.609375 13.671875 \nQ 3.609375 17.484375 5.34375 20.625 \nQ 7.078125 23.78125 9.890625 25.6875 \nQ 12.703125 27.59375 16.21875 28.5625 \nQ 18.796875 29.25 24.03125 29.890625 \nQ 34.671875 31.15625 39.703125 32.90625 \nQ 39.75 34.71875 39.75 35.203125 \nQ 39.75 40.578125 37.25 42.78125 \nQ 33.890625 45.75 27.25 45.75 \nQ 21.046875 45.75 18.09375 43.578125 \nQ 15.140625 41.40625 13.71875 35.890625 \nL 5.125 37.0625 \nQ 6.296875 42.578125 8.984375 45.96875 \nQ 11.671875 49.359375 16.75 51.1875 \nQ 21.828125 53.03125 28.515625 53.03125 \nQ 35.15625 53.03125 39.296875 51.46875 \nQ 43.453125 49.90625 45.40625 47.53125 \nQ 47.359375 45.171875 48.140625 41.546875 \nQ 48.578125 39.3125 48.578125 33.453125 \nL 48.578125 21.734375 \nQ 48.578125 9.46875 49.140625 6.21875 \nQ 49.703125 2.984375 51.375 0 \nL 42.1875 0 \nQ 40.828125 2.734375 40.4375 6.390625 \nz\nM 39.703125 26.03125 \nQ 34.90625 24.078125 25.34375 22.703125 \nQ 19.921875 21.921875 17.671875 20.9375 \nQ 15.4375 19.96875 14.203125 18.09375 \nQ 12.984375 16.21875 12.984375 13.921875 \nQ 12.984375 10.40625 15.640625 8.0625 \nQ 18.3125 5.71875 23.4375 5.71875 \nQ 28.515625 5.71875 32.46875 7.9375 \nQ 36.421875 10.15625 38.28125 14.015625 \nQ 39.703125 17 39.703125 22.796875 \nz\n\" id=\"ArialMT-61\"/>\n     <path d=\"M 6.59375 0 \nL 6.59375 51.859375 \nL 14.5 51.859375 \nL 14.5 44.484375 \nQ 20.21875 53.03125 31 53.03125 \nQ 35.6875 53.03125 39.625 51.34375 \nQ 43.5625 49.65625 45.515625 46.921875 \nQ 47.46875 44.1875 48.25 40.4375 \nQ 48.734375 37.984375 48.734375 31.890625 \nL 48.734375 0 \nL 39.9375 0 \nL 39.9375 31.546875 \nQ 39.9375 36.921875 38.90625 39.578125 \nQ 37.890625 42.234375 35.28125 43.8125 \nQ 32.671875 45.40625 29.15625 45.40625 \nQ 23.53125 45.40625 19.453125 41.84375 \nQ 15.375 38.28125 15.375 28.328125 \nL 15.375 0 \nz\n\" id=\"ArialMT-6e\"/>\n     <path d=\"M 3.078125 15.484375 \nL 11.765625 16.84375 \nQ 12.5 11.625 15.84375 8.84375 \nQ 19.1875 6.0625 25.203125 6.0625 \nQ 31.25 6.0625 34.171875 8.515625 \nQ 37.109375 10.984375 37.109375 14.3125 \nQ 37.109375 17.28125 34.515625 19 \nQ 32.71875 20.171875 25.53125 21.96875 \nQ 15.875 24.421875 12.140625 26.203125 \nQ 8.40625 27.984375 6.46875 31.125 \nQ 4.546875 34.28125 4.546875 38.09375 \nQ 4.546875 41.546875 6.125 44.5 \nQ 7.71875 47.46875 10.453125 49.421875 \nQ 12.5 50.921875 16.03125 51.96875 \nQ 19.578125 53.03125 23.640625 53.03125 \nQ 29.734375 53.03125 34.34375 51.265625 \nQ 38.96875 49.515625 41.15625 46.5 \nQ 43.359375 43.5 44.1875 38.484375 \nL 35.59375 37.3125 \nQ 35.015625 41.3125 32.203125 43.546875 \nQ 29.390625 45.796875 24.265625 45.796875 \nQ 18.21875 45.796875 15.625 43.796875 \nQ 13.03125 41.796875 13.03125 39.109375 \nQ 13.03125 37.40625 14.109375 36.03125 \nQ 15.1875 34.625 17.484375 33.6875 \nQ 18.796875 33.203125 25.25 31.453125 \nQ 34.578125 28.953125 38.25 27.359375 \nQ 41.9375 25.78125 44.03125 22.75 \nQ 46.140625 19.734375 46.140625 15.234375 \nQ 46.140625 10.84375 43.578125 6.953125 \nQ 41.015625 3.078125 36.171875 0.953125 \nQ 31.34375 -1.171875 25.25 -1.171875 \nQ 15.140625 -1.171875 9.84375 3.03125 \nQ 4.546875 7.234375 3.078125 15.484375 \nz\n\" id=\"ArialMT-73\"/>\n     <path d=\"M 6.640625 61.46875 \nL 6.640625 71.578125 \nL 15.4375 71.578125 \nL 15.4375 61.46875 \nz\nM 6.640625 0 \nL 6.640625 51.859375 \nL 15.4375 51.859375 \nL 15.4375 0 \nz\n\" id=\"ArialMT-69\"/>\n     <path d=\"M 3.328125 25.921875 \nQ 3.328125 40.328125 11.328125 47.265625 \nQ 18.015625 53.03125 27.640625 53.03125 \nQ 38.328125 53.03125 45.109375 46.015625 \nQ 51.90625 39.015625 51.90625 26.65625 \nQ 51.90625 16.65625 48.90625 10.90625 \nQ 45.90625 5.171875 40.15625 2 \nQ 34.421875 -1.171875 27.640625 -1.171875 \nQ 16.75 -1.171875 10.03125 5.8125 \nQ 3.328125 12.796875 3.328125 25.921875 \nz\nM 12.359375 25.921875 \nQ 12.359375 15.96875 16.703125 11.015625 \nQ 21.046875 6.0625 27.640625 6.0625 \nQ 34.1875 6.0625 38.53125 11.03125 \nQ 42.875 16.015625 42.875 26.21875 \nQ 42.875 35.84375 38.5 40.796875 \nQ 34.125 45.75 27.640625 45.75 \nQ 21.046875 45.75 16.703125 40.8125 \nQ 12.359375 35.890625 12.359375 25.921875 \nz\n\" id=\"ArialMT-6f\"/>\n     <path id=\"ArialMT-20\"/>\n     <path d=\"M 40.4375 19 \nL 49.078125 17.875 \nQ 47.65625 8.9375 41.8125 3.875 \nQ 35.984375 -1.171875 27.484375 -1.171875 \nQ 16.84375 -1.171875 10.375 5.78125 \nQ 3.90625 12.75 3.90625 25.734375 \nQ 3.90625 34.125 6.6875 40.421875 \nQ 9.46875 46.734375 15.15625 49.875 \nQ 20.84375 53.03125 27.546875 53.03125 \nQ 35.984375 53.03125 41.359375 48.75 \nQ 46.734375 44.484375 48.25 36.625 \nL 39.703125 35.296875 \nQ 38.484375 40.53125 35.375 43.15625 \nQ 32.28125 45.796875 27.875 45.796875 \nQ 21.234375 45.796875 17.078125 41.03125 \nQ 12.9375 36.28125 12.9375 25.984375 \nQ 12.9375 15.53125 16.9375 10.796875 \nQ 20.953125 6.0625 27.390625 6.0625 \nQ 32.5625 6.0625 36.03125 9.234375 \nQ 39.5 12.40625 40.4375 19 \nz\n\" id=\"ArialMT-63\"/>\n     <path d=\"M 40.578125 0 \nL 40.578125 7.625 \nQ 34.515625 -1.171875 24.125 -1.171875 \nQ 19.53125 -1.171875 15.546875 0.578125 \nQ 11.578125 2.34375 9.640625 5 \nQ 7.71875 7.671875 6.9375 11.53125 \nQ 6.390625 14.109375 6.390625 19.734375 \nL 6.390625 51.859375 \nL 15.1875 51.859375 \nL 15.1875 23.09375 \nQ 15.1875 16.21875 15.71875 13.8125 \nQ 16.546875 10.359375 19.234375 8.375 \nQ 21.921875 6.390625 25.875 6.390625 \nQ 29.828125 6.390625 33.296875 8.421875 \nQ 36.765625 10.453125 38.203125 13.9375 \nQ 39.65625 17.4375 39.65625 24.078125 \nL 39.65625 51.859375 \nL 48.4375 51.859375 \nL 48.4375 0 \nz\n\" id=\"ArialMT-75\"/>\n     <path d=\"M 21 0 \nL 1.265625 51.859375 \nL 10.546875 51.859375 \nL 21.6875 20.796875 \nQ 23.484375 15.765625 25 10.359375 \nQ 26.171875 14.453125 28.265625 20.21875 \nL 39.796875 51.859375 \nL 48.828125 51.859375 \nL 29.203125 0 \nz\n\" id=\"ArialMT-76\"/>\n     <path d=\"M 42.09375 16.703125 \nL 51.171875 15.578125 \nQ 49.03125 7.625 43.21875 3.21875 \nQ 37.40625 -1.171875 28.375 -1.171875 \nQ 17 -1.171875 10.328125 5.828125 \nQ 3.65625 12.84375 3.65625 25.484375 \nQ 3.65625 38.578125 10.390625 45.796875 \nQ 17.140625 53.03125 27.875 53.03125 \nQ 38.28125 53.03125 44.875 45.953125 \nQ 51.46875 38.875 51.46875 26.03125 \nQ 51.46875 25.25 51.421875 23.6875 \nL 12.75 23.6875 \nQ 13.234375 15.140625 17.578125 10.59375 \nQ 21.921875 6.0625 28.421875 6.0625 \nQ 33.25 6.0625 36.671875 8.59375 \nQ 40.09375 11.140625 42.09375 16.703125 \nz\nM 13.234375 30.90625 \nL 42.1875 30.90625 \nQ 41.609375 37.453125 38.875 40.71875 \nQ 34.671875 45.796875 27.984375 45.796875 \nQ 21.921875 45.796875 17.796875 41.75 \nQ 13.671875 37.703125 13.234375 30.90625 \nz\n\" id=\"ArialMT-65\"/>\n    </defs>\n    <g style=\"fill:#262626;\" transform=\"translate(170.179063 15.789375)scale(0.12 -0.12)\">\n     <use xlink:href=\"#ArialMT-74\"/>\n     <use x=\"27.783203\" xlink:href=\"#ArialMT-72\"/>\n     <use x=\"61.083984\" xlink:href=\"#ArialMT-61\"/>\n     <use x=\"116.699219\" xlink:href=\"#ArialMT-6e\"/>\n     <use x=\"172.314453\" xlink:href=\"#ArialMT-73\"/>\n     <use x=\"222.314453\" xlink:href=\"#ArialMT-69\"/>\n     <use x=\"244.53125\" xlink:href=\"#ArialMT-74\"/>\n     <use x=\"272.314453\" xlink:href=\"#ArialMT-69\"/>\n     <use x=\"294.53125\" xlink:href=\"#ArialMT-6f\"/>\n     <use x=\"350.146484\" xlink:href=\"#ArialMT-6e\"/>\n     <use x=\"405.761719\" xlink:href=\"#ArialMT-20\"/>\n     <use x=\"433.544922\" xlink:href=\"#ArialMT-63\"/>\n     <use x=\"483.544922\" xlink:href=\"#ArialMT-75\"/>\n     <use x=\"539.160156\" xlink:href=\"#ArialMT-72\"/>\n     <use x=\"572.460938\" xlink:href=\"#ArialMT-76\"/>\n     <use x=\"622.460938\" xlink:href=\"#ArialMT-65\"/>\n    </g>\n   </g>\n  </g>\n </g>\n <defs>\n  <clipPath id=\"pa5c6c2d93d\">\n   <rect height=\"217.44\" width=\"334.8\" x=\"43.460938\" y=\"21.789375\"/>\n  </clipPath>\n </defs>\n</svg>\n",
      "image/png": "[encoded data removed]"
     },
     "metadata": {
      "needs_background": "light"
     }
    }
   ],
   "source": [
    "# c. plot\n",
    "fig = plt.figure()\n",
    "ax = fig.add_subplot(1,1,1)\n",
    "ax.plot(capital_1,capital_2)\n",
    "ax.set_xlabel('$k_t$')\n",
    "ax.set_ylabel('$k_t+1$')\n",
    "ax.set_title('transition curve');"
   ]
  },
  {
   "cell_type": "code",
   "execution_count": 25,
   "metadata": {},
   "outputs": [],
   "source": [
    "def func(k):\n",
    "    s = -k + (1/(2+rho)*(1-alpha)*k**alpha*(1+n))\n",
    "    return s\n",
    "\n",
    "def objective(k,rho,alpha,n):\n",
    "    return -func(k)"
   ]
  },
  {
   "cell_type": "code",
   "execution_count": 26,
   "metadata": {},
   "outputs": [],
   "source": [
    "def print_ss(objective,alpha,n,r,rho):\n",
    "    solutionk = optimize.minimize_scalar(\n",
    "    objective,method='bounded',\n",
    "    bounds=(0,1),args=(rho,alpha,n))\n",
    "\n",
    "    kstar = solutionk.x\n",
    "    wstar = (1-alpha)*kstar**alpha\n",
    "    sstar = kstar/(1+n)\n",
    "    c1star = wstar-sstar\n",
    "    c2star = (1+r)*sstar\n",
    "    Ustar = c1star + (1/(1+rho))*c2star\n",
    "\n",
    "    print(\"k* = {:6.4}\".format(kstar))\n",
    "    print(\"w* = {:6.4}\".format(wstar))\n",
    "    print(\"s* = {:6.4}\".format(sstar))\n",
    "    print(\"c1* = {:6.4}\".format(c1star))\n",
    "    print(\"c2* = {:6.4}\".format(c2star))\n",
    "    print(\"U* = {:6.4}\".format(Ustar))"
   ]
  },
  {
   "cell_type": "code",
   "execution_count": 27,
   "metadata": {},
   "outputs": [
    {
     "output_type": "stream",
     "name": "stdout",
     "text": "k* = 0.03709\nw* = 0.2259\ns* = 0.03637\nc1* = 0.1895\nc2* = 0.03673\nU* = 0.2245\n"
    }
   ],
   "source": [
    "print_ss(objective,alpha,n,0.01,rho)"
   ]
  },
  {
   "cell_type": "markdown",
   "metadata": {},
   "source": [
    "## Introduce CRRA utility"
   ]
  },
  {
   "cell_type": "markdown",
   "metadata": {},
   "source": [
    "We now return to the general case, where $u(c)$ is given by the CRRA utility function: \n",
    "\n",
    "\\begin{equation}\n",
    "  u(c)=\\begin{cases}\n",
    "    \\frac{c^{1-\\sigma}-1}{1-\\sigma} , & \\sigma ≠ 1 \\\\\n",
    "    log c, & \\sigma = 1\n",
    "  \\end{cases}\n",
    "\\end{equation}\n",
    "\n",
    "This imply that the Euler equation is given by: \n",
    "\n",
    "$$ c_{2t+1} = (\\frac{1+r_{t+1}}{1+\\rho})^\\frac{1}{\\sigma} c_{1t} $$\n",
    "\n",
    "Inserting the budget constraint and solve for s, optimal savings is given by: \n",
    "\n",
    "$$ s_t = \\frac{1}{(1+r_{t+1})^\\frac{\\sigma-1}{\\sigma}(1+\\rho)^\\frac{1}{\\sigma} +1} w_t $$\n",
    "\n",
    "where the wage and the interest rate is given by: \n",
    "\n",
    "$$ w_t = (1-\\alpha)k_t^\\alpha $$\n",
    "\n",
    "$$ r_{t+1} = \\alpha k^{\\alpha-1} $$"
   ]
  },
  {
   "cell_type": "code",
   "execution_count": 49,
   "metadata": {},
   "outputs": [
    {
     "output_type": "error",
     "ename": "TypeError",
     "evalue": "unsupported operand type(s) for -: 'list' and 'int'",
     "traceback": [
      "\u001b[0;31m---------------------------------------------------------------------------\u001b[0m",
      "\u001b[0;31mTypeError\u001b[0m                                 Traceback (most recent call last)",
      "\u001b[0;32m<ipython-input-49-28f02e29e803>\u001b[0m in \u001b[0;36m<module>\u001b[0;34m\u001b[0m\n\u001b[1;32m     31\u001b[0m     \u001b[0;32mreturn\u001b[0m \u001b[0mcapital_2\u001b[0m\u001b[0;34m[\u001b[0m\u001b[0;36m0\u001b[0m\u001b[0;34m]\u001b[0m\u001b[0;34m,\u001b[0m \u001b[0mcapital_2\u001b[0m\u001b[0;34m[\u001b[0m\u001b[0;36m1\u001b[0m\u001b[0;34m]\u001b[0m\u001b[0;34m,\u001b[0m  \u001b[0mcapital_2\u001b[0m\u001b[0;34m[\u001b[0m\u001b[0;36m2\u001b[0m\u001b[0;34m]\u001b[0m\u001b[0;34m,\u001b[0m  \u001b[0mcapital_2\u001b[0m\u001b[0;34m[\u001b[0m\u001b[0;36m3\u001b[0m\u001b[0;34m]\u001b[0m\u001b[0;34m,\u001b[0m  \u001b[0mcapital_2\u001b[0m\u001b[0;34m[\u001b[0m\u001b[0;36m4\u001b[0m\u001b[0;34m]\u001b[0m\u001b[0;34m,\u001b[0m  \u001b[0mcapital_2\u001b[0m\u001b[0;34m[\u001b[0m\u001b[0;36m5\u001b[0m\u001b[0;34m]\u001b[0m\u001b[0;34m\u001b[0m\u001b[0;34m\u001b[0m\u001b[0m\n\u001b[1;32m     32\u001b[0m \u001b[0;34m\u001b[0m\u001b[0m\n\u001b[0;32m---> 33\u001b[0;31m \u001b[0mcapital_2\u001b[0m\u001b[0;34m[\u001b[0m\u001b[0;36m0\u001b[0m\u001b[0;34m]\u001b[0m\u001b[0;34m,\u001b[0m \u001b[0mcapital_2\u001b[0m\u001b[0;34m[\u001b[0m\u001b[0;36m1\u001b[0m\u001b[0;34m]\u001b[0m\u001b[0;34m,\u001b[0m  \u001b[0mcapital_2\u001b[0m\u001b[0;34m[\u001b[0m\u001b[0;36m2\u001b[0m\u001b[0;34m]\u001b[0m\u001b[0;34m,\u001b[0m  \u001b[0mcapital_2\u001b[0m\u001b[0;34m[\u001b[0m\u001b[0;36m3\u001b[0m\u001b[0;34m]\u001b[0m\u001b[0;34m,\u001b[0m  \u001b[0mcapital_2\u001b[0m\u001b[0;34m[\u001b[0m\u001b[0;36m4\u001b[0m\u001b[0;34m]\u001b[0m\u001b[0;34m,\u001b[0m  \u001b[0mcapital_2\u001b[0m\u001b[0;34m[\u001b[0m\u001b[0;36m5\u001b[0m\u001b[0;34m]\u001b[0m \u001b[0;34m=\u001b[0m \u001b[0mtransition_curve\u001b[0m\u001b[0;34m(\u001b[0m\u001b[0malpha\u001b[0m\u001b[0;34m,\u001b[0m\u001b[0mrho\u001b[0m\u001b[0;34m,\u001b[0m\u001b[0mn\u001b[0m\u001b[0;34m)\u001b[0m\u001b[0;34m\u001b[0m\u001b[0;34m\u001b[0m\u001b[0m\n\u001b[0m\u001b[1;32m     34\u001b[0m \u001b[0;34m\u001b[0m\u001b[0m\n\u001b[1;32m     35\u001b[0m \u001b[0;31m#fig = plt.figure()\u001b[0m\u001b[0;34m\u001b[0m\u001b[0;34m\u001b[0m\u001b[0;34m\u001b[0m\u001b[0m\n",
      "\u001b[0;32m<ipython-input-49-28f02e29e803>\u001b[0m in \u001b[0;36mtransition_curve\u001b[0;34m(alpha, rho, n)\u001b[0m\n\u001b[1;32m     21\u001b[0m \u001b[0;34m\u001b[0m\u001b[0m\n\u001b[1;32m     22\u001b[0m         \u001b[0;31m# i. capital in t+1\u001b[0m\u001b[0;34m\u001b[0m\u001b[0;34m\u001b[0m\u001b[0;34m\u001b[0m\u001b[0m\n\u001b[0;32m---> 23\u001b[0;31m          \u001b[0mresult\u001b[0m \u001b[0;34m=\u001b[0m \u001b[0mtransition2\u001b[0m\u001b[0;34m(\u001b[0m\u001b[0mk\u001b[0m\u001b[0;34m,\u001b[0m\u001b[0malpha\u001b[0m\u001b[0;34m,\u001b[0m\u001b[0mrho\u001b[0m\u001b[0;34m,\u001b[0m\u001b[0mn\u001b[0m\u001b[0;34m)\u001b[0m\u001b[0;34m\u001b[0m\u001b[0;34m\u001b[0m\u001b[0m\n\u001b[0m\u001b[1;32m     24\u001b[0m          \u001b[0mcapital_2\u001b[0m\u001b[0;34m[\u001b[0m\u001b[0;36m0\u001b[0m\u001b[0;34m]\u001b[0m \u001b[0;34m=\u001b[0m \u001b[0mresult0\u001b[0m\u001b[0;34m\u001b[0m\u001b[0;34m\u001b[0m\u001b[0m\n\u001b[1;32m     25\u001b[0m          \u001b[0mcapital_2\u001b[0m\u001b[0;34m[\u001b[0m\u001b[0;36m1\u001b[0m\u001b[0;34m]\u001b[0m \u001b[0;34m=\u001b[0m \u001b[0mresult1\u001b[0m\u001b[0;34m\u001b[0m\u001b[0;34m\u001b[0m\u001b[0m\n",
      "\u001b[0;32m<ipython-input-49-28f02e29e803>\u001b[0m in \u001b[0;36mtransition2\u001b[0;34m(k, alpha, rho, n)\u001b[0m\n\u001b[1;32m      5\u001b[0m     \u001b[0mw\u001b[0m \u001b[0;34m=\u001b[0m \u001b[0mwage\u001b[0m\u001b[0;34m(\u001b[0m\u001b[0mk\u001b[0m\u001b[0;34m,\u001b[0m\u001b[0malpha\u001b[0m\u001b[0;34m)\u001b[0m\u001b[0;34m\u001b[0m\u001b[0;34m\u001b[0m\u001b[0m\n\u001b[1;32m      6\u001b[0m     \u001b[0mr\u001b[0m \u001b[0;34m=\u001b[0m \u001b[0mrr\u001b[0m\u001b[0;34m(\u001b[0m\u001b[0mk\u001b[0m\u001b[0;34m,\u001b[0m\u001b[0malpha\u001b[0m\u001b[0;34m)\u001b[0m\u001b[0;34m\u001b[0m\u001b[0;34m\u001b[0m\u001b[0m\n\u001b[0;32m----> 7\u001b[0;31m     \u001b[0ms\u001b[0m \u001b[0;34m=\u001b[0m \u001b[0msavings2\u001b[0m\u001b[0;34m(\u001b[0m\u001b[0mw\u001b[0m\u001b[0;34m,\u001b[0m\u001b[0mr\u001b[0m\u001b[0;34m,\u001b[0m\u001b[0mrho\u001b[0m\u001b[0;34m,\u001b[0m\u001b[0msigma\u001b[0m\u001b[0;34m)\u001b[0m\u001b[0;34m\u001b[0m\u001b[0;34m\u001b[0m\u001b[0m\n\u001b[0m\u001b[1;32m      8\u001b[0m     \u001b[0;32mreturn\u001b[0m \u001b[0mcapital_2t\u001b[0m\u001b[0;34m(\u001b[0m\u001b[0ms\u001b[0m\u001b[0;34m,\u001b[0m\u001b[0mn\u001b[0m\u001b[0;34m)\u001b[0m\u001b[0;34m\u001b[0m\u001b[0;34m\u001b[0m\u001b[0m\n\u001b[1;32m      9\u001b[0m \u001b[0;34m\u001b[0m\u001b[0m\n",
      "\u001b[0;32m<ipython-input-49-28f02e29e803>\u001b[0m in \u001b[0;36msavings2\u001b[0;34m(w, r, rho, sigma)\u001b[0m\n\u001b[1;32m      1\u001b[0m \u001b[0;32mdef\u001b[0m \u001b[0msavings2\u001b[0m\u001b[0;34m(\u001b[0m\u001b[0mw\u001b[0m\u001b[0;34m,\u001b[0m\u001b[0mr\u001b[0m\u001b[0;34m,\u001b[0m\u001b[0mrho\u001b[0m\u001b[0;34m,\u001b[0m\u001b[0msigma\u001b[0m\u001b[0;34m)\u001b[0m\u001b[0;34m:\u001b[0m\u001b[0;34m\u001b[0m\u001b[0;34m\u001b[0m\u001b[0m\n\u001b[0;32m----> 2\u001b[0;31m     \u001b[0;32mreturn\u001b[0m \u001b[0;34m(\u001b[0m\u001b[0;36m1\u001b[0m\u001b[0;34m/\u001b[0m\u001b[0;34m(\u001b[0m\u001b[0;34m(\u001b[0m\u001b[0;36m1\u001b[0m\u001b[0;34m+\u001b[0m\u001b[0mr\u001b[0m\u001b[0;34m)\u001b[0m\u001b[0;34m**\u001b[0m\u001b[0;34m(\u001b[0m\u001b[0;34m(\u001b[0m\u001b[0msigma\u001b[0m\u001b[0;34m-\u001b[0m\u001b[0;36m1\u001b[0m\u001b[0;34m)\u001b[0m\u001b[0;34m/\u001b[0m\u001b[0msigma\u001b[0m\u001b[0;34m)\u001b[0m\u001b[0;34m*\u001b[0m\u001b[0;34m(\u001b[0m\u001b[0;36m1\u001b[0m\u001b[0;34m+\u001b[0m\u001b[0mrho\u001b[0m\u001b[0;34m)\u001b[0m\u001b[0;34m**\u001b[0m\u001b[0;34m(\u001b[0m\u001b[0;36m1\u001b[0m\u001b[0;34m/\u001b[0m\u001b[0msigma\u001b[0m\u001b[0;34m)\u001b[0m\u001b[0;34m+\u001b[0m\u001b[0;36m1\u001b[0m\u001b[0;34m)\u001b[0m\u001b[0;34m)\u001b[0m\u001b[0;34m*\u001b[0m\u001b[0mw\u001b[0m\u001b[0;34m\u001b[0m\u001b[0;34m\u001b[0m\u001b[0m\n\u001b[0m\u001b[1;32m      3\u001b[0m \u001b[0;34m\u001b[0m\u001b[0m\n\u001b[1;32m      4\u001b[0m \u001b[0;32mdef\u001b[0m \u001b[0mtransition2\u001b[0m\u001b[0;34m(\u001b[0m\u001b[0mk\u001b[0m\u001b[0;34m,\u001b[0m\u001b[0malpha\u001b[0m\u001b[0;34m,\u001b[0m\u001b[0mrho\u001b[0m\u001b[0;34m,\u001b[0m\u001b[0mn\u001b[0m\u001b[0;34m)\u001b[0m\u001b[0;34m:\u001b[0m\u001b[0;34m\u001b[0m\u001b[0;34m\u001b[0m\u001b[0m\n\u001b[1;32m      5\u001b[0m     \u001b[0mw\u001b[0m \u001b[0;34m=\u001b[0m \u001b[0mwage\u001b[0m\u001b[0;34m(\u001b[0m\u001b[0mk\u001b[0m\u001b[0;34m,\u001b[0m\u001b[0malpha\u001b[0m\u001b[0;34m)\u001b[0m\u001b[0;34m\u001b[0m\u001b[0;34m\u001b[0m\u001b[0m\n",
      "\u001b[0;31mTypeError\u001b[0m: unsupported operand type(s) for -: 'list' and 'int'"
     ]
    }
   ],
   "source": [
    "\n",
    "def savings2(w,r,rho,sigma):\n",
    "    return (1/((1+r)**((sigma-1)/sigma)*(1+rho)**(1/sigma)+1))*w\n",
    "\n",
    "def transition2(k,alpha,rho,n):\n",
    "    w = wage(k,alpha)\n",
    "    r = rr(k,alpha) \n",
    "    s = savings2(w,r,rho,sigma)\n",
    "    return capital_2t(s,n)\n",
    "\n",
    "def transition_curve(alpha,rho,n):\n",
    "\n",
    "    # a. grids\n",
    "    sigma = [0.01,0.1,0.2,0.5,0.75,1]\n",
    "    capital_1 = np.linspace(1e-8,0.3,500)\n",
    "    capital_2 = np.empty(500)\n",
    "\n",
    "    for i,sigma in enumerate(sigma): \n",
    "\n",
    "    #b. solve for each k in grid\n",
    "        for i,k in enumerate(capital_1):\n",
    "        \n",
    "        # i. capital in t+1\n",
    "         result = transition2(k,alpha,rho,n)\n",
    "         capital_2[0] = result0\n",
    "         capital_2[1] = result1\n",
    "         capital_2[2] = result2\n",
    "         capital_2[3] = result3\n",
    "         capital_2[4] = result4\n",
    "         capital_2[5] = result5\n",
    "\n",
    "    return capital_2[0], capital_2[1],  capital_2[2],  capital_2[3],  capital_2[4],  capital_2[5]\n",
    "\n",
    "capital_2[0], capital_2[1],  capital_2[2],  capital_2[3],  capital_2[4],  capital_2[5] = transition_curve(alpha,rho,n)\n",
    "\n",
    "#fig = plt.figure()\n",
    "#ax = fig.add_subplot(1,1,1)\n",
    "#ax.plot(capital_1,capital_2)\n",
    "#ax.set_xlabel('$k_t$')\n",
    "#ax.set_ylabel('$k_t+1$')\n",
    "#ax.set_title('transition curve');\n"
   ]
  },
  {
   "cell_type": "markdown",
   "metadata": {},
   "source": [
    "# Further analysis"
   ]
  },
  {
   "cell_type": "markdown",
   "metadata": {},
   "source": [
    "ADD FURTHER ANALYSIS, VISUALIZATIONS AND EXTENSIONS."
   ]
  },
  {
   "cell_type": "markdown",
   "metadata": {},
   "source": [
    "# Conclusion"
   ]
  },
  {
   "cell_type": "markdown",
   "metadata": {},
   "source": [
    "ADD CONCISE CONCLUSION."
   ]
  }
 ],
 "metadata": {
  "kernelspec": {
   "display_name": "Python 3",
   "language": "python",
   "name": "python3"
  },
  "language_info": {
   "codemirror_mode": {
    "name": "ipython",
    "version": 3
   },
   "file_extension": ".py",
   "mimetype": "text/x-python",
   "name": "python",
   "nbconvert_exporter": "python",
   "pygments_lexer": "ipython3",
   "version": "3.7.4-final"
  },
  "toc-autonumbering": true
 },
 "nbformat": 4,
 "nbformat_minor": 4
}