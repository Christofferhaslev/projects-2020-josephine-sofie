{
 "cells": [
  {
   "cell_type": "markdown",
   "metadata": {},
   "source": [
    "# OVERLAPPING GENERATIONS MODEL"
   ]
  },
  {
   "cell_type": "markdown",
   "metadata": {},
   "source": [
    "Imports and set magics:"
   ]
  },
  {
   "cell_type": "code",
   "execution_count": 1,
   "metadata": {},
   "outputs": [],
   "source": [
    "import numpy as np\n",
    "from scipy import optimize\n",
    "import sympy as sm\n",
    "\n",
    "# autoreload modules when code is run\n",
    "%load_ext autoreload\n",
    "%autoreload 2\n",
    "\n",
    "%matplotlib inline\n",
    "import matplotlib.pyplot as plt\n",
    "plt.style.use('seaborn-whitegrid')\n",
    "from matplotlib import cm\n",
    "from mpl_toolkits.mplot3d import Axes3D"
   ]
  },
  {
   "cell_type": "markdown",
   "metadata": {
    "toc-hr-collapsed": true
   },
   "source": [
    "# Model description"
   ]
  },
  {
   "cell_type": "markdown",
   "metadata": {},
   "source": [
    "We consider the standard **Overlappen Generations Model** (OLG-model).\n",
    "\n",
    "\n",
    "Individuals live for two periods, t = 1,2. $L_t$ individuals are born in period t and we assume that the population grows with a constant rate, n: \n",
    "\n",
    "$$ L_t = L_{t-1}(1+n) $$\n",
    "\n",
    "Agents derive utility while alive: \n",
    "\n",
    "$$ U_t = u(c_{1t})+\\frac{1}{1+\\rho} u(c_{2t}) $$\n",
    "\n",
    "where $c_{1t}$ is consumption when the indidual is young at time t, $c_{2t+1}$ is consumption when the individual is old at time t+1 and $\\rho$ is the discount rate. \n",
    "\n",
    "We assume that agents derive utility from consumption and that utility of consumption is logarithmic: \n",
    "\n",
    "$$ u(c) = log  c $$\n",
    "\n",
    "The agents' budget constraint in each period is given by: \n",
    "\n",
    "$$ c_{1t} + s_t = w_t $$\n",
    "\n",
    "$$ c_{2t+1} = (1+r_{t+1}) s_t $$\n",
    "\n",
    "where it is assumed that all individuals work when young and consume from savings when old. $w_t$ is the wage receiving when young at time t and $s_t$ is savings at time t. \n",
    "\n",
    "This implies that agents' lifetime budget constraint is given by: \n",
    "\n",
    "$$ c_{1t} + \\frac{c_{2t+1}}{1+r_{t+1}} = w_t $$\n",
    "\n",
    "Moreover, firms produce output using two inputs; capital $K$ and labor $L$. We assume that the production function is Cobb-Doulgas:\n",
    "\n",
    "$$ F(K,L) = K^\\alpha L^{1-\\alpha},      \\alpha \\in (0,1) $$\n"
   ]
  },
  {
   "cell_type": "markdown",
   "metadata": {},
   "source": [
    "# Analytical solution"
   ]
  },
  {
   "cell_type": "markdown",
   "metadata": {},
   "source": [
    "We use sympy to find the Euler, optimal savings, capital accumulation and capital in steady state."
   ]
  },
  {
   "cell_type": "markdown",
   "metadata": {},
   "source": [
    "First we define all **symbols**:"
   ]
  },
  {
   "cell_type": "code",
   "execution_count": 4,
   "metadata": {},
   "outputs": [],
   "source": [
    "c_1t = sm.symbols('c_1t')\n",
    "c_2t = sm.symbols('c_2t+1')\n",
    "rho = sm.symbols('rho')\n",
    "u_1 = sm.symbols('u_1')\n",
    "u_2 = sm.symbols('u_2')\n",
    "sigma = sm.symbols('sigma')\n",
    "w = sm.symbols('w_t')\n",
    "r_t1 = sm.symbols('r_t+1')\n",
    "lamb = sm.symbols('lambda')\n",
    "s = sm.symbols('s_t')\n",
    "k_2t = sm.symbols('k_t+1')\n",
    "k_1t = sm.symbols('k_t')\n",
    "alpha = sm.symbols('alpha')\n",
    "n = sm.symbols('n')\n",
    "k_star = sm.symbols('k^*')\n",
    "Y = sm.symbols('Y_t')\n",
    "K = sm.symbols('K_t')\n",
    "L_t = sm.symbols('L_t')\n",
    "r = sm.symbols('r_t')"
   ]
  },
  {
   "cell_type": "markdown",
   "metadata": {},
   "source": [
    "## Household problem"
   ]
  },
  {
   "cell_type": "markdown",
   "metadata": {},
   "source": [
    "Every agent born at time t maximize utility subject to their lifetime budget constraint."
   ]
  },
  {
   "cell_type": "markdown",
   "metadata": {},
   "source": [
    "We start out by defining lifetime utility U and lifetime budget constraint: "
   ]
  },
  {
   "cell_type": "code",
   "execution_count": 5,
   "metadata": {},
   "outputs": [
    {
     "output_type": "execute_result",
     "data": {
      "text/plain": "log(c_1t) + log(c_2t+1)/(rho + 1)",
      "text/latex": "$\\displaystyle \\log{\\left(c_{1t} \\right)} + \\frac{\\log{\\left(c_{2t+1} \\right)}}{\\rho + 1}$"
     },
     "metadata": {},
     "execution_count": 5
    }
   ],
   "source": [
    "# Lifetime utility\n",
    "u_c1 = sm.ln(c_1t)\n",
    "u_c2 = sm.ln(c_2t)\n",
    "U = u_c1 + u_c2/(1+rho)\n",
    "U"
   ]
  },
  {
   "cell_type": "code",
   "execution_count": 8,
   "metadata": {},
   "outputs": [
    {
     "output_type": "execute_result",
     "data": {
      "text/plain": "c_1t + c_2t+1/(r_t+1 + 1) - w_t",
      "text/latex": "$\\displaystyle c_{1t} + \\frac{c_{2t+1}}{r_{t+1} + 1} - w_{t}$"
     },
     "metadata": {},
     "execution_count": 8
    }
   ],
   "source": [
    "# Lifetime budget constraint\n",
    "budget= c_1t + c_2t/(1+r_t1) - w\n",
    "budget"
   ]
  },
  {
   "cell_type": "markdown",
   "metadata": {},
   "source": [
    "In order to characterize the household problem we set up the Lagrangian, L:"
   ]
  },
  {
   "cell_type": "code",
   "execution_count": 9,
   "metadata": {},
   "outputs": [
    {
     "output_type": "execute_result",
     "data": {
      "text/plain": "-lambda*(c_1t + c_2t+1/(r_t+1 + 1) - w_t) + log(c_1t) + log(c_2t+1)/(rho + 1)",
      "text/latex": "$\\displaystyle - \\lambda \\left(c_{1t} + \\frac{c_{2t+1}}{r_{t+1} + 1} - w_{t}\\right) + \\log{\\left(c_{1t} \\right)} + \\frac{\\log{\\left(c_{2t+1} \\right)}}{\\rho + 1}$"
     },
     "metadata": {},
     "execution_count": 9
    }
   ],
   "source": [
    "# Lagrangian\n",
    "L = U - lamb * budget\n",
    "L"
   ]
  },
  {
   "cell_type": "markdown",
   "metadata": {},
   "source": [
    "We find the FOCs, substitute out the Lagrangian multiplier and find the OLG-version of the Euler equation:  "
   ]
  },
  {
   "cell_type": "code",
   "execution_count": 11,
   "metadata": {},
   "outputs": [
    {
     "output_type": "execute_result",
     "data": {
      "text/plain": "Eq(c_1t, c_2t+1*(rho + 1)/(r_t+1 + 1))",
      "text/latex": "$\\displaystyle c_{1t} = \\frac{c_{2t+1} \\left(\\rho + 1\\right)}{r_{t+1} + 1}$"
     },
     "metadata": {},
     "execution_count": 11
    }
   ],
   "source": [
    "def Langrarian(x):\n",
    "    L_1 = sm.diff(L, x)\n",
    "    L_2 = sm.Eq(L_1,0)\n",
    "    L_3 = sm.solve(L_2, lamb) [0]\n",
    "    return L_3\n",
    "\n",
    "# FOCs\n",
    "L_c1 = Langrarian(c_1t)\n",
    "L_c2 = Langrarian(c_2t)\n",
    "\n",
    "# Set up the Euler\n",
    "Eu = sm.Eq(L_c1, L_c2)\n",
    "Eu = sm.solve(Eu, c_1t) [0]\n",
    "Euler = sm.Eq(c_1t, Eu_1)\n",
    "Euler"
   ]
  },
  {
   "cell_type": "markdown",
   "metadata": {},
   "source": [
    "In order to find optimal savings, we now substitute the budget constraint for each period into the Euler equation and solve for $s_t$: "
   ]
  },
  {
   "cell_type": "code",
   "execution_count": 18,
   "metadata": {},
   "outputs": [
    {
     "output_type": "execute_result",
     "data": {
      "text/plain": "Eq(s_t, w_t/(rho + 2))",
      "text/latex": "$\\displaystyle s_{t} = \\frac{w_{t}}{\\rho + 2}$"
     },
     "metadata": {},
     "execution_count": 18
    }
   ],
   "source": [
    "# Define budget constraints for each period\n",
    "budget_1 = w-s \n",
    "budget_2 = (1+r_t1)*s\n",
    "\n",
    "# Substitution\n",
    "savings_1 = Euler.subs(c_1t,budget_1)\n",
    "savings_2 = savings_1.subs(c_2t, budget_2)\n",
    "\n",
    "# Find optimal savings\n",
    "savings = sm.solve(savings_2,s)[0]\n",
    "opt_savings = sm.Eq(s,savings)\n",
    "opt_savings"
   ]
  },
  {
   "cell_type": "markdown",
   "metadata": {},
   "source": [
    "We see that individuals save a constant fraction of income. "
   ]
  },
  {
   "cell_type": "markdown",
   "metadata": {},
   "source": [
    "## Firms maximization problem "
   ]
  },
  {
   "cell_type": "markdown",
   "metadata": {},
   "source": [
    "Firms compete and take rental rates and wages as given. Thus, the representative firm maximizes profits:\n",
    "\n",
    "$$ max  F(K_t,L_t) - r_tK_t - w_tL_t $$\n",
    "\n",
    "In order to find the wage rate and the rental rate, we find the FOCs with respect to $K_t$ and $L_t$:"
   ]
  },
  {
   "cell_type": "code",
   "execution_count": 19,
   "metadata": {},
   "outputs": [],
   "source": [
    "#Define production function \n",
    "Y = K**alpha*L_t**(1-alpha)"
   ]
  },
  {
   "cell_type": "code",
   "execution_count": 20,
   "metadata": {},
   "outputs": [
    {
     "output_type": "execute_result",
     "data": {
      "text/plain": "K_t**(alpha - 1)*L_t**(1 - alpha)*alpha",
      "text/latex": "$\\displaystyle K_{t}^{\\alpha - 1} L_{t}^{1 - \\alpha} \\alpha$"
     },
     "metadata": {},
     "execution_count": 20
    }
   ],
   "source": [
    "# Find rental rate \n",
    "r_t = sm.diff(Y,K)\n",
    "r_t = sm.simplify(r_t)\n",
    "r_t"
   ]
  },
  {
   "cell_type": "code",
   "execution_count": 21,
   "metadata": {},
   "outputs": [
    {
     "output_type": "execute_result",
     "data": {
      "text/plain": "K_t**alpha*L_t**(-alpha)*(1 - alpha)",
      "text/latex": "$\\displaystyle K_{t}^{\\alpha} L_{t}^{- \\alpha} \\left(1 - \\alpha\\right)$"
     },
     "metadata": {},
     "execution_count": 21
    }
   ],
   "source": [
    "# Find wage\n",
    "w_t = sm.diff(Y,L_t)\n",
    "w_t = sm.simplify(w_t)\n",
    "w_t"
   ]
  },
  {
   "cell_type": "markdown",
   "metadata": {},
   "source": [
    "We rewrite this in order to express the rental rate and the wage per worker: "
   ]
  },
  {
   "cell_type": "code",
   "execution_count": 22,
   "metadata": {},
   "outputs": [
    {
     "output_type": "execute_result",
     "data": {
      "text/plain": "Eq(r_t, alpha*k_t**(alpha - 1))",
      "text/latex": "$\\displaystyle r_{t} = \\alpha k_{t}^{\\alpha - 1}$"
     },
     "metadata": {},
     "execution_count": 22
    }
   ],
   "source": [
    "rr = sm.Eq(r,alpha*k_1t**(alpha-1))\n",
    "rr "
   ]
  },
  {
   "cell_type": "code",
   "execution_count": 23,
   "metadata": {},
   "outputs": [
    {
     "output_type": "execute_result",
     "data": {
      "text/plain": "Eq(w_t, k_t**alpha*(1 - alpha))",
      "text/latex": "$\\displaystyle w_{t} = k_{t}^{\\alpha} \\left(1 - \\alpha\\right)$"
     },
     "metadata": {},
     "execution_count": 23
    }
   ],
   "source": [
    "wage = (1-alpha)*k_1t**alpha\n",
    "ww = sm.Eq(w,(1-alpha)*k_1t**alpha)\n",
    "ww"
   ]
  },
  {
   "cell_type": "markdown",
   "metadata": {},
   "source": [
    "## Capital accumulation and steady state"
   ]
  },
  {
   "cell_type": "markdown",
   "metadata": {},
   "source": [
    "We now substitute $w_t$ into optimal savings: "
   ]
  },
  {
   "cell_type": "code",
   "execution_count": 24,
   "metadata": {},
   "outputs": [
    {
     "output_type": "execute_result",
     "data": {
      "text/plain": "Eq(s_t, k_t**alpha*(1 - alpha)/(rho + 2))",
      "text/latex": "$\\displaystyle s_{t} = \\frac{k_{t}^{\\alpha} \\left(1 - \\alpha\\right)}{\\rho + 2}$"
     },
     "metadata": {},
     "execution_count": 24
    }
   ],
   "source": [
    "# Inserting w into optimal savings and solve for capital:\n",
    "savings_eq= opt_savings.subs(w,wage)\n",
    "savings_eq\n"
   ]
  },
  {
   "cell_type": "markdown",
   "metadata": {},
   "source": [
    "Aggregate capital accumulation is given by:\n",
    "\n",
    "$$k_{t+1}(1+n)=s_t$$\n",
    "\n",
    "which we insert in optimal savings to find the capital accumulation equation:\n",
    "  "
   ]
  },
  {
   "cell_type": "code",
   "execution_count": 29,
   "metadata": {},
   "outputs": [
    {
     "output_type": "execute_result",
     "data": {
      "text/plain": "Eq(k_t+1, k_t**alpha*(1 - alpha)/(n*rho + 2*n + rho + 2))",
      "text/latex": "$\\displaystyle k_{t+1} = \\frac{k_{t}^{\\alpha} \\left(1 - \\alpha\\right)}{n \\rho + 2 n + \\rho + 2}$"
     },
     "metadata": {},
     "execution_count": 29
    }
   ],
   "source": [
    "capital_acc = savings_eq.subs(s,(1+n)*k_2t)\n",
    "capital_acc = sm.solve(capital_acc,k_2t) [0]\n",
    "capital_acc = sm.Eq(k_2t,capital_acc)\n",
    "capital_acc"
   ]
  },
  {
   "cell_type": "markdown",
   "metadata": {},
   "source": [
    "In steady state we have that $k_t=k_{t+1}=k^*$. \n",
    "\n",
    "We insert this in the capital accumulation equation and solve for $k^*$:"
   ]
  },
  {
   "cell_type": "code",
   "execution_count": 30,
   "metadata": {},
   "outputs": [
    {
     "output_type": "execute_result",
     "data": {
      "text/plain": "Eq(k^*, ((1 - alpha)/(n*rho + 2*n + rho + 2))**(-1/(alpha - 1)))",
      "text/latex": "$\\displaystyle k^{*} = \\left(\\frac{1 - \\alpha}{n \\rho + 2 n + \\rho + 2}\\right)^{- \\frac{1}{\\alpha - 1}}$"
     },
     "metadata": {},
     "execution_count": 30
    }
   ],
   "source": [
    "capital_eq=sm.Eq(k_star*(1+n), (((1-alpha)*k_star**alpha)/(rho+2)))\n",
    "\n",
    "# Solve for k_star\n",
    "SS = sm.solve(capital_eq,k_star)[0]\n",
    "SS = sm.Eq(k_star,SS)\n",
    "SS"
   ]
  },
  {
   "cell_type": "markdown",
   "metadata": {},
   "source": [
    "# Dynamics"
   ]
  },
  {
   "cell_type": "markdown",
   "metadata": {},
   "source": [
    "We now solve the OLG-model numerically and look at the dynamics of capital accumulation."
   ]
  },
  {
   "cell_type": "markdown",
   "metadata": {},
   "source": [
    "Define the model **parameters**:"
   ]
  },
  {
   "cell_type": "code",
   "execution_count": 35,
   "metadata": {},
   "outputs": [],
   "source": [
    "rho = 0.05\n",
    "n = 0.02\n",
    "alpha = 0.33"
   ]
  },
  {
   "cell_type": "markdown",
   "metadata": {},
   "source": [
    "Define functions:"
   ]
  },
  {
   "cell_type": "code",
   "execution_count": 36,
   "metadata": {},
   "outputs": [],
   "source": [
    "def wage(k,alpha):\n",
    "    return (1-alpha)*k**alpha\n",
    "\n",
    "def rr(k,alpha):\n",
    "     return alpha*k**(alpha-1)\n",
    "     \n",
    "def capital_2t(s,n):\n",
    "    return s/(1+n) \n",
    "\n",
    "def savings(w,rho):\n",
    "    return w/(2+rho)\n",
    "\n",
    "def transition(k,alpha,rho,n):\n",
    "    w = wage(k,alpha)\n",
    "    s = savings(w,rho)\n",
    "    return capital_2t(s,n)"
   ]
  },
  {
   "cell_type": "markdown",
   "metadata": {},
   "source": [
    "We define a function for the transition curve, which returns $k_t+1$ for values of $k_t$."
   ]
  },
  {
   "cell_type": "code",
   "execution_count": 40,
   "metadata": {},
   "outputs": [],
   "source": [
    "def transition_curve(alpha,rho,n):\n",
    "\n",
    "    # Grids\n",
    "    capital_1 = np.linspace(1e-8,1,500)\n",
    "    capital_2 = np.empty(500)\n",
    "\n",
    "    # Solve for each k in grid\n",
    "    for i,k in enumerate(capital_1):\n",
    "        \n",
    "        # Capital in t+1\n",
    "        result = transition(k,alpha,rho,n)\n",
    "        capital_2[i] = result\n",
    "\n",
    "    return capital_1,capital_2"
   ]
  },
  {
   "cell_type": "markdown",
   "metadata": {},
   "source": [
    "We call the function and plot the dynamics of the model"
   ]
  },
  {
   "cell_type": "code",
   "execution_count": 48,
   "metadata": {},
   "outputs": [
    {
     "output_type": "display_data",
     "data": {
      "text/plain": "<Figure size 432x288 with 1 Axes>",
      "image/svg+xml": "<?xml version=\"1.0\" encoding=\"utf-8\" standalone=\"no\"?>\n<!DOCTYPE svg PUBLIC \"-//W3C//DTD SVG 1.1//EN\"\n  \"http://www.w3.org/Graphics/SVG/1.1/DTD/svg11.dtd\">\n<!-- Created with matplotlib (http://matplotlib.org/) -->\n<svg height=\"272.374687pt\" version=\"1.1\" viewBox=\"0 0 400.692167 272.374687\" width=\"400.692167pt\" xmlns=\"http://www.w3.org/2000/svg\" xmlns:xlink=\"http://www.w3.org/1999/xlink\">\n <defs>\n  <style type=\"text/css\">\n*{stroke-linecap:butt;stroke-linejoin:round;}\n  </style>\n </defs>\n <g id=\"figure_1\">\n  <g id=\"patch_1\">\n   <path d=\"M 0 272.374687 \nL 400.692167 272.374687 \nL 400.692167 0 \nL 0 0 \nz\n\" style=\"fill:none;\"/>\n  </g>\n  <g id=\"axes_1\">\n   <g id=\"patch_2\">\n    <path d=\"M 43.460938 239.229375 \nL 378.260938 239.229375 \nL 378.260938 21.789375 \nL 43.460938 21.789375 \nz\n\" style=\"fill:#ffffff;\"/>\n   </g>\n   <g id=\"matplotlib.axis_1\">\n    <g id=\"xtick_1\">\n     <g id=\"line2d_1\">\n      <path clip-path=\"url(#p592d7b633e)\" d=\"M 44.57323 239.229375 \nL 44.57323 21.789375 \n\" style=\"fill:none;stroke:#cccccc;stroke-linecap:round;stroke-width:0.8;\"/>\n     </g>\n     <g id=\"line2d_2\"/>\n     <g id=\"text_1\">\n      <!-- 0.00 -->\n      <defs>\n       <path d=\"M 4.15625 35.296875 \nQ 4.15625 48 6.765625 55.734375 \nQ 9.375 63.484375 14.515625 67.671875 \nQ 19.671875 71.875 27.484375 71.875 \nQ 33.25 71.875 37.59375 69.546875 \nQ 41.9375 67.234375 44.765625 62.859375 \nQ 47.609375 58.5 49.21875 52.21875 \nQ 50.828125 45.953125 50.828125 35.296875 \nQ 50.828125 22.703125 48.234375 14.96875 \nQ 45.65625 7.234375 40.5 3 \nQ 35.359375 -1.21875 27.484375 -1.21875 \nQ 17.140625 -1.21875 11.234375 6.203125 \nQ 4.15625 15.140625 4.15625 35.296875 \nz\nM 13.1875 35.296875 \nQ 13.1875 17.671875 17.3125 11.828125 \nQ 21.4375 6 27.484375 6 \nQ 33.546875 6 37.671875 11.859375 \nQ 41.796875 17.71875 41.796875 35.296875 \nQ 41.796875 52.984375 37.671875 58.78125 \nQ 33.546875 64.59375 27.390625 64.59375 \nQ 21.34375 64.59375 17.71875 59.46875 \nQ 13.1875 52.9375 13.1875 35.296875 \nz\n\" id=\"ArialMT-30\"/>\n       <path d=\"M 9.078125 0 \nL 9.078125 10.015625 \nL 19.09375 10.015625 \nL 19.09375 0 \nz\n\" id=\"ArialMT-2e\"/>\n      </defs>\n      <g style=\"fill:#262626;\" transform=\"translate(34.842761 249.887187)scale(0.1 -0.1)\">\n       <use xlink:href=\"#ArialMT-30\"/>\n       <use x=\"55.615234\" xlink:href=\"#ArialMT-2e\"/>\n       <use x=\"83.398438\" xlink:href=\"#ArialMT-30\"/>\n       <use x=\"139.013672\" xlink:href=\"#ArialMT-30\"/>\n      </g>\n     </g>\n    </g>\n    <g id=\"xtick_2\">\n     <g id=\"line2d_3\">\n      <path clip-path=\"url(#p592d7b633e)\" d=\"M 100.187848 239.229375 \nL 100.187848 21.789375 \n\" style=\"fill:none;stroke:#cccccc;stroke-linecap:round;stroke-width:0.8;\"/>\n     </g>\n     <g id=\"line2d_4\"/>\n     <g id=\"text_2\">\n      <!-- 0.05 -->\n      <defs>\n       <path d=\"M 4.15625 18.75 \nL 13.375 19.53125 \nQ 14.40625 12.796875 18.140625 9.390625 \nQ 21.875 6 27.15625 6 \nQ 33.5 6 37.890625 10.78125 \nQ 42.28125 15.578125 42.28125 23.484375 \nQ 42.28125 31 38.0625 35.34375 \nQ 33.84375 39.703125 27 39.703125 \nQ 22.75 39.703125 19.328125 37.765625 \nQ 15.921875 35.84375 13.96875 32.765625 \nL 5.71875 33.84375 \nL 12.640625 70.609375 \nL 48.25 70.609375 \nL 48.25 62.203125 \nL 19.671875 62.203125 \nL 15.828125 42.96875 \nQ 22.265625 47.46875 29.34375 47.46875 \nQ 38.71875 47.46875 45.15625 40.96875 \nQ 51.609375 34.46875 51.609375 24.265625 \nQ 51.609375 14.546875 45.953125 7.46875 \nQ 39.0625 -1.21875 27.15625 -1.21875 \nQ 17.390625 -1.21875 11.203125 4.25 \nQ 5.03125 9.71875 4.15625 18.75 \nz\n\" id=\"ArialMT-35\"/>\n      </defs>\n      <g style=\"fill:#262626;\" transform=\"translate(90.457379 249.887187)scale(0.1 -0.1)\">\n       <use xlink:href=\"#ArialMT-30\"/>\n       <use x=\"55.615234\" xlink:href=\"#ArialMT-2e\"/>\n       <use x=\"83.398438\" xlink:href=\"#ArialMT-30\"/>\n       <use x=\"139.013672\" xlink:href=\"#ArialMT-35\"/>\n      </g>\n     </g>\n    </g>\n    <g id=\"xtick_3\">\n     <g id=\"line2d_5\">\n      <path clip-path=\"url(#p592d7b633e)\" d=\"M 155.802466 239.229375 \nL 155.802466 21.789375 \n\" style=\"fill:none;stroke:#cccccc;stroke-linecap:round;stroke-width:0.8;\"/>\n     </g>\n     <g id=\"line2d_6\"/>\n     <g id=\"text_3\">\n      <!-- 0.10 -->\n      <defs>\n       <path d=\"M 37.25 0 \nL 28.46875 0 \nL 28.46875 56 \nQ 25.296875 52.984375 20.140625 49.953125 \nQ 14.984375 46.921875 10.890625 45.40625 \nL 10.890625 53.90625 \nQ 18.265625 57.375 23.78125 62.296875 \nQ 29.296875 67.234375 31.59375 71.875 \nL 37.25 71.875 \nz\n\" id=\"ArialMT-31\"/>\n      </defs>\n      <g style=\"fill:#262626;\" transform=\"translate(146.071997 249.887187)scale(0.1 -0.1)\">\n       <use xlink:href=\"#ArialMT-30\"/>\n       <use x=\"55.615234\" xlink:href=\"#ArialMT-2e\"/>\n       <use x=\"83.398438\" xlink:href=\"#ArialMT-31\"/>\n       <use x=\"139.013672\" xlink:href=\"#ArialMT-30\"/>\n      </g>\n     </g>\n    </g>\n    <g id=\"xtick_4\">\n     <g id=\"line2d_7\">\n      <path clip-path=\"url(#p592d7b633e)\" d=\"M 211.417084 239.229375 \nL 211.417084 21.789375 \n\" style=\"fill:none;stroke:#cccccc;stroke-linecap:round;stroke-width:0.8;\"/>\n     </g>\n     <g id=\"line2d_8\"/>\n     <g id=\"text_4\">\n      <!-- 0.15 -->\n      <g style=\"fill:#262626;\" transform=\"translate(201.686615 249.887187)scale(0.1 -0.1)\">\n       <use xlink:href=\"#ArialMT-30\"/>\n       <use x=\"55.615234\" xlink:href=\"#ArialMT-2e\"/>\n       <use x=\"83.398438\" xlink:href=\"#ArialMT-31\"/>\n       <use x=\"139.013672\" xlink:href=\"#ArialMT-35\"/>\n      </g>\n     </g>\n    </g>\n    <g id=\"xtick_5\">\n     <g id=\"line2d_9\">\n      <path clip-path=\"url(#p592d7b633e)\" d=\"M 267.031702 239.229375 \nL 267.031702 21.789375 \n\" style=\"fill:none;stroke:#cccccc;stroke-linecap:round;stroke-width:0.8;\"/>\n     </g>\n     <g id=\"line2d_10\"/>\n     <g id=\"text_5\">\n      <!-- 0.20 -->\n      <defs>\n       <path d=\"M 50.34375 8.453125 \nL 50.34375 0 \nL 3.03125 0 \nQ 2.9375 3.171875 4.046875 6.109375 \nQ 5.859375 10.9375 9.828125 15.625 \nQ 13.8125 20.3125 21.34375 26.46875 \nQ 33.015625 36.03125 37.109375 41.625 \nQ 41.21875 47.21875 41.21875 52.203125 \nQ 41.21875 57.421875 37.46875 61 \nQ 33.734375 64.59375 27.734375 64.59375 \nQ 21.390625 64.59375 17.578125 60.78125 \nQ 13.765625 56.984375 13.71875 50.25 \nL 4.6875 51.171875 \nQ 5.609375 61.28125 11.65625 66.578125 \nQ 17.71875 71.875 27.9375 71.875 \nQ 38.234375 71.875 44.234375 66.15625 \nQ 50.25 60.453125 50.25 52 \nQ 50.25 47.703125 48.484375 43.546875 \nQ 46.734375 39.40625 42.65625 34.8125 \nQ 38.578125 30.21875 29.109375 22.21875 \nQ 21.1875 15.578125 18.9375 13.203125 \nQ 16.703125 10.84375 15.234375 8.453125 \nz\n\" id=\"ArialMT-32\"/>\n      </defs>\n      <g style=\"fill:#262626;\" transform=\"translate(257.301233 249.887187)scale(0.1 -0.1)\">\n       <use xlink:href=\"#ArialMT-30\"/>\n       <use x=\"55.615234\" xlink:href=\"#ArialMT-2e\"/>\n       <use x=\"83.398438\" xlink:href=\"#ArialMT-32\"/>\n       <use x=\"139.013672\" xlink:href=\"#ArialMT-30\"/>\n      </g>\n     </g>\n    </g>\n    <g id=\"xtick_6\">\n     <g id=\"line2d_11\">\n      <path clip-path=\"url(#p592d7b633e)\" d=\"M 322.64632 239.229375 \nL 322.64632 21.789375 \n\" style=\"fill:none;stroke:#cccccc;stroke-linecap:round;stroke-width:0.8;\"/>\n     </g>\n     <g id=\"line2d_12\"/>\n     <g id=\"text_6\">\n      <!-- 0.25 -->\n      <g style=\"fill:#262626;\" transform=\"translate(312.915851 249.887187)scale(0.1 -0.1)\">\n       <use xlink:href=\"#ArialMT-30\"/>\n       <use x=\"55.615234\" xlink:href=\"#ArialMT-2e\"/>\n       <use x=\"83.398438\" xlink:href=\"#ArialMT-32\"/>\n       <use x=\"139.013672\" xlink:href=\"#ArialMT-35\"/>\n      </g>\n     </g>\n    </g>\n    <g id=\"xtick_7\">\n     <g id=\"line2d_13\">\n      <path clip-path=\"url(#p592d7b633e)\" d=\"M 378.260938 239.229375 \nL 378.260938 21.789375 \n\" style=\"fill:none;stroke:#cccccc;stroke-linecap:round;stroke-width:0.8;\"/>\n     </g>\n     <g id=\"line2d_14\"/>\n     <g id=\"text_7\">\n      <!-- 0.30 -->\n      <defs>\n       <path d=\"M 4.203125 18.890625 \nL 12.984375 20.0625 \nQ 14.5 12.59375 18.140625 9.296875 \nQ 21.78125 6 27 6 \nQ 33.203125 6 37.46875 10.296875 \nQ 41.75 14.59375 41.75 20.953125 \nQ 41.75 27 37.796875 30.921875 \nQ 33.84375 34.859375 27.734375 34.859375 \nQ 25.25 34.859375 21.53125 33.890625 \nL 22.515625 41.609375 \nQ 23.390625 41.5 23.921875 41.5 \nQ 29.546875 41.5 34.03125 44.421875 \nQ 38.53125 47.359375 38.53125 53.46875 \nQ 38.53125 58.296875 35.25 61.46875 \nQ 31.984375 64.65625 26.8125 64.65625 \nQ 21.6875 64.65625 18.265625 61.421875 \nQ 14.84375 58.203125 13.875 51.765625 \nL 5.078125 53.328125 \nQ 6.6875 62.15625 12.390625 67.015625 \nQ 18.109375 71.875 26.609375 71.875 \nQ 32.46875 71.875 37.390625 69.359375 \nQ 42.328125 66.84375 44.9375 62.5 \nQ 47.5625 58.15625 47.5625 53.265625 \nQ 47.5625 48.640625 45.0625 44.828125 \nQ 42.578125 41.015625 37.703125 38.765625 \nQ 44.046875 37.3125 47.5625 32.6875 \nQ 51.078125 28.078125 51.078125 21.140625 \nQ 51.078125 11.765625 44.234375 5.25 \nQ 37.40625 -1.265625 26.953125 -1.265625 \nQ 17.53125 -1.265625 11.296875 4.34375 \nQ 5.078125 9.96875 4.203125 18.890625 \nz\n\" id=\"ArialMT-33\"/>\n      </defs>\n      <g style=\"fill:#262626;\" transform=\"translate(368.530469 249.887187)scale(0.1 -0.1)\">\n       <use xlink:href=\"#ArialMT-30\"/>\n       <use x=\"55.615234\" xlink:href=\"#ArialMT-2e\"/>\n       <use x=\"83.398438\" xlink:href=\"#ArialMT-33\"/>\n       <use x=\"139.013672\" xlink:href=\"#ArialMT-30\"/>\n      </g>\n     </g>\n    </g>\n    <g id=\"text_8\">\n     <!-- $k_t$ -->\n     <defs>\n      <path d=\"M 18.3125 75.984375 \nL 27.296875 75.984375 \nL 18.703125 31.6875 \nL 49.515625 54.6875 \nL 61.1875 54.6875 \nL 26.8125 28.515625 \nL 51.90625 0 \nL 41.015625 0 \nL 17.671875 26.703125 \nL 12.5 0 \nL 3.515625 0 \nz\n\" id=\"DejaVuSans-Oblique-6b\"/>\n      <path d=\"M 42.28125 54.6875 \nL 40.921875 47.703125 \nL 23 47.703125 \nL 17.1875 18.015625 \nQ 16.890625 16.359375 16.75 15.234375 \nQ 16.609375 14.109375 16.609375 13.484375 \nQ 16.609375 10.359375 18.484375 8.9375 \nQ 20.359375 7.515625 24.515625 7.515625 \nL 33.59375 7.515625 \nL 32.078125 0 \nL 23.484375 0 \nQ 15.484375 0 11.546875 3.125 \nQ 7.625 6.25 7.625 12.59375 \nQ 7.625 13.71875 7.765625 15.0625 \nQ 7.90625 16.40625 8.203125 18.015625 \nL 14.015625 47.703125 \nL 6.390625 47.703125 \nL 7.8125 54.6875 \nL 15.28125 54.6875 \nL 18.3125 70.21875 \nL 27.296875 70.21875 \nL 24.3125 54.6875 \nz\n\" id=\"DejaVuSans-Oblique-74\"/>\n     </defs>\n     <g style=\"fill:#262626;\" transform=\"translate(206.410938 263.187187)scale(0.1 -0.1)\">\n      <use transform=\"translate(0 0.015625)\" xlink:href=\"#DejaVuSans-Oblique-6b\"/>\n      <use transform=\"translate(57.910156 -16.390625)scale(0.7)\" xlink:href=\"#DejaVuSans-Oblique-74\"/>\n     </g>\n    </g>\n   </g>\n   <g id=\"matplotlib.axis_2\">\n    <g id=\"ytick_1\">\n     <g id=\"line2d_15\">\n      <path clip-path=\"url(#p592d7b633e)\" d=\"M 43.460938 239.229375 \nL 378.260938 239.229375 \n\" style=\"fill:none;stroke:#cccccc;stroke-linecap:round;stroke-width:0.8;\"/>\n     </g>\n     <g id=\"line2d_16\"/>\n     <g id=\"text_9\">\n      <!-- 0.00 -->\n      <g style=\"fill:#262626;\" transform=\"translate(20.5 242.808281)scale(0.1 -0.1)\">\n       <use xlink:href=\"#ArialMT-30\"/>\n       <use x=\"55.615234\" xlink:href=\"#ArialMT-2e\"/>\n       <use x=\"83.398438\" xlink:href=\"#ArialMT-30\"/>\n       <use x=\"139.013672\" xlink:href=\"#ArialMT-30\"/>\n      </g>\n     </g>\n    </g>\n    <g id=\"ytick_2\">\n     <g id=\"line2d_17\">\n      <path clip-path=\"url(#p592d7b633e)\" d=\"M 43.460938 202.989375 \nL 378.260938 202.989375 \n\" style=\"fill:none;stroke:#cccccc;stroke-linecap:round;stroke-width:0.8;\"/>\n     </g>\n     <g id=\"line2d_18\"/>\n     <g id=\"text_10\">\n      <!-- 0.05 -->\n      <g style=\"fill:#262626;\" transform=\"translate(20.5 206.568281)scale(0.1 -0.1)\">\n       <use xlink:href=\"#ArialMT-30\"/>\n       <use x=\"55.615234\" xlink:href=\"#ArialMT-2e\"/>\n       <use x=\"83.398438\" xlink:href=\"#ArialMT-30\"/>\n       <use x=\"139.013672\" xlink:href=\"#ArialMT-35\"/>\n      </g>\n     </g>\n    </g>\n    <g id=\"ytick_3\">\n     <g id=\"line2d_19\">\n      <path clip-path=\"url(#p592d7b633e)\" d=\"M 43.460938 166.749375 \nL 378.260938 166.749375 \n\" style=\"fill:none;stroke:#cccccc;stroke-linecap:round;stroke-width:0.8;\"/>\n     </g>\n     <g id=\"line2d_20\"/>\n     <g id=\"text_11\">\n      <!-- 0.10 -->\n      <g style=\"fill:#262626;\" transform=\"translate(20.5 170.328281)scale(0.1 -0.1)\">\n       <use xlink:href=\"#ArialMT-30\"/>\n       <use x=\"55.615234\" xlink:href=\"#ArialMT-2e\"/>\n       <use x=\"83.398438\" xlink:href=\"#ArialMT-31\"/>\n       <use x=\"139.013672\" xlink:href=\"#ArialMT-30\"/>\n      </g>\n     </g>\n    </g>\n    <g id=\"ytick_4\">\n     <g id=\"line2d_21\">\n      <path clip-path=\"url(#p592d7b633e)\" d=\"M 43.460938 130.509375 \nL 378.260938 130.509375 \n\" style=\"fill:none;stroke:#cccccc;stroke-linecap:round;stroke-width:0.8;\"/>\n     </g>\n     <g id=\"line2d_22\"/>\n     <g id=\"text_12\">\n      <!-- 0.15 -->\n      <g style=\"fill:#262626;\" transform=\"translate(20.5 134.088281)scale(0.1 -0.1)\">\n       <use xlink:href=\"#ArialMT-30\"/>\n       <use x=\"55.615234\" xlink:href=\"#ArialMT-2e\"/>\n       <use x=\"83.398438\" xlink:href=\"#ArialMT-31\"/>\n       <use x=\"139.013672\" xlink:href=\"#ArialMT-35\"/>\n      </g>\n     </g>\n    </g>\n    <g id=\"ytick_5\">\n     <g id=\"line2d_23\">\n      <path clip-path=\"url(#p592d7b633e)\" d=\"M 43.460938 94.269375 \nL 378.260938 94.269375 \n\" style=\"fill:none;stroke:#cccccc;stroke-linecap:round;stroke-width:0.8;\"/>\n     </g>\n     <g id=\"line2d_24\"/>\n     <g id=\"text_13\">\n      <!-- 0.20 -->\n      <g style=\"fill:#262626;\" transform=\"translate(20.5 97.848281)scale(0.1 -0.1)\">\n       <use xlink:href=\"#ArialMT-30\"/>\n       <use x=\"55.615234\" xlink:href=\"#ArialMT-2e\"/>\n       <use x=\"83.398438\" xlink:href=\"#ArialMT-32\"/>\n       <use x=\"139.013672\" xlink:href=\"#ArialMT-30\"/>\n      </g>\n     </g>\n    </g>\n    <g id=\"ytick_6\">\n     <g id=\"line2d_25\">\n      <path clip-path=\"url(#p592d7b633e)\" d=\"M 43.460938 58.029375 \nL 378.260938 58.029375 \n\" style=\"fill:none;stroke:#cccccc;stroke-linecap:round;stroke-width:0.8;\"/>\n     </g>\n     <g id=\"line2d_26\"/>\n     <g id=\"text_14\">\n      <!-- 0.25 -->\n      <g style=\"fill:#262626;\" transform=\"translate(20.5 61.608281)scale(0.1 -0.1)\">\n       <use xlink:href=\"#ArialMT-30\"/>\n       <use x=\"55.615234\" xlink:href=\"#ArialMT-2e\"/>\n       <use x=\"83.398438\" xlink:href=\"#ArialMT-32\"/>\n       <use x=\"139.013672\" xlink:href=\"#ArialMT-35\"/>\n      </g>\n     </g>\n    </g>\n    <g id=\"ytick_7\">\n     <g id=\"line2d_27\">\n      <path clip-path=\"url(#p592d7b633e)\" d=\"M 43.460938 21.789375 \nL 378.260938 21.789375 \n\" style=\"fill:none;stroke:#cccccc;stroke-linecap:round;stroke-width:0.8;\"/>\n     </g>\n     <g id=\"line2d_28\"/>\n     <g id=\"text_15\">\n      <!-- 0.30 -->\n      <g style=\"fill:#262626;\" transform=\"translate(20.5 25.368281)scale(0.1 -0.1)\">\n       <use xlink:href=\"#ArialMT-30\"/>\n       <use x=\"55.615234\" xlink:href=\"#ArialMT-2e\"/>\n       <use x=\"83.398438\" xlink:href=\"#ArialMT-33\"/>\n       <use x=\"139.013672\" xlink:href=\"#ArialMT-30\"/>\n      </g>\n     </g>\n    </g>\n    <g id=\"text_16\">\n     <!-- $k_t+1$ -->\n     <defs>\n      <path d=\"M 46 62.703125 \nL 46 35.5 \nL 73.1875 35.5 \nL 73.1875 27.203125 \nL 46 27.203125 \nL 46 0 \nL 37.796875 0 \nL 37.796875 27.203125 \nL 10.59375 27.203125 \nL 10.59375 35.5 \nL 37.796875 35.5 \nL 37.796875 62.703125 \nz\n\" id=\"DejaVuSans-2b\"/>\n      <path d=\"M 12.40625 8.296875 \nL 28.515625 8.296875 \nL 28.515625 63.921875 \nL 10.984375 60.40625 \nL 10.984375 69.390625 \nL 28.421875 72.90625 \nL 38.28125 72.90625 \nL 38.28125 8.296875 \nL 54.390625 8.296875 \nL 54.390625 0 \nL 12.40625 0 \nz\n\" id=\"DejaVuSans-31\"/>\n     </defs>\n     <g style=\"fill:#262626;\" transform=\"translate(14.5125 144.259375)rotate(-90)scale(0.1 -0.1)\">\n      <use transform=\"translate(0 0.015625)\" xlink:href=\"#DejaVuSans-Oblique-6b\"/>\n      <use transform=\"translate(57.910156 -16.390625)scale(0.7)\" xlink:href=\"#DejaVuSans-Oblique-74\"/>\n      <use transform=\"translate(107.573242 0.015625)\" xlink:href=\"#DejaVuSans-2b\"/>\n      <use transform=\"translate(210.844727 0.015625)\" xlink:href=\"#DejaVuSans-31\"/>\n     </g>\n    </g>\n   </g>\n   <g id=\"line2d_29\">\n    <path clip-path=\"url(#p592d7b633e)\" d=\"M 44.573241 238.697342 \nL 46.802284 209.336582 \nL 49.031327 201.653766 \nL 51.260369 196.274147 \nL 53.489412 191.996351 \nL 55.718455 188.386978 \nL 57.947498 185.234094 \nL 60.17654 182.416309 \nL 62.405583 179.856845 \nL 64.634626 177.503695 \nL 69.092712 173.277762 \nL 73.550797 169.539909 \nL 78.008883 166.170003 \nL 82.466968 163.089184 \nL 86.925054 160.242579 \nL 93.612182 156.327321 \nL 100.299311 152.755284 \nL 106.986439 149.460052 \nL 113.673567 146.393645 \nL 122.589738 142.600205 \nL 131.505909 139.087179 \nL 140.422081 135.807983 \nL 151.567294 131.984784 \nL 162.712508 128.419919 \nL 173.857722 125.073827 \nL 187.231979 121.304568 \nL 200.606236 117.765219 \nL 216.209535 113.884171 \nL 231.812835 110.232869 \nL 249.645177 106.301591 \nL 267.477519 102.593173 \nL 287.538904 98.651646 \nL 309.829332 94.52013 \nL 332.11976 90.615149 \nL 356.63923 86.547308 \nL 383.387744 82.346998 \nL 401.692167 79.599329 \nL 401.692167 79.599329 \n\" style=\"fill:none;stroke:#1f77b4;stroke-linecap:round;stroke-width:1.5;\"/>\n   </g>\n   <g id=\"line2d_30\">\n    <path clip-path=\"url(#p592d7b633e)\" d=\"M 44.573241 239.229368 \nL 401.692167 6.520948 \nL 401.692167 6.520948 \n\" style=\"fill:none;stroke:#808080;stroke-dasharray:5.55,2.4;stroke-dashoffset:0;stroke-width:1.5;\"/>\n   </g>\n   <g id=\"patch_3\">\n    <path d=\"M 43.460938 239.229375 \nL 43.460938 21.789375 \n\" style=\"fill:none;stroke:#cccccc;stroke-linecap:square;stroke-linejoin:miter;\"/>\n   </g>\n   <g id=\"patch_4\">\n    <path d=\"M 378.260938 239.229375 \nL 378.260938 21.789375 \n\" style=\"fill:none;stroke:#cccccc;stroke-linecap:square;stroke-linejoin:miter;\"/>\n   </g>\n   <g id=\"patch_5\">\n    <path d=\"M 43.460938 239.229375 \nL 378.260937 239.229375 \n\" style=\"fill:none;stroke:#cccccc;stroke-linecap:square;stroke-linejoin:miter;\"/>\n   </g>\n   <g id=\"patch_6\">\n    <path d=\"M 43.460938 21.789375 \nL 378.260937 21.789375 \n\" style=\"fill:none;stroke:#cccccc;stroke-linecap:square;stroke-linejoin:miter;\"/>\n   </g>\n   <g id=\"text_17\">\n    <!-- $k_t+1$ -->\n    <g style=\"fill:#262626;\" transform=\"translate(333.769243 101.517375)scale(0.1 -0.1)\">\n     <use transform=\"translate(0 0.015625)\" xlink:href=\"#DejaVuSans-Oblique-6b\"/>\n     <use transform=\"translate(57.910156 -16.390625)scale(0.7)\" xlink:href=\"#DejaVuSans-Oblique-74\"/>\n     <use transform=\"translate(107.573242 0.015625)\" xlink:href=\"#DejaVuSans-2b\"/>\n     <use transform=\"translate(210.844727 0.015625)\" xlink:href=\"#DejaVuSans-31\"/>\n    </g>\n   </g>\n   <g id=\"text_18\">\n    <!-- $k_t=k_t+1$ -->\n    <defs>\n     <path d=\"M 10.59375 45.40625 \nL 73.1875 45.40625 \nL 73.1875 37.203125 \nL 10.59375 37.203125 \nz\nM 10.59375 25.484375 \nL 73.1875 25.484375 \nL 73.1875 17.1875 \nL 10.59375 17.1875 \nz\n\" id=\"DejaVuSans-3d\"/>\n    </defs>\n    <g style=\"fill:#262626;\" transform=\"translate(344.892167 58.029375)scale(0.1 -0.1)\">\n     <use transform=\"translate(0 0.015625)\" xlink:href=\"#DejaVuSans-Oblique-6b\"/>\n     <use transform=\"translate(57.910156 -16.390625)scale(0.7)\" xlink:href=\"#DejaVuSans-Oblique-74\"/>\n     <use transform=\"translate(107.573242 0.015625)\" xlink:href=\"#DejaVuSans-3d\"/>\n     <use transform=\"translate(210.844727 0.015625)\" xlink:href=\"#DejaVuSans-Oblique-6b\"/>\n     <use transform=\"translate(268.754883 -16.390625)scale(0.7)\" xlink:href=\"#DejaVuSans-Oblique-74\"/>\n     <use transform=\"translate(318.417969 0.015625)\" xlink:href=\"#DejaVuSans-2b\"/>\n     <use transform=\"translate(421.689453 0.015625)\" xlink:href=\"#DejaVuSans-31\"/>\n    </g>\n   </g>\n   <g id=\"text_19\">\n    <!-- $k^*$ -->\n    <defs>\n     <path d=\"M 47.015625 60.890625 \nL 29.5 51.421875 \nL 47.015625 41.890625 \nL 44.1875 37.109375 \nL 27.78125 47.015625 \nL 27.78125 28.609375 \nL 22.21875 28.609375 \nL 22.21875 47.015625 \nL 5.8125 37.109375 \nL 2.984375 41.890625 \nL 20.515625 51.421875 \nL 2.984375 60.890625 \nL 5.8125 65.71875 \nL 22.21875 55.8125 \nL 22.21875 74.21875 \nL 27.78125 74.21875 \nL 27.78125 55.8125 \nL 44.1875 65.71875 \nz\n\" id=\"DejaVuSans-2a\"/>\n    </defs>\n    <g style=\"fill:#262626;\" transform=\"translate(244.785854 101.517375)scale(0.1 -0.1)\">\n     <use transform=\"translate(0 0.765625)\" xlink:href=\"#DejaVuSans-Oblique-6b\"/>\n     <use transform=\"translate(78.99556 39.046875)scale(0.7)\" xlink:href=\"#DejaVuSans-2a\"/>\n    </g>\n   </g>\n   <g id=\"text_20\">\n    <!-- Transition curve -->\n    <defs>\n     <path d=\"M 25.921875 0 \nL 25.921875 63.140625 \nL 2.34375 63.140625 \nL 2.34375 71.578125 \nL 59.078125 71.578125 \nL 59.078125 63.140625 \nL 35.40625 63.140625 \nL 35.40625 0 \nz\n\" id=\"ArialMT-54\"/>\n     <path d=\"M 6.5 0 \nL 6.5 51.859375 \nL 14.40625 51.859375 \nL 14.40625 44 \nQ 17.4375 49.515625 20 51.265625 \nQ 22.5625 53.03125 25.640625 53.03125 \nQ 30.078125 53.03125 34.671875 50.203125 \nL 31.640625 42.046875 \nQ 28.421875 43.953125 25.203125 43.953125 \nQ 22.3125 43.953125 20.015625 42.21875 \nQ 17.71875 40.484375 16.75 37.40625 \nQ 15.28125 32.71875 15.28125 27.15625 \nL 15.28125 0 \nz\n\" id=\"ArialMT-72\"/>\n     <path d=\"M 40.4375 6.390625 \nQ 35.546875 2.25 31.03125 0.53125 \nQ 26.515625 -1.171875 21.34375 -1.171875 \nQ 12.796875 -1.171875 8.203125 3 \nQ 3.609375 7.171875 3.609375 13.671875 \nQ 3.609375 17.484375 5.34375 20.625 \nQ 7.078125 23.78125 9.890625 25.6875 \nQ 12.703125 27.59375 16.21875 28.5625 \nQ 18.796875 29.25 24.03125 29.890625 \nQ 34.671875 31.15625 39.703125 32.90625 \nQ 39.75 34.71875 39.75 35.203125 \nQ 39.75 40.578125 37.25 42.78125 \nQ 33.890625 45.75 27.25 45.75 \nQ 21.046875 45.75 18.09375 43.578125 \nQ 15.140625 41.40625 13.71875 35.890625 \nL 5.125 37.0625 \nQ 6.296875 42.578125 8.984375 45.96875 \nQ 11.671875 49.359375 16.75 51.1875 \nQ 21.828125 53.03125 28.515625 53.03125 \nQ 35.15625 53.03125 39.296875 51.46875 \nQ 43.453125 49.90625 45.40625 47.53125 \nQ 47.359375 45.171875 48.140625 41.546875 \nQ 48.578125 39.3125 48.578125 33.453125 \nL 48.578125 21.734375 \nQ 48.578125 9.46875 49.140625 6.21875 \nQ 49.703125 2.984375 51.375 0 \nL 42.1875 0 \nQ 40.828125 2.734375 40.4375 6.390625 \nz\nM 39.703125 26.03125 \nQ 34.90625 24.078125 25.34375 22.703125 \nQ 19.921875 21.921875 17.671875 20.9375 \nQ 15.4375 19.96875 14.203125 18.09375 \nQ 12.984375 16.21875 12.984375 13.921875 \nQ 12.984375 10.40625 15.640625 8.0625 \nQ 18.3125 5.71875 23.4375 5.71875 \nQ 28.515625 5.71875 32.46875 7.9375 \nQ 36.421875 10.15625 38.28125 14.015625 \nQ 39.703125 17 39.703125 22.796875 \nz\n\" id=\"ArialMT-61\"/>\n     <path d=\"M 6.59375 0 \nL 6.59375 51.859375 \nL 14.5 51.859375 \nL 14.5 44.484375 \nQ 20.21875 53.03125 31 53.03125 \nQ 35.6875 53.03125 39.625 51.34375 \nQ 43.5625 49.65625 45.515625 46.921875 \nQ 47.46875 44.1875 48.25 40.4375 \nQ 48.734375 37.984375 48.734375 31.890625 \nL 48.734375 0 \nL 39.9375 0 \nL 39.9375 31.546875 \nQ 39.9375 36.921875 38.90625 39.578125 \nQ 37.890625 42.234375 35.28125 43.8125 \nQ 32.671875 45.40625 29.15625 45.40625 \nQ 23.53125 45.40625 19.453125 41.84375 \nQ 15.375 38.28125 15.375 28.328125 \nL 15.375 0 \nz\n\" id=\"ArialMT-6e\"/>\n     <path d=\"M 3.078125 15.484375 \nL 11.765625 16.84375 \nQ 12.5 11.625 15.84375 8.84375 \nQ 19.1875 6.0625 25.203125 6.0625 \nQ 31.25 6.0625 34.171875 8.515625 \nQ 37.109375 10.984375 37.109375 14.3125 \nQ 37.109375 17.28125 34.515625 19 \nQ 32.71875 20.171875 25.53125 21.96875 \nQ 15.875 24.421875 12.140625 26.203125 \nQ 8.40625 27.984375 6.46875 31.125 \nQ 4.546875 34.28125 4.546875 38.09375 \nQ 4.546875 41.546875 6.125 44.5 \nQ 7.71875 47.46875 10.453125 49.421875 \nQ 12.5 50.921875 16.03125 51.96875 \nQ 19.578125 53.03125 23.640625 53.03125 \nQ 29.734375 53.03125 34.34375 51.265625 \nQ 38.96875 49.515625 41.15625 46.5 \nQ 43.359375 43.5 44.1875 38.484375 \nL 35.59375 37.3125 \nQ 35.015625 41.3125 32.203125 43.546875 \nQ 29.390625 45.796875 24.265625 45.796875 \nQ 18.21875 45.796875 15.625 43.796875 \nQ 13.03125 41.796875 13.03125 39.109375 \nQ 13.03125 37.40625 14.109375 36.03125 \nQ 15.1875 34.625 17.484375 33.6875 \nQ 18.796875 33.203125 25.25 31.453125 \nQ 34.578125 28.953125 38.25 27.359375 \nQ 41.9375 25.78125 44.03125 22.75 \nQ 46.140625 19.734375 46.140625 15.234375 \nQ 46.140625 10.84375 43.578125 6.953125 \nQ 41.015625 3.078125 36.171875 0.953125 \nQ 31.34375 -1.171875 25.25 -1.171875 \nQ 15.140625 -1.171875 9.84375 3.03125 \nQ 4.546875 7.234375 3.078125 15.484375 \nz\n\" id=\"ArialMT-73\"/>\n     <path d=\"M 6.640625 61.46875 \nL 6.640625 71.578125 \nL 15.4375 71.578125 \nL 15.4375 61.46875 \nz\nM 6.640625 0 \nL 6.640625 51.859375 \nL 15.4375 51.859375 \nL 15.4375 0 \nz\n\" id=\"ArialMT-69\"/>\n     <path d=\"M 25.78125 7.859375 \nL 27.046875 0.09375 \nQ 23.34375 -0.6875 20.40625 -0.6875 \nQ 15.625 -0.6875 12.984375 0.828125 \nQ 10.359375 2.34375 9.28125 4.8125 \nQ 8.203125 7.28125 8.203125 15.1875 \nL 8.203125 45.015625 \nL 1.765625 45.015625 \nL 1.765625 51.859375 \nL 8.203125 51.859375 \nL 8.203125 64.703125 \nL 16.9375 69.96875 \nL 16.9375 51.859375 \nL 25.78125 51.859375 \nL 25.78125 45.015625 \nL 16.9375 45.015625 \nL 16.9375 14.703125 \nQ 16.9375 10.9375 17.40625 9.859375 \nQ 17.875 8.796875 18.921875 8.15625 \nQ 19.96875 7.515625 21.921875 7.515625 \nQ 23.390625 7.515625 25.78125 7.859375 \nz\n\" id=\"ArialMT-74\"/>\n     <path d=\"M 3.328125 25.921875 \nQ 3.328125 40.328125 11.328125 47.265625 \nQ 18.015625 53.03125 27.640625 53.03125 \nQ 38.328125 53.03125 45.109375 46.015625 \nQ 51.90625 39.015625 51.90625 26.65625 \nQ 51.90625 16.65625 48.90625 10.90625 \nQ 45.90625 5.171875 40.15625 2 \nQ 34.421875 -1.171875 27.640625 -1.171875 \nQ 16.75 -1.171875 10.03125 5.8125 \nQ 3.328125 12.796875 3.328125 25.921875 \nz\nM 12.359375 25.921875 \nQ 12.359375 15.96875 16.703125 11.015625 \nQ 21.046875 6.0625 27.640625 6.0625 \nQ 34.1875 6.0625 38.53125 11.03125 \nQ 42.875 16.015625 42.875 26.21875 \nQ 42.875 35.84375 38.5 40.796875 \nQ 34.125 45.75 27.640625 45.75 \nQ 21.046875 45.75 16.703125 40.8125 \nQ 12.359375 35.890625 12.359375 25.921875 \nz\n\" id=\"ArialMT-6f\"/>\n     <path id=\"ArialMT-20\"/>\n     <path d=\"M 40.4375 19 \nL 49.078125 17.875 \nQ 47.65625 8.9375 41.8125 3.875 \nQ 35.984375 -1.171875 27.484375 -1.171875 \nQ 16.84375 -1.171875 10.375 5.78125 \nQ 3.90625 12.75 3.90625 25.734375 \nQ 3.90625 34.125 6.6875 40.421875 \nQ 9.46875 46.734375 15.15625 49.875 \nQ 20.84375 53.03125 27.546875 53.03125 \nQ 35.984375 53.03125 41.359375 48.75 \nQ 46.734375 44.484375 48.25 36.625 \nL 39.703125 35.296875 \nQ 38.484375 40.53125 35.375 43.15625 \nQ 32.28125 45.796875 27.875 45.796875 \nQ 21.234375 45.796875 17.078125 41.03125 \nQ 12.9375 36.28125 12.9375 25.984375 \nQ 12.9375 15.53125 16.9375 10.796875 \nQ 20.953125 6.0625 27.390625 6.0625 \nQ 32.5625 6.0625 36.03125 9.234375 \nQ 39.5 12.40625 40.4375 19 \nz\n\" id=\"ArialMT-63\"/>\n     <path d=\"M 40.578125 0 \nL 40.578125 7.625 \nQ 34.515625 -1.171875 24.125 -1.171875 \nQ 19.53125 -1.171875 15.546875 0.578125 \nQ 11.578125 2.34375 9.640625 5 \nQ 7.71875 7.671875 6.9375 11.53125 \nQ 6.390625 14.109375 6.390625 19.734375 \nL 6.390625 51.859375 \nL 15.1875 51.859375 \nL 15.1875 23.09375 \nQ 15.1875 16.21875 15.71875 13.8125 \nQ 16.546875 10.359375 19.234375 8.375 \nQ 21.921875 6.390625 25.875 6.390625 \nQ 29.828125 6.390625 33.296875 8.421875 \nQ 36.765625 10.453125 38.203125 13.9375 \nQ 39.65625 17.4375 39.65625 24.078125 \nL 39.65625 51.859375 \nL 48.4375 51.859375 \nL 48.4375 0 \nz\n\" id=\"ArialMT-75\"/>\n     <path d=\"M 21 0 \nL 1.265625 51.859375 \nL 10.546875 51.859375 \nL 21.6875 20.796875 \nQ 23.484375 15.765625 25 10.359375 \nQ 26.171875 14.453125 28.265625 20.21875 \nL 39.796875 51.859375 \nL 48.828125 51.859375 \nL 29.203125 0 \nz\n\" id=\"ArialMT-76\"/>\n     <path d=\"M 42.09375 16.703125 \nL 51.171875 15.578125 \nQ 49.03125 7.625 43.21875 3.21875 \nQ 37.40625 -1.171875 28.375 -1.171875 \nQ 17 -1.171875 10.328125 5.828125 \nQ 3.65625 12.84375 3.65625 25.484375 \nQ 3.65625 38.578125 10.390625 45.796875 \nQ 17.140625 53.03125 27.875 53.03125 \nQ 38.28125 53.03125 44.875 45.953125 \nQ 51.46875 38.875 51.46875 26.03125 \nQ 51.46875 25.25 51.421875 23.6875 \nL 12.75 23.6875 \nQ 13.234375 15.140625 17.578125 10.59375 \nQ 21.921875 6.0625 28.421875 6.0625 \nQ 33.25 6.0625 36.671875 8.59375 \nQ 40.09375 11.140625 42.09375 16.703125 \nz\nM 13.234375 30.90625 \nL 42.1875 30.90625 \nQ 41.609375 37.453125 38.875 40.71875 \nQ 34.671875 45.796875 27.984375 45.796875 \nQ 21.921875 45.796875 17.796875 41.75 \nQ 13.671875 37.703125 13.234375 30.90625 \nz\n\" id=\"ArialMT-65\"/>\n    </defs>\n    <g style=\"fill:#262626;\" transform=\"translate(168.184063 15.789375)scale(0.12 -0.12)\">\n     <use xlink:href=\"#ArialMT-54\"/>\n     <use x=\"61.037109\" xlink:href=\"#ArialMT-72\"/>\n     <use x=\"94.337891\" xlink:href=\"#ArialMT-61\"/>\n     <use x=\"149.953125\" xlink:href=\"#ArialMT-6e\"/>\n     <use x=\"205.568359\" xlink:href=\"#ArialMT-73\"/>\n     <use x=\"255.568359\" xlink:href=\"#ArialMT-69\"/>\n     <use x=\"277.785156\" xlink:href=\"#ArialMT-74\"/>\n     <use x=\"305.568359\" xlink:href=\"#ArialMT-69\"/>\n     <use x=\"327.785156\" xlink:href=\"#ArialMT-6f\"/>\n     <use x=\"383.400391\" xlink:href=\"#ArialMT-6e\"/>\n     <use x=\"439.015625\" xlink:href=\"#ArialMT-20\"/>\n     <use x=\"466.798828\" xlink:href=\"#ArialMT-63\"/>\n     <use x=\"516.798828\" xlink:href=\"#ArialMT-75\"/>\n     <use x=\"572.414062\" xlink:href=\"#ArialMT-72\"/>\n     <use x=\"605.714844\" xlink:href=\"#ArialMT-76\"/>\n     <use x=\"655.714844\" xlink:href=\"#ArialMT-65\"/>\n    </g>\n   </g>\n  </g>\n </g>\n <defs>\n  <clipPath id=\"p592d7b633e\">\n   <rect height=\"217.44\" width=\"334.8\" x=\"43.460938\" y=\"21.789375\"/>\n  </clipPath>\n </defs>\n</svg>\n",
      "image/png": "[encoded data removed]"
     },
     "metadata": {
      "needs_background": "light"
     }
    }
   ],
   "source": [
    "# Call transition curve function\n",
    "capital_1,capital_2 = transition_curve(alpha,rho,n)\n",
    "\n",
    "# Plot\n",
    "fig = plt.figure()\n",
    "ax = fig.add_subplot(1,1,1)\n",
    "ax.plot(capital_1,capital_2)\n",
    "ax.plot(capital_1,capital_1, '--', color='grey')\n",
    "plt.text(0.26,0.19,'$k_t+1$')\n",
    "plt.text(0.27,0.25,'$k_t=k_t+1$')\n",
    "plt.text(0.18,0.19,'$k^*$')\n",
    "ax.set_xlabel('$k_t$')\n",
    "ax.set_ylabel('$k_t+1$')\n",
    "ax.set_title('Transition curve')\n",
    "ax.set_xlim([-0.001,0.3])\n",
    "ax.set_ylim([0,0.3]);"
   ]
  },
  {
   "cell_type": "markdown",
   "metadata": {},
   "source": [
    "The transition curve and the 45 degrees curve representing $k_t+1 = k_t$ intersect at the steady state level of capital $k^*$."
   ]
  },
  {
   "cell_type": "markdown",
   "metadata": {},
   "source": [
    "## Dynamics CRRA utility"
   ]
  },
  {
   "cell_type": "markdown",
   "metadata": {},
   "source": [
    "We now introduce CRRA utility, where $u(c)$ is given by the CRRA utility function: \n",
    "\n",
    "\\begin{equation}\n",
    "  u(c)=\\begin{cases}\n",
    "    \\frac{c^{1-\\sigma}-1}{1-\\sigma} , & \\sigma ≠ 1 \\\\\n",
    "    log c, & \\sigma = 1\n",
    "  \\end{cases}\n",
    "\\end{equation}\n",
    "\n",
    "This imply that the Euler equation is given by: \n",
    "\n",
    "$$ c_{2t+1} = (\\frac{1+r_{t+1}}{1+\\rho})^\\frac{1}{\\sigma} c_{1t} $$\n",
    "\n",
    "Inserting the budget constraint and solve for s, optimal savings is given by: \n",
    "\n",
    "$$ s_t = \\frac{1}{(1+r_{t+1})^\\frac{\\sigma-1}{\\sigma}(1+\\rho)^\\frac{1}{\\sigma} +1} w_t $$\n",
    "\n",
    "where the wage and the interest rate is given by: \n",
    "\n",
    "$$ w_t = (1-\\alpha)k_t^\\alpha $$\n",
    "\n",
    "$$ r_{t+1} = \\alpha k^{\\alpha-1} $$\n",
    "\n"
   ]
  },
  {
   "cell_type": "markdown",
   "metadata": {},
   "source": [
    "We now want to see how the transitionscurve behaves for different values of $\\sigma$. "
   ]
  },
  {
   "cell_type": "code",
   "execution_count": 133,
   "metadata": {},
   "outputs": [
    {
     "output_type": "display_data",
     "data": {
      "text/plain": "<Figure size 432x288 with 1 Axes>",
      "image/svg+xml": "<?xml version=\"1.0\" encoding=\"utf-8\" standalone=\"no\"?>\n<!DOCTYPE svg PUBLIC \"-//W3C//DTD SVG 1.1//EN\"\n  \"http://www.w3.org/Graphics/SVG/1.1/DTD/svg11.dtd\">\n<!-- Created with matplotlib (http://matplotlib.org/) -->\n<svg height=\"272.374687pt\" version=\"1.1\" viewBox=\"0 0 386.85 272.374687\" width=\"386.85pt\" xmlns=\"http://www.w3.org/2000/svg\" xmlns:xlink=\"http://www.w3.org/1999/xlink\">\n <defs>\n  <style type=\"text/css\">\n*{stroke-linecap:butt;stroke-linejoin:round;}\n  </style>\n </defs>\n <g id=\"figure_1\">\n  <g id=\"patch_1\">\n   <path d=\"M 0 272.374687 \nL 386.85 272.374687 \nL 386.85 0 \nL 0 0 \nz\n\" style=\"fill:none;\"/>\n  </g>\n  <g id=\"axes_1\">\n   <g id=\"patch_2\">\n    <path d=\"M 37.9 239.229375 \nL 372.7 239.229375 \nL 372.7 21.789375 \nL 37.9 21.789375 \nz\n\" style=\"fill:#ffffff;\"/>\n   </g>\n   <g id=\"matplotlib.axis_1\">\n    <g id=\"xtick_1\">\n     <g id=\"line2d_1\">\n      <path clip-path=\"url(#p260f1fe066)\" d=\"M 38.568263 239.229375 \nL 38.568263 21.789375 \n\" style=\"fill:none;stroke:#cccccc;stroke-linecap:round;stroke-width:0.8;\"/>\n     </g>\n     <g id=\"line2d_2\"/>\n     <g id=\"text_1\">\n      <!-- 0.0 -->\n      <defs>\n       <path d=\"M 4.15625 35.296875 \nQ 4.15625 48 6.765625 55.734375 \nQ 9.375 63.484375 14.515625 67.671875 \nQ 19.671875 71.875 27.484375 71.875 \nQ 33.25 71.875 37.59375 69.546875 \nQ 41.9375 67.234375 44.765625 62.859375 \nQ 47.609375 58.5 49.21875 52.21875 \nQ 50.828125 45.953125 50.828125 35.296875 \nQ 50.828125 22.703125 48.234375 14.96875 \nQ 45.65625 7.234375 40.5 3 \nQ 35.359375 -1.21875 27.484375 -1.21875 \nQ 17.140625 -1.21875 11.234375 6.203125 \nQ 4.15625 15.140625 4.15625 35.296875 \nz\nM 13.1875 35.296875 \nQ 13.1875 17.671875 17.3125 11.828125 \nQ 21.4375 6 27.484375 6 \nQ 33.546875 6 37.671875 11.859375 \nQ 41.796875 17.71875 41.796875 35.296875 \nQ 41.796875 52.984375 37.671875 58.78125 \nQ 33.546875 64.59375 27.390625 64.59375 \nQ 21.34375 64.59375 17.71875 59.46875 \nQ 13.1875 52.9375 13.1875 35.296875 \nz\n\" id=\"ArialMT-30\"/>\n       <path d=\"M 9.078125 0 \nL 9.078125 10.015625 \nL 19.09375 10.015625 \nL 19.09375 0 \nz\n\" id=\"ArialMT-2e\"/>\n      </defs>\n      <g style=\"fill:#262626;\" transform=\"translate(31.618263 249.887187)scale(0.1 -0.1)\">\n       <use xlink:href=\"#ArialMT-30\"/>\n       <use x=\"55.615234\" xlink:href=\"#ArialMT-2e\"/>\n       <use x=\"83.398438\" xlink:href=\"#ArialMT-30\"/>\n      </g>\n     </g>\n    </g>\n    <g id=\"xtick_2\">\n     <g id=\"line2d_3\">\n      <path clip-path=\"url(#p260f1fe066)\" d=\"M 105.394611 239.229375 \nL 105.394611 21.789375 \n\" style=\"fill:none;stroke:#cccccc;stroke-linecap:round;stroke-width:0.8;\"/>\n     </g>\n     <g id=\"line2d_4\"/>\n     <g id=\"text_2\">\n      <!-- 0.1 -->\n      <defs>\n       <path d=\"M 37.25 0 \nL 28.46875 0 \nL 28.46875 56 \nQ 25.296875 52.984375 20.140625 49.953125 \nQ 14.984375 46.921875 10.890625 45.40625 \nL 10.890625 53.90625 \nQ 18.265625 57.375 23.78125 62.296875 \nQ 29.296875 67.234375 31.59375 71.875 \nL 37.25 71.875 \nz\n\" id=\"ArialMT-31\"/>\n      </defs>\n      <g style=\"fill:#262626;\" transform=\"translate(98.444611 249.887187)scale(0.1 -0.1)\">\n       <use xlink:href=\"#ArialMT-30\"/>\n       <use x=\"55.615234\" xlink:href=\"#ArialMT-2e\"/>\n       <use x=\"83.398438\" xlink:href=\"#ArialMT-31\"/>\n      </g>\n     </g>\n    </g>\n    <g id=\"xtick_3\">\n     <g id=\"line2d_5\">\n      <path clip-path=\"url(#p260f1fe066)\" d=\"M 172.220958 239.229375 \nL 172.220958 21.789375 \n\" style=\"fill:none;stroke:#cccccc;stroke-linecap:round;stroke-width:0.8;\"/>\n     </g>\n     <g id=\"line2d_6\"/>\n     <g id=\"text_3\">\n      <!-- 0.2 -->\n      <defs>\n       <path d=\"M 50.34375 8.453125 \nL 50.34375 0 \nL 3.03125 0 \nQ 2.9375 3.171875 4.046875 6.109375 \nQ 5.859375 10.9375 9.828125 15.625 \nQ 13.8125 20.3125 21.34375 26.46875 \nQ 33.015625 36.03125 37.109375 41.625 \nQ 41.21875 47.21875 41.21875 52.203125 \nQ 41.21875 57.421875 37.46875 61 \nQ 33.734375 64.59375 27.734375 64.59375 \nQ 21.390625 64.59375 17.578125 60.78125 \nQ 13.765625 56.984375 13.71875 50.25 \nL 4.6875 51.171875 \nQ 5.609375 61.28125 11.65625 66.578125 \nQ 17.71875 71.875 27.9375 71.875 \nQ 38.234375 71.875 44.234375 66.15625 \nQ 50.25 60.453125 50.25 52 \nQ 50.25 47.703125 48.484375 43.546875 \nQ 46.734375 39.40625 42.65625 34.8125 \nQ 38.578125 30.21875 29.109375 22.21875 \nQ 21.1875 15.578125 18.9375 13.203125 \nQ 16.703125 10.84375 15.234375 8.453125 \nz\n\" id=\"ArialMT-32\"/>\n      </defs>\n      <g style=\"fill:#262626;\" transform=\"translate(165.270958 249.887187)scale(0.1 -0.1)\">\n       <use xlink:href=\"#ArialMT-30\"/>\n       <use x=\"55.615234\" xlink:href=\"#ArialMT-2e\"/>\n       <use x=\"83.398438\" xlink:href=\"#ArialMT-32\"/>\n      </g>\n     </g>\n    </g>\n    <g id=\"xtick_4\">\n     <g id=\"line2d_7\">\n      <path clip-path=\"url(#p260f1fe066)\" d=\"M 239.047305 239.229375 \nL 239.047305 21.789375 \n\" style=\"fill:none;stroke:#cccccc;stroke-linecap:round;stroke-width:0.8;\"/>\n     </g>\n     <g id=\"line2d_8\"/>\n     <g id=\"text_4\">\n      <!-- 0.3 -->\n      <defs>\n       <path d=\"M 4.203125 18.890625 \nL 12.984375 20.0625 \nQ 14.5 12.59375 18.140625 9.296875 \nQ 21.78125 6 27 6 \nQ 33.203125 6 37.46875 10.296875 \nQ 41.75 14.59375 41.75 20.953125 \nQ 41.75 27 37.796875 30.921875 \nQ 33.84375 34.859375 27.734375 34.859375 \nQ 25.25 34.859375 21.53125 33.890625 \nL 22.515625 41.609375 \nQ 23.390625 41.5 23.921875 41.5 \nQ 29.546875 41.5 34.03125 44.421875 \nQ 38.53125 47.359375 38.53125 53.46875 \nQ 38.53125 58.296875 35.25 61.46875 \nQ 31.984375 64.65625 26.8125 64.65625 \nQ 21.6875 64.65625 18.265625 61.421875 \nQ 14.84375 58.203125 13.875 51.765625 \nL 5.078125 53.328125 \nQ 6.6875 62.15625 12.390625 67.015625 \nQ 18.109375 71.875 26.609375 71.875 \nQ 32.46875 71.875 37.390625 69.359375 \nQ 42.328125 66.84375 44.9375 62.5 \nQ 47.5625 58.15625 47.5625 53.265625 \nQ 47.5625 48.640625 45.0625 44.828125 \nQ 42.578125 41.015625 37.703125 38.765625 \nQ 44.046875 37.3125 47.5625 32.6875 \nQ 51.078125 28.078125 51.078125 21.140625 \nQ 51.078125 11.765625 44.234375 5.25 \nQ 37.40625 -1.265625 26.953125 -1.265625 \nQ 17.53125 -1.265625 11.296875 4.34375 \nQ 5.078125 9.96875 4.203125 18.890625 \nz\n\" id=\"ArialMT-33\"/>\n      </defs>\n      <g style=\"fill:#262626;\" transform=\"translate(232.097305 249.887187)scale(0.1 -0.1)\">\n       <use xlink:href=\"#ArialMT-30\"/>\n       <use x=\"55.615234\" xlink:href=\"#ArialMT-2e\"/>\n       <use x=\"83.398438\" xlink:href=\"#ArialMT-33\"/>\n      </g>\n     </g>\n    </g>\n    <g id=\"xtick_5\">\n     <g id=\"line2d_9\">\n      <path clip-path=\"url(#p260f1fe066)\" d=\"M 305.873653 239.229375 \nL 305.873653 21.789375 \n\" style=\"fill:none;stroke:#cccccc;stroke-linecap:round;stroke-width:0.8;\"/>\n     </g>\n     <g id=\"line2d_10\"/>\n     <g id=\"text_5\">\n      <!-- 0.4 -->\n      <defs>\n       <path d=\"M 32.328125 0 \nL 32.328125 17.140625 \nL 1.265625 17.140625 \nL 1.265625 25.203125 \nL 33.9375 71.578125 \nL 41.109375 71.578125 \nL 41.109375 25.203125 \nL 50.78125 25.203125 \nL 50.78125 17.140625 \nL 41.109375 17.140625 \nL 41.109375 0 \nz\nM 32.328125 25.203125 \nL 32.328125 57.46875 \nL 9.90625 25.203125 \nz\n\" id=\"ArialMT-34\"/>\n      </defs>\n      <g style=\"fill:#262626;\" transform=\"translate(298.923653 249.887187)scale(0.1 -0.1)\">\n       <use xlink:href=\"#ArialMT-30\"/>\n       <use x=\"55.615234\" xlink:href=\"#ArialMT-2e\"/>\n       <use x=\"83.398438\" xlink:href=\"#ArialMT-34\"/>\n      </g>\n     </g>\n    </g>\n    <g id=\"xtick_6\">\n     <g id=\"line2d_11\">\n      <path clip-path=\"url(#p260f1fe066)\" d=\"M 372.7 239.229375 \nL 372.7 21.789375 \n\" style=\"fill:none;stroke:#cccccc;stroke-linecap:round;stroke-width:0.8;\"/>\n     </g>\n     <g id=\"line2d_12\"/>\n     <g id=\"text_6\">\n      <!-- 0.5 -->\n      <defs>\n       <path d=\"M 4.15625 18.75 \nL 13.375 19.53125 \nQ 14.40625 12.796875 18.140625 9.390625 \nQ 21.875 6 27.15625 6 \nQ 33.5 6 37.890625 10.78125 \nQ 42.28125 15.578125 42.28125 23.484375 \nQ 42.28125 31 38.0625 35.34375 \nQ 33.84375 39.703125 27 39.703125 \nQ 22.75 39.703125 19.328125 37.765625 \nQ 15.921875 35.84375 13.96875 32.765625 \nL 5.71875 33.84375 \nL 12.640625 70.609375 \nL 48.25 70.609375 \nL 48.25 62.203125 \nL 19.671875 62.203125 \nL 15.828125 42.96875 \nQ 22.265625 47.46875 29.34375 47.46875 \nQ 38.71875 47.46875 45.15625 40.96875 \nQ 51.609375 34.46875 51.609375 24.265625 \nQ 51.609375 14.546875 45.953125 7.46875 \nQ 39.0625 -1.21875 27.15625 -1.21875 \nQ 17.390625 -1.21875 11.203125 4.25 \nQ 5.03125 9.71875 4.15625 18.75 \nz\n\" id=\"ArialMT-35\"/>\n      </defs>\n      <g style=\"fill:#262626;\" transform=\"translate(365.75 249.887187)scale(0.1 -0.1)\">\n       <use xlink:href=\"#ArialMT-30\"/>\n       <use x=\"55.615234\" xlink:href=\"#ArialMT-2e\"/>\n       <use x=\"83.398438\" xlink:href=\"#ArialMT-35\"/>\n      </g>\n     </g>\n    </g>\n    <g id=\"text_7\">\n     <!-- $k_t$ -->\n     <defs>\n      <path d=\"M 18.3125 75.984375 \nL 27.296875 75.984375 \nL 18.703125 31.6875 \nL 49.515625 54.6875 \nL 61.1875 54.6875 \nL 26.8125 28.515625 \nL 51.90625 0 \nL 41.015625 0 \nL 17.671875 26.703125 \nL 12.5 0 \nL 3.515625 0 \nz\n\" id=\"DejaVuSans-Oblique-6b\"/>\n      <path d=\"M 42.28125 54.6875 \nL 40.921875 47.703125 \nL 23 47.703125 \nL 17.1875 18.015625 \nQ 16.890625 16.359375 16.75 15.234375 \nQ 16.609375 14.109375 16.609375 13.484375 \nQ 16.609375 10.359375 18.484375 8.9375 \nQ 20.359375 7.515625 24.515625 7.515625 \nL 33.59375 7.515625 \nL 32.078125 0 \nL 23.484375 0 \nQ 15.484375 0 11.546875 3.125 \nQ 7.625 6.25 7.625 12.59375 \nQ 7.625 13.71875 7.765625 15.0625 \nQ 7.90625 16.40625 8.203125 18.015625 \nL 14.015625 47.703125 \nL 6.390625 47.703125 \nL 7.8125 54.6875 \nL 15.28125 54.6875 \nL 18.3125 70.21875 \nL 27.296875 70.21875 \nL 24.3125 54.6875 \nz\n\" id=\"DejaVuSans-Oblique-74\"/>\n     </defs>\n     <g style=\"fill:#262626;\" transform=\"translate(200.85 263.187187)scale(0.1 -0.1)\">\n      <use transform=\"translate(0 0.015625)\" xlink:href=\"#DejaVuSans-Oblique-6b\"/>\n      <use transform=\"translate(57.910156 -16.390625)scale(0.7)\" xlink:href=\"#DejaVuSans-Oblique-74\"/>\n     </g>\n    </g>\n   </g>\n   <g id=\"matplotlib.axis_2\">\n    <g id=\"ytick_1\">\n     <g id=\"line2d_13\">\n      <path clip-path=\"url(#p260f1fe066)\" d=\"M 37.9 239.229375 \nL 372.7 239.229375 \n\" style=\"fill:none;stroke:#cccccc;stroke-linecap:round;stroke-width:0.8;\"/>\n     </g>\n     <g id=\"line2d_14\"/>\n     <g id=\"text_8\">\n      <!-- 0.0 -->\n      <g style=\"fill:#262626;\" transform=\"translate(20.5 242.808281)scale(0.1 -0.1)\">\n       <use xlink:href=\"#ArialMT-30\"/>\n       <use x=\"55.615234\" xlink:href=\"#ArialMT-2e\"/>\n       <use x=\"83.398438\" xlink:href=\"#ArialMT-30\"/>\n      </g>\n     </g>\n    </g>\n    <g id=\"ytick_2\">\n     <g id=\"line2d_15\">\n      <path clip-path=\"url(#p260f1fe066)\" d=\"M 37.9 195.741375 \nL 372.7 195.741375 \n\" style=\"fill:none;stroke:#cccccc;stroke-linecap:round;stroke-width:0.8;\"/>\n     </g>\n     <g id=\"line2d_16\"/>\n     <g id=\"text_9\">\n      <!-- 0.1 -->\n      <g style=\"fill:#262626;\" transform=\"translate(20.5 199.320281)scale(0.1 -0.1)\">\n       <use xlink:href=\"#ArialMT-30\"/>\n       <use x=\"55.615234\" xlink:href=\"#ArialMT-2e\"/>\n       <use x=\"83.398438\" xlink:href=\"#ArialMT-31\"/>\n      </g>\n     </g>\n    </g>\n    <g id=\"ytick_3\">\n     <g id=\"line2d_17\">\n      <path clip-path=\"url(#p260f1fe066)\" d=\"M 37.9 152.253375 \nL 372.7 152.253375 \n\" style=\"fill:none;stroke:#cccccc;stroke-linecap:round;stroke-width:0.8;\"/>\n     </g>\n     <g id=\"line2d_18\"/>\n     <g id=\"text_10\">\n      <!-- 0.2 -->\n      <g style=\"fill:#262626;\" transform=\"translate(20.5 155.832281)scale(0.1 -0.1)\">\n       <use xlink:href=\"#ArialMT-30\"/>\n       <use x=\"55.615234\" xlink:href=\"#ArialMT-2e\"/>\n       <use x=\"83.398438\" xlink:href=\"#ArialMT-32\"/>\n      </g>\n     </g>\n    </g>\n    <g id=\"ytick_4\">\n     <g id=\"line2d_19\">\n      <path clip-path=\"url(#p260f1fe066)\" d=\"M 37.9 108.765375 \nL 372.7 108.765375 \n\" style=\"fill:none;stroke:#cccccc;stroke-linecap:round;stroke-width:0.8;\"/>\n     </g>\n     <g id=\"line2d_20\"/>\n     <g id=\"text_11\">\n      <!-- 0.3 -->\n      <g style=\"fill:#262626;\" transform=\"translate(20.5 112.344281)scale(0.1 -0.1)\">\n       <use xlink:href=\"#ArialMT-30\"/>\n       <use x=\"55.615234\" xlink:href=\"#ArialMT-2e\"/>\n       <use x=\"83.398438\" xlink:href=\"#ArialMT-33\"/>\n      </g>\n     </g>\n    </g>\n    <g id=\"ytick_5\">\n     <g id=\"line2d_21\">\n      <path clip-path=\"url(#p260f1fe066)\" d=\"M 37.9 65.277375 \nL 372.7 65.277375 \n\" style=\"fill:none;stroke:#cccccc;stroke-linecap:round;stroke-width:0.8;\"/>\n     </g>\n     <g id=\"line2d_22\"/>\n     <g id=\"text_12\">\n      <!-- 0.4 -->\n      <g style=\"fill:#262626;\" transform=\"translate(20.5 68.856281)scale(0.1 -0.1)\">\n       <use xlink:href=\"#ArialMT-30\"/>\n       <use x=\"55.615234\" xlink:href=\"#ArialMT-2e\"/>\n       <use x=\"83.398438\" xlink:href=\"#ArialMT-34\"/>\n      </g>\n     </g>\n    </g>\n    <g id=\"ytick_6\">\n     <g id=\"line2d_23\">\n      <path clip-path=\"url(#p260f1fe066)\" d=\"M 37.9 21.789375 \nL 372.7 21.789375 \n\" style=\"fill:none;stroke:#cccccc;stroke-linecap:round;stroke-width:0.8;\"/>\n     </g>\n     <g id=\"line2d_24\"/>\n     <g id=\"text_13\">\n      <!-- 0.5 -->\n      <g style=\"fill:#262626;\" transform=\"translate(20.5 25.368281)scale(0.1 -0.1)\">\n       <use xlink:href=\"#ArialMT-30\"/>\n       <use x=\"55.615234\" xlink:href=\"#ArialMT-2e\"/>\n       <use x=\"83.398438\" xlink:href=\"#ArialMT-35\"/>\n      </g>\n     </g>\n    </g>\n    <g id=\"text_14\">\n     <!-- $k_t+1$ -->\n     <defs>\n      <path d=\"M 46 62.703125 \nL 46 35.5 \nL 73.1875 35.5 \nL 73.1875 27.203125 \nL 46 27.203125 \nL 46 0 \nL 37.796875 0 \nL 37.796875 27.203125 \nL 10.59375 27.203125 \nL 10.59375 35.5 \nL 37.796875 35.5 \nL 37.796875 62.703125 \nz\n\" id=\"DejaVuSans-2b\"/>\n      <path d=\"M 12.40625 8.296875 \nL 28.515625 8.296875 \nL 28.515625 63.921875 \nL 10.984375 60.40625 \nL 10.984375 69.390625 \nL 28.421875 72.90625 \nL 38.28125 72.90625 \nL 38.28125 8.296875 \nL 54.390625 8.296875 \nL 54.390625 0 \nL 12.40625 0 \nz\n\" id=\"DejaVuSans-31\"/>\n     </defs>\n     <g style=\"fill:#262626;\" transform=\"translate(14.5125 144.259375)rotate(-90)scale(0.1 -0.1)\">\n      <use transform=\"translate(0 0.015625)\" xlink:href=\"#DejaVuSans-Oblique-6b\"/>\n      <use transform=\"translate(57.910156 -16.390625)scale(0.7)\" xlink:href=\"#DejaVuSans-Oblique-74\"/>\n      <use transform=\"translate(107.573242 0.015625)\" xlink:href=\"#DejaVuSans-2b\"/>\n      <use transform=\"translate(210.844727 0.015625)\" xlink:href=\"#DejaVuSans-31\"/>\n     </g>\n    </g>\n   </g>\n   <g id=\"line2d_25\">\n    <path clip-path=\"url(#p260f1fe066)\" d=\"M 38.56827 238.574974 \nL 39.907475 202.46124 \nL 41.246681 193.011376 \nL 42.585886 186.394445 \nL 43.925092 181.132756 \nL 45.264297 176.693227 \nL 46.603502 172.815181 \nL 47.942708 169.349308 \nL 50.621118 163.306804 \nL 53.299529 158.108934 \nL 55.97794 153.511435 \nL 58.65635 149.36656 \nL 61.334761 145.577336 \nL 64.013172 142.076295 \nL 68.030788 137.261218 \nL 72.048404 132.868729 \nL 76.06602 128.817278 \nL 80.083636 125.048002 \nL 85.440457 120.386677 \nL 90.797279 116.072224 \nL 96.1541 112.047749 \nL 101.510921 108.270208 \nL 108.206948 103.845301 \nL 114.902975 99.703884 \nL 121.599001 95.807014 \nL 129.634234 91.410839 \nL 137.669466 87.281165 \nL 145.704698 83.385108 \nL 155.079135 79.100041 \nL 164.453572 75.063449 \nL 173.82801 71.248117 \nL 184.541653 67.130199 \nL 195.255295 63.244753 \nL 207.308143 59.123382 \nL 219.360992 55.240713 \nL 232.753045 51.179405 \nL 246.145098 47.359231 \nL 259.537152 43.758271 \nL 274.268411 40.028049 \nL 288.999669 36.518797 \nL 305.070133 32.920635 \nL 321.140598 29.542104 \nL 338.550267 26.108501 \nL 357.299142 22.651235 \nL 376.048017 19.421348 \nL 387.85 17.495872 \nL 387.85 17.495872 \n\" style=\"fill:none;stroke:#1f77b4;stroke-linecap:round;stroke-width:1.5;\"/>\n   </g>\n   <g id=\"line2d_26\">\n    <path clip-path=\"url(#p260f1fe066)\" d=\"M 38.56827 238.574974 \nL 39.907475 202.461434 \nL 41.246681 193.012778 \nL 42.585886 186.398804 \nL 43.925092 181.142363 \nL 45.264297 176.71079 \nL 46.603502 172.843728 \nL 47.942708 169.392119 \nL 50.621118 163.388709 \nL 53.299529 158.244824 \nL 55.97794 153.716754 \nL 58.65635 149.656959 \nL 61.334761 145.968436 \nL 64.013172 142.583511 \nL 68.030788 137.97077 \nL 72.048404 133.8131 \nL 76.06602 130.02724 \nL 80.083636 126.552477 \nL 84.101252 123.342876 \nL 88.118868 120.362645 \nL 93.475689 116.697221 \nL 98.832511 113.335749 \nL 104.189332 110.236304 \nL 109.546153 107.365333 \nL 116.24218 104.056667 \nL 122.938207 101.019075 \nL 129.634234 98.217458 \nL 137.669466 95.126785 \nL 145.704698 92.293844 \nL 153.73993 89.685313 \nL 163.114367 86.889133 \nL 172.488804 84.324853 \nL 183.202447 81.6402 \nL 193.91609 79.182997 \nL 205.968938 76.65322 \nL 219.360992 74.092762 \nL 232.753045 71.75808 \nL 247.484304 69.412718 \nL 263.554768 67.08117 \nL 280.964437 64.781988 \nL 299.713312 62.52841 \nL 321.140598 60.189525 \nL 343.907088 57.93474 \nL 369.35199 55.646607 \nL 387.85 54.112337 \nL 387.85 54.112337 \n\" style=\"fill:none;stroke:#ff7f0e;stroke-linecap:round;stroke-width:1.5;\"/>\n   </g>\n   <g id=\"line2d_27\">\n    <path clip-path=\"url(#p260f1fe066)\" d=\"M 38.56827 238.574983 \nL 39.907475 204.201183 \nL 41.246681 196.315033 \nL 42.585886 191.14768 \nL 43.925092 187.247397 \nL 45.264297 184.09689 \nL 46.603502 181.446381 \nL 47.942708 179.154632 \nL 49.281913 177.133467 \nL 51.960324 173.684567 \nL 54.638734 170.802586 \nL 57.317145 168.321737 \nL 59.995556 166.139778 \nL 62.673966 164.189126 \nL 66.691582 161.597663 \nL 70.709198 159.315296 \nL 74.726814 157.270857 \nL 80.083636 154.832154 \nL 85.440457 152.649974 \nL 92.136484 150.201144 \nL 98.832511 147.995038 \nL 106.867743 145.598089 \nL 116.24218 143.072309 \nL 125.616617 140.775925 \nL 136.33026 138.374118 \nL 148.383108 135.899131 \nL 161.775162 133.374892 \nL 176.506421 130.818845 \nL 193.91609 128.037669 \nL 212.664965 125.276702 \nL 234.09225 122.361277 \nL 256.858741 119.491777 \nL 282.303643 116.512024 \nL 310.426955 113.448246 \nL 341.228678 110.321126 \nL 374.708811 107.146939 \nL 387.85 105.956557 \nL 387.85 105.956557 \n\" style=\"fill:none;stroke:#2ca02c;stroke-linecap:round;stroke-width:1.5;\"/>\n   </g>\n   <g id=\"line2d_28\">\n    <path clip-path=\"url(#p260f1fe066)\" d=\"M 38.56827 238.591084 \nL 39.907475 212.580986 \nL 41.246681 207.1216 \nL 42.585886 203.473844 \nL 43.925092 200.657032 \nL 45.264297 198.329894 \nL 46.603502 196.32974 \nL 49.281913 192.979607 \nL 51.960324 190.204482 \nL 54.638734 187.8131 \nL 57.317145 185.69826 \nL 61.334761 182.905174 \nL 65.352377 180.44887 \nL 69.369993 178.244547 \nL 74.726814 175.604281 \nL 80.083636 173.228265 \nL 86.779663 170.544374 \nL 93.475689 168.109779 \nL 101.510921 165.446744 \nL 109.546153 163.009134 \nL 118.920591 160.39398 \nL 129.634234 157.649026 \nL 141.687082 154.811794 \nL 155.079135 151.911164 \nL 169.810394 148.969074 \nL 185.880858 146.002061 \nL 203.290527 143.022525 \nL 222.039402 140.039736 \nL 243.466688 136.869059 \nL 266.233179 133.732334 \nL 291.67808 130.46289 \nL 318.462187 127.247716 \nL 347.924704 123.936996 \nL 380.065633 120.553804 \nL 387.85 119.766181 \nL 387.85 119.766181 \n\" style=\"fill:none;stroke:#d62728;stroke-linecap:round;stroke-width:1.5;\"/>\n   </g>\n   <g id=\"line2d_29\">\n    <path clip-path=\"url(#p260f1fe066)\" d=\"M 38.56827 238.910155 \nL 39.907475 221.293699 \nL 41.246681 216.68401 \nL 42.585886 213.456238 \nL 43.925092 210.889561 \nL 45.264297 208.723937 \nL 46.603502 206.832206 \nL 49.281913 203.605857 \nL 51.960324 200.883637 \nL 54.638734 198.505706 \nL 57.317145 196.38051 \nL 61.334761 193.545261 \nL 65.352377 191.028274 \nL 69.369993 188.753107 \nL 74.726814 186.010328 \nL 80.083636 183.527937 \nL 86.779663 180.710379 \nL 93.475689 178.144215 \nL 101.510921 175.328128 \nL 109.546153 172.743701 \nL 118.920591 169.965474 \nL 129.634234 167.044705 \nL 140.347876 164.345981 \nL 152.400724 161.528613 \nL 165.792778 158.623663 \nL 180.524037 155.655995 \nL 196.594501 152.645286 \nL 214.00417 149.606978 \nL 232.753045 146.553121 \nL 254.18033 143.296035 \nL 276.946821 140.065012 \nL 302.391723 136.689949 \nL 329.17583 133.365268 \nL 358.638347 129.937385 \nL 387.85 126.741584 \nL 387.85 126.741584 \n\" style=\"fill:none;stroke:#9467bd;stroke-linecap:round;stroke-width:1.5;\"/>\n   </g>\n   <g id=\"line2d_30\">\n    <path clip-path=\"url(#p260f1fe066)\" d=\"M 38.56827 239.229371 \nL 387.85 11.930341 \nL 387.85 11.930341 \n\" style=\"fill:none;stroke:#808080;stroke-dasharray:5.55,2.4;stroke-dashoffset:0;stroke-width:1.5;\"/>\n   </g>\n   <g id=\"patch_3\">\n    <path d=\"M 37.9 239.229375 \nL 37.9 21.789375 \n\" style=\"fill:none;stroke:#cccccc;stroke-linecap:square;stroke-linejoin:miter;\"/>\n   </g>\n   <g id=\"patch_4\">\n    <path d=\"M 372.7 239.229375 \nL 372.7 21.789375 \n\" style=\"fill:none;stroke:#cccccc;stroke-linecap:square;stroke-linejoin:miter;\"/>\n   </g>\n   <g id=\"patch_5\">\n    <path d=\"M 37.9 239.229375 \nL 372.7 239.229375 \n\" style=\"fill:none;stroke:#cccccc;stroke-linecap:square;stroke-linejoin:miter;\"/>\n   </g>\n   <g id=\"patch_6\">\n    <path d=\"M 37.9 21.789375 \nL 372.7 21.789375 \n\" style=\"fill:none;stroke:#cccccc;stroke-linecap:square;stroke-linejoin:miter;\"/>\n   </g>\n   <g id=\"text_15\">\n    <!-- Transition curve -->\n    <defs>\n     <path d=\"M 25.921875 0 \nL 25.921875 63.140625 \nL 2.34375 63.140625 \nL 2.34375 71.578125 \nL 59.078125 71.578125 \nL 59.078125 63.140625 \nL 35.40625 63.140625 \nL 35.40625 0 \nz\n\" id=\"ArialMT-54\"/>\n     <path d=\"M 6.5 0 \nL 6.5 51.859375 \nL 14.40625 51.859375 \nL 14.40625 44 \nQ 17.4375 49.515625 20 51.265625 \nQ 22.5625 53.03125 25.640625 53.03125 \nQ 30.078125 53.03125 34.671875 50.203125 \nL 31.640625 42.046875 \nQ 28.421875 43.953125 25.203125 43.953125 \nQ 22.3125 43.953125 20.015625 42.21875 \nQ 17.71875 40.484375 16.75 37.40625 \nQ 15.28125 32.71875 15.28125 27.15625 \nL 15.28125 0 \nz\n\" id=\"ArialMT-72\"/>\n     <path d=\"M 40.4375 6.390625 \nQ 35.546875 2.25 31.03125 0.53125 \nQ 26.515625 -1.171875 21.34375 -1.171875 \nQ 12.796875 -1.171875 8.203125 3 \nQ 3.609375 7.171875 3.609375 13.671875 \nQ 3.609375 17.484375 5.34375 20.625 \nQ 7.078125 23.78125 9.890625 25.6875 \nQ 12.703125 27.59375 16.21875 28.5625 \nQ 18.796875 29.25 24.03125 29.890625 \nQ 34.671875 31.15625 39.703125 32.90625 \nQ 39.75 34.71875 39.75 35.203125 \nQ 39.75 40.578125 37.25 42.78125 \nQ 33.890625 45.75 27.25 45.75 \nQ 21.046875 45.75 18.09375 43.578125 \nQ 15.140625 41.40625 13.71875 35.890625 \nL 5.125 37.0625 \nQ 6.296875 42.578125 8.984375 45.96875 \nQ 11.671875 49.359375 16.75 51.1875 \nQ 21.828125 53.03125 28.515625 53.03125 \nQ 35.15625 53.03125 39.296875 51.46875 \nQ 43.453125 49.90625 45.40625 47.53125 \nQ 47.359375 45.171875 48.140625 41.546875 \nQ 48.578125 39.3125 48.578125 33.453125 \nL 48.578125 21.734375 \nQ 48.578125 9.46875 49.140625 6.21875 \nQ 49.703125 2.984375 51.375 0 \nL 42.1875 0 \nQ 40.828125 2.734375 40.4375 6.390625 \nz\nM 39.703125 26.03125 \nQ 34.90625 24.078125 25.34375 22.703125 \nQ 19.921875 21.921875 17.671875 20.9375 \nQ 15.4375 19.96875 14.203125 18.09375 \nQ 12.984375 16.21875 12.984375 13.921875 \nQ 12.984375 10.40625 15.640625 8.0625 \nQ 18.3125 5.71875 23.4375 5.71875 \nQ 28.515625 5.71875 32.46875 7.9375 \nQ 36.421875 10.15625 38.28125 14.015625 \nQ 39.703125 17 39.703125 22.796875 \nz\n\" id=\"ArialMT-61\"/>\n     <path d=\"M 6.59375 0 \nL 6.59375 51.859375 \nL 14.5 51.859375 \nL 14.5 44.484375 \nQ 20.21875 53.03125 31 53.03125 \nQ 35.6875 53.03125 39.625 51.34375 \nQ 43.5625 49.65625 45.515625 46.921875 \nQ 47.46875 44.1875 48.25 40.4375 \nQ 48.734375 37.984375 48.734375 31.890625 \nL 48.734375 0 \nL 39.9375 0 \nL 39.9375 31.546875 \nQ 39.9375 36.921875 38.90625 39.578125 \nQ 37.890625 42.234375 35.28125 43.8125 \nQ 32.671875 45.40625 29.15625 45.40625 \nQ 23.53125 45.40625 19.453125 41.84375 \nQ 15.375 38.28125 15.375 28.328125 \nL 15.375 0 \nz\n\" id=\"ArialMT-6e\"/>\n     <path d=\"M 3.078125 15.484375 \nL 11.765625 16.84375 \nQ 12.5 11.625 15.84375 8.84375 \nQ 19.1875 6.0625 25.203125 6.0625 \nQ 31.25 6.0625 34.171875 8.515625 \nQ 37.109375 10.984375 37.109375 14.3125 \nQ 37.109375 17.28125 34.515625 19 \nQ 32.71875 20.171875 25.53125 21.96875 \nQ 15.875 24.421875 12.140625 26.203125 \nQ 8.40625 27.984375 6.46875 31.125 \nQ 4.546875 34.28125 4.546875 38.09375 \nQ 4.546875 41.546875 6.125 44.5 \nQ 7.71875 47.46875 10.453125 49.421875 \nQ 12.5 50.921875 16.03125 51.96875 \nQ 19.578125 53.03125 23.640625 53.03125 \nQ 29.734375 53.03125 34.34375 51.265625 \nQ 38.96875 49.515625 41.15625 46.5 \nQ 43.359375 43.5 44.1875 38.484375 \nL 35.59375 37.3125 \nQ 35.015625 41.3125 32.203125 43.546875 \nQ 29.390625 45.796875 24.265625 45.796875 \nQ 18.21875 45.796875 15.625 43.796875 \nQ 13.03125 41.796875 13.03125 39.109375 \nQ 13.03125 37.40625 14.109375 36.03125 \nQ 15.1875 34.625 17.484375 33.6875 \nQ 18.796875 33.203125 25.25 31.453125 \nQ 34.578125 28.953125 38.25 27.359375 \nQ 41.9375 25.78125 44.03125 22.75 \nQ 46.140625 19.734375 46.140625 15.234375 \nQ 46.140625 10.84375 43.578125 6.953125 \nQ 41.015625 3.078125 36.171875 0.953125 \nQ 31.34375 -1.171875 25.25 -1.171875 \nQ 15.140625 -1.171875 9.84375 3.03125 \nQ 4.546875 7.234375 3.078125 15.484375 \nz\n\" id=\"ArialMT-73\"/>\n     <path d=\"M 6.640625 61.46875 \nL 6.640625 71.578125 \nL 15.4375 71.578125 \nL 15.4375 61.46875 \nz\nM 6.640625 0 \nL 6.640625 51.859375 \nL 15.4375 51.859375 \nL 15.4375 0 \nz\n\" id=\"ArialMT-69\"/>\n     <path d=\"M 25.78125 7.859375 \nL 27.046875 0.09375 \nQ 23.34375 -0.6875 20.40625 -0.6875 \nQ 15.625 -0.6875 12.984375 0.828125 \nQ 10.359375 2.34375 9.28125 4.8125 \nQ 8.203125 7.28125 8.203125 15.1875 \nL 8.203125 45.015625 \nL 1.765625 45.015625 \nL 1.765625 51.859375 \nL 8.203125 51.859375 \nL 8.203125 64.703125 \nL 16.9375 69.96875 \nL 16.9375 51.859375 \nL 25.78125 51.859375 \nL 25.78125 45.015625 \nL 16.9375 45.015625 \nL 16.9375 14.703125 \nQ 16.9375 10.9375 17.40625 9.859375 \nQ 17.875 8.796875 18.921875 8.15625 \nQ 19.96875 7.515625 21.921875 7.515625 \nQ 23.390625 7.515625 25.78125 7.859375 \nz\n\" id=\"ArialMT-74\"/>\n     <path d=\"M 3.328125 25.921875 \nQ 3.328125 40.328125 11.328125 47.265625 \nQ 18.015625 53.03125 27.640625 53.03125 \nQ 38.328125 53.03125 45.109375 46.015625 \nQ 51.90625 39.015625 51.90625 26.65625 \nQ 51.90625 16.65625 48.90625 10.90625 \nQ 45.90625 5.171875 40.15625 2 \nQ 34.421875 -1.171875 27.640625 -1.171875 \nQ 16.75 -1.171875 10.03125 5.8125 \nQ 3.328125 12.796875 3.328125 25.921875 \nz\nM 12.359375 25.921875 \nQ 12.359375 15.96875 16.703125 11.015625 \nQ 21.046875 6.0625 27.640625 6.0625 \nQ 34.1875 6.0625 38.53125 11.03125 \nQ 42.875 16.015625 42.875 26.21875 \nQ 42.875 35.84375 38.5 40.796875 \nQ 34.125 45.75 27.640625 45.75 \nQ 21.046875 45.75 16.703125 40.8125 \nQ 12.359375 35.890625 12.359375 25.921875 \nz\n\" id=\"ArialMT-6f\"/>\n     <path id=\"ArialMT-20\"/>\n     <path d=\"M 40.4375 19 \nL 49.078125 17.875 \nQ 47.65625 8.9375 41.8125 3.875 \nQ 35.984375 -1.171875 27.484375 -1.171875 \nQ 16.84375 -1.171875 10.375 5.78125 \nQ 3.90625 12.75 3.90625 25.734375 \nQ 3.90625 34.125 6.6875 40.421875 \nQ 9.46875 46.734375 15.15625 49.875 \nQ 20.84375 53.03125 27.546875 53.03125 \nQ 35.984375 53.03125 41.359375 48.75 \nQ 46.734375 44.484375 48.25 36.625 \nL 39.703125 35.296875 \nQ 38.484375 40.53125 35.375 43.15625 \nQ 32.28125 45.796875 27.875 45.796875 \nQ 21.234375 45.796875 17.078125 41.03125 \nQ 12.9375 36.28125 12.9375 25.984375 \nQ 12.9375 15.53125 16.9375 10.796875 \nQ 20.953125 6.0625 27.390625 6.0625 \nQ 32.5625 6.0625 36.03125 9.234375 \nQ 39.5 12.40625 40.4375 19 \nz\n\" id=\"ArialMT-63\"/>\n     <path d=\"M 40.578125 0 \nL 40.578125 7.625 \nQ 34.515625 -1.171875 24.125 -1.171875 \nQ 19.53125 -1.171875 15.546875 0.578125 \nQ 11.578125 2.34375 9.640625 5 \nQ 7.71875 7.671875 6.9375 11.53125 \nQ 6.390625 14.109375 6.390625 19.734375 \nL 6.390625 51.859375 \nL 15.1875 51.859375 \nL 15.1875 23.09375 \nQ 15.1875 16.21875 15.71875 13.8125 \nQ 16.546875 10.359375 19.234375 8.375 \nQ 21.921875 6.390625 25.875 6.390625 \nQ 29.828125 6.390625 33.296875 8.421875 \nQ 36.765625 10.453125 38.203125 13.9375 \nQ 39.65625 17.4375 39.65625 24.078125 \nL 39.65625 51.859375 \nL 48.4375 51.859375 \nL 48.4375 0 \nz\n\" id=\"ArialMT-75\"/>\n     <path d=\"M 21 0 \nL 1.265625 51.859375 \nL 10.546875 51.859375 \nL 21.6875 20.796875 \nQ 23.484375 15.765625 25 10.359375 \nQ 26.171875 14.453125 28.265625 20.21875 \nL 39.796875 51.859375 \nL 48.828125 51.859375 \nL 29.203125 0 \nz\n\" id=\"ArialMT-76\"/>\n     <path d=\"M 42.09375 16.703125 \nL 51.171875 15.578125 \nQ 49.03125 7.625 43.21875 3.21875 \nQ 37.40625 -1.171875 28.375 -1.171875 \nQ 17 -1.171875 10.328125 5.828125 \nQ 3.65625 12.84375 3.65625 25.484375 \nQ 3.65625 38.578125 10.390625 45.796875 \nQ 17.140625 53.03125 27.875 53.03125 \nQ 38.28125 53.03125 44.875 45.953125 \nQ 51.46875 38.875 51.46875 26.03125 \nQ 51.46875 25.25 51.421875 23.6875 \nL 12.75 23.6875 \nQ 13.234375 15.140625 17.578125 10.59375 \nQ 21.921875 6.0625 28.421875 6.0625 \nQ 33.25 6.0625 36.671875 8.59375 \nQ 40.09375 11.140625 42.09375 16.703125 \nz\nM 13.234375 30.90625 \nL 42.1875 30.90625 \nQ 41.609375 37.453125 38.875 40.71875 \nQ 34.671875 45.796875 27.984375 45.796875 \nQ 21.921875 45.796875 17.796875 41.75 \nQ 13.671875 37.703125 13.234375 30.90625 \nz\n\" id=\"ArialMT-65\"/>\n    </defs>\n    <g style=\"fill:#262626;\" transform=\"translate(162.623125 15.789375)scale(0.12 -0.12)\">\n     <use xlink:href=\"#ArialMT-54\"/>\n     <use x=\"61.037109\" xlink:href=\"#ArialMT-72\"/>\n     <use x=\"94.337891\" xlink:href=\"#ArialMT-61\"/>\n     <use x=\"149.953125\" xlink:href=\"#ArialMT-6e\"/>\n     <use x=\"205.568359\" xlink:href=\"#ArialMT-73\"/>\n     <use x=\"255.568359\" xlink:href=\"#ArialMT-69\"/>\n     <use x=\"277.785156\" xlink:href=\"#ArialMT-74\"/>\n     <use x=\"305.568359\" xlink:href=\"#ArialMT-69\"/>\n     <use x=\"327.785156\" xlink:href=\"#ArialMT-6f\"/>\n     <use x=\"383.400391\" xlink:href=\"#ArialMT-6e\"/>\n     <use x=\"439.015625\" xlink:href=\"#ArialMT-20\"/>\n     <use x=\"466.798828\" xlink:href=\"#ArialMT-63\"/>\n     <use x=\"516.798828\" xlink:href=\"#ArialMT-75\"/>\n     <use x=\"572.414062\" xlink:href=\"#ArialMT-72\"/>\n     <use x=\"605.714844\" xlink:href=\"#ArialMT-76\"/>\n     <use x=\"655.714844\" xlink:href=\"#ArialMT-65\"/>\n    </g>\n   </g>\n   <g id=\"legend_1\">\n    <g id=\"patch_7\">\n     <path d=\"M 292.8 234.229375 \nL 365.7 234.229375 \nQ 367.7 234.229375 367.7 232.229375 \nL 367.7 162.502812 \nQ 367.7 160.502812 365.7 160.502812 \nL 292.8 160.502812 \nQ 290.8 160.502812 290.8 162.502812 \nL 290.8 232.229375 \nQ 290.8 234.229375 292.8 234.229375 \nz\n\" style=\"fill:#ffffff;opacity:0.8;stroke:#cccccc;stroke-linejoin:miter;\"/>\n    </g>\n    <g id=\"line2d_31\">\n     <path d=\"M 294.8 168.160625 \nL 314.8 168.160625 \n\" style=\"fill:none;stroke:#1f77b4;stroke-linecap:round;stroke-width:1.5;\"/>\n    </g>\n    <g id=\"line2d_32\"/>\n    <g id=\"text_16\">\n     <!-- $\\sigma = 0.1$ -->\n     <defs>\n      <path d=\"M 34.671875 47.5625 \nQ 27.25 47.5625 22.21875 42.1875 \nQ 16.890625 36.578125 15.140625 27.296875 \nQ 13.1875 17.484375 16.3125 11.8125 \nQ 19.390625 6.203125 26.65625 6.203125 \nQ 33.84375 6.203125 39.109375 11.859375 \nQ 44.4375 17.53125 46.34375 27.296875 \nQ 48.046875 36.234375 45.015625 42.1875 \nQ 42.1875 47.5625 34.671875 47.5625 \nz\nM 36.078125 54.734375 \nL 65.921875 54.6875 \nL 64.15625 45.703125 \nL 54.109375 45.703125 \nQ 57.90625 38.09375 55.859375 27.296875 \nQ 53.21875 13.875 45.0625 6.25 \nQ 36.859375 -1.421875 25.140625 -1.421875 \nQ 13.375 -1.421875 8.203125 6.25 \nQ 3.03125 13.875 5.671875 27.296875 \nQ 8.25 40.765625 16.40625 48.390625 \nQ 23.1875 54.734375 36.078125 54.734375 \nz\n\" id=\"DejaVuSans-Oblique-3c3\"/>\n      <path d=\"M 10.59375 45.40625 \nL 73.1875 45.40625 \nL 73.1875 37.203125 \nL 10.59375 37.203125 \nz\nM 10.59375 25.484375 \nL 73.1875 25.484375 \nL 73.1875 17.1875 \nL 10.59375 17.1875 \nz\n\" id=\"DejaVuSans-3d\"/>\n      <path d=\"M 31.78125 66.40625 \nQ 24.171875 66.40625 20.328125 58.90625 \nQ 16.5 51.421875 16.5 36.375 \nQ 16.5 21.390625 20.328125 13.890625 \nQ 24.171875 6.390625 31.78125 6.390625 \nQ 39.453125 6.390625 43.28125 13.890625 \nQ 47.125 21.390625 47.125 36.375 \nQ 47.125 51.421875 43.28125 58.90625 \nQ 39.453125 66.40625 31.78125 66.40625 \nz\nM 31.78125 74.21875 \nQ 44.046875 74.21875 50.515625 64.515625 \nQ 56.984375 54.828125 56.984375 36.375 \nQ 56.984375 17.96875 50.515625 8.265625 \nQ 44.046875 -1.421875 31.78125 -1.421875 \nQ 19.53125 -1.421875 13.0625 8.265625 \nQ 6.59375 17.96875 6.59375 36.375 \nQ 6.59375 54.828125 13.0625 64.515625 \nQ 19.53125 74.21875 31.78125 74.21875 \nz\n\" id=\"DejaVuSans-30\"/>\n      <path d=\"M 10.6875 12.40625 \nL 21 12.40625 \nL 21 0 \nL 10.6875 0 \nz\n\" id=\"DejaVuSans-2e\"/>\n     </defs>\n     <g style=\"fill:#262626;\" transform=\"translate(322.8 171.660625)scale(0.1 -0.1)\">\n      <use transform=\"translate(0 0.78125)\" xlink:href=\"#DejaVuSans-Oblique-3c3\"/>\n      <use transform=\"translate(82.861328 0.78125)\" xlink:href=\"#DejaVuSans-3d\"/>\n      <use transform=\"translate(186.132812 0.78125)\" xlink:href=\"#DejaVuSans-30\"/>\n      <use transform=\"translate(249.755859 0.78125)\" xlink:href=\"#DejaVuSans-2e\"/>\n      <use transform=\"translate(281.542969 0.78125)\" xlink:href=\"#DejaVuSans-31\"/>\n     </g>\n    </g>\n    <g id=\"line2d_33\">\n     <path d=\"M 294.8 182.305937 \nL 314.8 182.305937 \n\" style=\"fill:none;stroke:#ff7f0e;stroke-linecap:round;stroke-width:1.5;\"/>\n    </g>\n    <g id=\"line2d_34\"/>\n    <g id=\"text_17\">\n     <!-- $\\sigma = 0.2$ -->\n     <defs>\n      <path d=\"M 19.1875 8.296875 \nL 53.609375 8.296875 \nL 53.609375 0 \nL 7.328125 0 \nL 7.328125 8.296875 \nQ 12.9375 14.109375 22.625 23.890625 \nQ 32.328125 33.6875 34.8125 36.53125 \nQ 39.546875 41.84375 41.421875 45.53125 \nQ 43.3125 49.21875 43.3125 52.78125 \nQ 43.3125 58.59375 39.234375 62.25 \nQ 35.15625 65.921875 28.609375 65.921875 \nQ 23.96875 65.921875 18.8125 64.3125 \nQ 13.671875 62.703125 7.8125 59.421875 \nL 7.8125 69.390625 \nQ 13.765625 71.78125 18.9375 73 \nQ 24.125 74.21875 28.421875 74.21875 \nQ 39.75 74.21875 46.484375 68.546875 \nQ 53.21875 62.890625 53.21875 53.421875 \nQ 53.21875 48.921875 51.53125 44.890625 \nQ 49.859375 40.875 45.40625 35.40625 \nQ 44.1875 33.984375 37.640625 27.21875 \nQ 31.109375 20.453125 19.1875 8.296875 \nz\n\" id=\"DejaVuSans-32\"/>\n     </defs>\n     <g style=\"fill:#262626;\" transform=\"translate(322.8 185.805937)scale(0.1 -0.1)\">\n      <use transform=\"translate(0 0.78125)\" xlink:href=\"#DejaVuSans-Oblique-3c3\"/>\n      <use transform=\"translate(82.861328 0.78125)\" xlink:href=\"#DejaVuSans-3d\"/>\n      <use transform=\"translate(186.132812 0.78125)\" xlink:href=\"#DejaVuSans-30\"/>\n      <use transform=\"translate(249.755859 0.78125)\" xlink:href=\"#DejaVuSans-2e\"/>\n      <use transform=\"translate(281.464844 0.78125)\" xlink:href=\"#DejaVuSans-32\"/>\n     </g>\n    </g>\n    <g id=\"line2d_35\">\n     <path d=\"M 294.8 196.45125 \nL 314.8 196.45125 \n\" style=\"fill:none;stroke:#2ca02c;stroke-linecap:round;stroke-width:1.5;\"/>\n    </g>\n    <g id=\"line2d_36\"/>\n    <g id=\"text_18\">\n     <!-- $\\sigma = 0.5$ -->\n     <defs>\n      <path d=\"M 10.796875 72.90625 \nL 49.515625 72.90625 \nL 49.515625 64.59375 \nL 19.828125 64.59375 \nL 19.828125 46.734375 \nQ 21.96875 47.46875 24.109375 47.828125 \nQ 26.265625 48.1875 28.421875 48.1875 \nQ 40.625 48.1875 47.75 41.5 \nQ 54.890625 34.8125 54.890625 23.390625 \nQ 54.890625 11.625 47.5625 5.09375 \nQ 40.234375 -1.421875 26.90625 -1.421875 \nQ 22.3125 -1.421875 17.546875 -0.640625 \nQ 12.796875 0.140625 7.71875 1.703125 \nL 7.71875 11.625 \nQ 12.109375 9.234375 16.796875 8.0625 \nQ 21.484375 6.890625 26.703125 6.890625 \nQ 35.15625 6.890625 40.078125 11.328125 \nQ 45.015625 15.765625 45.015625 23.390625 \nQ 45.015625 31 40.078125 35.4375 \nQ 35.15625 39.890625 26.703125 39.890625 \nQ 22.75 39.890625 18.8125 39.015625 \nQ 14.890625 38.140625 10.796875 36.28125 \nz\n\" id=\"DejaVuSans-35\"/>\n     </defs>\n     <g style=\"fill:#262626;\" transform=\"translate(322.8 199.95125)scale(0.1 -0.1)\">\n      <use transform=\"translate(0 0.78125)\" xlink:href=\"#DejaVuSans-Oblique-3c3\"/>\n      <use transform=\"translate(82.861328 0.78125)\" xlink:href=\"#DejaVuSans-3d\"/>\n      <use transform=\"translate(186.132812 0.78125)\" xlink:href=\"#DejaVuSans-30\"/>\n      <use transform=\"translate(249.755859 0.78125)\" xlink:href=\"#DejaVuSans-2e\"/>\n      <use transform=\"translate(281.542969 0.78125)\" xlink:href=\"#DejaVuSans-35\"/>\n     </g>\n    </g>\n    <g id=\"line2d_37\">\n     <path d=\"M 294.8 210.596562 \nL 314.8 210.596562 \n\" style=\"fill:none;stroke:#d62728;stroke-linecap:round;stroke-width:1.5;\"/>\n    </g>\n    <g id=\"line2d_38\"/>\n    <g id=\"text_19\">\n     <!-- $\\sigma = 0.75$ -->\n     <defs>\n      <path d=\"M 8.203125 72.90625 \nL 55.078125 72.90625 \nL 55.078125 68.703125 \nL 28.609375 0 \nL 18.3125 0 \nL 43.21875 64.59375 \nL 8.203125 64.59375 \nz\n\" id=\"DejaVuSans-37\"/>\n     </defs>\n     <g style=\"fill:#262626;\" transform=\"translate(322.8 214.096562)scale(0.1 -0.1)\">\n      <use transform=\"translate(0 0.78125)\" xlink:href=\"#DejaVuSans-Oblique-3c3\"/>\n      <use transform=\"translate(82.861328 0.78125)\" xlink:href=\"#DejaVuSans-3d\"/>\n      <use transform=\"translate(186.132812 0.78125)\" xlink:href=\"#DejaVuSans-30\"/>\n      <use transform=\"translate(249.755859 0.78125)\" xlink:href=\"#DejaVuSans-2e\"/>\n      <use transform=\"translate(281.433594 0.78125)\" xlink:href=\"#DejaVuSans-37\"/>\n      <use transform=\"translate(345.056641 0.78125)\" xlink:href=\"#DejaVuSans-35\"/>\n     </g>\n    </g>\n    <g id=\"line2d_39\">\n     <path d=\"M 294.8 224.741875 \nL 314.8 224.741875 \n\" style=\"fill:none;stroke:#9467bd;stroke-linecap:round;stroke-width:1.5;\"/>\n    </g>\n    <g id=\"line2d_40\"/>\n    <g id=\"text_20\">\n     <!-- $\\sigma = 1$ -->\n     <g style=\"fill:#262626;\" transform=\"translate(322.8 228.241875)scale(0.1 -0.1)\">\n      <use transform=\"translate(0 0.09375)\" xlink:href=\"#DejaVuSans-Oblique-3c3\"/>\n      <use transform=\"translate(82.861328 0.09375)\" xlink:href=\"#DejaVuSans-3d\"/>\n      <use transform=\"translate(186.132812 0.09375)\" xlink:href=\"#DejaVuSans-31\"/>\n     </g>\n    </g>\n   </g>\n  </g>\n </g>\n <defs>\n  <clipPath id=\"p260f1fe066\">\n   <rect height=\"217.44\" width=\"334.8\" x=\"37.9\" y=\"21.789375\"/>\n  </clipPath>\n </defs>\n</svg>\n",
      "image/png": "[encoded data removed]"
     },
     "metadata": {
      "needs_background": "light"
     }
    }
   ],
   "source": [
    "def savings2(w,r,rho,sigma):\n",
    "    return (1/((1+r)**((sigma-1)/sigma)*(1+rho)**(1/sigma)+1))*w\n",
    "\n",
    "def transition2(k,alpha,sigma,rho,n):\n",
    "    w = wage(k,alpha)\n",
    "    r = rr(k,alpha) \n",
    "    s = savings2(w,r,rho,sigma)\n",
    "    return capital_2t(s,n)\n",
    "\n",
    "def transition_curve(alpha,rho,n):\n",
    "\n",
    "    # a. grids\n",
    "    capital_1 = np.linspace(1e-8,1,500)\n",
    "    capital_2 = np.empty(500)\n",
    "\n",
    "    #b. solve for each k in grid\n",
    "    for i,k in enumerate(capital_1):\n",
    "    \n",
    "        # i. capital in t+1\n",
    "         result = transition2(k,alpha,sigma,rho,n)\n",
    "         capital_2[i] = result\n",
    "\n",
    "    return capital_1,capital_2\n",
    "\n",
    "fig = plt.figure()\n",
    "ax = fig.add_subplot(1,1,1)\n",
    "\n",
    "for sigma in [0.1,0.2,0.5,0.75,1]:\n",
    "    capital_1,capital_2 = transition_curve(alpha,rho,n)\n",
    "    ax.plot(capital_1,capital_2,label=f'$\\sigma = {sigma}$')\n",
    "\n",
    "ax.legend(loc='lower right',facecolor='white',frameon=True)\n",
    "ax.plot(capital_1,capital_1, '--', color='grey')\n",
    "ax.set_xlabel('$k_t$')\n",
    "ax.set_ylabel('$k_t+1$')\n",
    "ax.set_title('Transition curve')\n",
    "ax.set_xlim([-0.001,0.5])\n",
    "ax.set_ylim([0,0.5]);"
   ]
  },
  {
   "cell_type": "markdown",
   "metadata": {},
   "source": [
    "We see that the higher $\\sigma$ the less capital accumulation. This is a consequence of individuals saving less when $\\sigma$ is high. $1/\\sigma$ is the elasticity of intertemporal substitution, thus the higher $\\sigma$ the less are individuals willing to substitute consumption over time, and thus the less they save. "
   ]
  },
  {
   "cell_type": "markdown",
   "metadata": {},
   "source": [
    "## PAYG System"
   ]
  },
  {
   "cell_type": "markdown",
   "metadata": {},
   "source": [
    "We now introduce a social security system to the model. We assume that the government raises $d_t$ from the current young in period t and pays them out as benefits to current old:\n",
    "\n",
    "$$(1+n)d_t = b_t$$\n",
    "\n",
    "where $d_t$ is a fixed fraction of the wage income, such that: $d_t=\\tau w_{t}$.\n",
    "\n",
    "\n",
    "Thus we get a new budget constraint for the young in period t:\n",
    "\n",
    "$$ c_{1t} + s_t + d_t = w_t$$\n",
    "\n",
    "and a new budget constraint for them when old in period t+1 given by:\n",
    "$$ c_{2t+1} = (1+r_{t+1})s_t + (1+n)d_{t+1} $$\n",
    "\n",
    "We return to the case where utility $u(c)=log(c)$ and consider the transition curve for different values of $\\tau$.  \n"
   ]
  },
  {
   "cell_type": "code",
   "execution_count": 148,
   "metadata": {},
   "outputs": [],
   "source": [
    "#Define new functions\n",
    "def d1(w,tau):\n",
    "    return tau*w\n",
    "\n",
    "def savings(w,rho,d,r,n):\n",
    "    return (1/(2+rho))*((w-d)-((1+rho/(1+r))*(1+n)*d))\n",
    "\n",
    "def transition(k,alpha,rho,n,tau):\n",
    "    w = wage(k,alpha)\n",
    "    d = d1(w,tau)\n",
    "    r = rr(k,alpha)\n",
    "    s = savings(w,rho,d,r,n)\n",
    "    return capital_2t(s,n)"
   ]
  },
  {
   "cell_type": "code",
   "execution_count": 149,
   "metadata": {},
   "outputs": [],
   "source": [
    "def transition_curve(alpha,rho,n,tau):\n",
    "\n",
    "    # Grids\n",
    "    capital_1 = np.linspace(1e-8,1,500)\n",
    "    capital_2 = np.empty(500)\n",
    "\n",
    "    # Solve for each k in grid\n",
    "    for i,k in enumerate(capital_1):\n",
    "        \n",
    "        # Capital in t+1\n",
    "        result = transition(k,alpha,rho,n,tau)\n",
    "        capital_2[i] = result\n",
    "\n",
    "    return capital_1,capital_2\n",
    "\n",
    "capital_3,capital_4 = transition_curve(alpha,rho,n,tau)"
   ]
  },
  {
   "cell_type": "code",
   "execution_count": 150,
   "metadata": {},
   "outputs": [
    {
     "output_type": "display_data",
     "data": {
      "text/plain": "interactive(children=(FloatSlider(value=0.1, description='t', max=1.0, step=0.01), Output()), _dom_classes=('w…",
      "application/vnd.jupyter.widget-view+json": {
       "version_major": 2,
       "version_minor": 0,
       "model_id": "d3ef10198f7341e694c05d133e21fcb5"
      }
     },
     "metadata": {}
    }
   ],
   "source": [
    "def fig(alpha, rho, n, tau):\n",
    "    capital_3,capital_4 = transition_curve(alpha,rho,n,tau)\n",
    "    \n",
    "    fig = plt.figure()\n",
    "    ax = fig.add_subplot(1,1,1)\n",
    "    ax.plot(capital_3,capital_4, label=f'PAYG')\n",
    "    ax.plot(capital_1,capital_2, label=f'Simple')\n",
    "    ax.legend(loc='lower right',facecolor='white',frameon=True)\n",
    "    ax.plot(capital_3,capital_3,'--',color='grey')\n",
    "    ax.plot(capital_3,np.zeros(len(capital_3)), 'black')\n",
    "    ax.set_xlabel('$k_t$')\n",
    "    ax.set_ylabel('$k_t+1$')\n",
    "    ax.set_title('Transition curve')\n",
    "    ax.set_xlim([-0.001,0.3])\n",
    "    ax.set_ylim([-0.05,0.3]);\n",
    "\n",
    "    return   \n",
    "    \n",
    "import ipywidgets as widgets\n",
    "widgets.interact(fig,\n",
    "    alpha = widgets.fixed(alpha), \n",
    "    rho = widgets.fixed(rho),\n",
    "    n = widgets.fixed(n),\n",
    "    tau=widgets.FloatSlider(description='t', min=0, max=1, step=0.01, value=0.1),\n",
    ");       "
   ]
  },
  {
   "cell_type": "markdown",
   "metadata": {},
   "source": [
    "We see that the higher $\\tau$ the less will individuals save. For $\\tau > 0.49$ individuals will not save anything of their labor income.   "
   ]
  },
  {
   "cell_type": "markdown",
   "metadata": {},
   "source": [
    "## Steady State Values "
   ]
  },
  {
   "cell_type": "markdown",
   "metadata": {},
   "source": [
    "We now want to find optimal capital in equlibrium and thereby derive the steady state values for $k^*, s^*, w^* c_{1t}^*, c_{2t+1}^*, U^*$ for the individual. $\\sigma$ is assumed to be 1. "
   ]
  },
  {
   "cell_type": "code",
   "execution_count": 152,
   "metadata": {},
   "outputs": [
    {
     "output_type": "stream",
     "name": "stdout",
     "text": "k* = 0.03709\nw* = 0.2259\ns* = 0.03637\nc1* = 0.1895\nc2* = 0.04041\nU* =  0.228\n"
    }
   ],
   "source": [
    "# Define savings as a function of capital \n",
    "def func(k):\n",
    "    s = -k + (1/(2+rho)*(1-alpha)*k**alpha*(1+n))\n",
    "    return s\n",
    "\n",
    "# Define the objective function\n",
    "def objective(k,rho,alpha,n):\n",
    "    return -func(k)\n",
    "\n",
    "# Call optimizer in order to find optimal k and thereby optimal s, w, c1, c2 and lifetime utility for the individual\n",
    "def print_ss(objective,alpha,n,rho):\n",
    "    solutionk = optimize.minimize_scalar(\n",
    "    objective,method='bounded',\n",
    "    bounds=(0,1),args=(rho,alpha,n))\n",
    "\n",
    "    kstar = solutionk.x\n",
    "    wstar = (1-alpha)*kstar**alpha\n",
    "    sstar = kstar/(1+n)\n",
    "    c1star = wstar-sstar\n",
    "    c2star = (1+(alpha*kstar**alpha))*sstar\n",
    "    Ustar = c1star + (1/(1+rho))*c2star\n",
    "\n",
    "    print(\"k* = {:6.4}\".format(kstar))\n",
    "    print(\"w* = {:6.4}\".format(wstar))\n",
    "    print(\"s* = {:6.4}\".format(sstar))\n",
    "    print(\"c1* = {:6.4}\".format(c1star))\n",
    "    print(\"c2* = {:6.4}\".format(c2star))\n",
    "    print(\"U* = {:6.4}\".format(Ustar))\n",
    "\n",
    "print_ss(objective,alpha,n,rho)"
   ]
  },
  {
   "cell_type": "markdown",
   "metadata": {},
   "source": [
    "# Conclusion"
   ]
  },
  {
   "cell_type": "markdown",
   "metadata": {},
   "source": [
    "ADD CONCISE CONCLUSION."
   ]
  }
 ],
 "metadata": {
  "kernelspec": {
   "display_name": "Python 3",
   "language": "python",
   "name": "python3"
  },
  "language_info": {
   "codemirror_mode": {
    "name": "ipython",
    "version": 3
   },
   "file_extension": ".py",
   "mimetype": "text/x-python",
   "name": "python",
   "nbconvert_exporter": "python",
   "pygments_lexer": "ipython3",
   "version": "3.7.4-final"
  },
  "toc-autonumbering": true
 },
 "nbformat": 4,
 "nbformat_minor": 4
}