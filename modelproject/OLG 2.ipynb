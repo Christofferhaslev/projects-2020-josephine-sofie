{
 "cells": [
  {
   "cell_type": "markdown",
   "metadata": {},
   "source": [
    "# YOUR PROJECT TITLE"
   ]
  },
  {
   "cell_type": "markdown",
   "metadata": {},
   "source": [
    "> **Note the following:** \n",
    "> 1. This is *not* meant to be an example of an actual **model analysis project**, just an example of how to structure such a project.\n",
    "> 1. Remember the general advice on structuring and commenting your code from [lecture 5](https://numeconcopenhagen.netlify.com/lectures/Workflow_and_debugging).\n",
    "> 1. Remember this [guide](https://www.markdownguide.org/basic-syntax/) on markdown and (a bit of) latex.\n",
    "> 1. Turn on automatic numbering by clicking on the small icon on top of the table of contents in the left sidebar.\n",
    "> 1. The `modelproject.py` file includes a function which could be used multiple times in this notebook."
   ]
  },
  {
   "cell_type": "markdown",
   "metadata": {},
   "source": [
    "Imports and set magics:"
   ]
  },
  {
   "cell_type": "code",
   "execution_count": 1,
   "metadata": {},
   "outputs": [],
   "source": [
    "import numpy as np\n",
    "from scipy import optimize\n",
    "import sympy as sm\n",
    "\n",
    "# autoreload modules when code is run\n",
    "%load_ext autoreload\n",
    "%autoreload 2\n",
    "\n",
    "%matplotlib inline\n",
    "import matplotlib.pyplot as plt\n",
    "plt.style.use('seaborn-whitegrid')\n",
    "from matplotlib import cm\n",
    "from mpl_toolkits.mplot3d import Axes3D"
   ]
  },
  {
   "cell_type": "markdown",
   "metadata": {
    "toc-hr-collapsed": true
   },
   "source": [
    "# Model description"
   ]
  },
  {
   "cell_type": "markdown",
   "metadata": {},
   "source": [
    "We consider the **standard OLG-model** where:\n",
    "\n",
    "We assume that utility is given by $u(c)$ with constant relative risk aversion (CRRA utility function): \n",
    "\n",
    "\\begin{equation}\n",
    "  u(c)=\\begin{cases}\n",
    "    \\frac{c^{1-\\sigma}-1}{1-\\sigma} , & \\sigma ≠ 1 \\\\\n",
    "    log c, & \\sigma = 1\n",
    "  \\end{cases}\n",
    "\\end{equation}\n",
    "\n",
    "Individuals live for two periods, t = 1,2. $L_t$ individuals are born in period t and we assume that the population grows with a constant rate, n: \n",
    "\n",
    "$$ L_t = L_{t-1}(1+n) $$\n",
    "\n",
    "agents derive utility while alive: \n",
    "\n",
    "$$ U_t = u(c_{1t})+\\frac{1}{1+\\rho} u(c_{2t}) $$\n",
    "\n",
    "Agtens' budget constraint in each period is given by: \n",
    "\n",
    "$$ c_{1t} + s_t = w_t $$\n",
    "\n",
    "$$ c_{2t+1} = (1+r_{t+1}) s_t $$\n",
    "\n",
    "This implies that agents' lifetime budget constraint is given by: \n",
    "\n",
    "$$ c_{1t} + \\frac{c_{2t+1}}{1+r_{t+1}} = w_t $$\n",
    "\n"
   ]
  },
  {
   "cell_type": "markdown",
   "metadata": {},
   "source": [
    "# Analytical solution"
   ]
  },
  {
   "cell_type": "markdown",
   "metadata": {},
   "source": [
    "## Household problem"
   ]
  },
  {
   "cell_type": "markdown",
   "metadata": {},
   "source": [
    "Every agtens born at time t maximize utility subject to their lifetime budget constraint.\n",
    "\n",
    "For now, we assume $\\sigma = 1$, which imply that utility is given by $u(c) = log (c)$"
   ]
  },
  {
   "cell_type": "markdown",
   "metadata": {},
   "source": [
    "First we define all **symbols**:"
   ]
  },
  {
   "cell_type": "code",
   "execution_count": 3,
   "metadata": {},
   "outputs": [],
   "source": [
    "c_1t = sm.symbols('c_1t')\n",
    "c_2t = sm.symbols('c_2t+1')\n",
    "rho = sm.symbols('rho')\n",
    "u_1 = sm.symbols('u_1')\n",
    "u_2 = sm.symbols('u_2')\n",
    "sigma = sm.symbols('sigma')\n",
    "w = sm.symbols('w_t')\n",
    "r_t1 = sm.symbols('r_t+1')\n",
    "lamb = sm.symbols('lambda')\n",
    "s = sm.symbols('s_t')\n",
    "k_2t = sm.symbols('k_t+1')\n",
    "k_1t = sm.symbols('k_t')\n",
    "alpha = sm.symbols('alpha')\n",
    "n = sm.symbols('n')\n",
    "k_star = sm.symbols('k^*')\n",
    "Y = sm.symbols('Y_t')\n",
    "K = sm.symbols('K_t')\n",
    "L_t = sm.symbols('L_t')\n",
    "r = sm.symbols('r_t')"
   ]
  },
  {
   "cell_type": "code",
   "execution_count": 4,
   "metadata": {},
   "outputs": [
    {
     "output_type": "execute_result",
     "data": {
      "text/plain": "log(c_1t) + log(c_2t+1)/(rho + 1)",
      "text/latex": "$\\displaystyle \\log{\\left(c_{1t} \\right)} + \\frac{\\log{\\left(c_{2t+1} \\right)}}{\\rho + 1}$"
     },
     "metadata": {},
     "execution_count": 4
    }
   ],
   "source": [
    "#Lifetime utility\n",
    "u_c1 = sm.ln(c_1t)\n",
    "u_c2 = sm.ln(c_2t)\n",
    "U = u_c1 + u_c2/(1+rho)\n",
    "U"
   ]
  },
  {
   "cell_type": "code",
   "execution_count": 5,
   "metadata": {},
   "outputs": [
    {
     "output_type": "execute_result",
     "data": {
      "text/plain": "-lambda*(c_1t + c_2t+1/(r_t+1 + 1) - w_t) + log(c_1t) + log(c_2t+1)/(rho + 1)",
      "text/latex": "$\\displaystyle - \\lambda \\left(c_{1t} + \\frac{c_{2t+1}}{r_{t+1} + 1} - w_{t}\\right) + \\log{\\left(c_{1t} \\right)} + \\frac{\\log{\\left(c_{2t+1} \\right)}}{\\rho + 1}$"
     },
     "metadata": {},
     "execution_count": 5
    }
   ],
   "source": [
    "# Lagrangian\n",
    "budget_l = c_1t + c_2t/(1+r_t1) - w\n",
    "L = U - lamb * budget_l\n",
    "L\n",
    "\n"
   ]
  },
  {
   "cell_type": "code",
   "execution_count": 6,
   "metadata": {},
   "outputs": [
    {
     "output_type": "execute_result",
     "data": {
      "text/plain": "Eq(c_2t+1, c_1t*(r_t+1 + 1)/(rho + 1))",
      "text/latex": "$\\displaystyle c_{2t+1} = \\frac{c_{1t} \\left(r_{t+1} + 1\\right)}{\\rho + 1}$"
     },
     "metadata": {},
     "execution_count": 6
    }
   ],
   "source": [
    "def Lan(x):\n",
    "    L_1 = sm.diff(L, x)\n",
    "    L_2 = sm.Eq(L_1,0)\n",
    "    L_3 = sm.solve(L_2, lamb) [0]\n",
    "    return L_3\n",
    "\n",
    "L_c1 = Lan(c_1t)\n",
    "L_c2 = Lan(c_2t)\n",
    "\n",
    "Eu = sm.Eq(L_c1, L_c2)\n",
    "Eu_1 = sm.solve(Eu, c_2t) [0]\n",
    "Euler = sm.Eq(c_2t, Eu_1)\n",
    "Euler\n",
    "\n",
    "\n"
   ]
  },
  {
   "cell_type": "code",
   "execution_count": 7,
   "metadata": {},
   "outputs": [
    {
     "output_type": "execute_result",
     "data": {
      "text/plain": "Eq(s_t, w_t/(rho + 2))",
      "text/latex": "$\\displaystyle s_{t} = \\frac{w_{t}}{\\rho + 2}$"
     },
     "metadata": {},
     "execution_count": 7
    }
   ],
   "source": [
    "budget_1 = w-s \n",
    "budget_2 = (1+r_t1)*s\n",
    "\n",
    "savings_1 = Euler.subs(c_1t,budget_1)\n",
    "\n",
    "savings_2 = savings_1.subs(c_2t, budget_2)\n",
    "\n",
    "savings = sm.solve(savings_2,s)[0]\n",
    "\n",
    "opt_savings = sm.Eq(s,savings)\n",
    "opt_savings"
   ]
  },
  {
   "cell_type": "code",
   "execution_count": 8,
   "metadata": {},
   "outputs": [
    {
     "output_type": "execute_result",
     "data": {
      "text/plain": "K_t**(alpha - 1)*L_t**(1 - alpha)*alpha",
      "text/latex": "$\\displaystyle K_{t}^{\\alpha - 1} L_{t}^{1 - \\alpha} \\alpha$"
     },
     "metadata": {},
     "execution_count": 8
    }
   ],
   "source": [
    "Y = K**alpha*L_t**(1-alpha)\n",
    "k_t = sm.diff(Y,K)\n",
    "k_t = sm.simplify(k_t)\n",
    "k_t"
   ]
  },
  {
   "cell_type": "markdown",
   "metadata": {},
   "source": [
    "divide by L"
   ]
  },
  {
   "cell_type": "code",
   "execution_count": 9,
   "metadata": {},
   "outputs": [
    {
     "output_type": "execute_result",
     "data": {
      "text/plain": "Eq(r_t, alpha*k_t**(alpha - 1))",
      "text/latex": "$\\displaystyle r_{t} = \\alpha k_{t}^{\\alpha - 1}$"
     },
     "metadata": {},
     "execution_count": 9
    }
   ],
   "source": [
    "rr = sm.Eq(r,alpha*k_1t**(alpha-1))\n",
    "rr"
   ]
  },
  {
   "cell_type": "code",
   "execution_count": 10,
   "metadata": {},
   "outputs": [
    {
     "output_type": "execute_result",
     "data": {
      "text/plain": "((1 - alpha)/(n*rho + 2*n + rho + 2))**(-1/(alpha - 1))",
      "text/latex": "$\\displaystyle \\left(\\frac{1 - \\alpha}{n \\rho + 2 n + \\rho + 2}\\right)^{- \\frac{1}{\\alpha - 1}}$"
     },
     "metadata": {},
     "execution_count": 10
    }
   ],
   "source": [
    "# In equilibrium s = K*L = k\n",
    "# We know that w is the marginal product of labor and given that the production function is a cobb-douglas we can insert w:\n",
    "\n",
    "capital = sm.Eq(k_2t*(1+n), (((1-alpha)*k_1t**alpha)/(rho+2)))\n",
    "capital\n",
    "\n",
    "# In equilibrium k_t+1 = k_t = k^* so: \n",
    "\n",
    "capital_eq=sm.Eq(k_star*(1+n), (((1-alpha)*k_star**alpha)/(rho+2)))\n",
    "Equilibrium = sm.solve(capital_eq,k_star)[0]\n",
    "Equilibrium"
   ]
  },
  {
   "cell_type": "markdown",
   "metadata": {},
   "source": [
    "## Numerical solution"
   ]
  },
  {
   "cell_type": "markdown",
   "metadata": {},
   "source": [
    "We can re-write the equation for the steady state capital per capita as\n",
    "\n",
    "\\\\[ 0 = \\frac{1}{(1+n)(1+g)}[sf(\\tilde{k}^{\\ast})+(1-\\delta)\\tilde{k}^{\\ast}] - \\tilde{k}^{\\ast} \\\\]\n",
    "\n",
    "whereby it clearly becomes a **root-finding problem**. Such a problem can be solved by a **bisection method**."
   ]
  },
  {
   "cell_type": "markdown",
   "metadata": {},
   "source": [
    "Define the model **parameters**:"
   ]
  },
  {
   "cell_type": "code",
   "execution_count": 4,
   "metadata": {},
   "outputs": [],
   "source": [
    "sigma = 1\n",
    "rho = 0.05\n",
    "n = 0.02\n",
    "alpha = 0.33"
   ]
  },
  {
   "cell_type": "markdown",
   "metadata": {},
   "source": [
    "## Define functions"
   ]
  },
  {
   "cell_type": "code",
   "execution_count": 12,
   "metadata": {},
   "outputs": [],
   "source": [
    "def u_func(c,sigma):\n",
    "    if sigma == 1:\n",
    "        u = np.log(c)\n",
    "    else:\n",
    "        u = (c**(1-sigma)-1)/(1-sigma)\n",
    "    return u\n",
    "\n",
    "def utility(sigma,rho,w,r,s):\n",
    "    return u_func(w-s,sigma) + 1/(1+rho)*u_func((1+r)*s,sigma)\n",
    "\n",
    "def wage(k,alpha):\n",
    "    return (1-alpha)*k**alpha\n",
    "\n",
    "def rr(k,alpha):\n",
    "     return alpha*k**(alpha-1)\n",
    "     \n",
    "def capital_2t(s,n):\n",
    "    return s/(1+n) \n",
    "\n",
    "def savings(w,rho):\n",
    "    return w/(2+rho)\n",
    "\n",
    "def transition(k,alpha,rho,n):\n",
    "    w = wage(k,alpha)\n",
    "    s = savings(w,rho)\n",
    "    return capital_2t(s,n)"
   ]
  },
  {
   "cell_type": "code",
   "execution_count": 13,
   "metadata": {},
   "outputs": [],
   "source": [
    "def transition_curve(alpha,rho,n):\n",
    "\n",
    "    # a. grids\n",
    "    capital_1 = np.linspace(1e-8,0.3,500)\n",
    "    capital_2 = np.empty(500)\n",
    "\n",
    "    #b. solve for each k in grid\n",
    "    for i,k in enumerate(capital_1):\n",
    "        \n",
    "        # i. capital in t+1\n",
    "        result = transition(k,alpha,rho,n)\n",
    "        capital_2[i] = result\n",
    "\n",
    "    return capital_1,capital_2\n"
   ]
  },
  {
   "cell_type": "code",
   "execution_count": 14,
   "metadata": {},
   "outputs": [],
   "source": [
    "capital_1,capital_2 = transition_curve(alpha,rho,n)"
   ]
  },
  {
   "cell_type": "code",
   "execution_count": 15,
   "metadata": {},
   "outputs": [
    {
     "output_type": "display_data",
     "data": {
      "text/plain": "<Figure size 432x288 with 1 Axes>",
      "image/svg+xml": "<?xml version=\"1.0\" encoding=\"utf-8\" standalone=\"no\"?>\n<!DOCTYPE svg PUBLIC \"-//W3C//DTD SVG 1.1//EN\"\n  \"http://www.w3.org/Graphics/SVG/1.1/DTD/svg11.dtd\">\n<!-- Created with matplotlib (http://matplotlib.org/) -->\n<svg height=\"272.374687pt\" version=\"1.1\" viewBox=\"0 0 385.460937 272.374687\" width=\"385.460937pt\" xmlns=\"http://www.w3.org/2000/svg\" xmlns:xlink=\"http://www.w3.org/1999/xlink\">\n <defs>\n  <style type=\"text/css\">\n*{stroke-linecap:butt;stroke-linejoin:round;}\n  </style>\n </defs>\n <g id=\"figure_1\">\n  <g id=\"patch_1\">\n   <path d=\"M 0 272.374687 \nL 385.460937 272.374687 \nL 385.460937 0 \nL 0 0 \nz\n\" style=\"fill:none;\"/>\n  </g>\n  <g id=\"axes_1\">\n   <g id=\"patch_2\">\n    <path d=\"M 43.460938 239.229375 \nL 378.260938 239.229375 \nL 378.260938 21.789375 \nL 43.460938 21.789375 \nz\n\" style=\"fill:#ffffff;\"/>\n   </g>\n   <g id=\"matplotlib.axis_1\">\n    <g id=\"xtick_1\">\n     <g id=\"line2d_1\">\n      <path clip-path=\"url(#paec3a39556)\" d=\"M 58.679109 239.229375 \nL 58.679109 21.789375 \n\" style=\"fill:none;stroke:#cccccc;stroke-linecap:round;stroke-width:0.8;\"/>\n     </g>\n     <g id=\"line2d_2\"/>\n     <g id=\"text_1\">\n      <!-- 0.00 -->\n      <defs>\n       <path d=\"M 4.15625 35.296875 \nQ 4.15625 48 6.765625 55.734375 \nQ 9.375 63.484375 14.515625 67.671875 \nQ 19.671875 71.875 27.484375 71.875 \nQ 33.25 71.875 37.59375 69.546875 \nQ 41.9375 67.234375 44.765625 62.859375 \nQ 47.609375 58.5 49.21875 52.21875 \nQ 50.828125 45.953125 50.828125 35.296875 \nQ 50.828125 22.703125 48.234375 14.96875 \nQ 45.65625 7.234375 40.5 3 \nQ 35.359375 -1.21875 27.484375 -1.21875 \nQ 17.140625 -1.21875 11.234375 6.203125 \nQ 4.15625 15.140625 4.15625 35.296875 \nz\nM 13.1875 35.296875 \nQ 13.1875 17.671875 17.3125 11.828125 \nQ 21.4375 6 27.484375 6 \nQ 33.546875 6 37.671875 11.859375 \nQ 41.796875 17.71875 41.796875 35.296875 \nQ 41.796875 52.984375 37.671875 58.78125 \nQ 33.546875 64.59375 27.390625 64.59375 \nQ 21.34375 64.59375 17.71875 59.46875 \nQ 13.1875 52.9375 13.1875 35.296875 \nz\n\" id=\"ArialMT-30\"/>\n       <path d=\"M 9.078125 0 \nL 9.078125 10.015625 \nL 19.09375 10.015625 \nL 19.09375 0 \nz\n\" id=\"ArialMT-2e\"/>\n      </defs>\n      <g style=\"fill:#262626;\" transform=\"translate(48.94864 249.887187)scale(0.1 -0.1)\">\n       <use xlink:href=\"#ArialMT-30\"/>\n       <use x=\"55.615234\" xlink:href=\"#ArialMT-2e\"/>\n       <use x=\"83.398438\" xlink:href=\"#ArialMT-30\"/>\n       <use x=\"139.013672\" xlink:href=\"#ArialMT-30\"/>\n      </g>\n     </g>\n    </g>\n    <g id=\"xtick_2\">\n     <g id=\"line2d_3\">\n      <path clip-path=\"url(#paec3a39556)\" d=\"M 109.406384 239.229375 \nL 109.406384 21.789375 \n\" style=\"fill:none;stroke:#cccccc;stroke-linecap:round;stroke-width:0.8;\"/>\n     </g>\n     <g id=\"line2d_4\"/>\n     <g id=\"text_2\">\n      <!-- 0.05 -->\n      <defs>\n       <path d=\"M 4.15625 18.75 \nL 13.375 19.53125 \nQ 14.40625 12.796875 18.140625 9.390625 \nQ 21.875 6 27.15625 6 \nQ 33.5 6 37.890625 10.78125 \nQ 42.28125 15.578125 42.28125 23.484375 \nQ 42.28125 31 38.0625 35.34375 \nQ 33.84375 39.703125 27 39.703125 \nQ 22.75 39.703125 19.328125 37.765625 \nQ 15.921875 35.84375 13.96875 32.765625 \nL 5.71875 33.84375 \nL 12.640625 70.609375 \nL 48.25 70.609375 \nL 48.25 62.203125 \nL 19.671875 62.203125 \nL 15.828125 42.96875 \nQ 22.265625 47.46875 29.34375 47.46875 \nQ 38.71875 47.46875 45.15625 40.96875 \nQ 51.609375 34.46875 51.609375 24.265625 \nQ 51.609375 14.546875 45.953125 7.46875 \nQ 39.0625 -1.21875 27.15625 -1.21875 \nQ 17.390625 -1.21875 11.203125 4.25 \nQ 5.03125 9.71875 4.15625 18.75 \nz\n\" id=\"ArialMT-35\"/>\n      </defs>\n      <g style=\"fill:#262626;\" transform=\"translate(99.675915 249.887187)scale(0.1 -0.1)\">\n       <use xlink:href=\"#ArialMT-30\"/>\n       <use x=\"55.615234\" xlink:href=\"#ArialMT-2e\"/>\n       <use x=\"83.398438\" xlink:href=\"#ArialMT-30\"/>\n       <use x=\"139.013672\" xlink:href=\"#ArialMT-35\"/>\n      </g>\n     </g>\n    </g>\n    <g id=\"xtick_3\">\n     <g id=\"line2d_5\">\n      <path clip-path=\"url(#paec3a39556)\" d=\"M 160.133658 239.229375 \nL 160.133658 21.789375 \n\" style=\"fill:none;stroke:#cccccc;stroke-linecap:round;stroke-width:0.8;\"/>\n     </g>\n     <g id=\"line2d_6\"/>\n     <g id=\"text_3\">\n      <!-- 0.10 -->\n      <defs>\n       <path d=\"M 37.25 0 \nL 28.46875 0 \nL 28.46875 56 \nQ 25.296875 52.984375 20.140625 49.953125 \nQ 14.984375 46.921875 10.890625 45.40625 \nL 10.890625 53.90625 \nQ 18.265625 57.375 23.78125 62.296875 \nQ 29.296875 67.234375 31.59375 71.875 \nL 37.25 71.875 \nz\n\" id=\"ArialMT-31\"/>\n      </defs>\n      <g style=\"fill:#262626;\" transform=\"translate(150.403189 249.887187)scale(0.1 -0.1)\">\n       <use xlink:href=\"#ArialMT-30\"/>\n       <use x=\"55.615234\" xlink:href=\"#ArialMT-2e\"/>\n       <use x=\"83.398438\" xlink:href=\"#ArialMT-31\"/>\n       <use x=\"139.013672\" xlink:href=\"#ArialMT-30\"/>\n      </g>\n     </g>\n    </g>\n    <g id=\"xtick_4\">\n     <g id=\"line2d_7\">\n      <path clip-path=\"url(#paec3a39556)\" d=\"M 210.860932 239.229375 \nL 210.860932 21.789375 \n\" style=\"fill:none;stroke:#cccccc;stroke-linecap:round;stroke-width:0.8;\"/>\n     </g>\n     <g id=\"line2d_8\"/>\n     <g id=\"text_4\">\n      <!-- 0.15 -->\n      <g style=\"fill:#262626;\" transform=\"translate(201.130464 249.887187)scale(0.1 -0.1)\">\n       <use xlink:href=\"#ArialMT-30\"/>\n       <use x=\"55.615234\" xlink:href=\"#ArialMT-2e\"/>\n       <use x=\"83.398438\" xlink:href=\"#ArialMT-31\"/>\n       <use x=\"139.013672\" xlink:href=\"#ArialMT-35\"/>\n      </g>\n     </g>\n    </g>\n    <g id=\"xtick_5\">\n     <g id=\"line2d_9\">\n      <path clip-path=\"url(#paec3a39556)\" d=\"M 261.588207 239.229375 \nL 261.588207 21.789375 \n\" style=\"fill:none;stroke:#cccccc;stroke-linecap:round;stroke-width:0.8;\"/>\n     </g>\n     <g id=\"line2d_10\"/>\n     <g id=\"text_5\">\n      <!-- 0.20 -->\n      <defs>\n       <path d=\"M 50.34375 8.453125 \nL 50.34375 0 \nL 3.03125 0 \nQ 2.9375 3.171875 4.046875 6.109375 \nQ 5.859375 10.9375 9.828125 15.625 \nQ 13.8125 20.3125 21.34375 26.46875 \nQ 33.015625 36.03125 37.109375 41.625 \nQ 41.21875 47.21875 41.21875 52.203125 \nQ 41.21875 57.421875 37.46875 61 \nQ 33.734375 64.59375 27.734375 64.59375 \nQ 21.390625 64.59375 17.578125 60.78125 \nQ 13.765625 56.984375 13.71875 50.25 \nL 4.6875 51.171875 \nQ 5.609375 61.28125 11.65625 66.578125 \nQ 17.71875 71.875 27.9375 71.875 \nQ 38.234375 71.875 44.234375 66.15625 \nQ 50.25 60.453125 50.25 52 \nQ 50.25 47.703125 48.484375 43.546875 \nQ 46.734375 39.40625 42.65625 34.8125 \nQ 38.578125 30.21875 29.109375 22.21875 \nQ 21.1875 15.578125 18.9375 13.203125 \nQ 16.703125 10.84375 15.234375 8.453125 \nz\n\" id=\"ArialMT-32\"/>\n      </defs>\n      <g style=\"fill:#262626;\" transform=\"translate(251.857738 249.887187)scale(0.1 -0.1)\">\n       <use xlink:href=\"#ArialMT-30\"/>\n       <use x=\"55.615234\" xlink:href=\"#ArialMT-2e\"/>\n       <use x=\"83.398438\" xlink:href=\"#ArialMT-32\"/>\n       <use x=\"139.013672\" xlink:href=\"#ArialMT-30\"/>\n      </g>\n     </g>\n    </g>\n    <g id=\"xtick_6\">\n     <g id=\"line2d_11\">\n      <path clip-path=\"url(#paec3a39556)\" d=\"M 312.315481 239.229375 \nL 312.315481 21.789375 \n\" style=\"fill:none;stroke:#cccccc;stroke-linecap:round;stroke-width:0.8;\"/>\n     </g>\n     <g id=\"line2d_12\"/>\n     <g id=\"text_6\">\n      <!-- 0.25 -->\n      <g style=\"fill:#262626;\" transform=\"translate(302.585013 249.887187)scale(0.1 -0.1)\">\n       <use xlink:href=\"#ArialMT-30\"/>\n       <use x=\"55.615234\" xlink:href=\"#ArialMT-2e\"/>\n       <use x=\"83.398438\" xlink:href=\"#ArialMT-32\"/>\n       <use x=\"139.013672\" xlink:href=\"#ArialMT-35\"/>\n      </g>\n     </g>\n    </g>\n    <g id=\"xtick_7\">\n     <g id=\"line2d_13\">\n      <path clip-path=\"url(#paec3a39556)\" d=\"M 363.042756 239.229375 \nL 363.042756 21.789375 \n\" style=\"fill:none;stroke:#cccccc;stroke-linecap:round;stroke-width:0.8;\"/>\n     </g>\n     <g id=\"line2d_14\"/>\n     <g id=\"text_7\">\n      <!-- 0.30 -->\n      <defs>\n       <path d=\"M 4.203125 18.890625 \nL 12.984375 20.0625 \nQ 14.5 12.59375 18.140625 9.296875 \nQ 21.78125 6 27 6 \nQ 33.203125 6 37.46875 10.296875 \nQ 41.75 14.59375 41.75 20.953125 \nQ 41.75 27 37.796875 30.921875 \nQ 33.84375 34.859375 27.734375 34.859375 \nQ 25.25 34.859375 21.53125 33.890625 \nL 22.515625 41.609375 \nQ 23.390625 41.5 23.921875 41.5 \nQ 29.546875 41.5 34.03125 44.421875 \nQ 38.53125 47.359375 38.53125 53.46875 \nQ 38.53125 58.296875 35.25 61.46875 \nQ 31.984375 64.65625 26.8125 64.65625 \nQ 21.6875 64.65625 18.265625 61.421875 \nQ 14.84375 58.203125 13.875 51.765625 \nL 5.078125 53.328125 \nQ 6.6875 62.15625 12.390625 67.015625 \nQ 18.109375 71.875 26.609375 71.875 \nQ 32.46875 71.875 37.390625 69.359375 \nQ 42.328125 66.84375 44.9375 62.5 \nQ 47.5625 58.15625 47.5625 53.265625 \nQ 47.5625 48.640625 45.0625 44.828125 \nQ 42.578125 41.015625 37.703125 38.765625 \nQ 44.046875 37.3125 47.5625 32.6875 \nQ 51.078125 28.078125 51.078125 21.140625 \nQ 51.078125 11.765625 44.234375 5.25 \nQ 37.40625 -1.265625 26.953125 -1.265625 \nQ 17.53125 -1.265625 11.296875 4.34375 \nQ 5.078125 9.96875 4.203125 18.890625 \nz\n\" id=\"ArialMT-33\"/>\n      </defs>\n      <g style=\"fill:#262626;\" transform=\"translate(353.312287 249.887187)scale(0.1 -0.1)\">\n       <use xlink:href=\"#ArialMT-30\"/>\n       <use x=\"55.615234\" xlink:href=\"#ArialMT-2e\"/>\n       <use x=\"83.398438\" xlink:href=\"#ArialMT-33\"/>\n       <use x=\"139.013672\" xlink:href=\"#ArialMT-30\"/>\n      </g>\n     </g>\n    </g>\n    <g id=\"text_8\">\n     <!-- $k_t$ -->\n     <defs>\n      <path d=\"M 18.3125 75.984375 \nL 27.296875 75.984375 \nL 18.703125 31.6875 \nL 49.515625 54.6875 \nL 61.1875 54.6875 \nL 26.8125 28.515625 \nL 51.90625 0 \nL 41.015625 0 \nL 17.671875 26.703125 \nL 12.5 0 \nL 3.515625 0 \nz\n\" id=\"DejaVuSans-Oblique-6b\"/>\n      <path d=\"M 42.28125 54.6875 \nL 40.921875 47.703125 \nL 23 47.703125 \nL 17.1875 18.015625 \nQ 16.890625 16.359375 16.75 15.234375 \nQ 16.609375 14.109375 16.609375 13.484375 \nQ 16.609375 10.359375 18.484375 8.9375 \nQ 20.359375 7.515625 24.515625 7.515625 \nL 33.59375 7.515625 \nL 32.078125 0 \nL 23.484375 0 \nQ 15.484375 0 11.546875 3.125 \nQ 7.625 6.25 7.625 12.59375 \nQ 7.625 13.71875 7.765625 15.0625 \nQ 7.90625 16.40625 8.203125 18.015625 \nL 14.015625 47.703125 \nL 6.390625 47.703125 \nL 7.8125 54.6875 \nL 15.28125 54.6875 \nL 18.3125 70.21875 \nL 27.296875 70.21875 \nL 24.3125 54.6875 \nz\n\" id=\"DejaVuSans-Oblique-74\"/>\n     </defs>\n     <g style=\"fill:#262626;\" transform=\"translate(206.410938 263.187187)scale(0.1 -0.1)\">\n      <use transform=\"translate(0 0.015625)\" xlink:href=\"#DejaVuSans-Oblique-6b\"/>\n      <use transform=\"translate(57.910156 -16.390625)scale(0.7)\" xlink:href=\"#DejaVuSans-Oblique-74\"/>\n     </g>\n    </g>\n   </g>\n   <g id=\"matplotlib.axis_2\">\n    <g id=\"ytick_1\">\n     <g id=\"line2d_15\">\n      <path clip-path=\"url(#paec3a39556)\" d=\"M 43.460938 230.02179 \nL 378.260938 230.02179 \n\" style=\"fill:none;stroke:#cccccc;stroke-linecap:round;stroke-width:0.8;\"/>\n     </g>\n     <g id=\"line2d_16\"/>\n     <g id=\"text_9\">\n      <!-- 0.00 -->\n      <g style=\"fill:#262626;\" transform=\"translate(20.5 233.600696)scale(0.1 -0.1)\">\n       <use xlink:href=\"#ArialMT-30\"/>\n       <use x=\"55.615234\" xlink:href=\"#ArialMT-2e\"/>\n       <use x=\"83.398438\" xlink:href=\"#ArialMT-30\"/>\n       <use x=\"139.013672\" xlink:href=\"#ArialMT-30\"/>\n      </g>\n     </g>\n    </g>\n    <g id=\"ytick_2\">\n     <g id=\"line2d_17\">\n      <path clip-path=\"url(#paec3a39556)\" d=\"M 43.460938 183.971883 \nL 378.260938 183.971883 \n\" style=\"fill:none;stroke:#cccccc;stroke-linecap:round;stroke-width:0.8;\"/>\n     </g>\n     <g id=\"line2d_18\"/>\n     <g id=\"text_10\">\n      <!-- 0.05 -->\n      <g style=\"fill:#262626;\" transform=\"translate(20.5 187.55079)scale(0.1 -0.1)\">\n       <use xlink:href=\"#ArialMT-30\"/>\n       <use x=\"55.615234\" xlink:href=\"#ArialMT-2e\"/>\n       <use x=\"83.398438\" xlink:href=\"#ArialMT-30\"/>\n       <use x=\"139.013672\" xlink:href=\"#ArialMT-35\"/>\n      </g>\n     </g>\n    </g>\n    <g id=\"ytick_3\">\n     <g id=\"line2d_19\">\n      <path clip-path=\"url(#paec3a39556)\" d=\"M 43.460938 137.921977 \nL 378.260938 137.921977 \n\" style=\"fill:none;stroke:#cccccc;stroke-linecap:round;stroke-width:0.8;\"/>\n     </g>\n     <g id=\"line2d_20\"/>\n     <g id=\"text_11\">\n      <!-- 0.10 -->\n      <g style=\"fill:#262626;\" transform=\"translate(20.5 141.500883)scale(0.1 -0.1)\">\n       <use xlink:href=\"#ArialMT-30\"/>\n       <use x=\"55.615234\" xlink:href=\"#ArialMT-2e\"/>\n       <use x=\"83.398438\" xlink:href=\"#ArialMT-31\"/>\n       <use x=\"139.013672\" xlink:href=\"#ArialMT-30\"/>\n      </g>\n     </g>\n    </g>\n    <g id=\"ytick_4\">\n     <g id=\"line2d_21\">\n      <path clip-path=\"url(#paec3a39556)\" d=\"M 43.460938 91.872071 \nL 378.260938 91.872071 \n\" style=\"fill:none;stroke:#cccccc;stroke-linecap:round;stroke-width:0.8;\"/>\n     </g>\n     <g id=\"line2d_22\"/>\n     <g id=\"text_12\">\n      <!-- 0.15 -->\n      <g style=\"fill:#262626;\" transform=\"translate(20.5 95.450977)scale(0.1 -0.1)\">\n       <use xlink:href=\"#ArialMT-30\"/>\n       <use x=\"55.615234\" xlink:href=\"#ArialMT-2e\"/>\n       <use x=\"83.398438\" xlink:href=\"#ArialMT-31\"/>\n       <use x=\"139.013672\" xlink:href=\"#ArialMT-35\"/>\n      </g>\n     </g>\n    </g>\n    <g id=\"ytick_5\">\n     <g id=\"line2d_23\">\n      <path clip-path=\"url(#paec3a39556)\" d=\"M 43.460938 45.822165 \nL 378.260938 45.822165 \n\" style=\"fill:none;stroke:#cccccc;stroke-linecap:round;stroke-width:0.8;\"/>\n     </g>\n     <g id=\"line2d_24\"/>\n     <g id=\"text_13\">\n      <!-- 0.20 -->\n      <g style=\"fill:#262626;\" transform=\"translate(20.5 49.401071)scale(0.1 -0.1)\">\n       <use xlink:href=\"#ArialMT-30\"/>\n       <use x=\"55.615234\" xlink:href=\"#ArialMT-2e\"/>\n       <use x=\"83.398438\" xlink:href=\"#ArialMT-32\"/>\n       <use x=\"139.013672\" xlink:href=\"#ArialMT-30\"/>\n      </g>\n     </g>\n    </g>\n    <g id=\"text_14\">\n     <!-- $k_t+1$ -->\n     <defs>\n      <path d=\"M 46 62.703125 \nL 46 35.5 \nL 73.1875 35.5 \nL 73.1875 27.203125 \nL 46 27.203125 \nL 46 0 \nL 37.796875 0 \nL 37.796875 27.203125 \nL 10.59375 27.203125 \nL 10.59375 35.5 \nL 37.796875 35.5 \nL 37.796875 62.703125 \nz\n\" id=\"DejaVuSans-2b\"/>\n      <path d=\"M 12.40625 8.296875 \nL 28.515625 8.296875 \nL 28.515625 63.921875 \nL 10.984375 60.40625 \nL 10.984375 69.390625 \nL 28.421875 72.90625 \nL 38.28125 72.90625 \nL 38.28125 8.296875 \nL 54.390625 8.296875 \nL 54.390625 0 \nL 12.40625 0 \nz\n\" id=\"DejaVuSans-31\"/>\n     </defs>\n     <g style=\"fill:#262626;\" transform=\"translate(14.5125 144.259375)rotate(-90)scale(0.1 -0.1)\">\n      <use transform=\"translate(0 0.015625)\" xlink:href=\"#DejaVuSans-Oblique-6b\"/>\n      <use transform=\"translate(57.910156 -16.390625)scale(0.7)\" xlink:href=\"#DejaVuSans-Oblique-74\"/>\n      <use transform=\"translate(107.573242 0.015625)\" xlink:href=\"#DejaVuSans-2b\"/>\n      <use transform=\"translate(210.844727 0.015625)\" xlink:href=\"#DejaVuSans-31\"/>\n     </g>\n    </g>\n   </g>\n   <g id=\"line2d_25\">\n    <path clip-path=\"url(#paec3a39556)\" d=\"M 58.679119 229.345739 \nL 59.289066 204.491324 \nL 59.899014 197.929742 \nL 60.508961 193.335216 \nL 61.728855 186.59908 \nL 62.948749 181.499751 \nL 64.168644 177.304067 \nL 65.998485 172.054052 \nL 67.828327 167.624372 \nL 69.658168 163.754928 \nL 72.097957 159.218092 \nL 74.537746 155.205246 \nL 76.977534 151.587415 \nL 80.02727 147.494256 \nL 83.077006 143.776338 \nL 86.736689 139.705418 \nL 90.396372 135.976403 \nL 94.666002 131.974058 \nL 98.935632 128.278476 \nL 103.81521 124.363678 \nL 108.694787 120.723103 \nL 114.184312 116.901624 \nL 120.283783 112.941868 \nL 126.993202 108.878793 \nL 133.702621 105.075015 \nL 141.021987 101.177105 \nL 148.9513 97.208135 \nL 157.49056 93.187068 \nL 166.639768 89.1294 \nL 176.398923 85.04774 \nL 186.768024 80.952314 \nL 197.747073 76.851387 \nL 209.946017 72.541789 \nL 222.754907 68.260498 \nL 236.173745 64.009194 \nL 250.812477 59.610315 \nL 266.061156 55.260841 \nL 282.52973 50.797795 \nL 300.218197 46.242841 \nL 318.516612 41.760288 \nL 338.034922 37.206283 \nL 358.773126 32.595568 \nL 363.042756 31.673011 \nL 363.042756 31.673011 \n\" style=\"fill:none;stroke:#1f77b4;stroke-linecap:round;stroke-width:1.5;\"/>\n   </g>\n   <g id=\"patch_3\">\n    <path d=\"M 43.460938 239.229375 \nL 43.460938 21.789375 \n\" style=\"fill:none;stroke:#cccccc;stroke-linecap:square;stroke-linejoin:miter;\"/>\n   </g>\n   <g id=\"patch_4\">\n    <path d=\"M 378.260938 239.229375 \nL 378.260938 21.789375 \n\" style=\"fill:none;stroke:#cccccc;stroke-linecap:square;stroke-linejoin:miter;\"/>\n   </g>\n   <g id=\"patch_5\">\n    <path d=\"M 43.460938 239.229375 \nL 378.260938 239.229375 \n\" style=\"fill:none;stroke:#cccccc;stroke-linecap:square;stroke-linejoin:miter;\"/>\n   </g>\n   <g id=\"patch_6\">\n    <path d=\"M 43.460938 21.789375 \nL 378.260938 21.789375 \n\" style=\"fill:none;stroke:#cccccc;stroke-linecap:square;stroke-linejoin:miter;\"/>\n   </g>\n   <g id=\"text_15\">\n    <!-- transition curve -->\n    <defs>\n     <path d=\"M 25.78125 7.859375 \nL 27.046875 0.09375 \nQ 23.34375 -0.6875 20.40625 -0.6875 \nQ 15.625 -0.6875 12.984375 0.828125 \nQ 10.359375 2.34375 9.28125 4.8125 \nQ 8.203125 7.28125 8.203125 15.1875 \nL 8.203125 45.015625 \nL 1.765625 45.015625 \nL 1.765625 51.859375 \nL 8.203125 51.859375 \nL 8.203125 64.703125 \nL 16.9375 69.96875 \nL 16.9375 51.859375 \nL 25.78125 51.859375 \nL 25.78125 45.015625 \nL 16.9375 45.015625 \nL 16.9375 14.703125 \nQ 16.9375 10.9375 17.40625 9.859375 \nQ 17.875 8.796875 18.921875 8.15625 \nQ 19.96875 7.515625 21.921875 7.515625 \nQ 23.390625 7.515625 25.78125 7.859375 \nz\n\" id=\"ArialMT-74\"/>\n     <path d=\"M 6.5 0 \nL 6.5 51.859375 \nL 14.40625 51.859375 \nL 14.40625 44 \nQ 17.4375 49.515625 20 51.265625 \nQ 22.5625 53.03125 25.640625 53.03125 \nQ 30.078125 53.03125 34.671875 50.203125 \nL 31.640625 42.046875 \nQ 28.421875 43.953125 25.203125 43.953125 \nQ 22.3125 43.953125 20.015625 42.21875 \nQ 17.71875 40.484375 16.75 37.40625 \nQ 15.28125 32.71875 15.28125 27.15625 \nL 15.28125 0 \nz\n\" id=\"ArialMT-72\"/>\n     <path d=\"M 40.4375 6.390625 \nQ 35.546875 2.25 31.03125 0.53125 \nQ 26.515625 -1.171875 21.34375 -1.171875 \nQ 12.796875 -1.171875 8.203125 3 \nQ 3.609375 7.171875 3.609375 13.671875 \nQ 3.609375 17.484375 5.34375 20.625 \nQ 7.078125 23.78125 9.890625 25.6875 \nQ 12.703125 27.59375 16.21875 28.5625 \nQ 18.796875 29.25 24.03125 29.890625 \nQ 34.671875 31.15625 39.703125 32.90625 \nQ 39.75 34.71875 39.75 35.203125 \nQ 39.75 40.578125 37.25 42.78125 \nQ 33.890625 45.75 27.25 45.75 \nQ 21.046875 45.75 18.09375 43.578125 \nQ 15.140625 41.40625 13.71875 35.890625 \nL 5.125 37.0625 \nQ 6.296875 42.578125 8.984375 45.96875 \nQ 11.671875 49.359375 16.75 51.1875 \nQ 21.828125 53.03125 28.515625 53.03125 \nQ 35.15625 53.03125 39.296875 51.46875 \nQ 43.453125 49.90625 45.40625 47.53125 \nQ 47.359375 45.171875 48.140625 41.546875 \nQ 48.578125 39.3125 48.578125 33.453125 \nL 48.578125 21.734375 \nQ 48.578125 9.46875 49.140625 6.21875 \nQ 49.703125 2.984375 51.375 0 \nL 42.1875 0 \nQ 40.828125 2.734375 40.4375 6.390625 \nz\nM 39.703125 26.03125 \nQ 34.90625 24.078125 25.34375 22.703125 \nQ 19.921875 21.921875 17.671875 20.9375 \nQ 15.4375 19.96875 14.203125 18.09375 \nQ 12.984375 16.21875 12.984375 13.921875 \nQ 12.984375 10.40625 15.640625 8.0625 \nQ 18.3125 5.71875 23.4375 5.71875 \nQ 28.515625 5.71875 32.46875 7.9375 \nQ 36.421875 10.15625 38.28125 14.015625 \nQ 39.703125 17 39.703125 22.796875 \nz\n\" id=\"ArialMT-61\"/>\n     <path d=\"M 6.59375 0 \nL 6.59375 51.859375 \nL 14.5 51.859375 \nL 14.5 44.484375 \nQ 20.21875 53.03125 31 53.03125 \nQ 35.6875 53.03125 39.625 51.34375 \nQ 43.5625 49.65625 45.515625 46.921875 \nQ 47.46875 44.1875 48.25 40.4375 \nQ 48.734375 37.984375 48.734375 31.890625 \nL 48.734375 0 \nL 39.9375 0 \nL 39.9375 31.546875 \nQ 39.9375 36.921875 38.90625 39.578125 \nQ 37.890625 42.234375 35.28125 43.8125 \nQ 32.671875 45.40625 29.15625 45.40625 \nQ 23.53125 45.40625 19.453125 41.84375 \nQ 15.375 38.28125 15.375 28.328125 \nL 15.375 0 \nz\n\" id=\"ArialMT-6e\"/>\n     <path d=\"M 3.078125 15.484375 \nL 11.765625 16.84375 \nQ 12.5 11.625 15.84375 8.84375 \nQ 19.1875 6.0625 25.203125 6.0625 \nQ 31.25 6.0625 34.171875 8.515625 \nQ 37.109375 10.984375 37.109375 14.3125 \nQ 37.109375 17.28125 34.515625 19 \nQ 32.71875 20.171875 25.53125 21.96875 \nQ 15.875 24.421875 12.140625 26.203125 \nQ 8.40625 27.984375 6.46875 31.125 \nQ 4.546875 34.28125 4.546875 38.09375 \nQ 4.546875 41.546875 6.125 44.5 \nQ 7.71875 47.46875 10.453125 49.421875 \nQ 12.5 50.921875 16.03125 51.96875 \nQ 19.578125 53.03125 23.640625 53.03125 \nQ 29.734375 53.03125 34.34375 51.265625 \nQ 38.96875 49.515625 41.15625 46.5 \nQ 43.359375 43.5 44.1875 38.484375 \nL 35.59375 37.3125 \nQ 35.015625 41.3125 32.203125 43.546875 \nQ 29.390625 45.796875 24.265625 45.796875 \nQ 18.21875 45.796875 15.625 43.796875 \nQ 13.03125 41.796875 13.03125 39.109375 \nQ 13.03125 37.40625 14.109375 36.03125 \nQ 15.1875 34.625 17.484375 33.6875 \nQ 18.796875 33.203125 25.25 31.453125 \nQ 34.578125 28.953125 38.25 27.359375 \nQ 41.9375 25.78125 44.03125 22.75 \nQ 46.140625 19.734375 46.140625 15.234375 \nQ 46.140625 10.84375 43.578125 6.953125 \nQ 41.015625 3.078125 36.171875 0.953125 \nQ 31.34375 -1.171875 25.25 -1.171875 \nQ 15.140625 -1.171875 9.84375 3.03125 \nQ 4.546875 7.234375 3.078125 15.484375 \nz\n\" id=\"ArialMT-73\"/>\n     <path d=\"M 6.640625 61.46875 \nL 6.640625 71.578125 \nL 15.4375 71.578125 \nL 15.4375 61.46875 \nz\nM 6.640625 0 \nL 6.640625 51.859375 \nL 15.4375 51.859375 \nL 15.4375 0 \nz\n\" id=\"ArialMT-69\"/>\n     <path d=\"M 3.328125 25.921875 \nQ 3.328125 40.328125 11.328125 47.265625 \nQ 18.015625 53.03125 27.640625 53.03125 \nQ 38.328125 53.03125 45.109375 46.015625 \nQ 51.90625 39.015625 51.90625 26.65625 \nQ 51.90625 16.65625 48.90625 10.90625 \nQ 45.90625 5.171875 40.15625 2 \nQ 34.421875 -1.171875 27.640625 -1.171875 \nQ 16.75 -1.171875 10.03125 5.8125 \nQ 3.328125 12.796875 3.328125 25.921875 \nz\nM 12.359375 25.921875 \nQ 12.359375 15.96875 16.703125 11.015625 \nQ 21.046875 6.0625 27.640625 6.0625 \nQ 34.1875 6.0625 38.53125 11.03125 \nQ 42.875 16.015625 42.875 26.21875 \nQ 42.875 35.84375 38.5 40.796875 \nQ 34.125 45.75 27.640625 45.75 \nQ 21.046875 45.75 16.703125 40.8125 \nQ 12.359375 35.890625 12.359375 25.921875 \nz\n\" id=\"ArialMT-6f\"/>\n     <path id=\"ArialMT-20\"/>\n     <path d=\"M 40.4375 19 \nL 49.078125 17.875 \nQ 47.65625 8.9375 41.8125 3.875 \nQ 35.984375 -1.171875 27.484375 -1.171875 \nQ 16.84375 -1.171875 10.375 5.78125 \nQ 3.90625 12.75 3.90625 25.734375 \nQ 3.90625 34.125 6.6875 40.421875 \nQ 9.46875 46.734375 15.15625 49.875 \nQ 20.84375 53.03125 27.546875 53.03125 \nQ 35.984375 53.03125 41.359375 48.75 \nQ 46.734375 44.484375 48.25 36.625 \nL 39.703125 35.296875 \nQ 38.484375 40.53125 35.375 43.15625 \nQ 32.28125 45.796875 27.875 45.796875 \nQ 21.234375 45.796875 17.078125 41.03125 \nQ 12.9375 36.28125 12.9375 25.984375 \nQ 12.9375 15.53125 16.9375 10.796875 \nQ 20.953125 6.0625 27.390625 6.0625 \nQ 32.5625 6.0625 36.03125 9.234375 \nQ 39.5 12.40625 40.4375 19 \nz\n\" id=\"ArialMT-63\"/>\n     <path d=\"M 40.578125 0 \nL 40.578125 7.625 \nQ 34.515625 -1.171875 24.125 -1.171875 \nQ 19.53125 -1.171875 15.546875 0.578125 \nQ 11.578125 2.34375 9.640625 5 \nQ 7.71875 7.671875 6.9375 11.53125 \nQ 6.390625 14.109375 6.390625 19.734375 \nL 6.390625 51.859375 \nL 15.1875 51.859375 \nL 15.1875 23.09375 \nQ 15.1875 16.21875 15.71875 13.8125 \nQ 16.546875 10.359375 19.234375 8.375 \nQ 21.921875 6.390625 25.875 6.390625 \nQ 29.828125 6.390625 33.296875 8.421875 \nQ 36.765625 10.453125 38.203125 13.9375 \nQ 39.65625 17.4375 39.65625 24.078125 \nL 39.65625 51.859375 \nL 48.4375 51.859375 \nL 48.4375 0 \nz\n\" id=\"ArialMT-75\"/>\n     <path d=\"M 21 0 \nL 1.265625 51.859375 \nL 10.546875 51.859375 \nL 21.6875 20.796875 \nQ 23.484375 15.765625 25 10.359375 \nQ 26.171875 14.453125 28.265625 20.21875 \nL 39.796875 51.859375 \nL 48.828125 51.859375 \nL 29.203125 0 \nz\n\" id=\"ArialMT-76\"/>\n     <path d=\"M 42.09375 16.703125 \nL 51.171875 15.578125 \nQ 49.03125 7.625 43.21875 3.21875 \nQ 37.40625 -1.171875 28.375 -1.171875 \nQ 17 -1.171875 10.328125 5.828125 \nQ 3.65625 12.84375 3.65625 25.484375 \nQ 3.65625 38.578125 10.390625 45.796875 \nQ 17.140625 53.03125 27.875 53.03125 \nQ 38.28125 53.03125 44.875 45.953125 \nQ 51.46875 38.875 51.46875 26.03125 \nQ 51.46875 25.25 51.421875 23.6875 \nL 12.75 23.6875 \nQ 13.234375 15.140625 17.578125 10.59375 \nQ 21.921875 6.0625 28.421875 6.0625 \nQ 33.25 6.0625 36.671875 8.59375 \nQ 40.09375 11.140625 42.09375 16.703125 \nz\nM 13.234375 30.90625 \nL 42.1875 30.90625 \nQ 41.609375 37.453125 38.875 40.71875 \nQ 34.671875 45.796875 27.984375 45.796875 \nQ 21.921875 45.796875 17.796875 41.75 \nQ 13.671875 37.703125 13.234375 30.90625 \nz\n\" id=\"ArialMT-65\"/>\n    </defs>\n    <g style=\"fill:#262626;\" transform=\"translate(170.179063 15.789375)scale(0.12 -0.12)\">\n     <use xlink:href=\"#ArialMT-74\"/>\n     <use x=\"27.783203\" xlink:href=\"#ArialMT-72\"/>\n     <use x=\"61.083984\" xlink:href=\"#ArialMT-61\"/>\n     <use x=\"116.699219\" xlink:href=\"#ArialMT-6e\"/>\n     <use x=\"172.314453\" xlink:href=\"#ArialMT-73\"/>\n     <use x=\"222.314453\" xlink:href=\"#ArialMT-69\"/>\n     <use x=\"244.53125\" xlink:href=\"#ArialMT-74\"/>\n     <use x=\"272.314453\" xlink:href=\"#ArialMT-69\"/>\n     <use x=\"294.53125\" xlink:href=\"#ArialMT-6f\"/>\n     <use x=\"350.146484\" xlink:href=\"#ArialMT-6e\"/>\n     <use x=\"405.761719\" xlink:href=\"#ArialMT-20\"/>\n     <use x=\"433.544922\" xlink:href=\"#ArialMT-63\"/>\n     <use x=\"483.544922\" xlink:href=\"#ArialMT-75\"/>\n     <use x=\"539.160156\" xlink:href=\"#ArialMT-72\"/>\n     <use x=\"572.460938\" xlink:href=\"#ArialMT-76\"/>\n     <use x=\"622.460938\" xlink:href=\"#ArialMT-65\"/>\n    </g>\n   </g>\n  </g>\n </g>\n <defs>\n  <clipPath id=\"paec3a39556\">\n   <rect height=\"217.44\" width=\"334.8\" x=\"43.460938\" y=\"21.789375\"/>\n  </clipPath>\n </defs>\n</svg>\n",
      "image/png": "[encoded data removed]"
     },
     "metadata": {
      "needs_background": "light"
     }
    }
   ],
   "source": [
    "# c. plot\n",
    "fig = plt.figure()\n",
    "ax = fig.add_subplot(1,1,1)\n",
    "ax.plot(capital_1,capital_2)\n",
    "ax.set_xlabel('$k_t$')\n",
    "ax.set_ylabel('$k_t+1$')\n",
    "ax.set_title('transition curve');"
   ]
  },
  {
   "cell_type": "code",
   "execution_count": 12,
   "metadata": {},
   "outputs": [],
   "source": [
    "def func(k):\n",
    "    s = -k + (1/(2+rho)*(1-alpha)*k**alpha*(1+n))\n",
    "    return s\n",
    "\n",
    "def objective(k,rho,alpha,n):\n",
    "    return -func(k)"
   ]
  },
  {
   "cell_type": "code",
   "execution_count": 13,
   "metadata": {},
   "outputs": [],
   "source": [
    "def print_ss(objective,alpha,n,rho):\n",
    "    solutionk = optimize.minimize_scalar(\n",
    "    objective,method='bounded',\n",
    "    bounds=(0,1),args=(rho,alpha,n))\n",
    "\n",
    "    kstar = solutionk.x\n",
    "    wstar = (1-alpha)*kstar**alpha\n",
    "    sstar = kstar/(1+n)\n",
    "    c1star = wstar-sstar\n",
    "    c2star = (1+(alpha*kstar**alpha))*sstar\n",
    "    Ustar = c1star + (1/(1+rho))*c2star\n",
    "\n",
    "    print(\"k* = {:6.4}\".format(kstar))\n",
    "    print(\"w* = {:6.4}\".format(wstar))\n",
    "    print(\"s* = {:6.4}\".format(sstar))\n",
    "    print(\"c1* = {:6.4}\".format(c1star))\n",
    "    print(\"c2* = {:6.4}\".format(c2star))\n",
    "    print(\"U* = {:6.4}\".format(Ustar))"
   ]
  },
  {
   "cell_type": "code",
   "execution_count": 14,
   "metadata": {},
   "outputs": [
    {
     "output_type": "stream",
     "name": "stdout",
     "text": "k* = 0.03709\nw* = 0.2259\ns* = 0.03637\nc1* = 0.1895\nc2* = 0.04041\nU* =  0.228\n"
    }
   ],
   "source": [
    "print_ss(objective,alpha,n,rho)"
   ]
  },
  {
   "cell_type": "markdown",
   "metadata": {},
   "source": [
    "## Introduce CRRA utility"
   ]
  },
  {
   "cell_type": "markdown",
   "metadata": {},
   "source": [
    "We now return to the general case, where $u(c)$ is given by the CRRA utility function: \n",
    "\n",
    "\\begin{equation}\n",
    "  u(c)=\\begin{cases}\n",
    "    \\frac{c^{1-\\sigma}-1}{1-\\sigma} , & \\sigma ≠ 1 \\\\\n",
    "    log c, & \\sigma = 1\n",
    "  \\end{cases}\n",
    "\\end{equation}\n",
    "\n",
    "This imply that the Euler equation is given by: \n",
    "\n",
    "$$ c_{2t+1} = (\\frac{1+r_{t+1}}{1+\\rho})^\\frac{1}{\\sigma} c_{1t} $$\n",
    "\n",
    "Inserting the budget constraint and solve for s, optimal savings is given by: \n",
    "\n",
    "$$ s_t = \\frac{1}{(1+r_{t+1})^\\frac{\\sigma-1}{\\sigma}(1+\\rho)^\\frac{1}{\\sigma} +1} w_t $$\n",
    "\n",
    "where the wage and the interest rate is given by: \n",
    "\n",
    "$$ w_t = (1-\\alpha)k_t^\\alpha $$\n",
    "\n",
    "$$ r_{t+1} = \\alpha k^{\\alpha-1} $$"
   ]
  },
  {
   "cell_type": "code",
   "execution_count": 24,
   "metadata": {},
   "outputs": [
    {
     "output_type": "display_data",
     "data": {
      "text/plain": "<Figure size 432x288 with 1 Axes>",
      "image/svg+xml": "<?xml version=\"1.0\" encoding=\"utf-8\" standalone=\"no\"?>\n<!DOCTYPE svg PUBLIC \"-//W3C//DTD SVG 1.1//EN\"\n  \"http://www.w3.org/Graphics/SVG/1.1/DTD/svg11.dtd\">\n<!-- Created with matplotlib (http://matplotlib.org/) -->\n<svg height=\"272.374687pt\" version=\"1.1\" viewBox=\"0 0 389.630469 272.374687\" width=\"389.630469pt\" xmlns=\"http://www.w3.org/2000/svg\" xmlns:xlink=\"http://www.w3.org/1999/xlink\">\n <defs>\n  <style type=\"text/css\">\n*{stroke-linecap:butt;stroke-linejoin:round;}\n  </style>\n </defs>\n <g id=\"figure_1\">\n  <g id=\"patch_1\">\n   <path d=\"M 0 272.374687 \nL 389.630469 272.374687 \nL 389.630469 0 \nL 0 0 \nz\n\" style=\"fill:none;\"/>\n  </g>\n  <g id=\"axes_1\">\n   <g id=\"patch_2\">\n    <path d=\"M 37.9 239.229375 \nL 372.7 239.229375 \nL 372.7 21.789375 \nL 37.9 21.789375 \nz\n\" style=\"fill:#ffffff;\"/>\n   </g>\n   <g id=\"matplotlib.axis_1\">\n    <g id=\"xtick_1\">\n     <g id=\"line2d_1\">\n      <path clip-path=\"url(#p6ffb82fb8b)\" d=\"M 37.9 239.229375 \nL 37.9 21.789375 \n\" style=\"fill:none;stroke:#cccccc;stroke-linecap:round;stroke-width:0.8;\"/>\n     </g>\n     <g id=\"line2d_2\"/>\n     <g id=\"text_1\">\n      <!-- 0.00 -->\n      <defs>\n       <path d=\"M 4.15625 35.296875 \nQ 4.15625 48 6.765625 55.734375 \nQ 9.375 63.484375 14.515625 67.671875 \nQ 19.671875 71.875 27.484375 71.875 \nQ 33.25 71.875 37.59375 69.546875 \nQ 41.9375 67.234375 44.765625 62.859375 \nQ 47.609375 58.5 49.21875 52.21875 \nQ 50.828125 45.953125 50.828125 35.296875 \nQ 50.828125 22.703125 48.234375 14.96875 \nQ 45.65625 7.234375 40.5 3 \nQ 35.359375 -1.21875 27.484375 -1.21875 \nQ 17.140625 -1.21875 11.234375 6.203125 \nQ 4.15625 15.140625 4.15625 35.296875 \nz\nM 13.1875 35.296875 \nQ 13.1875 17.671875 17.3125 11.828125 \nQ 21.4375 6 27.484375 6 \nQ 33.546875 6 37.671875 11.859375 \nQ 41.796875 17.71875 41.796875 35.296875 \nQ 41.796875 52.984375 37.671875 58.78125 \nQ 33.546875 64.59375 27.390625 64.59375 \nQ 21.34375 64.59375 17.71875 59.46875 \nQ 13.1875 52.9375 13.1875 35.296875 \nz\n\" id=\"ArialMT-30\"/>\n       <path d=\"M 9.078125 0 \nL 9.078125 10.015625 \nL 19.09375 10.015625 \nL 19.09375 0 \nz\n\" id=\"ArialMT-2e\"/>\n      </defs>\n      <g style=\"fill:#262626;\" transform=\"translate(28.169531 249.887187)scale(0.1 -0.1)\">\n       <use xlink:href=\"#ArialMT-30\"/>\n       <use x=\"55.615234\" xlink:href=\"#ArialMT-2e\"/>\n       <use x=\"83.398438\" xlink:href=\"#ArialMT-30\"/>\n       <use x=\"139.013672\" xlink:href=\"#ArialMT-30\"/>\n      </g>\n     </g>\n    </g>\n    <g id=\"xtick_2\">\n     <g id=\"line2d_3\">\n      <path clip-path=\"url(#p6ffb82fb8b)\" d=\"M 93.7 239.229375 \nL 93.7 21.789375 \n\" style=\"fill:none;stroke:#cccccc;stroke-linecap:round;stroke-width:0.8;\"/>\n     </g>\n     <g id=\"line2d_4\"/>\n     <g id=\"text_2\">\n      <!-- 0.05 -->\n      <defs>\n       <path d=\"M 4.15625 18.75 \nL 13.375 19.53125 \nQ 14.40625 12.796875 18.140625 9.390625 \nQ 21.875 6 27.15625 6 \nQ 33.5 6 37.890625 10.78125 \nQ 42.28125 15.578125 42.28125 23.484375 \nQ 42.28125 31 38.0625 35.34375 \nQ 33.84375 39.703125 27 39.703125 \nQ 22.75 39.703125 19.328125 37.765625 \nQ 15.921875 35.84375 13.96875 32.765625 \nL 5.71875 33.84375 \nL 12.640625 70.609375 \nL 48.25 70.609375 \nL 48.25 62.203125 \nL 19.671875 62.203125 \nL 15.828125 42.96875 \nQ 22.265625 47.46875 29.34375 47.46875 \nQ 38.71875 47.46875 45.15625 40.96875 \nQ 51.609375 34.46875 51.609375 24.265625 \nQ 51.609375 14.546875 45.953125 7.46875 \nQ 39.0625 -1.21875 27.15625 -1.21875 \nQ 17.390625 -1.21875 11.203125 4.25 \nQ 5.03125 9.71875 4.15625 18.75 \nz\n\" id=\"ArialMT-35\"/>\n      </defs>\n      <g style=\"fill:#262626;\" transform=\"translate(83.969531 249.887187)scale(0.1 -0.1)\">\n       <use xlink:href=\"#ArialMT-30\"/>\n       <use x=\"55.615234\" xlink:href=\"#ArialMT-2e\"/>\n       <use x=\"83.398438\" xlink:href=\"#ArialMT-30\"/>\n       <use x=\"139.013672\" xlink:href=\"#ArialMT-35\"/>\n      </g>\n     </g>\n    </g>\n    <g id=\"xtick_3\">\n     <g id=\"line2d_5\">\n      <path clip-path=\"url(#p6ffb82fb8b)\" d=\"M 149.5 239.229375 \nL 149.5 21.789375 \n\" style=\"fill:none;stroke:#cccccc;stroke-linecap:round;stroke-width:0.8;\"/>\n     </g>\n     <g id=\"line2d_6\"/>\n     <g id=\"text_3\">\n      <!-- 0.10 -->\n      <defs>\n       <path d=\"M 37.25 0 \nL 28.46875 0 \nL 28.46875 56 \nQ 25.296875 52.984375 20.140625 49.953125 \nQ 14.984375 46.921875 10.890625 45.40625 \nL 10.890625 53.90625 \nQ 18.265625 57.375 23.78125 62.296875 \nQ 29.296875 67.234375 31.59375 71.875 \nL 37.25 71.875 \nz\n\" id=\"ArialMT-31\"/>\n      </defs>\n      <g style=\"fill:#262626;\" transform=\"translate(139.769531 249.887187)scale(0.1 -0.1)\">\n       <use xlink:href=\"#ArialMT-30\"/>\n       <use x=\"55.615234\" xlink:href=\"#ArialMT-2e\"/>\n       <use x=\"83.398438\" xlink:href=\"#ArialMT-31\"/>\n       <use x=\"139.013672\" xlink:href=\"#ArialMT-30\"/>\n      </g>\n     </g>\n    </g>\n    <g id=\"xtick_4\">\n     <g id=\"line2d_7\">\n      <path clip-path=\"url(#p6ffb82fb8b)\" d=\"M 205.3 239.229375 \nL 205.3 21.789375 \n\" style=\"fill:none;stroke:#cccccc;stroke-linecap:round;stroke-width:0.8;\"/>\n     </g>\n     <g id=\"line2d_8\"/>\n     <g id=\"text_4\">\n      <!-- 0.15 -->\n      <g style=\"fill:#262626;\" transform=\"translate(195.569531 249.887187)scale(0.1 -0.1)\">\n       <use xlink:href=\"#ArialMT-30\"/>\n       <use x=\"55.615234\" xlink:href=\"#ArialMT-2e\"/>\n       <use x=\"83.398438\" xlink:href=\"#ArialMT-31\"/>\n       <use x=\"139.013672\" xlink:href=\"#ArialMT-35\"/>\n      </g>\n     </g>\n    </g>\n    <g id=\"xtick_5\">\n     <g id=\"line2d_9\">\n      <path clip-path=\"url(#p6ffb82fb8b)\" d=\"M 261.1 239.229375 \nL 261.1 21.789375 \n\" style=\"fill:none;stroke:#cccccc;stroke-linecap:round;stroke-width:0.8;\"/>\n     </g>\n     <g id=\"line2d_10\"/>\n     <g id=\"text_5\">\n      <!-- 0.20 -->\n      <defs>\n       <path d=\"M 50.34375 8.453125 \nL 50.34375 0 \nL 3.03125 0 \nQ 2.9375 3.171875 4.046875 6.109375 \nQ 5.859375 10.9375 9.828125 15.625 \nQ 13.8125 20.3125 21.34375 26.46875 \nQ 33.015625 36.03125 37.109375 41.625 \nQ 41.21875 47.21875 41.21875 52.203125 \nQ 41.21875 57.421875 37.46875 61 \nQ 33.734375 64.59375 27.734375 64.59375 \nQ 21.390625 64.59375 17.578125 60.78125 \nQ 13.765625 56.984375 13.71875 50.25 \nL 4.6875 51.171875 \nQ 5.609375 61.28125 11.65625 66.578125 \nQ 17.71875 71.875 27.9375 71.875 \nQ 38.234375 71.875 44.234375 66.15625 \nQ 50.25 60.453125 50.25 52 \nQ 50.25 47.703125 48.484375 43.546875 \nQ 46.734375 39.40625 42.65625 34.8125 \nQ 38.578125 30.21875 29.109375 22.21875 \nQ 21.1875 15.578125 18.9375 13.203125 \nQ 16.703125 10.84375 15.234375 8.453125 \nz\n\" id=\"ArialMT-32\"/>\n      </defs>\n      <g style=\"fill:#262626;\" transform=\"translate(251.369531 249.887187)scale(0.1 -0.1)\">\n       <use xlink:href=\"#ArialMT-30\"/>\n       <use x=\"55.615234\" xlink:href=\"#ArialMT-2e\"/>\n       <use x=\"83.398438\" xlink:href=\"#ArialMT-32\"/>\n       <use x=\"139.013672\" xlink:href=\"#ArialMT-30\"/>\n      </g>\n     </g>\n    </g>\n    <g id=\"xtick_6\">\n     <g id=\"line2d_11\">\n      <path clip-path=\"url(#p6ffb82fb8b)\" d=\"M 316.9 239.229375 \nL 316.9 21.789375 \n\" style=\"fill:none;stroke:#cccccc;stroke-linecap:round;stroke-width:0.8;\"/>\n     </g>\n     <g id=\"line2d_12\"/>\n     <g id=\"text_6\">\n      <!-- 0.25 -->\n      <g style=\"fill:#262626;\" transform=\"translate(307.169531 249.887187)scale(0.1 -0.1)\">\n       <use xlink:href=\"#ArialMT-30\"/>\n       <use x=\"55.615234\" xlink:href=\"#ArialMT-2e\"/>\n       <use x=\"83.398438\" xlink:href=\"#ArialMT-32\"/>\n       <use x=\"139.013672\" xlink:href=\"#ArialMT-35\"/>\n      </g>\n     </g>\n    </g>\n    <g id=\"xtick_7\">\n     <g id=\"line2d_13\">\n      <path clip-path=\"url(#p6ffb82fb8b)\" d=\"M 372.7 239.229375 \nL 372.7 21.789375 \n\" style=\"fill:none;stroke:#cccccc;stroke-linecap:round;stroke-width:0.8;\"/>\n     </g>\n     <g id=\"line2d_14\"/>\n     <g id=\"text_7\">\n      <!-- 0.30 -->\n      <defs>\n       <path d=\"M 4.203125 18.890625 \nL 12.984375 20.0625 \nQ 14.5 12.59375 18.140625 9.296875 \nQ 21.78125 6 27 6 \nQ 33.203125 6 37.46875 10.296875 \nQ 41.75 14.59375 41.75 20.953125 \nQ 41.75 27 37.796875 30.921875 \nQ 33.84375 34.859375 27.734375 34.859375 \nQ 25.25 34.859375 21.53125 33.890625 \nL 22.515625 41.609375 \nQ 23.390625 41.5 23.921875 41.5 \nQ 29.546875 41.5 34.03125 44.421875 \nQ 38.53125 47.359375 38.53125 53.46875 \nQ 38.53125 58.296875 35.25 61.46875 \nQ 31.984375 64.65625 26.8125 64.65625 \nQ 21.6875 64.65625 18.265625 61.421875 \nQ 14.84375 58.203125 13.875 51.765625 \nL 5.078125 53.328125 \nQ 6.6875 62.15625 12.390625 67.015625 \nQ 18.109375 71.875 26.609375 71.875 \nQ 32.46875 71.875 37.390625 69.359375 \nQ 42.328125 66.84375 44.9375 62.5 \nQ 47.5625 58.15625 47.5625 53.265625 \nQ 47.5625 48.640625 45.0625 44.828125 \nQ 42.578125 41.015625 37.703125 38.765625 \nQ 44.046875 37.3125 47.5625 32.6875 \nQ 51.078125 28.078125 51.078125 21.140625 \nQ 51.078125 11.765625 44.234375 5.25 \nQ 37.40625 -1.265625 26.953125 -1.265625 \nQ 17.53125 -1.265625 11.296875 4.34375 \nQ 5.078125 9.96875 4.203125 18.890625 \nz\n\" id=\"ArialMT-33\"/>\n      </defs>\n      <g style=\"fill:#262626;\" transform=\"translate(362.969531 249.887187)scale(0.1 -0.1)\">\n       <use xlink:href=\"#ArialMT-30\"/>\n       <use x=\"55.615234\" xlink:href=\"#ArialMT-2e\"/>\n       <use x=\"83.398438\" xlink:href=\"#ArialMT-33\"/>\n       <use x=\"139.013672\" xlink:href=\"#ArialMT-30\"/>\n      </g>\n     </g>\n    </g>\n    <g id=\"text_8\">\n     <!-- $k_t$ -->\n     <defs>\n      <path d=\"M 18.3125 75.984375 \nL 27.296875 75.984375 \nL 18.703125 31.6875 \nL 49.515625 54.6875 \nL 61.1875 54.6875 \nL 26.8125 28.515625 \nL 51.90625 0 \nL 41.015625 0 \nL 17.671875 26.703125 \nL 12.5 0 \nL 3.515625 0 \nz\n\" id=\"DejaVuSans-Oblique-6b\"/>\n      <path d=\"M 42.28125 54.6875 \nL 40.921875 47.703125 \nL 23 47.703125 \nL 17.1875 18.015625 \nQ 16.890625 16.359375 16.75 15.234375 \nQ 16.609375 14.109375 16.609375 13.484375 \nQ 16.609375 10.359375 18.484375 8.9375 \nQ 20.359375 7.515625 24.515625 7.515625 \nL 33.59375 7.515625 \nL 32.078125 0 \nL 23.484375 0 \nQ 15.484375 0 11.546875 3.125 \nQ 7.625 6.25 7.625 12.59375 \nQ 7.625 13.71875 7.765625 15.0625 \nQ 7.90625 16.40625 8.203125 18.015625 \nL 14.015625 47.703125 \nL 6.390625 47.703125 \nL 7.8125 54.6875 \nL 15.28125 54.6875 \nL 18.3125 70.21875 \nL 27.296875 70.21875 \nL 24.3125 54.6875 \nz\n\" id=\"DejaVuSans-Oblique-74\"/>\n     </defs>\n     <g style=\"fill:#262626;\" transform=\"translate(200.85 263.187187)scale(0.1 -0.1)\">\n      <use transform=\"translate(0 0.015625)\" xlink:href=\"#DejaVuSans-Oblique-6b\"/>\n      <use transform=\"translate(57.910156 -16.390625)scale(0.7)\" xlink:href=\"#DejaVuSans-Oblique-74\"/>\n     </g>\n    </g>\n   </g>\n   <g id=\"matplotlib.axis_2\">\n    <g id=\"ytick_1\">\n     <g id=\"line2d_15\">\n      <path clip-path=\"url(#p6ffb82fb8b)\" d=\"M 37.9 229.67863 \nL 372.7 229.67863 \n\" style=\"fill:none;stroke:#cccccc;stroke-linecap:round;stroke-width:0.8;\"/>\n     </g>\n     <g id=\"line2d_16\"/>\n     <g id=\"text_9\">\n      <!-- 0.0 -->\n      <g style=\"fill:#262626;\" transform=\"translate(20.5 233.257536)scale(0.1 -0.1)\">\n       <use xlink:href=\"#ArialMT-30\"/>\n       <use x=\"55.615234\" xlink:href=\"#ArialMT-2e\"/>\n       <use x=\"83.398438\" xlink:href=\"#ArialMT-30\"/>\n      </g>\n     </g>\n    </g>\n    <g id=\"ytick_2\">\n     <g id=\"line2d_17\">\n      <path clip-path=\"url(#p6ffb82fb8b)\" d=\"M 37.9 184.328211 \nL 372.7 184.328211 \n\" style=\"fill:none;stroke:#cccccc;stroke-linecap:round;stroke-width:0.8;\"/>\n     </g>\n     <g id=\"line2d_18\"/>\n     <g id=\"text_10\">\n      <!-- 0.1 -->\n      <g style=\"fill:#262626;\" transform=\"translate(20.5 187.907117)scale(0.1 -0.1)\">\n       <use xlink:href=\"#ArialMT-30\"/>\n       <use x=\"55.615234\" xlink:href=\"#ArialMT-2e\"/>\n       <use x=\"83.398438\" xlink:href=\"#ArialMT-31\"/>\n      </g>\n     </g>\n    </g>\n    <g id=\"ytick_3\">\n     <g id=\"line2d_19\">\n      <path clip-path=\"url(#p6ffb82fb8b)\" d=\"M 37.9 138.977792 \nL 372.7 138.977792 \n\" style=\"fill:none;stroke:#cccccc;stroke-linecap:round;stroke-width:0.8;\"/>\n     </g>\n     <g id=\"line2d_20\"/>\n     <g id=\"text_11\">\n      <!-- 0.2 -->\n      <g style=\"fill:#262626;\" transform=\"translate(20.5 142.556698)scale(0.1 -0.1)\">\n       <use xlink:href=\"#ArialMT-30\"/>\n       <use x=\"55.615234\" xlink:href=\"#ArialMT-2e\"/>\n       <use x=\"83.398438\" xlink:href=\"#ArialMT-32\"/>\n      </g>\n     </g>\n    </g>\n    <g id=\"ytick_4\">\n     <g id=\"line2d_21\">\n      <path clip-path=\"url(#p6ffb82fb8b)\" d=\"M 37.9 93.627373 \nL 372.7 93.627373 \n\" style=\"fill:none;stroke:#cccccc;stroke-linecap:round;stroke-width:0.8;\"/>\n     </g>\n     <g id=\"line2d_22\"/>\n     <g id=\"text_12\">\n      <!-- 0.3 -->\n      <g style=\"fill:#262626;\" transform=\"translate(20.5 97.20628)scale(0.1 -0.1)\">\n       <use xlink:href=\"#ArialMT-30\"/>\n       <use x=\"55.615234\" xlink:href=\"#ArialMT-2e\"/>\n       <use x=\"83.398438\" xlink:href=\"#ArialMT-33\"/>\n      </g>\n     </g>\n    </g>\n    <g id=\"ytick_5\">\n     <g id=\"line2d_23\">\n      <path clip-path=\"url(#p6ffb82fb8b)\" d=\"M 37.9 48.276955 \nL 372.7 48.276955 \n\" style=\"fill:none;stroke:#cccccc;stroke-linecap:round;stroke-width:0.8;\"/>\n     </g>\n     <g id=\"line2d_24\"/>\n     <g id=\"text_13\">\n      <!-- 0.4 -->\n      <defs>\n       <path d=\"M 32.328125 0 \nL 32.328125 17.140625 \nL 1.265625 17.140625 \nL 1.265625 25.203125 \nL 33.9375 71.578125 \nL 41.109375 71.578125 \nL 41.109375 25.203125 \nL 50.78125 25.203125 \nL 50.78125 17.140625 \nL 41.109375 17.140625 \nL 41.109375 0 \nz\nM 32.328125 25.203125 \nL 32.328125 57.46875 \nL 9.90625 25.203125 \nz\n\" id=\"ArialMT-34\"/>\n      </defs>\n      <g style=\"fill:#262626;\" transform=\"translate(20.5 51.855861)scale(0.1 -0.1)\">\n       <use xlink:href=\"#ArialMT-30\"/>\n       <use x=\"55.615234\" xlink:href=\"#ArialMT-2e\"/>\n       <use x=\"83.398438\" xlink:href=\"#ArialMT-34\"/>\n      </g>\n     </g>\n    </g>\n    <g id=\"text_14\">\n     <!-- $k_t+1$ -->\n     <defs>\n      <path d=\"M 46 62.703125 \nL 46 35.5 \nL 73.1875 35.5 \nL 73.1875 27.203125 \nL 46 27.203125 \nL 46 0 \nL 37.796875 0 \nL 37.796875 27.203125 \nL 10.59375 27.203125 \nL 10.59375 35.5 \nL 37.796875 35.5 \nL 37.796875 62.703125 \nz\n\" id=\"DejaVuSans-2b\"/>\n      <path d=\"M 12.40625 8.296875 \nL 28.515625 8.296875 \nL 28.515625 63.921875 \nL 10.984375 60.40625 \nL 10.984375 69.390625 \nL 28.421875 72.90625 \nL 38.28125 72.90625 \nL 38.28125 8.296875 \nL 54.390625 8.296875 \nL 54.390625 0 \nL 12.40625 0 \nz\n\" id=\"DejaVuSans-31\"/>\n     </defs>\n     <g style=\"fill:#262626;\" transform=\"translate(14.5125 144.259375)rotate(-90)scale(0.1 -0.1)\">\n      <use transform=\"translate(0 0.015625)\" xlink:href=\"#DejaVuSans-Oblique-6b\"/>\n      <use transform=\"translate(57.910156 -16.390625)scale(0.7)\" xlink:href=\"#DejaVuSans-Oblique-74\"/>\n      <use transform=\"translate(107.573242 0.015625)\" xlink:href=\"#DejaVuSans-2b\"/>\n      <use transform=\"translate(210.844727 0.015625)\" xlink:href=\"#DejaVuSans-31\"/>\n     </g>\n    </g>\n   </g>\n   <g id=\"line2d_25\">\n    <path clip-path=\"url(#p6ffb82fb8b)\" d=\"M 37.900011 228.996203 \nL 38.570953 203.9074 \nL 39.241895 197.283938 \nL 39.912837 192.646084 \nL 41.25472 185.846422 \nL 42.596604 180.699005 \nL 43.938488 176.463754 \nL 45.280372 172.820501 \nL 47.293197 168.11061 \nL 49.306023 164.036745 \nL 51.318848 160.42018 \nL 54.002616 156.125265 \nL 56.686383 152.286832 \nL 59.370151 148.800293 \nL 62.72486 144.83111 \nL 66.079569 141.206876 \nL 70.105221 137.221252 \nL 74.130872 133.556966 \nL 78.827465 129.612044 \nL 83.524058 125.96005 \nL 88.891593 122.083042 \nL 94.259128 118.471033 \nL 100.297604 114.67382 \nL 107.007023 110.734122 \nL 113.716441 107.044114 \nL 121.096802 103.231226 \nL 129.148104 99.324112 \nL 137.870349 95.34686 \nL 147.263535 91.319662 \nL 157.327662 87.259472 \nL 168.062732 83.180585 \nL 179.468744 79.095149 \nL 191.545697 75.013594 \nL 204.293593 70.944977 \nL 217.71243 66.897267 \nL 231.802209 62.877564 \nL 246.56293 58.892269 \nL 262.665535 54.780465 \nL 279.439081 50.732121 \nL 296.88357 46.750585 \nL 315.669942 42.69825 \nL 335.127256 38.734251 \nL 355.255512 34.860085 \nL 372.7 31.673011 \nL 372.7 31.673011 \n\" style=\"fill:none;stroke:#1f77b4;stroke-linecap:round;stroke-width:1.5;\"/>\n   </g>\n   <g id=\"line2d_26\">\n    <path clip-path=\"url(#p6ffb82fb8b)\" d=\"M 37.900011 228.996203 \nL 38.570953 203.907406 \nL 39.241895 197.283984 \nL 39.912837 192.646232 \nL 41.25472 185.847069 \nL 42.596604 180.700683 \nL 43.938488 176.467146 \nL 45.280372 172.826415 \nL 47.293197 168.12205 \nL 49.306023 164.056058 \nL 51.318848 160.449949 \nL 54.002616 156.173314 \nL 56.686383 152.358421 \nL 59.370151 148.900929 \nL 62.72486 144.976054 \nL 66.079569 141.405204 \nL 70.105221 137.495755 \nL 74.130872 133.920865 \nL 78.156523 130.622748 \nL 82.853116 127.068095 \nL 87.549709 123.780829 \nL 92.917244 120.301878 \nL 98.284779 117.077002 \nL 104.323255 113.709969 \nL 111.032674 110.248207 \nL 117.742093 107.040738 \nL 125.122453 103.767331 \nL 133.173755 100.461379 \nL 141.225058 97.396871 \nL 149.947302 94.315529 \nL 159.340488 91.240736 \nL 169.404616 88.192228 \nL 180.139686 85.186392 \nL 191.545697 82.236567 \nL 203.622651 79.353364 \nL 216.370546 76.544963 \nL 229.789384 73.817411 \nL 243.879163 71.174894 \nL 259.310825 68.50861 \nL 276.084372 65.846348 \nL 293.52886 63.304426 \nL 312.315232 60.791542 \nL 332.443488 58.323145 \nL 354.58457 55.838781 \nL 372.7 53.96252 \nL 372.7 53.96252 \n\" style=\"fill:none;stroke:#ff7f0e;stroke-linecap:round;stroke-width:1.5;\"/>\n   </g>\n   <g id=\"line2d_27\">\n    <path clip-path=\"url(#p6ffb82fb8b)\" d=\"M 37.900011 228.996213 \nL 38.570953 204.480371 \nL 39.241895 198.401856 \nL 39.912837 194.289203 \nL 40.583779 191.110238 \nL 41.925662 186.257971 \nL 43.267546 182.554665 \nL 44.60943 179.537786 \nL 45.951313 176.982682 \nL 47.964139 173.750032 \nL 49.976965 171.026786 \nL 51.98979 168.669725 \nL 54.673558 165.946366 \nL 57.357325 163.582148 \nL 60.041093 161.490741 \nL 63.395802 159.172896 \nL 66.750511 157.112897 \nL 70.776162 154.906635 \nL 75.472755 152.619394 \nL 80.169348 150.574389 \nL 85.536883 148.471203 \nL 91.57536 146.342147 \nL 98.284779 144.210153 \nL 105.665139 142.090799 \nL 114.387383 139.828131 \nL 123.780569 137.624242 \nL 134.515639 135.339846 \nL 146.592593 133.007184 \nL 160.01143 130.649356 \nL 174.772151 128.282388 \nL 191.545697 125.822763 \nL 210.33207 123.300451 \nL 231.131267 120.73746 \nL 254.614232 118.076615 \nL 280.110023 115.413314 \nL 308.960523 112.628821 \nL 340.494791 109.81176 \nL 372.7 107.135051 \nL 372.7 107.135051 \n\" style=\"fill:none;stroke:#2ca02c;stroke-linecap:round;stroke-width:1.5;\"/>\n   </g>\n   <g id=\"line2d_28\">\n    <path clip-path=\"url(#p6ffb82fb8b)\" d=\"M 37.900011 229.013003 \nL 38.570953 209.742219 \nL 39.241895 205.508807 \nL 39.912837 202.673196 \nL 40.583779 200.483362 \nL 41.925662 197.124276 \nL 43.267546 194.531783 \nL 44.60943 192.391831 \nL 46.622255 189.721338 \nL 48.635081 187.48168 \nL 50.647907 185.538287 \nL 53.331674 183.276536 \nL 56.015441 181.291429 \nL 59.370151 179.096293 \nL 63.395802 176.774239 \nL 67.421453 174.707651 \nL 72.118046 172.542133 \nL 77.485581 170.317113 \nL 83.524058 168.060609 \nL 90.233476 165.792072 \nL 97.613837 163.524768 \nL 106.336081 161.088205 \nL 115.729267 158.697695 \nL 126.464337 156.201354 \nL 138.54129 153.6331 \nL 151.960128 151.018436 \nL 166.720849 148.376263 \nL 182.823453 145.720469 \nL 200.938883 142.962861 \nL 221.067139 140.132473 \nL 243.208221 137.251845 \nL 267.362128 134.338314 \nL 294.199802 131.332627 \nL 323.050302 128.327251 \nL 354.58457 125.265371 \nL 372.7 123.597134 \nL 372.7 123.597134 \n\" style=\"fill:none;stroke:#d62728;stroke-linecap:round;stroke-width:1.5;\"/>\n   </g>\n   <g id=\"line2d_29\">\n    <path clip-path=\"url(#p6ffb82fb8b)\" d=\"M 37.900011 229.345739 \nL 38.570953 217.107298 \nL 39.241895 213.876341 \nL 39.912837 211.613973 \nL 41.25472 208.297065 \nL 42.596604 205.78613 \nL 43.938488 203.720154 \nL 45.951313 201.135019 \nL 47.964139 198.953822 \nL 50.647907 196.461071 \nL 53.331674 194.299333 \nL 56.686383 191.926528 \nL 60.041093 189.823101 \nL 64.066744 187.564262 \nL 68.763337 185.206386 \nL 74.130872 182.789855 \nL 80.169348 180.342927 \nL 86.878767 177.885104 \nL 94.259128 175.42971 \nL 102.31043 172.985761 \nL 111.703616 170.38084 \nL 121.767744 167.82585 \nL 133.173755 165.167586 \nL 145.921651 162.438049 \nL 160.01143 159.661795 \nL 175.443093 156.857454 \nL 192.216639 154.039052 \nL 211.003011 151.11647 \nL 231.131267 148.212248 \nL 253.272349 145.243035 \nL 277.426256 142.228709 \nL 304.26393 139.109588 \nL 333.11443 135.983225 \nL 364.648698 132.792086 \nL 372.7 132.010677 \nL 372.7 132.010677 \n\" style=\"fill:none;stroke:#9467bd;stroke-linecap:round;stroke-width:1.5;\"/>\n   </g>\n   <g id=\"patch_3\">\n    <path d=\"M 37.9 239.229375 \nL 37.9 21.789375 \n\" style=\"fill:none;stroke:#cccccc;stroke-linecap:square;stroke-linejoin:miter;\"/>\n   </g>\n   <g id=\"patch_4\">\n    <path d=\"M 372.7 239.229375 \nL 372.7 21.789375 \n\" style=\"fill:none;stroke:#cccccc;stroke-linecap:square;stroke-linejoin:miter;\"/>\n   </g>\n   <g id=\"patch_5\">\n    <path d=\"M 37.9 239.229375 \nL 372.7 239.229375 \n\" style=\"fill:none;stroke:#cccccc;stroke-linecap:square;stroke-linejoin:miter;\"/>\n   </g>\n   <g id=\"patch_6\">\n    <path d=\"M 37.9 21.789375 \nL 372.7 21.789375 \n\" style=\"fill:none;stroke:#cccccc;stroke-linecap:square;stroke-linejoin:miter;\"/>\n   </g>\n   <g id=\"text_15\">\n    <!-- Transition curve -->\n    <defs>\n     <path d=\"M 25.921875 0 \nL 25.921875 63.140625 \nL 2.34375 63.140625 \nL 2.34375 71.578125 \nL 59.078125 71.578125 \nL 59.078125 63.140625 \nL 35.40625 63.140625 \nL 35.40625 0 \nz\n\" id=\"ArialMT-54\"/>\n     <path d=\"M 6.5 0 \nL 6.5 51.859375 \nL 14.40625 51.859375 \nL 14.40625 44 \nQ 17.4375 49.515625 20 51.265625 \nQ 22.5625 53.03125 25.640625 53.03125 \nQ 30.078125 53.03125 34.671875 50.203125 \nL 31.640625 42.046875 \nQ 28.421875 43.953125 25.203125 43.953125 \nQ 22.3125 43.953125 20.015625 42.21875 \nQ 17.71875 40.484375 16.75 37.40625 \nQ 15.28125 32.71875 15.28125 27.15625 \nL 15.28125 0 \nz\n\" id=\"ArialMT-72\"/>\n     <path d=\"M 40.4375 6.390625 \nQ 35.546875 2.25 31.03125 0.53125 \nQ 26.515625 -1.171875 21.34375 -1.171875 \nQ 12.796875 -1.171875 8.203125 3 \nQ 3.609375 7.171875 3.609375 13.671875 \nQ 3.609375 17.484375 5.34375 20.625 \nQ 7.078125 23.78125 9.890625 25.6875 \nQ 12.703125 27.59375 16.21875 28.5625 \nQ 18.796875 29.25 24.03125 29.890625 \nQ 34.671875 31.15625 39.703125 32.90625 \nQ 39.75 34.71875 39.75 35.203125 \nQ 39.75 40.578125 37.25 42.78125 \nQ 33.890625 45.75 27.25 45.75 \nQ 21.046875 45.75 18.09375 43.578125 \nQ 15.140625 41.40625 13.71875 35.890625 \nL 5.125 37.0625 \nQ 6.296875 42.578125 8.984375 45.96875 \nQ 11.671875 49.359375 16.75 51.1875 \nQ 21.828125 53.03125 28.515625 53.03125 \nQ 35.15625 53.03125 39.296875 51.46875 \nQ 43.453125 49.90625 45.40625 47.53125 \nQ 47.359375 45.171875 48.140625 41.546875 \nQ 48.578125 39.3125 48.578125 33.453125 \nL 48.578125 21.734375 \nQ 48.578125 9.46875 49.140625 6.21875 \nQ 49.703125 2.984375 51.375 0 \nL 42.1875 0 \nQ 40.828125 2.734375 40.4375 6.390625 \nz\nM 39.703125 26.03125 \nQ 34.90625 24.078125 25.34375 22.703125 \nQ 19.921875 21.921875 17.671875 20.9375 \nQ 15.4375 19.96875 14.203125 18.09375 \nQ 12.984375 16.21875 12.984375 13.921875 \nQ 12.984375 10.40625 15.640625 8.0625 \nQ 18.3125 5.71875 23.4375 5.71875 \nQ 28.515625 5.71875 32.46875 7.9375 \nQ 36.421875 10.15625 38.28125 14.015625 \nQ 39.703125 17 39.703125 22.796875 \nz\n\" id=\"ArialMT-61\"/>\n     <path d=\"M 6.59375 0 \nL 6.59375 51.859375 \nL 14.5 51.859375 \nL 14.5 44.484375 \nQ 20.21875 53.03125 31 53.03125 \nQ 35.6875 53.03125 39.625 51.34375 \nQ 43.5625 49.65625 45.515625 46.921875 \nQ 47.46875 44.1875 48.25 40.4375 \nQ 48.734375 37.984375 48.734375 31.890625 \nL 48.734375 0 \nL 39.9375 0 \nL 39.9375 31.546875 \nQ 39.9375 36.921875 38.90625 39.578125 \nQ 37.890625 42.234375 35.28125 43.8125 \nQ 32.671875 45.40625 29.15625 45.40625 \nQ 23.53125 45.40625 19.453125 41.84375 \nQ 15.375 38.28125 15.375 28.328125 \nL 15.375 0 \nz\n\" id=\"ArialMT-6e\"/>\n     <path d=\"M 3.078125 15.484375 \nL 11.765625 16.84375 \nQ 12.5 11.625 15.84375 8.84375 \nQ 19.1875 6.0625 25.203125 6.0625 \nQ 31.25 6.0625 34.171875 8.515625 \nQ 37.109375 10.984375 37.109375 14.3125 \nQ 37.109375 17.28125 34.515625 19 \nQ 32.71875 20.171875 25.53125 21.96875 \nQ 15.875 24.421875 12.140625 26.203125 \nQ 8.40625 27.984375 6.46875 31.125 \nQ 4.546875 34.28125 4.546875 38.09375 \nQ 4.546875 41.546875 6.125 44.5 \nQ 7.71875 47.46875 10.453125 49.421875 \nQ 12.5 50.921875 16.03125 51.96875 \nQ 19.578125 53.03125 23.640625 53.03125 \nQ 29.734375 53.03125 34.34375 51.265625 \nQ 38.96875 49.515625 41.15625 46.5 \nQ 43.359375 43.5 44.1875 38.484375 \nL 35.59375 37.3125 \nQ 35.015625 41.3125 32.203125 43.546875 \nQ 29.390625 45.796875 24.265625 45.796875 \nQ 18.21875 45.796875 15.625 43.796875 \nQ 13.03125 41.796875 13.03125 39.109375 \nQ 13.03125 37.40625 14.109375 36.03125 \nQ 15.1875 34.625 17.484375 33.6875 \nQ 18.796875 33.203125 25.25 31.453125 \nQ 34.578125 28.953125 38.25 27.359375 \nQ 41.9375 25.78125 44.03125 22.75 \nQ 46.140625 19.734375 46.140625 15.234375 \nQ 46.140625 10.84375 43.578125 6.953125 \nQ 41.015625 3.078125 36.171875 0.953125 \nQ 31.34375 -1.171875 25.25 -1.171875 \nQ 15.140625 -1.171875 9.84375 3.03125 \nQ 4.546875 7.234375 3.078125 15.484375 \nz\n\" id=\"ArialMT-73\"/>\n     <path d=\"M 6.640625 61.46875 \nL 6.640625 71.578125 \nL 15.4375 71.578125 \nL 15.4375 61.46875 \nz\nM 6.640625 0 \nL 6.640625 51.859375 \nL 15.4375 51.859375 \nL 15.4375 0 \nz\n\" id=\"ArialMT-69\"/>\n     <path d=\"M 25.78125 7.859375 \nL 27.046875 0.09375 \nQ 23.34375 -0.6875 20.40625 -0.6875 \nQ 15.625 -0.6875 12.984375 0.828125 \nQ 10.359375 2.34375 9.28125 4.8125 \nQ 8.203125 7.28125 8.203125 15.1875 \nL 8.203125 45.015625 \nL 1.765625 45.015625 \nL 1.765625 51.859375 \nL 8.203125 51.859375 \nL 8.203125 64.703125 \nL 16.9375 69.96875 \nL 16.9375 51.859375 \nL 25.78125 51.859375 \nL 25.78125 45.015625 \nL 16.9375 45.015625 \nL 16.9375 14.703125 \nQ 16.9375 10.9375 17.40625 9.859375 \nQ 17.875 8.796875 18.921875 8.15625 \nQ 19.96875 7.515625 21.921875 7.515625 \nQ 23.390625 7.515625 25.78125 7.859375 \nz\n\" id=\"ArialMT-74\"/>\n     <path d=\"M 3.328125 25.921875 \nQ 3.328125 40.328125 11.328125 47.265625 \nQ 18.015625 53.03125 27.640625 53.03125 \nQ 38.328125 53.03125 45.109375 46.015625 \nQ 51.90625 39.015625 51.90625 26.65625 \nQ 51.90625 16.65625 48.90625 10.90625 \nQ 45.90625 5.171875 40.15625 2 \nQ 34.421875 -1.171875 27.640625 -1.171875 \nQ 16.75 -1.171875 10.03125 5.8125 \nQ 3.328125 12.796875 3.328125 25.921875 \nz\nM 12.359375 25.921875 \nQ 12.359375 15.96875 16.703125 11.015625 \nQ 21.046875 6.0625 27.640625 6.0625 \nQ 34.1875 6.0625 38.53125 11.03125 \nQ 42.875 16.015625 42.875 26.21875 \nQ 42.875 35.84375 38.5 40.796875 \nQ 34.125 45.75 27.640625 45.75 \nQ 21.046875 45.75 16.703125 40.8125 \nQ 12.359375 35.890625 12.359375 25.921875 \nz\n\" id=\"ArialMT-6f\"/>\n     <path id=\"ArialMT-20\"/>\n     <path d=\"M 40.4375 19 \nL 49.078125 17.875 \nQ 47.65625 8.9375 41.8125 3.875 \nQ 35.984375 -1.171875 27.484375 -1.171875 \nQ 16.84375 -1.171875 10.375 5.78125 \nQ 3.90625 12.75 3.90625 25.734375 \nQ 3.90625 34.125 6.6875 40.421875 \nQ 9.46875 46.734375 15.15625 49.875 \nQ 20.84375 53.03125 27.546875 53.03125 \nQ 35.984375 53.03125 41.359375 48.75 \nQ 46.734375 44.484375 48.25 36.625 \nL 39.703125 35.296875 \nQ 38.484375 40.53125 35.375 43.15625 \nQ 32.28125 45.796875 27.875 45.796875 \nQ 21.234375 45.796875 17.078125 41.03125 \nQ 12.9375 36.28125 12.9375 25.984375 \nQ 12.9375 15.53125 16.9375 10.796875 \nQ 20.953125 6.0625 27.390625 6.0625 \nQ 32.5625 6.0625 36.03125 9.234375 \nQ 39.5 12.40625 40.4375 19 \nz\n\" id=\"ArialMT-63\"/>\n     <path d=\"M 40.578125 0 \nL 40.578125 7.625 \nQ 34.515625 -1.171875 24.125 -1.171875 \nQ 19.53125 -1.171875 15.546875 0.578125 \nQ 11.578125 2.34375 9.640625 5 \nQ 7.71875 7.671875 6.9375 11.53125 \nQ 6.390625 14.109375 6.390625 19.734375 \nL 6.390625 51.859375 \nL 15.1875 51.859375 \nL 15.1875 23.09375 \nQ 15.1875 16.21875 15.71875 13.8125 \nQ 16.546875 10.359375 19.234375 8.375 \nQ 21.921875 6.390625 25.875 6.390625 \nQ 29.828125 6.390625 33.296875 8.421875 \nQ 36.765625 10.453125 38.203125 13.9375 \nQ 39.65625 17.4375 39.65625 24.078125 \nL 39.65625 51.859375 \nL 48.4375 51.859375 \nL 48.4375 0 \nz\n\" id=\"ArialMT-75\"/>\n     <path d=\"M 21 0 \nL 1.265625 51.859375 \nL 10.546875 51.859375 \nL 21.6875 20.796875 \nQ 23.484375 15.765625 25 10.359375 \nQ 26.171875 14.453125 28.265625 20.21875 \nL 39.796875 51.859375 \nL 48.828125 51.859375 \nL 29.203125 0 \nz\n\" id=\"ArialMT-76\"/>\n     <path d=\"M 42.09375 16.703125 \nL 51.171875 15.578125 \nQ 49.03125 7.625 43.21875 3.21875 \nQ 37.40625 -1.171875 28.375 -1.171875 \nQ 17 -1.171875 10.328125 5.828125 \nQ 3.65625 12.84375 3.65625 25.484375 \nQ 3.65625 38.578125 10.390625 45.796875 \nQ 17.140625 53.03125 27.875 53.03125 \nQ 38.28125 53.03125 44.875 45.953125 \nQ 51.46875 38.875 51.46875 26.03125 \nQ 51.46875 25.25 51.421875 23.6875 \nL 12.75 23.6875 \nQ 13.234375 15.140625 17.578125 10.59375 \nQ 21.921875 6.0625 28.421875 6.0625 \nQ 33.25 6.0625 36.671875 8.59375 \nQ 40.09375 11.140625 42.09375 16.703125 \nz\nM 13.234375 30.90625 \nL 42.1875 30.90625 \nQ 41.609375 37.453125 38.875 40.71875 \nQ 34.671875 45.796875 27.984375 45.796875 \nQ 21.921875 45.796875 17.796875 41.75 \nQ 13.671875 37.703125 13.234375 30.90625 \nz\n\" id=\"ArialMT-65\"/>\n    </defs>\n    <g style=\"fill:#262626;\" transform=\"translate(162.623125 15.789375)scale(0.12 -0.12)\">\n     <use xlink:href=\"#ArialMT-54\"/>\n     <use x=\"61.037109\" xlink:href=\"#ArialMT-72\"/>\n     <use x=\"94.337891\" xlink:href=\"#ArialMT-61\"/>\n     <use x=\"149.953125\" xlink:href=\"#ArialMT-6e\"/>\n     <use x=\"205.568359\" xlink:href=\"#ArialMT-73\"/>\n     <use x=\"255.568359\" xlink:href=\"#ArialMT-69\"/>\n     <use x=\"277.785156\" xlink:href=\"#ArialMT-74\"/>\n     <use x=\"305.568359\" xlink:href=\"#ArialMT-69\"/>\n     <use x=\"327.785156\" xlink:href=\"#ArialMT-6f\"/>\n     <use x=\"383.400391\" xlink:href=\"#ArialMT-6e\"/>\n     <use x=\"439.015625\" xlink:href=\"#ArialMT-20\"/>\n     <use x=\"466.798828\" xlink:href=\"#ArialMT-63\"/>\n     <use x=\"516.798828\" xlink:href=\"#ArialMT-75\"/>\n     <use x=\"572.414062\" xlink:href=\"#ArialMT-72\"/>\n     <use x=\"605.714844\" xlink:href=\"#ArialMT-76\"/>\n     <use x=\"655.714844\" xlink:href=\"#ArialMT-65\"/>\n    </g>\n   </g>\n   <g id=\"legend_1\">\n    <g id=\"patch_7\">\n     <path d=\"M 292.8 234.229375 \nL 365.7 234.229375 \nQ 367.7 234.229375 367.7 232.229375 \nL 367.7 162.502812 \nQ 367.7 160.502812 365.7 160.502812 \nL 292.8 160.502812 \nQ 290.8 160.502812 290.8 162.502812 \nL 290.8 232.229375 \nQ 290.8 234.229375 292.8 234.229375 \nz\n\" style=\"fill:#ffffff;opacity:0.8;stroke:#cccccc;stroke-linejoin:miter;\"/>\n    </g>\n    <g id=\"line2d_30\">\n     <path d=\"M 294.8 168.160625 \nL 314.8 168.160625 \n\" style=\"fill:none;stroke:#1f77b4;stroke-linecap:round;stroke-width:1.5;\"/>\n    </g>\n    <g id=\"line2d_31\"/>\n    <g id=\"text_16\">\n     <!-- $\\sigma = 0.1$ -->\n     <defs>\n      <path d=\"M 34.671875 47.5625 \nQ 27.25 47.5625 22.21875 42.1875 \nQ 16.890625 36.578125 15.140625 27.296875 \nQ 13.1875 17.484375 16.3125 11.8125 \nQ 19.390625 6.203125 26.65625 6.203125 \nQ 33.84375 6.203125 39.109375 11.859375 \nQ 44.4375 17.53125 46.34375 27.296875 \nQ 48.046875 36.234375 45.015625 42.1875 \nQ 42.1875 47.5625 34.671875 47.5625 \nz\nM 36.078125 54.734375 \nL 65.921875 54.6875 \nL 64.15625 45.703125 \nL 54.109375 45.703125 \nQ 57.90625 38.09375 55.859375 27.296875 \nQ 53.21875 13.875 45.0625 6.25 \nQ 36.859375 -1.421875 25.140625 -1.421875 \nQ 13.375 -1.421875 8.203125 6.25 \nQ 3.03125 13.875 5.671875 27.296875 \nQ 8.25 40.765625 16.40625 48.390625 \nQ 23.1875 54.734375 36.078125 54.734375 \nz\n\" id=\"DejaVuSans-Oblique-3c3\"/>\n      <path d=\"M 10.59375 45.40625 \nL 73.1875 45.40625 \nL 73.1875 37.203125 \nL 10.59375 37.203125 \nz\nM 10.59375 25.484375 \nL 73.1875 25.484375 \nL 73.1875 17.1875 \nL 10.59375 17.1875 \nz\n\" id=\"DejaVuSans-3d\"/>\n      <path d=\"M 31.78125 66.40625 \nQ 24.171875 66.40625 20.328125 58.90625 \nQ 16.5 51.421875 16.5 36.375 \nQ 16.5 21.390625 20.328125 13.890625 \nQ 24.171875 6.390625 31.78125 6.390625 \nQ 39.453125 6.390625 43.28125 13.890625 \nQ 47.125 21.390625 47.125 36.375 \nQ 47.125 51.421875 43.28125 58.90625 \nQ 39.453125 66.40625 31.78125 66.40625 \nz\nM 31.78125 74.21875 \nQ 44.046875 74.21875 50.515625 64.515625 \nQ 56.984375 54.828125 56.984375 36.375 \nQ 56.984375 17.96875 50.515625 8.265625 \nQ 44.046875 -1.421875 31.78125 -1.421875 \nQ 19.53125 -1.421875 13.0625 8.265625 \nQ 6.59375 17.96875 6.59375 36.375 \nQ 6.59375 54.828125 13.0625 64.515625 \nQ 19.53125 74.21875 31.78125 74.21875 \nz\n\" id=\"DejaVuSans-30\"/>\n      <path d=\"M 10.6875 12.40625 \nL 21 12.40625 \nL 21 0 \nL 10.6875 0 \nz\n\" id=\"DejaVuSans-2e\"/>\n     </defs>\n     <g style=\"fill:#262626;\" transform=\"translate(322.8 171.660625)scale(0.1 -0.1)\">\n      <use transform=\"translate(0 0.78125)\" xlink:href=\"#DejaVuSans-Oblique-3c3\"/>\n      <use transform=\"translate(82.861328 0.78125)\" xlink:href=\"#DejaVuSans-3d\"/>\n      <use transform=\"translate(186.132812 0.78125)\" xlink:href=\"#DejaVuSans-30\"/>\n      <use transform=\"translate(249.755859 0.78125)\" xlink:href=\"#DejaVuSans-2e\"/>\n      <use transform=\"translate(281.542969 0.78125)\" xlink:href=\"#DejaVuSans-31\"/>\n     </g>\n    </g>\n    <g id=\"line2d_32\">\n     <path d=\"M 294.8 182.305937 \nL 314.8 182.305937 \n\" style=\"fill:none;stroke:#ff7f0e;stroke-linecap:round;stroke-width:1.5;\"/>\n    </g>\n    <g id=\"line2d_33\"/>\n    <g id=\"text_17\">\n     <!-- $\\sigma = 0.2$ -->\n     <defs>\n      <path d=\"M 19.1875 8.296875 \nL 53.609375 8.296875 \nL 53.609375 0 \nL 7.328125 0 \nL 7.328125 8.296875 \nQ 12.9375 14.109375 22.625 23.890625 \nQ 32.328125 33.6875 34.8125 36.53125 \nQ 39.546875 41.84375 41.421875 45.53125 \nQ 43.3125 49.21875 43.3125 52.78125 \nQ 43.3125 58.59375 39.234375 62.25 \nQ 35.15625 65.921875 28.609375 65.921875 \nQ 23.96875 65.921875 18.8125 64.3125 \nQ 13.671875 62.703125 7.8125 59.421875 \nL 7.8125 69.390625 \nQ 13.765625 71.78125 18.9375 73 \nQ 24.125 74.21875 28.421875 74.21875 \nQ 39.75 74.21875 46.484375 68.546875 \nQ 53.21875 62.890625 53.21875 53.421875 \nQ 53.21875 48.921875 51.53125 44.890625 \nQ 49.859375 40.875 45.40625 35.40625 \nQ 44.1875 33.984375 37.640625 27.21875 \nQ 31.109375 20.453125 19.1875 8.296875 \nz\n\" id=\"DejaVuSans-32\"/>\n     </defs>\n     <g style=\"fill:#262626;\" transform=\"translate(322.8 185.805937)scale(0.1 -0.1)\">\n      <use transform=\"translate(0 0.78125)\" xlink:href=\"#DejaVuSans-Oblique-3c3\"/>\n      <use transform=\"translate(82.861328 0.78125)\" xlink:href=\"#DejaVuSans-3d\"/>\n      <use transform=\"translate(186.132812 0.78125)\" xlink:href=\"#DejaVuSans-30\"/>\n      <use transform=\"translate(249.755859 0.78125)\" xlink:href=\"#DejaVuSans-2e\"/>\n      <use transform=\"translate(281.464844 0.78125)\" xlink:href=\"#DejaVuSans-32\"/>\n     </g>\n    </g>\n    <g id=\"line2d_34\">\n     <path d=\"M 294.8 196.45125 \nL 314.8 196.45125 \n\" style=\"fill:none;stroke:#2ca02c;stroke-linecap:round;stroke-width:1.5;\"/>\n    </g>\n    <g id=\"line2d_35\"/>\n    <g id=\"text_18\">\n     <!-- $\\sigma = 0.5$ -->\n     <defs>\n      <path d=\"M 10.796875 72.90625 \nL 49.515625 72.90625 \nL 49.515625 64.59375 \nL 19.828125 64.59375 \nL 19.828125 46.734375 \nQ 21.96875 47.46875 24.109375 47.828125 \nQ 26.265625 48.1875 28.421875 48.1875 \nQ 40.625 48.1875 47.75 41.5 \nQ 54.890625 34.8125 54.890625 23.390625 \nQ 54.890625 11.625 47.5625 5.09375 \nQ 40.234375 -1.421875 26.90625 -1.421875 \nQ 22.3125 -1.421875 17.546875 -0.640625 \nQ 12.796875 0.140625 7.71875 1.703125 \nL 7.71875 11.625 \nQ 12.109375 9.234375 16.796875 8.0625 \nQ 21.484375 6.890625 26.703125 6.890625 \nQ 35.15625 6.890625 40.078125 11.328125 \nQ 45.015625 15.765625 45.015625 23.390625 \nQ 45.015625 31 40.078125 35.4375 \nQ 35.15625 39.890625 26.703125 39.890625 \nQ 22.75 39.890625 18.8125 39.015625 \nQ 14.890625 38.140625 10.796875 36.28125 \nz\n\" id=\"DejaVuSans-35\"/>\n     </defs>\n     <g style=\"fill:#262626;\" transform=\"translate(322.8 199.95125)scale(0.1 -0.1)\">\n      <use transform=\"translate(0 0.78125)\" xlink:href=\"#DejaVuSans-Oblique-3c3\"/>\n      <use transform=\"translate(82.861328 0.78125)\" xlink:href=\"#DejaVuSans-3d\"/>\n      <use transform=\"translate(186.132812 0.78125)\" xlink:href=\"#DejaVuSans-30\"/>\n      <use transform=\"translate(249.755859 0.78125)\" xlink:href=\"#DejaVuSans-2e\"/>\n      <use transform=\"translate(281.542969 0.78125)\" xlink:href=\"#DejaVuSans-35\"/>\n     </g>\n    </g>\n    <g id=\"line2d_36\">\n     <path d=\"M 294.8 210.596562 \nL 314.8 210.596562 \n\" style=\"fill:none;stroke:#d62728;stroke-linecap:round;stroke-width:1.5;\"/>\n    </g>\n    <g id=\"line2d_37\"/>\n    <g id=\"text_19\">\n     <!-- $\\sigma = 0.75$ -->\n     <defs>\n      <path d=\"M 8.203125 72.90625 \nL 55.078125 72.90625 \nL 55.078125 68.703125 \nL 28.609375 0 \nL 18.3125 0 \nL 43.21875 64.59375 \nL 8.203125 64.59375 \nz\n\" id=\"DejaVuSans-37\"/>\n     </defs>\n     <g style=\"fill:#262626;\" transform=\"translate(322.8 214.096562)scale(0.1 -0.1)\">\n      <use transform=\"translate(0 0.78125)\" xlink:href=\"#DejaVuSans-Oblique-3c3\"/>\n      <use transform=\"translate(82.861328 0.78125)\" xlink:href=\"#DejaVuSans-3d\"/>\n      <use transform=\"translate(186.132812 0.78125)\" xlink:href=\"#DejaVuSans-30\"/>\n      <use transform=\"translate(249.755859 0.78125)\" xlink:href=\"#DejaVuSans-2e\"/>\n      <use transform=\"translate(281.433594 0.78125)\" xlink:href=\"#DejaVuSans-37\"/>\n      <use transform=\"translate(345.056641 0.78125)\" xlink:href=\"#DejaVuSans-35\"/>\n     </g>\n    </g>\n    <g id=\"line2d_38\">\n     <path d=\"M 294.8 224.741875 \nL 314.8 224.741875 \n\" style=\"fill:none;stroke:#9467bd;stroke-linecap:round;stroke-width:1.5;\"/>\n    </g>\n    <g id=\"line2d_39\"/>\n    <g id=\"text_20\">\n     <!-- $\\sigma = 1$ -->\n     <g style=\"fill:#262626;\" transform=\"translate(322.8 228.241875)scale(0.1 -0.1)\">\n      <use transform=\"translate(0 0.09375)\" xlink:href=\"#DejaVuSans-Oblique-3c3\"/>\n      <use transform=\"translate(82.861328 0.09375)\" xlink:href=\"#DejaVuSans-3d\"/>\n      <use transform=\"translate(186.132812 0.09375)\" xlink:href=\"#DejaVuSans-31\"/>\n     </g>\n    </g>\n   </g>\n  </g>\n </g>\n <defs>\n  <clipPath id=\"p6ffb82fb8b\">\n   <rect height=\"217.44\" width=\"334.8\" x=\"37.9\" y=\"21.789375\"/>\n  </clipPath>\n </defs>\n</svg>\n",
      "image/png": "[encoded data removed]"
     },
     "metadata": {
      "needs_background": "light"
     }
    }
   ],
   "source": [
    "\n",
    "def savings2(w,r,rho,sigma):\n",
    "    return (1/((1+r)**((sigma-1)/sigma)*(1+rho)**(1/sigma)+1))*w\n",
    "\n",
    "def transition2(k,alpha,sigma,rho,n):\n",
    "    w = wage(k,alpha)\n",
    "    r = rr(k,alpha) \n",
    "    s = savings2(w,r,rho,sigma)\n",
    "    return capital_2t(s,n)\n",
    "\n",
    "def transition_curve(alpha,rho,n):\n",
    "\n",
    "    # a. grids\n",
    "    capital_1 = np.linspace(1e-8,0.3,500)\n",
    "    capital_2 = np.empty(500)\n",
    "\n",
    "    #b. solve for each k in grid\n",
    "    for i,k in enumerate(capital_1):\n",
    "    \n",
    "        # i. capital in t+1\n",
    "         result = transition2(k,alpha,sigma,rho,n)\n",
    "         capital_2[i] = result\n",
    "\n",
    "    return capital_1,capital_2\n",
    "\n",
    "fig = plt.figure()\n",
    "ax = fig.add_subplot(1,1,1)\n",
    "\n",
    "for sigma in [0.1,0.2,0.5,0.75,1]:\n",
    "    capital_1,capital_2 = transition_curve(alpha,rho,n)\n",
    "    ax.plot(capital_1,capital_2,label=f'$\\sigma = {sigma}$')\n",
    "\n",
    "ax.legend(loc='lower right',facecolor='white',frameon=True)\n",
    "ax.set_xlabel('$k_t$')\n",
    "ax.set_ylabel('$k_t+1$')\n",
    "ax.set_title('Transition curve')\n",
    "ax.set_xlim([0,0.3]);\n",
    "\n",
    "#ax_left.set_title('hej)\n",
    "#for i,sigma in enumerate(sigma_vec):\n",
    "    #ax.plot(k2_vec[i])\n",
    "\n",
    "\n"
   ]
  },
  {
   "cell_type": "markdown",
   "metadata": {},
   "source": [
    "## Fully funded systems"
   ]
  },
  {
   "cell_type": "markdown",
   "metadata": {},
   "source": [
    "The government raises $d_t$ from the young in period t and invest these, and pay them out with interests as benefits in the next period:\n",
    "\n",
    "$$(1+r_{t+1})d_t = b_t+1$$\n",
    "\n",
    "Thus we get a new budget constraint for the young in period t:\n",
    "\n",
    "$$ c_1t + s_t + d_t = w_t$$\n",
    "\n",
    "and a new budget constraint for them when old in period t+1 given by:\n",
    "$$ c_{2t+1} = (1+r_{t+1})s_t + b_{t+1} = (1+r_{t+1})(s_t + d_t)$$\n",
    "\n",
    "capital accumulation is now given by:\n",
    "$$k_{t+1} = \\frac{s_t + d_t}{1+n}$$\n"
   ]
  },
  {
   "cell_type": "code",
   "execution_count": 39,
   "metadata": {},
   "outputs": [],
   "source": [
    "\n",
    "c_1t = sm.symbols('c_1t')\n",
    "c_2t = sm.symbols('c_2t+1')\n",
    "rho = sm.symbols('rho')\n",
    "u_1 = sm.symbols('u_1')\n",
    "u_2 = sm.symbols('u_2')\n",
    "sigma = sm.symbols('sigma')\n",
    "w = sm.symbols('w_t')\n",
    "r_t1 = sm.symbols('r_t+1')\n",
    "lamb = sm.symbols('lambda')\n",
    "s = sm.symbols('s_t')\n",
    "k_2t = sm.symbols('k_t+1')\n",
    "k_1t = sm.symbols('k_t')\n",
    "alpha = sm.symbols('alpha')\n",
    "n = sm.symbols('n')\n",
    "k_star = sm.symbols('k^*')\n",
    "Y = sm.symbols('Y_t')\n",
    "K = sm.symbols('K_t')\n",
    "L_t = sm.symbols('L_t')\n",
    "r = sm.symbols('r_t')\n",
    "d_t = sm.symbols('d_t')\n"
   ]
  },
  {
   "cell_type": "code",
   "execution_count": 33,
   "metadata": {},
   "outputs": [
    {
     "output_type": "execute_result",
     "data": {
      "text/plain": "Eq(c_2t+1, c_1t*(r_t+1 + 1)/(rho + 1))",
      "text/latex": "$\\displaystyle c_{2t+1} = \\frac{c_{1t} \\left(r_{t+1} + 1\\right)}{\\rho + 1}$"
     },
     "metadata": {},
     "execution_count": 33
    }
   ],
   "source": [
    "def Lan(x):\n",
    "    L_1 = sm.diff(L, x)\n",
    "    L_2 = sm.Eq(L_1,0)\n",
    "    L_3 = sm.solve(L_2, lamb) [0]\n",
    "    return L_3\n",
    "\n",
    "L_c1 = Lan(c_1t)\n",
    "L_c2 = Lan(c_2t)\n",
    "\n",
    "Eu = sm.Eq(L_c1, L_c2)\n",
    "Eu_1 = sm.solve(Eu, c_2t) [0]\n",
    "Euler = sm.Eq(c_2t, Eu_1)\n",
    "Euler\n"
   ]
  },
  {
   "cell_type": "code",
   "execution_count": 44,
   "metadata": {},
   "outputs": [
    {
     "output_type": "error",
     "ename": "NotImplementedError",
     "evalue": "multiple generators [1/k_t, k_t, k_t**alpha]\nNo algorithms are implemented to solve equation (d_t + k_t)*(alpha*k_t**(alpha - 1) + 1) - (rho + 1)**(-1/sigma)*(alpha*k_t**(alpha - 1) + 1)*(-d_t - k_t + k_t**alpha*(1 - alpha))",
     "traceback": [
      "\u001b[0;31m---------------------------------------------------------------------------\u001b[0m",
      "\u001b[0;31mNotImplementedError\u001b[0m                       Traceback (most recent call last)",
      "\u001b[0;32m<ipython-input-44-da386b25706d>\u001b[0m in \u001b[0;36m<module>\u001b[0;34m\u001b[0m\n\u001b[1;32m      7\u001b[0m \u001b[0mc_2t_h\u001b[0m \u001b[0;34m=\u001b[0m \u001b[0mc_2t_h\u001b[0m\u001b[0;34m.\u001b[0m\u001b[0msubs\u001b[0m\u001b[0;34m(\u001b[0m\u001b[0mr_t1\u001b[0m\u001b[0;34m,\u001b[0m \u001b[0malpha\u001b[0m\u001b[0;34m*\u001b[0m\u001b[0mk_1t\u001b[0m\u001b[0;34m**\u001b[0m\u001b[0;34m(\u001b[0m\u001b[0malpha\u001b[0m\u001b[0;34m-\u001b[0m\u001b[0;36m1\u001b[0m\u001b[0;34m)\u001b[0m\u001b[0;34m)\u001b[0m\u001b[0;34m\u001b[0m\u001b[0;34m\u001b[0m\u001b[0m\n\u001b[1;32m      8\u001b[0m \u001b[0mc_2t_h\u001b[0m \u001b[0;34m=\u001b[0m \u001b[0mc_2t_h\u001b[0m\u001b[0;34m.\u001b[0m\u001b[0msubs\u001b[0m\u001b[0;34m(\u001b[0m\u001b[0ms\u001b[0m\u001b[0;34m,\u001b[0m \u001b[0mk_1t\u001b[0m\u001b[0;34m)\u001b[0m\u001b[0;34m\u001b[0m\u001b[0;34m\u001b[0m\u001b[0m\n\u001b[0;32m----> 9\u001b[0;31m \u001b[0mEu_1345\u001b[0m \u001b[0;34m=\u001b[0m \u001b[0msm\u001b[0m\u001b[0;34m.\u001b[0m\u001b[0msolve\u001b[0m\u001b[0;34m(\u001b[0m\u001b[0mc_2t_h\u001b[0m\u001b[0;34m,\u001b[0m \u001b[0mk_1t\u001b[0m\u001b[0;34m)\u001b[0m \u001b[0;34m[\u001b[0m\u001b[0;36m0\u001b[0m\u001b[0;34m]\u001b[0m\u001b[0;34m\u001b[0m\u001b[0;34m\u001b[0m\u001b[0m\n\u001b[0m\u001b[1;32m     10\u001b[0m \u001b[0mEu_1345\u001b[0m\u001b[0;34m\u001b[0m\u001b[0;34m\u001b[0m\u001b[0m\n",
      "\u001b[0;32m/Applications/anaconda3/lib/python3.7/site-packages/sympy/solvers/solvers.py\u001b[0m in \u001b[0;36msolve\u001b[0;34m(f, *symbols, **flags)\u001b[0m\n\u001b[1;32m   1169\u001b[0m     \u001b[0;31m###########################################################################\u001b[0m\u001b[0;34m\u001b[0m\u001b[0;34m\u001b[0m\u001b[0;34m\u001b[0m\u001b[0m\n\u001b[1;32m   1170\u001b[0m     \u001b[0;32mif\u001b[0m \u001b[0mbare_f\u001b[0m\u001b[0;34m:\u001b[0m\u001b[0;34m\u001b[0m\u001b[0;34m\u001b[0m\u001b[0m\n\u001b[0;32m-> 1171\u001b[0;31m         \u001b[0msolution\u001b[0m \u001b[0;34m=\u001b[0m \u001b[0m_solve\u001b[0m\u001b[0;34m(\u001b[0m\u001b[0mf\u001b[0m\u001b[0;34m[\u001b[0m\u001b[0;36m0\u001b[0m\u001b[0;34m]\u001b[0m\u001b[0;34m,\u001b[0m \u001b[0;34m*\u001b[0m\u001b[0msymbols\u001b[0m\u001b[0;34m,\u001b[0m \u001b[0;34m**\u001b[0m\u001b[0mflags\u001b[0m\u001b[0;34m)\u001b[0m\u001b[0;34m\u001b[0m\u001b[0;34m\u001b[0m\u001b[0m\n\u001b[0m\u001b[1;32m   1172\u001b[0m     \u001b[0;32melse\u001b[0m\u001b[0;34m:\u001b[0m\u001b[0;34m\u001b[0m\u001b[0;34m\u001b[0m\u001b[0m\n\u001b[1;32m   1173\u001b[0m         \u001b[0msolution\u001b[0m \u001b[0;34m=\u001b[0m \u001b[0m_solve_system\u001b[0m\u001b[0;34m(\u001b[0m\u001b[0mf\u001b[0m\u001b[0;34m,\u001b[0m \u001b[0msymbols\u001b[0m\u001b[0;34m,\u001b[0m \u001b[0;34m**\u001b[0m\u001b[0mflags\u001b[0m\u001b[0;34m)\u001b[0m\u001b[0;34m\u001b[0m\u001b[0;34m\u001b[0m\u001b[0m\n",
      "\u001b[0;32m/Applications/anaconda3/lib/python3.7/site-packages/sympy/solvers/solvers.py\u001b[0m in \u001b[0;36m_solve\u001b[0;34m(f, *symbols, **flags)\u001b[0m\n\u001b[1;32m   1740\u001b[0m \u001b[0;34m\u001b[0m\u001b[0m\n\u001b[1;32m   1741\u001b[0m     \u001b[0;32mif\u001b[0m \u001b[0mresult\u001b[0m \u001b[0;32mis\u001b[0m \u001b[0;32mFalse\u001b[0m\u001b[0;34m:\u001b[0m\u001b[0;34m\u001b[0m\u001b[0;34m\u001b[0m\u001b[0m\n\u001b[0;32m-> 1742\u001b[0;31m         \u001b[0;32mraise\u001b[0m \u001b[0mNotImplementedError\u001b[0m\u001b[0;34m(\u001b[0m\u001b[0;34m'\\n'\u001b[0m\u001b[0;34m.\u001b[0m\u001b[0mjoin\u001b[0m\u001b[0;34m(\u001b[0m\u001b[0;34m[\u001b[0m\u001b[0mmsg\u001b[0m\u001b[0;34m,\u001b[0m \u001b[0mnot_impl_msg\u001b[0m \u001b[0;34m%\u001b[0m \u001b[0mf\u001b[0m\u001b[0;34m]\u001b[0m\u001b[0;34m)\u001b[0m\u001b[0;34m)\u001b[0m\u001b[0;34m\u001b[0m\u001b[0;34m\u001b[0m\u001b[0m\n\u001b[0m\u001b[1;32m   1743\u001b[0m \u001b[0;34m\u001b[0m\u001b[0m\n\u001b[1;32m   1744\u001b[0m     \u001b[0;32mif\u001b[0m \u001b[0mflags\u001b[0m\u001b[0;34m.\u001b[0m\u001b[0mget\u001b[0m\u001b[0;34m(\u001b[0m\u001b[0;34m'simplify'\u001b[0m\u001b[0;34m,\u001b[0m \u001b[0;32mTrue\u001b[0m\u001b[0;34m)\u001b[0m\u001b[0;34m:\u001b[0m\u001b[0;34m\u001b[0m\u001b[0;34m\u001b[0m\u001b[0m\n",
      "\u001b[0;31mNotImplementedError\u001b[0m: multiple generators [1/k_t, k_t, k_t**alpha]\nNo algorithms are implemented to solve equation (d_t + k_t)*(alpha*k_t**(alpha - 1) + 1) - (rho + 1)**(-1/sigma)*(alpha*k_t**(alpha - 1) + 1)*(-d_t - k_t + k_t**alpha*(1 - alpha))"
     ]
    }
   ],
   "source": [
    "go_symbols(rr)\n",
    "\n",
    "c_2t_h = sm.Eq(c_2t,((1+r_t1)/(1+rho)**(1/sigma)*c_1t))\n",
    "c_2t_h = c_2t_h.subs(c_2t, (1+r_t1)*(s+d_t))\n",
    "c_2t_h = c_2t_h.subs(c_1t, w-s-d_t)\n",
    "c_2t_h = c_2t_h.subs(w, (1-alpha)*k_1t**alpha)\n",
    "c_2t_h = c_2t_h.subs(r_t1, alpha*k_1t**(alpha-1))\n",
    "c_2t_h = c_2t_h.subs(s, k_1t)\n",
    "Eu_1345 = sm.solve(c_2t_h, k_1t) [0]\n",
    "Eu_1345"
   ]
  },
  {
   "cell_type": "code",
   "execution_count": 15,
   "metadata": {},
   "outputs": [
    {
     "output_type": "stream",
     "name": "stdout",
     "text": "k* =  0.307\nw* = 0.4537\ns* = 0.1009\nc1* = 0.1528\nc2* = 0.3235\nU* = 0.4609\n"
    }
   ],
   "source": [
    "d = 0.2\n",
    "def func(k):\n",
    "    s = -k + (1/(1+alpha*k**(alpha-1))**((sigma-1)/sigma)*(1+rho)**(1/sigma)+1)*(1-alpha)*k**alpha - d\n",
    "    return s\n",
    "\n",
    "def objective(k,rho,alpha,n,d):\n",
    "    return -func(k)\n",
    "\n",
    "def print_ss(objective,alpha,n,rho,d):\n",
    "    solutionk = optimize.minimize_scalar(\n",
    "    objective,method='bounded',\n",
    "    bounds=(0,1),args=(rho,alpha,n,d))\n",
    "\n",
    "    kstar = solutionk.x\n",
    "    wstar = (1-alpha)*kstar**alpha\n",
    "    sstar = (kstar/(1+n))-d\n",
    "    c1star = wstar-sstar-d\n",
    "    c2star = (1+(alpha*kstar**alpha))*sstar+d\n",
    "    Ustar = c1star + (1/(1+rho))*c2star\n",
    "\n",
    "    print(\"k* = {:6.4}\".format(kstar))\n",
    "    print(\"w* = {:6.4}\".format(wstar))\n",
    "    print(\"s* = {:6.4}\".format(sstar))\n",
    "    print(\"c1* = {:6.4}\".format(c1star))\n",
    "    print(\"c2* = {:6.4}\".format(c2star))\n",
    "    print(\"U* = {:6.4}\".format(Ustar))\n",
    "print_ss(objective,alpha,n,rho,d)\n",
    "\n"
   ]
  },
  {
   "cell_type": "markdown",
   "metadata": {},
   "source": [
    "# Further analysis"
   ]
  },
  {
   "cell_type": "markdown",
   "metadata": {},
   "source": [
    "ADD FURTHER ANALYSIS, VISUALIZATIONS AND EXTENSIONS."
   ]
  },
  {
   "cell_type": "markdown",
   "metadata": {},
   "source": [
    "# Conclusion"
   ]
  },
  {
   "cell_type": "markdown",
   "metadata": {},
   "source": [
    "ADD CONCISE CONCLUSION."
   ]
  }
 ],
 "metadata": {
  "kernelspec": {
   "display_name": "Python 3",
   "language": "python",
   "name": "python3"
  },
  "language_info": {
   "codemirror_mode": {
    "name": "ipython",
    "version": 3
   },
   "file_extension": ".py",
   "mimetype": "text/x-python",
   "name": "python",
   "nbconvert_exporter": "python",
   "pygments_lexer": "ipython3",
   "version": "3.7.4-final"
  },
  "toc-autonumbering": true
 },
 "nbformat": 4,
 "nbformat_minor": 4
}