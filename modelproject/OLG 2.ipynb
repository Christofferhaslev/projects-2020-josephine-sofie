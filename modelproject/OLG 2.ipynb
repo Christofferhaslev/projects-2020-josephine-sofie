{
 "cells": [
  {
   "cell_type": "markdown",
   "metadata": {},
   "source": [
    "# YOUR PROJECT TITLE"
   ]
  },
  {
   "cell_type": "markdown",
   "metadata": {},
   "source": [
    "> **Note the following:** \n",
    "> 1. This is *not* meant to be an example of an actual **model analysis project**, just an example of how to structure such a project.\n",
    "> 1. Remember the general advice on structuring and commenting your code from [lecture 5](https://numeconcopenhagen.netlify.com/lectures/Workflow_and_debugging).\n",
    "> 1. Remember this [guide](https://www.markdownguide.org/basic-syntax/) on markdown and (a bit of) latex.\n",
    "> 1. Turn on automatic numbering by clicking on the small icon on top of the table of contents in the left sidebar.\n",
    "> 1. The `modelproject.py` file includes a function which could be used multiple times in this notebook."
   ]
  },
  {
   "cell_type": "markdown",
   "metadata": {},
   "source": [
    "Imports and set magics:"
   ]
  },
  {
   "cell_type": "code",
   "execution_count": 1,
   "metadata": {},
   "outputs": [],
   "source": [
    "import numpy as np\n",
    "from scipy import optimize\n",
    "import sympy as sm\n",
    "\n",
    "# autoreload modules when code is run\n",
    "%load_ext autoreload\n",
    "%autoreload 2\n",
    "\n",
    "%matplotlib inline\n",
    "import matplotlib.pyplot as plt\n",
    "plt.style.use('seaborn-whitegrid')\n",
    "from matplotlib import cm\n",
    "from mpl_toolkits.mplot3d import Axes3D"
   ]
  },
  {
   "cell_type": "markdown",
   "metadata": {
    "toc-hr-collapsed": true
   },
   "source": [
    "# Model description"
   ]
  },
  {
   "cell_type": "markdown",
   "metadata": {},
   "source": [
    "We consider the **standard OLG-model** where:\n",
    "\n",
    "We assume that utility is given by $u(c)$ with constant relative risk aversion (CRRA utility function): \n",
    "\n",
    "\\begin{equation}\n",
    "  u(c)=\\begin{cases}\n",
    "    \\frac{c^{1-\\sigma}-1}{1-\\sigma} , & \\sigma ≠ 1 \\\\\n",
    "    log c, & \\sigma = 1\n",
    "  \\end{cases}\n",
    "\\end{equation}\n",
    "\n",
    "Individuals live for two periods, t = 1,2. $L_t$ individuals are born in period t and we assume that the population grows with a constant rate, n: \n",
    "\n",
    "$$ L_t = L_{t-1}(1+n) $$\n",
    "\n",
    "agents derive utility while alive: \n",
    "\n",
    "$$ U_t = u(c_{1t})+\\frac{1}{1+\\rho} u(c_{2t}) $$\n",
    "\n",
    "Agtens' budget constraint in each period is given by: \n",
    "\n",
    "$$ c_{1t} + s_t = w_t $$\n",
    "\n",
    "$$ c_{2t+1} = (1+r_{t+1}) s_t $$\n",
    "\n",
    "This implies that agents' lifetime budget constraint is given by: \n",
    "\n",
    "$$ c_{1t} + \\frac{c_{2t+1}}{1+r_{t+1}} = w_t $$\n",
    "\n"
   ]
  },
  {
   "cell_type": "markdown",
   "metadata": {},
   "source": [
    "# Analytical solution"
   ]
  },
  {
   "cell_type": "markdown",
   "metadata": {},
   "source": [
    "## Household problem"
   ]
  },
  {
   "cell_type": "markdown",
   "metadata": {},
   "source": [
    "Every agtens born at time t maximize utility subject to their lifetime budget constraint.\n",
    "\n",
    "For now, we assume $\\sigma = 1$, which imply that utility is given by $u(c) = log (c)$"
   ]
  },
  {
   "cell_type": "markdown",
   "metadata": {},
   "source": [
    "First we define all **symbols**:"
   ]
  },
  {
   "cell_type": "code",
   "execution_count": 2,
   "metadata": {},
   "outputs": [],
   "source": [
    "c_1t = sm.symbols('c_1t')\n",
    "c_2t = sm.symbols('c_2t+1')\n",
    "rho = sm.symbols('rho')\n",
    "u_1 = sm.symbols('u_1')\n",
    "u_2 = sm.symbols('u_2')\n",
    "sigma = sm.symbols('sigma')\n",
    "w = sm.symbols('w_t')\n",
    "r_t1 = sm.symbols('r_t+1')\n",
    "lamb = sm.symbols('lambda')\n",
    "s = sm.symbols('s_t')\n",
    "k_2t = sm.symbols('k_t+1')\n",
    "k_1t = sm.symbols('k_t')\n",
    "alpha = sm.symbols('alpha')\n",
    "n = sm.symbols('n')\n",
    "k_star = sm.symbols('k^*')\n",
    "Y = sm.symbols('Y_t')\n",
    "K = sm.symbols('K_t')\n",
    "L_t = sm.symbols('L_t')\n",
    "r = sm.symbols('r_t')"
   ]
  },
  {
   "cell_type": "code",
   "execution_count": 3,
   "metadata": {},
   "outputs": [
    {
     "data": {
      "text/latex": [
       "$\\displaystyle \\log{\\left(c_{1t} \\right)} + \\frac{\\log{\\left(c_{2t+1} \\right)}}{\\rho + 1}$"
      ],
      "text/plain": [
       "log(c_1t) + log(c_2t+1)/(rho + 1)"
      ]
     },
     "execution_count": 3,
     "metadata": {},
     "output_type": "execute_result"
    }
   ],
   "source": [
    "#Lifetime utility\n",
    "u_c1 = sm.ln(c_1t)\n",
    "u_c2 = sm.ln(c_2t)\n",
    "U = u_c1 + u_c2/(1+rho)\n",
    "U"
   ]
  },
  {
   "cell_type": "code",
   "execution_count": 4,
   "metadata": {},
   "outputs": [
    {
     "data": {
      "text/latex": [
       "$\\displaystyle - \\lambda \\left(c_{1t} + \\frac{c_{2t+1}}{r_{t+1} + 1} - w_{t}\\right) + \\log{\\left(c_{1t} \\right)} + \\frac{\\log{\\left(c_{2t+1} \\right)}}{\\rho + 1}$"
      ],
      "text/plain": [
       "-lambda*(c_1t + c_2t+1/(r_t+1 + 1) - w_t) + log(c_1t) + log(c_2t+1)/(rho + 1)"
      ]
     },
     "execution_count": 4,
     "metadata": {},
     "output_type": "execute_result"
    }
   ],
   "source": [
    "# Lagrangian\n",
    "budget_l = c_1t + c_2t/(1+r_t1) - w\n",
    "L = U - lamb * budget_l\n",
    "L\n",
    "\n"
   ]
  },
  {
   "cell_type": "code",
   "execution_count": 5,
   "metadata": {},
   "outputs": [
    {
     "data": {
      "text/latex": [
       "$\\displaystyle c_{2t+1} = \\frac{c_{1t} \\left(r_{t+1} + 1\\right)}{\\rho + 1}$"
      ],
      "text/plain": [
       "Eq(c_2t+1, c_1t*(r_t+1 + 1)/(rho + 1))"
      ]
     },
     "execution_count": 5,
     "metadata": {},
     "output_type": "execute_result"
    }
   ],
   "source": [
    "def Lan(x):\n",
    "    L_1 = sm.diff(L, x)\n",
    "    L_2 = sm.Eq(L_1,0)\n",
    "    L_3 = sm.solve(L_2, lamb) [0]\n",
    "    return L_3\n",
    "\n",
    "L_c1 = Lan(c_1t)\n",
    "L_c2 = Lan(c_2t)\n",
    "\n",
    "Eu = sm.Eq(L_c1, L_c2)\n",
    "Eu_1 = sm.solve(Eu, c_2t) [0]\n",
    "Euler = sm.Eq(c_2t, Eu_1)\n",
    "Euler"
   ]
  },
  {
   "cell_type": "code",
   "execution_count": 6,
   "metadata": {},
   "outputs": [
    {
     "data": {
      "text/latex": [
       "$\\displaystyle s_{t} = \\frac{w_{t}}{\\rho + 2}$"
      ],
      "text/plain": [
       "Eq(s_t, w_t/(rho + 2))"
      ]
     },
     "execution_count": 6,
     "metadata": {},
     "output_type": "execute_result"
    }
   ],
   "source": [
    "budget_1 = w-s \n",
    "budget_2 = (1+r_t1)*s\n",
    "\n",
    "savings_1 = Euler.subs(c_1t,budget_1)\n",
    "\n",
    "savings_2 = savings_1.subs(c_2t, budget_2)\n",
    "\n",
    "savings = sm.solve(savings_2,s)[0]\n",
    "\n",
    "opt_savings = sm.Eq(s,savings)\n",
    "opt_savings"
   ]
  },
  {
   "cell_type": "code",
   "execution_count": 7,
   "metadata": {},
   "outputs": [
    {
     "data": {
      "text/latex": [
       "$\\displaystyle K_{t}^{\\alpha - 1} L_{t}^{1 - \\alpha} \\alpha$"
      ],
      "text/plain": [
       "K_t**(alpha - 1)*L_t**(1 - alpha)*alpha"
      ]
     },
     "execution_count": 7,
     "metadata": {},
     "output_type": "execute_result"
    }
   ],
   "source": [
    "Y = K**alpha*L_t**(1-alpha)\n",
    "k_t = sm.diff(Y,K)\n",
    "k_t = sm.simplify(k_t)\n",
    "k_t"
   ]
  },
  {
   "cell_type": "markdown",
   "metadata": {},
   "source": [
    "divide by L"
   ]
  },
  {
   "cell_type": "code",
   "execution_count": 8,
   "metadata": {},
   "outputs": [
    {
     "data": {
      "text/latex": [
       "$\\displaystyle r_{t} = \\alpha k_{t}^{\\alpha - 1}$"
      ],
      "text/plain": [
       "Eq(r_t, alpha*k_t**(alpha - 1))"
      ]
     },
     "execution_count": 8,
     "metadata": {},
     "output_type": "execute_result"
    }
   ],
   "source": [
    "rr = sm.Eq(r,alpha*k_1t**(alpha-1))\n",
    "rr"
   ]
  },
  {
   "cell_type": "code",
   "execution_count": 9,
   "metadata": {},
   "outputs": [
    {
     "data": {
      "text/latex": [
       "$\\displaystyle \\left(\\frac{1 - \\alpha}{n \\rho + 2 n + \\rho + 2}\\right)^{- \\frac{1}{\\alpha - 1}}$"
      ],
      "text/plain": [
       "((1 - alpha)/(n*rho + 2*n + rho + 2))**(-1/(alpha - 1))"
      ]
     },
     "execution_count": 9,
     "metadata": {},
     "output_type": "execute_result"
    }
   ],
   "source": [
    "# In equilibrium s = K*L = k\n",
    "# We know that w is the marginal product of labor and given that the production function is a cobb-douglas we can insert w:\n",
    "\n",
    "capital = sm.Eq(k_2t*(1+n), (((1-alpha)*k_1t**alpha)/(rho+2)))\n",
    "capital\n",
    "\n",
    "# In equilibrium k_t+1 = k_t = k^* so: \n",
    "\n",
    "capital_eq=sm.Eq(k_star*(1+n), (((1-alpha)*k_star**alpha)/(rho+2)))\n",
    "Equilibrium = sm.solve(capital_eq,k_star)[0]\n",
    "Equilibrium"
   ]
  },
  {
   "cell_type": "markdown",
   "metadata": {},
   "source": [
    "## Numerical solution"
   ]
  },
  {
   "cell_type": "markdown",
   "metadata": {},
   "source": [
    "Define the model **parameters**:"
   ]
  },
  {
   "cell_type": "code",
   "execution_count": 5,
   "metadata": {},
   "outputs": [],
   "source": [
    "sigma = 1\n",
    "rho = 0.05\n",
    "n = 0.02\n",
    "alpha = 0.33"
   ]
  },
  {
   "cell_type": "markdown",
   "metadata": {},
   "source": [
    "## Define functions"
   ]
  },
  {
   "cell_type": "code",
   "execution_count": 6,
   "metadata": {},
   "outputs": [],
   "source": [
    "def wage(k,alpha):\n",
    "    return (1-alpha)*k**alpha\n",
    "\n",
    "def rr(k,alpha):\n",
    "     return alpha*k**(alpha-1)\n",
    "     \n",
    "def capital_2t(s,n):\n",
    "    return s/(1+n) \n",
    "\n",
    "def savings(w,rho):\n",
    "    return w/(2+rho)\n",
    "\n",
    "def transition(k,alpha,rho,n):\n",
    "    w = wage(k,alpha)\n",
    "    s = savings(w,rho)\n",
    "    return capital_2t(s,n)"
   ]
  },
  {
   "cell_type": "code",
   "execution_count": 7,
   "metadata": {},
   "outputs": [],
   "source": [
    "def transition_curve(alpha,rho,n):\n",
    "\n",
    "    # a. grids\n",
    "    capital_1 = np.linspace(1e-8,0.3,500)\n",
    "    capital_2 = np.empty(500)\n",
    "\n",
    "    #b. solve for each k in grid\n",
    "    for i,k in enumerate(capital_1):\n",
    "        \n",
    "        # i. capital in t+1\n",
    "        result = transition(k,alpha,rho,n)\n",
    "        capital_2[i] = result\n",
    "\n",
    "    return capital_1,capital_2\n"
   ]
  },
  {
   "cell_type": "code",
   "execution_count": 8,
   "metadata": {},
   "outputs": [],
   "source": [
    "capital_1,capital_2 = transition_curve(alpha,rho,n)"
   ]
  },
  {
   "cell_type": "code",
   "execution_count": 9,
   "metadata": {},
   "outputs": [
    {
     "data": {
      "image/png": "[encoded data removed]",
      "text/plain": [
       "<Figure size 432x288 with 1 Axes>"
      ]
     },
     "metadata": {
      "needs_background": "light"
     },
     "output_type": "display_data"
    }
   ],
   "source": [
    "# c. plot\n",
    "fig = plt.figure()\n",
    "ax = fig.add_subplot(1,1,1)\n",
    "ax.plot(capital_1,capital_2)\n",
    "ax.set_xlabel('$k_t$')\n",
    "ax.set_ylabel('$k_t+1$')\n",
    "ax.set_title('transition curve');"
   ]
  },
  {
   "cell_type": "markdown",
   "metadata": {},
   "source": [
    "## Introduce CRRA utility"
   ]
  },
  {
   "cell_type": "markdown",
   "metadata": {},
   "source": [
    "We now return to the general case, where $u(c)$ is given by the CRRA utility function: \n",
    "\n",
    "\\begin{equation}\n",
    "  u(c)=\\begin{cases}\n",
    "    \\frac{c^{1-\\sigma}-1}{1-\\sigma} , & \\sigma ≠ 1 \\\\\n",
    "    log c, & \\sigma = 1\n",
    "  \\end{cases}\n",
    "\\end{equation}\n",
    "\n",
    "This imply that the Euler equation is given by: \n",
    "\n",
    "$$ c_{2t+1} = (\\frac{1+r_{t+1}}{1+\\rho})^\\frac{1}{\\sigma} c_{1t} $$\n",
    "\n",
    "Inserting the budget constraint and solve for s, optimal savings is given by: \n",
    "\n",
    "$$ s_t = \\frac{1}{(1+r_{t+1})^\\frac{\\sigma-1}{\\sigma}(1+\\rho)^\\frac{1}{\\sigma} +1} w_t $$\n",
    "\n",
    "where the wage and the interest rate is given by: \n",
    "\n",
    "$$ w_t = (1-\\alpha)k_t^\\alpha $$\n",
    "\n",
    "$$ r_{t+1} = \\alpha k^{\\alpha-1} $$"
   ]
  },
  {
   "cell_type": "code",
   "execution_count": 10,
   "metadata": {},
   "outputs": [
    {
     "data": {
      "image/png": "[encoded data removed]",
      "text/plain": [
       "<Figure size 432x288 with 1 Axes>"
      ]
     },
     "metadata": {
      "needs_background": "light"
     },
     "output_type": "display_data"
    }
   ],
   "source": [
    "\n",
    "def savings2(w,r,rho,sigma):\n",
    "    return (1/((1+r)**((sigma-1)/sigma)*(1+rho)**(1/sigma)+1))*w\n",
    "\n",
    "def transition2(k,alpha,sigma,rho,n):\n",
    "    w = wage(k,alpha)\n",
    "    r = rr(k,alpha) \n",
    "    s = savings2(w,r,rho,sigma)\n",
    "    return capital_2t(s,n)\n",
    "\n",
    "def transition_curve(alpha,rho,n):\n",
    "\n",
    "    # a. grids\n",
    "    capital_1 = np.linspace(1e-8,0.3,500)\n",
    "    capital_2 = np.empty(500)\n",
    "\n",
    "    #b. solve for each k in grid\n",
    "    for i,k in enumerate(capital_1):\n",
    "    \n",
    "        # i. capital in t+1\n",
    "         result = transition2(k,alpha,sigma,rho,n)\n",
    "         capital_2[i] = result\n",
    "\n",
    "    return capital_1,capital_2\n",
    "\n",
    "fig = plt.figure()\n",
    "ax = fig.add_subplot(1,1,1)\n",
    "\n",
    "for sigma in [0.1,0.2,0.5,0.75,1]:\n",
    "    capital_1,capital_2 = transition_curve(alpha,rho,n)\n",
    "    ax.plot(capital_1,capital_2,label=f'$\\sigma = {sigma}$')\n",
    "\n",
    "ax.legend(loc='lower right',facecolor='white',frameon=True)\n",
    "ax.set_xlabel('$k_t$')\n",
    "ax.set_ylabel('$k_t+1$')\n",
    "ax.set_title('Transition curve')\n",
    "ax.set_xlim([0,0.3]);\n"
   ]
  },
  {
   "cell_type": "markdown",
   "metadata": {},
   "source": [
    "## PAYG System"
   ]
  },
  {
   "cell_type": "markdown",
   "metadata": {},
   "source": [
    "The government raises $d_t$ from the current young in period t and pays them out as benefits to current old:\n",
    "\n",
    "$$(1+n)d_t = b_t$$\n",
    "\n",
    "where $d_t$ is a fixed fraction of the wage income, such that: $d_t=\\tau w_{t}$.\n",
    "\n",
    "\n",
    "Thus we get a new budget constraint for the young in period t:\n",
    "\n",
    "$$ c_{1t} + s_t + d_t = w_t$$\n",
    "\n",
    "and a new budget constraint for them when old in period t+1 given by:\n",
    "$$ c_{2t+1} = (1+r_{t+1})s_t + (1+n)d_{t+1} $$\n",
    "\n",
    "We return to the case where utility $u(c)=log(c)$.  \n"
   ]
  },
  {
   "cell_type": "code",
   "execution_count": 11,
   "metadata": {},
   "outputs": [],
   "source": [
    "def d1(w,tau):\n",
    "    return tau*w\n",
    "\n",
    "def savings(w,rho,d,r,n):\n",
    "    return (1/(2+rho))*((w-d)-((1+rho/(1+r))*(1+n)*d))\n",
    "\n",
    "def transition(k,alpha,rho,n,tau):\n",
    "    w = wage(k,alpha)\n",
    "    d = d1(w,tau)\n",
    "    r = rr(k,alpha)\n",
    "    s = savings(w,rho,d,r,n)\n",
    "    return capital_2t(s,n)"
   ]
  },
  {
   "cell_type": "code",
   "execution_count": 12,
   "metadata": {},
   "outputs": [],
   "source": [
    "tau = 0.3\n",
    "def transition_curve(alpha,rho,n,tau):\n",
    "\n",
    "    # a. grids\n",
    "    capital_1 = np.linspace(1e-8,0.3,500)\n",
    "    capital_2 = np.empty(500)\n",
    "\n",
    "    #b. solve for each k in grid\n",
    "    for i,k in enumerate(capital_1):\n",
    "        \n",
    "        # i. capital in t+1\n",
    "        result = transition(k,alpha,rho,n,tau)\n",
    "        capital_2[i] = result\n",
    "\n",
    "    return capital_1,capital_2\n",
    "\n",
    "capital_3,capital_4 = transition_curve(alpha,rho,n,tau)"
   ]
  },
  {
   "cell_type": "code",
   "execution_count": 20,
   "metadata": {},
   "outputs": [
    {
     "data": {
      "application/vnd.jupyter.widget-view+json": {
       "model_id": "7c651af8aeba42f682685382c16ccf0f",
       "version_major": 2,
       "version_minor": 0
      },
      "text/plain": [
       "interactive(children=(FloatSlider(value=1.0, description='$\\tau$', max=1.0, step=0.05), Output()), _dom_classe…"
      ]
     },
     "metadata": {},
     "output_type": "display_data"
    }
   ],
   "source": [
    "def fig(alpha, rho, n, tau):\n",
    "    \n",
    "    capital_3,capital_4 = transition_curve(alpha,rho,n,tau)\n",
    "    \n",
    "    fig = plt.figure()\n",
    "    ax = fig.add_subplot(1,1,1)\n",
    "    ax.plot(capital_3,capital_4, label=f'PAYG')\n",
    "    ax.plot(capital_1,capital_2, label=f'Simple')\n",
    "    ax.legend(loc='lower right',facecolor='white',frameon=True)\n",
    "    ax.set_xlabel('$k_t$')\n",
    "    ax.set_ylabel('$k_t+1$')\n",
    "    ax.set_title('transition curve');\n",
    "\n",
    "    return \n",
    "    \n",
    "import ipywidgets as widgets\n",
    "widgets.interact(transition_curve(alpha,rho,n,tau),\n",
    "                 alpha = widgets.fixed(alpha), \n",
    "                 rho = widgets.fixed(rho),\n",
    "                 n = widgets.fixed(n),\n",
    "                 tau=widgets.FloatSlider(description=\"$\\tau$\", min=0, max=1, step=0.05, value=2)\n",
    ");       "
   ]
  },
  {
   "cell_type": "code",
   "execution_count": 63,
   "metadata": {},
   "outputs": [
    {
     "name": "stdout",
     "output_type": "stream",
     "text": [
      "k* = 0.03709\n",
      "w* = 0.2259\n",
      "s* = 0.03637\n",
      "c1* = 0.1895\n",
      "c2* = 0.04041\n",
      "U* =  0.228\n"
     ]
    }
   ],
   "source": [
    "def func(k):\n",
    "    s = -k + (1/(2+rho)*(1-alpha)*k**alpha*(1+n))\n",
    "    return s\n",
    "\n",
    "def objective(k,rho,alpha,n):\n",
    "    return -func(k)\n",
    "\n",
    "\n",
    "def print_ss(objective,alpha,n,rho):\n",
    "    solutionk = optimize.minimize_scalar(\n",
    "    objective,method='bounded',\n",
    "    bounds=(0,1),args=(rho,alpha,n))\n",
    "\n",
    "    kstar = solutionk.x\n",
    "    wstar = (1-alpha)*kstar**alpha\n",
    "    sstar = kstar/(1+n)\n",
    "    c1star = wstar-sstar\n",
    "    c2star = (1+(alpha*kstar**alpha))*sstar\n",
    "    Ustar = c1star + (1/(1+rho))*c2star\n",
    "\n",
    "    print(\"k* = {:6.4}\".format(kstar))\n",
    "    print(\"w* = {:6.4}\".format(wstar))\n",
    "    print(\"s* = {:6.4}\".format(sstar))\n",
    "    print(\"c1* = {:6.4}\".format(c1star))\n",
    "    print(\"c2* = {:6.4}\".format(c2star))\n",
    "    print(\"U* = {:6.4}\".format(Ustar))\n",
    "\n",
    "print_ss(objective,alpha,n,rho)"
   ]
  },
  {
   "cell_type": "markdown",
   "metadata": {},
   "source": [
    "# Conclusion"
   ]
  },
  {
   "cell_type": "markdown",
   "metadata": {},
   "source": [
    "ADD CONCISE CONCLUSION."
   ]
  }
 ],
 "metadata": {
  "kernelspec": {
   "display_name": "Python 3",
   "language": "python",
   "name": "python3"
  },
  "language_info": {
   "codemirror_mode": {
    "name": "ipython",
    "version": 3
   },
   "file_extension": ".py",
   "mimetype": "text/x-python",
   "name": "python",
   "nbconvert_exporter": "python",
   "pygments_lexer": "ipython3",
   "version": "3.7.4"
  },
  "toc-autonumbering": true
 },
 "nbformat": 4,
 "nbformat_minor": 4
}
