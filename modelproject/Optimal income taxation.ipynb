{
 "cells": [
  {
   "cell_type": "markdown",
   "metadata": {},
   "source": [
    "# YOUR PROJECT TITLE"
   ]
  },
  {
   "cell_type": "markdown",
   "metadata": {},
   "source": [
    "Imports and set magics:"
   ]
  },
  {
   "cell_type": "code",
   "execution_count": 24,
   "metadata": {},
   "outputs": [
    {
     "output_type": "stream",
     "name": "stdout",
     "text": "The autoreload extension is already loaded. To reload it, use:\n  %reload_ext autoreload\n"
    }
   ],
   "source": [
    "import numpy as np\n",
    "from scipy import optimize\n",
    "import sympy as sm\n",
    "\n",
    "# autoreload modules when code is run\n",
    "%load_ext autoreload\n",
    "%autoreload 2\n",
    "\n",
    "# local modules\n",
    "import modelproject"
   ]
  },
  {
   "cell_type": "markdown",
   "metadata": {
    "toc-hr-collapsed": true
   },
   "source": [
    "# Model description"
   ]
  },
  {
   "cell_type": "markdown",
   "metadata": {},
   "source": [
    "> **Note:** If you are not that friendly with markdown and latex you can refer to an external document with the model description instead.\n",
    "\n",
    "We consider the **standard Solow-model** where:\n",
    "\n",
    "1. $K_t$ is capital\n",
    "* $L_t$ is labor (growing with a constant rate of $n$)\n",
    "* $A_t$ is technology (growing with a constant rate of $g$)\n",
    "* $Y_t = F(K_t,A_tL_t)$ is GDP\n",
    "\n",
    "**Saving** is a constant fraction of GDP\n",
    "\n",
    "$$ S_t = sY_t,\\,s\\in(0,1) $$\n",
    "\n",
    "such that **capital accumulates** according to\n",
    "\n",
    "$$ K_{t+1}=S_{t}+(1-\\delta)K_{t}=sF(K_{t},A_{t}L_{t})+(1-\\delta)K_{t}, \\delta \\in (0,1) $$\n",
    "\n",
    "The **production function** has **constant-return to scale** such that\n",
    "\n",
    "$$ \\frac{Y_{t}}{A_{t}L_{t}}=\\frac{F(K_{t},A_{t}L_{t})}{A_{t}L_{t}}=F(\\tilde{k}_{t},1)\\equiv f(\\tilde{k}_{t}) $$\n",
    "\n",
    "where $\\tilde{k}_t = \\frac{K_t}{A_{t}L_{t}}$ is the technology adjusted capital-labor ratio.\n",
    "\n",
    "The **transition equation** then becomes\n",
    "\n",
    "$$ \\tilde{k}_{t+1}= \\frac{1}{(1+n)(1+g)}[sf(\\tilde{k}_{t})+(1-\\delta)\\tilde{k}_{t}] $$\n",
    "\n",
    "We assume the **production function** is **Cobb-Douglas** so\n",
    "\n",
    "$$ F(K_{t},A_{t}L_{t})=K_{t}^{\\alpha}(A_{t}L_{t})^{1-\\alpha}\\Rightarrow f(\\tilde{k}_{t})=\\tilde{k}_{t}^{\\alpha} $$"
   ]
  },
  {
   "cell_type": "markdown",
   "metadata": {},
   "source": [
    "# Steady state"
   ]
  },
  {
   "cell_type": "markdown",
   "metadata": {},
   "source": [
    "## Analytical solution"
   ]
  },
  {
   "cell_type": "markdown",
   "metadata": {},
   "source": [
    "We can use **sympy** to find an analytical expression for the steady state, i.e. solve\n",
    "\n",
    "$$ \\tilde{k}^{\\ast}= \\frac{1}{(1+n)(1+g)}[sf(\\tilde{k}^{\\ast})+(1-\\delta)\\tilde{k}^{\\ast}] $$"
   ]
  },
  {
   "cell_type": "markdown",
   "metadata": {},
   "source": [
    "The top-tax rate maximizing government revenue R is found at dR = 0\n",
    "where dR = dM + dB\n",
    "\n",
    "$ dM = \\sum_{i}(z_{i}-\\hat{z})*dm = (\\bar{z}-\\hat{z}) * N * dm $\n",
    "\n",
    "$ dB = \\sum_{i}(m * d z_{i}) = \\sum_{i}(m * \\varepsilon * \\frac{d(1-m)}{1-m} * z_{i}) = -\\varepsilon * \\frac{m}{1-m} * dm * \\sum_{i}z_{i} = - \\varepsilon * \\frac{m}{1-m} * dm * N * \\bar{z} $"
   ]
  },
  {
   "cell_type": "markdown",
   "metadata": {},
   "source": [
    "First we define all **symbols**:"
   ]
  },
  {
   "cell_type": "code",
   "execution_count": 25,
   "metadata": {},
   "outputs": [],
   "source": [
    "z_bar = sm.symbols('zbar')\n",
    "z_hat = sm.symbols('zhat')\n",
    "N = sm.symbols('N')\n",
    "dm = sm.symbols('dm')\n",
    "epsilon = sm.symbols('varepsilon')\n",
    "m = sm.symbols('m')\n",
    "dR = sm.symbols('dR')\n",
    "alpha = sm.symbols('alpha')"
   ]
  },
  {
   "cell_type": "markdown",
   "metadata": {},
   "source": [
    "Then we define the **steady state equation**"
   ]
  },
  {
   "cell_type": "code",
   "execution_count": 26,
   "metadata": {},
   "outputs": [
    {
     "output_type": "execute_result",
     "data": {
      "text/plain": "Eq(0, -N*dm*m*varepsilon*zbar/(1 - m) + N*dm*(zbar - zhat))",
      "text/latex": "$\\displaystyle 0 = - \\frac{N dm m \\varepsilon \\bar{z}}{1 - m} + N dm \\left(\\bar{z} - \\hat{z}\\right)$"
     },
     "metadata": {},
     "execution_count": 26
    }
   ],
   "source": [
    "dRevenue = sm.Eq(0,((z_bar-z_hat) * N * dm - epsilon * (m/(1-m)) * dm * N * z_bar))\n",
    "dRevenue"
   ]
  },
  {
   "cell_type": "markdown",
   "metadata": {},
   "source": [
    "and **solve** it"
   ]
  },
  {
   "cell_type": "code",
   "execution_count": 36,
   "metadata": {},
   "outputs": [
    {
     "output_type": "execute_result",
     "data": {
      "text/plain": "(zbar - zhat)/(varepsilon*zbar + zbar - zhat)",
      "text/latex": "$\\displaystyle \\frac{\\bar{z} - \\hat{z}}{\\varepsilon \\bar{z} + \\bar{z} - \\hat{z}}$"
     },
     "metadata": {},
     "execution_count": 36
    }
   ],
   "source": [
    "m_opt = sm.solve(dRevenue,m)[0]\n",
    "m_opt"
   ]
  },
  {
   "cell_type": "code",
   "execution_count": 43,
   "metadata": {},
   "outputs": [
    {
     "output_type": "execute_result",
     "data": {
      "text/plain": "Eq(m, 1/(alpha*varepsilon + 1))",
      "text/latex": "$\\displaystyle m = \\frac{1}{\\alpha \\varepsilon + 1}$"
     },
     "metadata": {},
     "execution_count": 43
    }
   ],
   "source": [
    "alpha_eq = sm.Eq(alpha, z_bar/(z_bar-z_hat))\n",
    "m_op = sm.Eq(m,1/(1+epsilon*alpha))\n",
    "m_op"
   ]
  },
  {
   "cell_type": "code",
   "execution_count": 44,
   "metadata": {},
   "outputs": [],
   "source": [
    "m_func = sm.lambdify((alpha,epsilon),m_op)\n"
   ]
  },
  {
   "cell_type": "code",
   "execution_count": 46,
   "metadata": {},
   "outputs": [
    {
     "output_type": "execute_result",
     "data": {
      "text/plain": "False"
     },
     "metadata": {},
     "execution_count": 46
    }
   ],
   "source": [
    "m_func(2.6,0.2)"
   ]
  },
  {
   "cell_type": "markdown",
   "metadata": {},
   "source": [
    "## Numerical solution"
   ]
  },
  {
   "cell_type": "markdown",
   "metadata": {},
   "source": [
    "We can re-write the equation for the steady state capital per capita as\n",
    "\n",
    "\\\\[ 0 = \\frac{1}{(1+n)(1+g)}[sf(\\tilde{k}^{\\ast})+(1-\\delta)\\tilde{k}^{\\ast}] - \\tilde{k}^{\\ast} \\\\]\n",
    "\n",
    "whereby it clearly becomes a **root-finding problem**. Such a problem can be solved by a **bisection method**."
   ]
  },
  {
   "cell_type": "markdown",
   "metadata": {},
   "source": [
    "Define the model **parameters**:"
   ]
  },
  {
   "cell_type": "code",
   "execution_count": 19,
   "metadata": {},
   "outputs": [],
   "source": [
    "epsilon = 0.2\n",
    "alpha = 10\n",
    "N = 1000\n",
    "dm = 0.1\n",
    "z_bar = 44000\n",
    "z_hat = 27000"
   ]
  },
  {
   "cell_type": "markdown",
   "metadata": {},
   "source": [
    "**Solve numerically** for the steady state:"
   ]
  },
  {
   "cell_type": "code",
   "execution_count": 20,
   "metadata": {},
   "outputs": [
    {
     "output_type": "error",
     "ename": "TypeError",
     "evalue": "solve_for_ss() takes 5 positional arguments but 6 were given",
     "traceback": [
      "\u001b[0;31m---------------------------------------------------------------------------\u001b[0m",
      "\u001b[0;31mTypeError\u001b[0m                                 Traceback (most recent call last)",
      "\u001b[0;32m<ipython-input-20-4c6c4625d087>\u001b[0m in \u001b[0;36m<module>\u001b[0;34m\u001b[0m\n\u001b[0;32m----> 1\u001b[0;31m \u001b[0msolution\u001b[0m \u001b[0;34m=\u001b[0m \u001b[0mmodelproject\u001b[0m\u001b[0;34m.\u001b[0m\u001b[0msolve_for_ss\u001b[0m\u001b[0;34m(\u001b[0m\u001b[0mz_bar\u001b[0m\u001b[0;34m,\u001b[0m\u001b[0mz_hat\u001b[0m\u001b[0;34m,\u001b[0m\u001b[0mN\u001b[0m\u001b[0;34m,\u001b[0m\u001b[0mdm\u001b[0m\u001b[0;34m,\u001b[0m\u001b[0mepsilon\u001b[0m\u001b[0;34m,\u001b[0m\u001b[0mm\u001b[0m\u001b[0;34m)\u001b[0m\u001b[0;34m\u001b[0m\u001b[0;34m\u001b[0m\u001b[0m\n\u001b[0m\u001b[1;32m      2\u001b[0m \u001b[0;34m\u001b[0m\u001b[0m\n\u001b[1;32m      3\u001b[0m \u001b[0mprint\u001b[0m\u001b[0;34m(\u001b[0m\u001b[0;34mf'analytical solution is: {ss_func(s,g,n,alpha,delta):.3f}'\u001b[0m\u001b[0;34m)\u001b[0m\u001b[0;34m\u001b[0m\u001b[0;34m\u001b[0m\u001b[0m\n\u001b[1;32m      4\u001b[0m \u001b[0mprint\u001b[0m\u001b[0;34m(\u001b[0m\u001b[0;34mf' numerical solution is: {solution.root:.3f}'\u001b[0m\u001b[0;34m)\u001b[0m\u001b[0;34m\u001b[0m\u001b[0;34m\u001b[0m\u001b[0m\n",
      "\u001b[0;31mTypeError\u001b[0m: solve_for_ss() takes 5 positional arguments but 6 were given"
     ]
    }
   ],
   "source": [
    "solution = modelproject.solve_for_ss(z_bar,z_hat,N,dm,epsilon,m)\n",
    "\n",
    "print(f'analytical solution is: {ss_func(s,g,n,alpha,delta):.3f}')\n",
    "print(f' numerical solution is: {solution.root:.3f}')"
   ]
  },
  {
   "cell_type": "markdown",
   "metadata": {},
   "source": [
    "# Further analysis"
   ]
  },
  {
   "cell_type": "markdown",
   "metadata": {},
   "source": [
    "ADD FURTHER ANALYSIS, VISUALIZATIONS AND EXTENSIONS."
   ]
  },
  {
   "cell_type": "markdown",
   "metadata": {},
   "source": [
    "# Conclusion"
   ]
  },
  {
   "cell_type": "markdown",
   "metadata": {},
   "source": [
    "ADD CONCISE CONCLUSION."
   ]
  }
 ],
 "metadata": {
  "kernelspec": {
   "display_name": "Python 3",
   "language": "python",
   "name": "python3"
  },
  "language_info": {
   "codemirror_mode": {
    "name": "ipython",
    "version": 3
   },
   "file_extension": ".py",
   "mimetype": "text/x-python",
   "name": "python",
   "nbconvert_exporter": "python",
   "pygments_lexer": "ipython3",
   "version": "3.7.4-final"
  },
  "toc-autonumbering": true
 },
 "nbformat": 4,
 "nbformat_minor": 4
}