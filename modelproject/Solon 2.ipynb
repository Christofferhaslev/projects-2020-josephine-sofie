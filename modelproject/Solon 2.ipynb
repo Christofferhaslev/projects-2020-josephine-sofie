{
 "cells": [
  {
   "cell_type": "markdown",
   "metadata": {},
   "source": [
    "# The Solon Model"
   ]
  },
  {
   "cell_type": "markdown",
   "metadata": {},
   "source": [
    "Imports and set magics:"
   ]
  },
  {
   "cell_type": "code",
   "execution_count": 1,
   "metadata": {},
   "outputs": [],
   "source": [
    "import numpy as np\n",
    "from scipy import optimize\n",
    "import sympy as sm\n",
    "\n",
    "# autoreload modules when code is run\n",
    "%load_ext autoreload\n",
    "%autoreload 2\n",
    "\n",
    "# local modules\n",
    "import modelproject"
   ]
  },
  {
   "cell_type": "markdown",
   "metadata": {
    "toc-hr-collapsed": true
   },
   "source": [
    "# Model description"
   ]
  },
  {
   "cell_type": "markdown",
   "metadata": {},
   "source": [
    "We consider the **Solon-model** of intergenerational social mobility where:\n",
    "\n",
    "* $(1-\\tau)y_{i,t-1}$ is parent's lifetime after tax earnings\n",
    "* $C_{i,t-1}$ is parent's consumption\n",
    "* $I_{i,t-1}$ is parent's investment in their child's human capital\n",
    "\n",
    "**The Parent's budget constraint** is given by:\n",
    "\n",
    "$$(1-\\tau)y_{i,t-1} = C_{i,t-1} + I_{i,t-1}$$\n",
    "\n",
    "* $G_{i,t}$ is government's investment in the child's human capital\n",
    "* $\\theta$ is a positive marginal product for human capital investment\n",
    "* $e_{i,t}$ is child's human capital endowment\n",
    "\n",
    "**The child's human capital** $h_{i,t}$ is given by:\n",
    "\n",
    "$$ h_{i,t} = \\theta log(I_{i,t-1} + G_{i,t-1}) + e_{i,t}$$\n",
    "\n",
    "\n",
    "Child's endownment of human capital $e_{i,t}$ is positively correlated with the parent's endowment. It follows the first order autoregressive process:\n",
    "$$ e_{i,t} = \\delta + \\lambda e_{i,t-1} + v_{i,t} $$\n",
    "where $v_{i,t}$ is a white noise error term.\n",
    "\n",
    "\n",
    "**The child's income*** is given by:\n",
    "$$ log(y_{i,t}) = \\mu + p h_{i,t} $$\n",
    "\n",
    "The parent's **utility function** is Cobb-Douglas:\n",
    "$$ U_{i} = (1-\\alpha) log C_{i,t-1} + \\alpha log y_{i,t} $$\n",
    "\n"
   ]
  },
  {
   "cell_type": "markdown",
   "metadata": {},
   "source": [
    "# Steady state"
   ]
  },
  {
   "cell_type": "markdown",
   "metadata": {},
   "source": [
    "## Analytical solution"
   ]
  },
  {
   "cell_type": "markdown",
   "metadata": {},
   "source": [
    "We can use **sympy** to find an analytical expression for the steady state, i.e. solve\n",
    "\n",
    "$$ \\tilde{k}^{\\ast}= \\frac{1}{(1+n)(1+g)}[sf(\\tilde{k}^{\\ast})+(1-\\delta)\\tilde{k}^{\\ast}] $$"
   ]
  },
  {
   "cell_type": "markdown",
   "metadata": {},
   "source": [
    "First we define all **symbols**:"
   ]
  },
  {
   "cell_type": "code",
   "execution_count": 2,
   "metadata": {},
   "outputs": [],
   "source": [
    "k = sm.symbols('k')\n",
    "alpha = sm.symbols('alpha')\n",
    "delta = sm.symbols('delta')\n",
    "s = sm.symbols('s')\n",
    "g = sm.symbols('g')\n",
    "n = sm.symbols('n')"
   ]
  },
  {
   "cell_type": "markdown",
   "metadata": {},
   "source": [
    "Then we define the **steady state equation**"
   ]
  },
  {
   "cell_type": "code",
   "execution_count": 3,
   "metadata": {},
   "outputs": [],
   "source": [
    "ss = sm.Eq(k,(s*k**alpha+(1-delta)*k)/((1+n)*(1+g)))"
   ]
  },
  {
   "cell_type": "markdown",
   "metadata": {},
   "source": [
    "and **solve** it"
   ]
  },
  {
   "cell_type": "code",
   "execution_count": 4,
   "metadata": {},
   "outputs": [
    {
     "data": {
      "text/latex": [
       "$\\displaystyle \\left(\\frac{\\delta + g n + g + n}{s}\\right)^{\\frac{1}{\\alpha - 1}}$"
      ],
      "text/plain": [
       "((delta + g*n + g + n)/s)**(1/(alpha - 1))"
      ]
     },
     "execution_count": 4,
     "metadata": {},
     "output_type": "execute_result"
    }
   ],
   "source": [
    "kss = sm.solve(ss,k)[0]\n",
    "kss"
   ]
  },
  {
   "cell_type": "markdown",
   "metadata": {},
   "source": [
    "For later use, we turn the solution into a **Python funciton**"
   ]
  },
  {
   "cell_type": "code",
   "execution_count": 5,
   "metadata": {},
   "outputs": [],
   "source": [
    "ss_func = sm.lambdify((s,g,n,alpha,delta),kss)"
   ]
  },
  {
   "cell_type": "markdown",
   "metadata": {},
   "source": [
    "## Numerical solution"
   ]
  },
  {
   "cell_type": "markdown",
   "metadata": {},
   "source": [
    "We can re-write the equation for the steady state capital per capita as\n",
    "\n",
    "\\\\[ 0 = \\frac{1}{(1+n)(1+g)}[sf(\\tilde{k}^{\\ast})+(1-\\delta)\\tilde{k}^{\\ast}] - \\tilde{k}^{\\ast} \\\\]\n",
    "\n",
    "whereby it clearly becomes a **root-finding problem**. Such a problem can be solved by a **bisection method**."
   ]
  },
  {
   "cell_type": "markdown",
   "metadata": {},
   "source": [
    "Define the model **parameters**:"
   ]
  },
  {
   "cell_type": "code",
   "execution_count": 6,
   "metadata": {},
   "outputs": [],
   "source": [
    "s = 0.2\n",
    "g = 0.02\n",
    "n = 0.01\n",
    "alpha = 1/3\n",
    "delta = 0.1"
   ]
  },
  {
   "cell_type": "markdown",
   "metadata": {},
   "source": [
    "**Solve numerically** for the steady state:"
   ]
  },
  {
   "cell_type": "code",
   "execution_count": 7,
   "metadata": {},
   "outputs": [
    {
     "name": "stdout",
     "output_type": "stream",
     "text": [
      "analytical solution is: 1.904\n",
      " numerical solution is: 1.904\n"
     ]
    }
   ],
   "source": [
    "solution = modelproject.solve_for_ss(s,g,n,alpha,delta)\n",
    "\n",
    "print(f'analytical solution is: {ss_func(s,g,n,alpha,delta):.3f}')\n",
    "print(f' numerical solution is: {solution.root:.3f}')"
   ]
  },
  {
   "cell_type": "markdown",
   "metadata": {},
   "source": [
    "# Further analysis"
   ]
  },
  {
   "cell_type": "markdown",
   "metadata": {},
   "source": [
    "ADD FURTHER ANALYSIS, VISUALIZATIONS AND EXTENSIONS."
   ]
  },
  {
   "cell_type": "markdown",
   "metadata": {},
   "source": [
    "# Conclusion"
   ]
  },
  {
   "cell_type": "markdown",
   "metadata": {},
   "source": [
    "ADD CONCISE CONCLUSION."
   ]
  }
 ],
 "metadata": {
  "kernelspec": {
   "display_name": "Python 3",
   "language": "python",
   "name": "python3"
  },
  "language_info": {
   "codemirror_mode": {
    "name": "ipython",
    "version": 3
   },
   "file_extension": ".py",
   "mimetype": "text/x-python",
   "name": "python",
   "nbconvert_exporter": "python",
   "pygments_lexer": "ipython3",
   "version": "3.7.4"
  },
  "toc-autonumbering": true
 },
 "nbformat": 4,
 "nbformat_minor": 4
}