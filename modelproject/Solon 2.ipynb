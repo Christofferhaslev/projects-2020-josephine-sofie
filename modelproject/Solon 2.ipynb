{
 "cells": [
  {
   "cell_type": "markdown",
   "metadata": {},
   "source": [
    "# The Solon Model"
   ]
  },
  {
   "cell_type": "markdown",
   "metadata": {},
   "source": [
    "Imports and set magics:"
   ]
  },
  {
   "cell_type": "code",
   "execution_count": 2,
   "metadata": {},
   "outputs": [],
   "source": [
    "import numpy as np\n",
    "from scipy import optimize\n",
    "import sympy as sm\n",
    "\n",
    "# autoreload modules when code is run\n",
    "%load_ext autoreload\n",
    "%autoreload 2\n",
    "\n",
    "# local modules\n",
    "import modelproject"
   ]
  },
  {
   "cell_type": "markdown",
   "metadata": {
    "toc-hr-collapsed": true
   },
   "source": [
    "# Model description"
   ]
  },
  {
   "cell_type": "markdown",
   "metadata": {},
   "source": [
    "We consider the **Solon-model** of intergenerational social mobility where:\n",
    "\n",
    "* $(1-\\tau)y_{i,t-1}$ is parent's lifetime after tax earnings\n",
    "* $C_{i,t-1}$ is parent's consumption\n",
    "* $I_{i,t-1}$ is parent's investment in their child's human capital\n",
    "\n",
    "**The Parent's budget constraint** is given by:\n",
    "\n",
    "$$(1-\\tau)y_{i,t-1} = C_{i,t-1} + I_{i,t-1}$$\n",
    "\n",
    "* $G_{i,t}$ is government's investment in the child's human capital\n",
    "* $\\theta$ is a positive marginal product for human capital investment\n",
    "* $e_{i,t}$ is child's human capital endowment\n",
    "\n",
    "**The child's human capital** $h_{i,t}$ is given by:\n",
    "\n",
    "$$ h_{i,t} = \\theta log(I_{i,t-1} + G_{i,t-1}) + e_{i,t}$$\n",
    "\n",
    "\n",
    "Child's endownment of human capital $e_{i,t}$ is positively correlated with the parent's endowment. It follows the first order autoregressive process:\n",
    "$$ e_{i,t} = \\delta + \\lambda e_{i,t-1} + v_{i,t} $$\n",
    "where $v_{i,t}$ is a white noise error term.\n",
    "\n",
    "\n",
    "**The child's income*** is given by:\n",
    "$$ log(y_{i,t}) = \\mu + p h_{i,t} $$\n",
    "\n",
    "The parent's **utility function** is Cobb-Douglas:\n",
    "$$ U_{i} = (1-\\alpha) log C_{i,t-1} + \\alpha log y_{i,t} $$\n",
    "\n"
   ]
  },
  {
   "cell_type": "markdown",
   "metadata": {},
   "source": [
    "# Steady state"
   ]
  },
  {
   "cell_type": "markdown",
   "metadata": {},
   "source": [
    "## Analytical solution"
   ]
  },
  {
   "cell_type": "markdown",
   "metadata": {},
   "source": [
    "We can use **sympy** to find an analytical expression for the steady state, i.e. solve\n",
    "\n",
    "$$ \\tilde{k}^{\\ast}= \\frac{1}{(1+n)(1+g)}[sf(\\tilde{k}^{\\ast})+(1-\\delta)\\tilde{k}^{\\ast}] $$"
   ]
  },
  {
   "cell_type": "markdown",
   "metadata": {},
   "source": [
    "First we define all **symbols**:"
   ]
  },
  {
   "cell_type": "code",
   "execution_count": 22,
   "metadata": {},
   "outputs": [],
   "source": [
    "y_p = sm.symbols('y_p')\n",
    "y_c = sm.symbols('y_c')\n",
    "e_p = sm.symbols('e_it-1')\n",
    "e_c = sm.symbols('e_{it}')\n",
    "alpha = sm.symbols('alpha')\n",
    "delta = sm.symbols('delta')\n",
    "theta = sm.symbols('theta')\n",
    "mu = sm.symbols('mu')\n",
    "lamb = sm.symbols('lambda')\n",
    "gamma = sm.symbols('gamma')\n",
    "C = sm.symbols('C')\n",
    "I = sm.symbols('I')\n",
    "G = sm.symbols('G')\n",
    "h = sm.symbols('h')\n",
    "v = sm.symbols('v')\n",
    "p = sm.symbols('p')\n",
    "phi = sm.symbols('phi')\n",
    "tau = sm.symbols('tau')\n",
    "y_gp = sm.symbols('y_gp')"
   ]
  },
  {
   "cell_type": "markdown",
   "metadata": {},
   "source": [
    "Then we define the **steady state equation**"
   ]
  },
  {
   "cell_type": "code",
   "execution_count": 61,
   "metadata": {},
   "outputs": [
    {
     "output_type": "execute_result",
     "data": {
      "text/plain": "Eq(log(y_c), e_{it}*p + mu + p*phi*theta + p*theta*(1 - gamma)*log(y_p) + p*theta*log(alpha*p*theta*(1 - tau)/(-alpha*(-p*tau + 1) + 1)))",
      "text/latex": "$\\displaystyle \\log{\\left(y_{c} \\right)} = e_{it} p + \\mu + p \\phi \\theta + p \\theta \\left(1 - \\gamma\\right) \\log{\\left(y_{p} \\right)} + p \\theta \\log{\\left(\\frac{\\alpha p \\theta \\left(1 - \\tau\\right)}{- \\alpha \\left(- p \\tau + 1\\right) + 1} \\right)}$"
     },
     "metadata": {},
     "execution_count": 61
    }
   ],
   "source": [
    "# Define child's endowment\n",
    "child_endowment = sm.Eq(e_c, delta + lamb*e_p + v)\n",
    "# Define parent's income\n",
    "parents_income = sm.Eq(sm.log(y_p),mu+phi*theta*p+theta*p*sm.log(alpha*theta*p*(1-tau)/(1-alpha*(1-tau*p)))+((1-gamma)*theta*p)*y_gp+p*e_p)\n",
    "\n",
    "# Define child's income\n",
    "child_income = sm.Eq(sm.log(y_c),mu+phi*theta*p+theta*p*sm.log(alpha*theta*p*(1-tau)/(1-alpha*(1-tau*p)))+((1-gamma)*theta*p)*sm.log(y_p)+p*e_c)\n",
    "\n",
    "child_income"
   ]
  },
  {
   "cell_type": "markdown",
   "metadata": {},
   "source": [
    "and **solve** it"
   ]
  },
  {
   "cell_type": "code",
   "execution_count": 60,
   "metadata": {},
   "outputs": [
    {
     "output_type": "execute_result",
     "data": {
      "text/plain": "nan",
      "text/latex": "$\\displaystyle \\text{NaN}$"
     },
     "metadata": {},
     "execution_count": 60
    }
   ],
   "source": [
    "from sympy.stats.rv import (probability, expectation, density, where, given, pspace, cdf,\n",
    "        characteristic_function, sample, sample_iter, random_symbols, independent, dependent,\n",
    "        sampling_density, moment_generating_function)\n",
    "\n",
    "\n",
    "\n",
    "from sympy.stats import Exponential, correlation\n",
    "\n",
    "correlation(child_income,parents_income)"
   ]
  },
  {
   "cell_type": "markdown",
   "metadata": {},
   "source": [
    "For later use, we turn the solution into a **Python funciton**"
   ]
  },
  {
   "cell_type": "code",
   "execution_count": 5,
   "metadata": {},
   "outputs": [],
   "source": [
    "ss_func = sm.lambdify((s,g,n,alpha,delta),kss)"
   ]
  },
  {
   "cell_type": "markdown",
   "metadata": {},
   "source": [
    "## Numerical solution"
   ]
  },
  {
   "cell_type": "markdown",
   "metadata": {},
   "source": [
    "We can re-write the equation for the steady state capital per capita as\n",
    "\n",
    "\\\\[ 0 = \\frac{1}{(1+n)(1+g)}[sf(\\tilde{k}^{\\ast})+(1-\\delta)\\tilde{k}^{\\ast}] - \\tilde{k}^{\\ast} \\\\]\n",
    "\n",
    "whereby it clearly becomes a **root-finding problem**. Such a problem can be solved by a **bisection method**."
   ]
  },
  {
   "cell_type": "markdown",
   "metadata": {},
   "source": [
    "Define the model **parameters**:"
   ]
  },
  {
   "cell_type": "code",
   "execution_count": 6,
   "metadata": {},
   "outputs": [],
   "source": [
    "s = 0.2\n",
    "g = 0.02\n",
    "n = 0.01\n",
    "alpha = 1/3\n",
    "delta = 0.1"
   ]
  },
  {
   "cell_type": "markdown",
   "metadata": {},
   "source": [
    "**Solve numerically** for the steady state:"
   ]
  },
  {
   "cell_type": "code",
   "execution_count": 7,
   "metadata": {},
   "outputs": [
    {
     "name": "stdout",
     "output_type": "stream",
     "text": [
      "analytical solution is: 1.904\n",
      " numerical solution is: 1.904\n"
     ]
    }
   ],
   "source": [
    "solution = modelproject.solve_for_ss(s,g,n,alpha,delta)\n",
    "\n",
    "print(f'analytical solution is: {ss_func(s,g,n,alpha,delta):.3f}')\n",
    "print(f' numerical solution is: {solution.root:.3f}')"
   ]
  },
  {
   "cell_type": "markdown",
   "metadata": {},
   "source": [
    "# Further analysis"
   ]
  },
  {
   "cell_type": "markdown",
   "metadata": {},
   "source": [
    "ADD FURTHER ANALYSIS, VISUALIZATIONS AND EXTENSIONS."
   ]
  },
  {
   "cell_type": "markdown",
   "metadata": {},
   "source": [
    "# Conclusion"
   ]
  },
  {
   "cell_type": "markdown",
   "metadata": {},
   "source": [
    "ADD CONCISE CONCLUSION."
   ]
  }
 ],
 "metadata": {
  "kernelspec": {
   "display_name": "Python 3",
   "language": "python",
   "name": "python3"
  },
  "language_info": {
   "codemirror_mode": {
    "name": "ipython",
    "version": 3
   },
   "file_extension": ".py",
   "mimetype": "text/x-python",
   "name": "python",
   "nbconvert_exporter": "python",
   "pygments_lexer": "ipython3",
   "version": "3.7.4-final"
  },
  "toc-autonumbering": true
 },
 "nbformat": 4,
 "nbformat_minor": 4
}