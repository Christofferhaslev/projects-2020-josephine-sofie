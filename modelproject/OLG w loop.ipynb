{
 "cells": [
  {
   "cell_type": "markdown",
   "metadata": {},
   "source": [
    "# YOUR PROJECT TITLE"
   ]
  },
  {
   "cell_type": "markdown",
   "metadata": {},
   "source": [
    "> **Note the following:** \n",
    "> 1. This is *not* meant to be an example of an actual **model analysis project**, just an example of how to structure such a project.\n",
    "> 1. Remember the general advice on structuring and commenting your code from [lecture 5](https://numeconcopenhagen.netlify.com/lectures/Workflow_and_debugging).\n",
    "> 1. Remember this [guide](https://www.markdownguide.org/basic-syntax/) on markdown and (a bit of) latex.\n",
    "> 1. Turn on automatic numbering by clicking on the small icon on top of the table of contents in the left sidebar.\n",
    "> 1. The `modelproject.py` file includes a function which could be used multiple times in this notebook."
   ]
  },
  {
   "cell_type": "markdown",
   "metadata": {},
   "source": [
    "Imports and set magics:"
   ]
  },
  {
   "cell_type": "code",
   "execution_count": 79,
   "metadata": {},
   "outputs": [
    {
     "output_type": "stream",
     "name": "stdout",
     "text": "The autoreload extension is already loaded. To reload it, use:\n  %reload_ext autoreload\n"
    }
   ],
   "source": [
    "import numpy as np\n",
    "from scipy import optimize\n",
    "import sympy as sm\n",
    "\n",
    "# autoreload modules when code is run\n",
    "%load_ext autoreload\n",
    "%autoreload 2\n",
    "\n",
    "# local modules\n",
    "import modelproject"
   ]
  },
  {
   "cell_type": "markdown",
   "metadata": {
    "toc-hr-collapsed": true
   },
   "source": [
    "# Model description"
   ]
  },
  {
   "cell_type": "markdown",
   "metadata": {},
   "source": [
    "We consider the **standard OLG-model** where:\n",
    "\n",
    "We assume that utility is given by $u(c)$ with constant relative risk aversion (CRRA utility function): \n",
    "\n",
    "\\begin{equation}\n",
    "  u(c)=\\begin{cases}\n",
    "    \\frac{c^{1-\\sigma}-1}{1-\\sigma} , & \\sigma ≠ 1 \\\\\n",
    "    log c, & \\sigma = 1\n",
    "  \\end{cases}\n",
    "\\end{equation}\n",
    "\n",
    "Individuals live for two periods, t = 1,2. $L_t$ individuals are born in period t and we assume that the population grows with a constant rate, n: \n",
    "\n",
    "$$ L_t = L_{t-1}(1+n) $$\n",
    "\n",
    "agents derive utility while alive: \n",
    "\n",
    "$$ U_t = u(c_{1t})+\\frac{1}{1+\\rho} u(c_{2t}) $$\n",
    "\n",
    "Agtens' budget constraint in each period is given by: \n",
    "\n",
    "$$ c_{1t} + s_t = w_t $$\n",
    "\n",
    "$$ c_{2t+1} = (1+r_{t+1}) s_t $$\n",
    "\n",
    "This implies that agents' lifetime budget constraint is given by: \n",
    "\n",
    "$$ c_{1t} + \\frac{c_{2t+1}}{1+r_{t+1}} = w_t $$\n",
    "\n"
   ]
  },
  {
   "cell_type": "markdown",
   "metadata": {},
   "source": [
    "# Steady state"
   ]
  },
  {
   "cell_type": "markdown",
   "metadata": {},
   "source": [
    "## Analytical solution"
   ]
  },
  {
   "cell_type": "markdown",
   "metadata": {},
   "source": [
    "Every agtens born at time t maximize utility subject to their lifetime budget constraint:"
   ]
  },
  {
   "cell_type": "markdown",
   "metadata": {},
   "source": [
    "First we define all **symbols**:"
   ]
  },
  {
   "cell_type": "code",
   "execution_count": 136,
   "metadata": {},
   "outputs": [
    {
     "output_type": "execute_result",
     "data": {
      "text/plain": "0",
      "text/latex": "$\\displaystyle 0$"
     },
     "metadata": {},
     "execution_count": 136
    }
   ],
   "source": [
    "c_1t = sm.symbols('c_1t')\n",
    "c_2t = sm.symbols('c_2t+1')\n",
    "rho = sm.symbols('rho')\n",
    "u_1 = sm.symbols('u_1')\n",
    "u_2 = sm.symbols('u_2')\n",
    "sigma = sm.symbols('sigma')\n",
    "w = sm.symbols('w_t')\n",
    "r_t1 = sm.symbols('r_t+1')\n",
    "lamb = sm.symbols('lambda')\n",
    "s = sm.symbols('s_t')"
   ]
  },
  {
   "cell_type": "code",
   "execution_count": 109,
   "metadata": {},
   "outputs": [
    {
     "output_type": "execute_result",
     "data": {
      "text/plain": "(c_1t**(1 - sigma) - 1)/(1 - sigma) + (c_2t+1**(1 - sigma) - 1)/((1 - sigma)*(rho + 1))",
      "text/latex": "$\\displaystyle \\frac{c_{1t}^{1 - \\sigma} - 1}{1 - \\sigma} + \\frac{c_{2t+1}^{1 - \\sigma} - 1}{\\left(1 - \\sigma\\right) \\left(\\rho + 1\\right)}$"
     },
     "metadata": {},
     "execution_count": 109
    }
   ],
   "source": [
    "# Define equations\n",
    "budget_c = sm.Eq(c_1t + c_2t/(1+r_t1), w)\n",
    "\n",
    "u_c1 = ((c_1t)**(1-sigma)-1)/(1-sigma)\n",
    "u_c2 = ((c_2t)**(1-sigma)-1)/(1-sigma)\n",
    "\n",
    "U = u_c1 + u_c2/(1+rho)\n",
    "U"
   ]
  },
  {
   "cell_type": "code",
   "execution_count": 110,
   "metadata": {},
   "outputs": [
    {
     "output_type": "execute_result",
     "data": {
      "text/plain": "(-c_2t+1 + r_t+1*w_t + w_t)/(r_t+1 + 1)",
      "text/latex": "$\\displaystyle \\frac{- c_{2t+1} + r_{t+1} w_{t} + w_{t}}{r_{t+1} + 1}$"
     },
     "metadata": {},
     "execution_count": 110
    }
   ],
   "source": [
    "#solve the budget constraint for $c_{1t}$\n",
    "budget_c1 = sm.solve(budget_c,c_1t)[0]\n",
    "budget_c1"
   ]
  },
  {
   "cell_type": "code",
   "execution_count": 111,
   "metadata": {},
   "outputs": [
    {
     "output_type": "execute_result",
     "data": {
      "text/plain": "(c_2t+1**(1 - sigma) - 1)/((1 - sigma)*(rho + 1)) + (((-c_2t+1 + r_t+1*w_t + w_t)/(r_t+1 + 1))**(1 - sigma) - 1)/(1 - sigma)",
      "text/latex": "$\\displaystyle \\frac{c_{2t+1}^{1 - \\sigma} - 1}{\\left(1 - \\sigma\\right) \\left(\\rho + 1\\right)} + \\frac{\\left(\\frac{- c_{2t+1} + r_{t+1} w_{t} + w_{t}}{r_{t+1} + 1}\\right)^{1 - \\sigma} - 1}{1 - \\sigma}$"
     },
     "metadata": {},
     "execution_count": 111
    }
   ],
   "source": [
    "# We substitute budget_c1 into U_lifetime: \n",
    "\n",
    "U_lifetime = U.subs(c_1t, budget_c1)\n",
    "U_lifetime"
   ]
  },
  {
   "cell_type": "code",
   "execution_count": 112,
   "metadata": {},
   "outputs": [
    {
     "output_type": "execute_result",
     "data": {
      "text/plain": "(-c_2t+1*((-c_2t+1 + r_t+1*w_t + w_t)/(r_t+1 + 1))**(1 - sigma)*(rho + 1) + c_2t+1**(1 - sigma)*(-c_2t+1 + r_t+1*w_t + w_t))/(c_2t+1*(rho + 1)*(-c_2t+1 + r_t+1*w_t + w_t))",
      "text/latex": "$\\displaystyle \\frac{- c_{2t+1} \\left(\\frac{- c_{2t+1} + r_{t+1} w_{t} + w_{t}}{r_{t+1} + 1}\\right)^{1 - \\sigma} \\left(\\rho + 1\\right) + c_{2t+1}^{1 - \\sigma} \\left(- c_{2t+1} + r_{t+1} w_{t} + w_{t}\\right)}{c_{2t+1} \\left(\\rho + 1\\right) \\left(- c_{2t+1} + r_{t+1} w_{t} + w_{t}\\right)}$"
     },
     "metadata": {},
     "execution_count": 112
    }
   ],
   "source": [
    "# Maximize lifetime utility\n",
    "\n",
    "max_c2 = sm.diff(U_lifetime, c_2t)\n",
    "max_c2 = sm.simplify(max_c2)\n",
    "max_c2"
   ]
  },
  {
   "cell_type": "code",
   "execution_count": 113,
   "metadata": {},
   "outputs": [
    {
     "output_type": "execute_result",
     "data": {
      "text/plain": "-lambda*(c_1t + c_2t+1/(r_t+1 + 1) - w_t) + (c_1t**(1 - sigma) - 1)/(1 - sigma) + (c_2t+1**(1 - sigma) - 1)/((1 - sigma)*(rho + 1))",
      "text/latex": "$\\displaystyle - \\lambda \\left(c_{1t} + \\frac{c_{2t+1}}{r_{t+1} + 1} - w_{t}\\right) + \\frac{c_{1t}^{1 - \\sigma} - 1}{1 - \\sigma} + \\frac{c_{2t+1}^{1 - \\sigma} - 1}{\\left(1 - \\sigma\\right) \\left(\\rho + 1\\right)}$"
     },
     "metadata": {},
     "execution_count": 113
    }
   ],
   "source": [
    "# Lagrangian\n",
    "budget_l = c_1t + c_2t/(1+r_t1) - w\n",
    "L = U - lamb * budget_l\n",
    "L\n",
    "\n"
   ]
  },
  {
   "cell_type": "code",
   "execution_count": 117,
   "metadata": {},
   "outputs": [
    {
     "output_type": "error",
     "ename": "NotImplementedError",
     "evalue": "multiple generators [(rho*(r_t+1*s_t + s_t)**sigma/(r_t+1 + 1) + (r_t+1*s_t + s_t)**sigma/(r_t+1 + 1))**(1/sigma), s_t]\nNo algorithms are implemented to solve equation -s_t + w_t - ((s_t*(r_t+1 + 1))**sigma*(rho + 1)/(r_t+1 + 1))**(1/sigma)",
     "traceback": [
      "\u001b[0;31m---------------------------------------------------------------------------\u001b[0m",
      "\u001b[0;31mNotImplementedError\u001b[0m                       Traceback (most recent call last)",
      "\u001b[0;32m<ipython-input-117-d51409794329>\u001b[0m in \u001b[0;36m<module>\u001b[0;34m\u001b[0m\n\u001b[1;32m     20\u001b[0m \u001b[0mO_savings\u001b[0m \u001b[0;34m=\u001b[0m \u001b[0mEq_3\u001b[0m\u001b[0;34m.\u001b[0m\u001b[0msubs\u001b[0m\u001b[0;34m(\u001b[0m\u001b[0mc_1t\u001b[0m\u001b[0;34m,\u001b[0m\u001b[0mc_1\u001b[0m\u001b[0;34m)\u001b[0m\u001b[0;34m\u001b[0m\u001b[0;34m\u001b[0m\u001b[0m\n\u001b[1;32m     21\u001b[0m \u001b[0mO_savings\u001b[0m \u001b[0;34m=\u001b[0m \u001b[0mO_savings\u001b[0m\u001b[0;34m.\u001b[0m\u001b[0msubs\u001b[0m\u001b[0;34m(\u001b[0m\u001b[0mc_2t\u001b[0m\u001b[0;34m,\u001b[0m\u001b[0mc_2\u001b[0m\u001b[0;34m)\u001b[0m\u001b[0;34m\u001b[0m\u001b[0;34m\u001b[0m\u001b[0m\n\u001b[0;32m---> 22\u001b[0;31m \u001b[0mOpt_savings\u001b[0m \u001b[0;34m=\u001b[0m \u001b[0msm\u001b[0m\u001b[0;34m.\u001b[0m\u001b[0msolve\u001b[0m\u001b[0;34m(\u001b[0m\u001b[0mO_savings\u001b[0m\u001b[0;34m,\u001b[0m \u001b[0ms\u001b[0m\u001b[0;34m)\u001b[0m \u001b[0;34m[\u001b[0m\u001b[0;36m0\u001b[0m\u001b[0;34m]\u001b[0m\u001b[0;34m\u001b[0m\u001b[0;34m\u001b[0m\u001b[0m\n\u001b[0m\u001b[1;32m     23\u001b[0m \u001b[0mOpt_savings\u001b[0m\u001b[0;34m\u001b[0m\u001b[0;34m\u001b[0m\u001b[0m\n",
      "\u001b[0;32m/Applications/anaconda3/lib/python3.7/site-packages/sympy/solvers/solvers.py\u001b[0m in \u001b[0;36msolve\u001b[0;34m(f, *symbols, **flags)\u001b[0m\n\u001b[1;32m   1169\u001b[0m     \u001b[0;31m###########################################################################\u001b[0m\u001b[0;34m\u001b[0m\u001b[0;34m\u001b[0m\u001b[0;34m\u001b[0m\u001b[0m\n\u001b[1;32m   1170\u001b[0m     \u001b[0;32mif\u001b[0m \u001b[0mbare_f\u001b[0m\u001b[0;34m:\u001b[0m\u001b[0;34m\u001b[0m\u001b[0;34m\u001b[0m\u001b[0m\n\u001b[0;32m-> 1171\u001b[0;31m         \u001b[0msolution\u001b[0m \u001b[0;34m=\u001b[0m \u001b[0m_solve\u001b[0m\u001b[0;34m(\u001b[0m\u001b[0mf\u001b[0m\u001b[0;34m[\u001b[0m\u001b[0;36m0\u001b[0m\u001b[0;34m]\u001b[0m\u001b[0;34m,\u001b[0m \u001b[0;34m*\u001b[0m\u001b[0msymbols\u001b[0m\u001b[0;34m,\u001b[0m \u001b[0;34m**\u001b[0m\u001b[0mflags\u001b[0m\u001b[0;34m)\u001b[0m\u001b[0;34m\u001b[0m\u001b[0;34m\u001b[0m\u001b[0m\n\u001b[0m\u001b[1;32m   1172\u001b[0m     \u001b[0;32melse\u001b[0m\u001b[0;34m:\u001b[0m\u001b[0;34m\u001b[0m\u001b[0;34m\u001b[0m\u001b[0m\n\u001b[1;32m   1173\u001b[0m         \u001b[0msolution\u001b[0m \u001b[0;34m=\u001b[0m \u001b[0m_solve_system\u001b[0m\u001b[0;34m(\u001b[0m\u001b[0mf\u001b[0m\u001b[0;34m,\u001b[0m \u001b[0msymbols\u001b[0m\u001b[0;34m,\u001b[0m \u001b[0;34m**\u001b[0m\u001b[0mflags\u001b[0m\u001b[0;34m)\u001b[0m\u001b[0;34m\u001b[0m\u001b[0;34m\u001b[0m\u001b[0m\n",
      "\u001b[0;32m/Applications/anaconda3/lib/python3.7/site-packages/sympy/solvers/solvers.py\u001b[0m in \u001b[0;36m_solve\u001b[0;34m(f, *symbols, **flags)\u001b[0m\n\u001b[1;32m   1740\u001b[0m \u001b[0;34m\u001b[0m\u001b[0m\n\u001b[1;32m   1741\u001b[0m     \u001b[0;32mif\u001b[0m \u001b[0mresult\u001b[0m \u001b[0;32mis\u001b[0m \u001b[0;32mFalse\u001b[0m\u001b[0;34m:\u001b[0m\u001b[0;34m\u001b[0m\u001b[0;34m\u001b[0m\u001b[0m\n\u001b[0;32m-> 1742\u001b[0;31m         \u001b[0;32mraise\u001b[0m \u001b[0mNotImplementedError\u001b[0m\u001b[0;34m(\u001b[0m\u001b[0;34m'\\n'\u001b[0m\u001b[0;34m.\u001b[0m\u001b[0mjoin\u001b[0m\u001b[0;34m(\u001b[0m\u001b[0;34m[\u001b[0m\u001b[0mmsg\u001b[0m\u001b[0;34m,\u001b[0m \u001b[0mnot_impl_msg\u001b[0m \u001b[0;34m%\u001b[0m \u001b[0mf\u001b[0m\u001b[0;34m]\u001b[0m\u001b[0;34m)\u001b[0m\u001b[0;34m)\u001b[0m\u001b[0;34m\u001b[0m\u001b[0;34m\u001b[0m\u001b[0m\n\u001b[0m\u001b[1;32m   1743\u001b[0m \u001b[0;34m\u001b[0m\u001b[0m\n\u001b[1;32m   1744\u001b[0m     \u001b[0;32mif\u001b[0m \u001b[0mflags\u001b[0m\u001b[0;34m.\u001b[0m\u001b[0mget\u001b[0m\u001b[0;34m(\u001b[0m\u001b[0;34m'simplify'\u001b[0m\u001b[0;34m,\u001b[0m \u001b[0;32mTrue\u001b[0m\u001b[0;34m)\u001b[0m\u001b[0;34m:\u001b[0m\u001b[0;34m\u001b[0m\u001b[0;34m\u001b[0m\u001b[0m\n",
      "\u001b[0;31mNotImplementedError\u001b[0m: multiple generators [(rho*(r_t+1*s_t + s_t)**sigma/(r_t+1 + 1) + (r_t+1*s_t + s_t)**sigma/(r_t+1 + 1))**(1/sigma), s_t]\nNo algorithms are implemented to solve equation -s_t + w_t - ((s_t*(r_t+1 + 1))**sigma*(rho + 1)/(r_t+1 + 1))**(1/sigma)"
     ]
    }
   ],
   "source": [
    "def lambd(x):\n",
    "        L_1 = sm.diff(L, x)\n",
    "        L_2 = sm.Eq(L_1,0)\n",
    "        L_3 = sm.solve(L_2, lamb) [0]\n",
    "        return L_3\n",
    "\n",
    "bb = lambd(c_1t)\n",
    "gg = lambd(c_2t)\n",
    "\n",
    "Eq_1 = sm.Eq(bb,gg)\n",
    "Eq_2 = sm.solve(Eq_1, c_1t) [0]\n",
    "Eq_3 = sm.Eq(c_1t,Eq_2)\n",
    "\n",
    "Eq_4 = sm.solve(Eq_1, c_2t) [0]\n",
    "Eq_5 = sm.Eq(c_2t,Eq_4)\n",
    "\n",
    "\n",
    "c_1 = w-s\n",
    "c_2 = (1+r_t1)*s\n",
    "O_savings = Eq_3.subs(c_1t,c_1)\n",
    "O_savings = O_savings.subs(c_2t,c_2)\n",
    "Opt_savings = sm.solve(O_savings, s) [0]\n",
    "Opt_savings\n"
   ]
  },
  {
   "cell_type": "code",
   "execution_count": 5,
   "metadata": {},
   "outputs": [],
   "source": [
    "ss_func = sm.lambdify((s,g,n,alpha,delta),kss)"
   ]
  },
  {
   "cell_type": "markdown",
   "metadata": {},
   "source": [
    "## Numerical solution"
   ]
  },
  {
   "cell_type": "markdown",
   "metadata": {},
   "source": [
    "Define the model **parameters**:"
   ]
  },
  {
   "cell_type": "code",
   "execution_count": 6,
   "metadata": {},
   "outputs": [],
   "source": [
    "w = 1\n",
    "rho = 0.2\n",
    "r = 0.01"
   ]
  },
  {
   "cell_type": "markdown",
   "metadata": {},
   "source": [
    "**Solve numerically** for the steady state:"
   ]
  },
  {
   "cell_type": "code",
   "execution_count": 7,
   "metadata": {},
   "outputs": [
    {
     "name": "stdout",
     "output_type": "stream",
     "text": [
      "analytical solution is: 1.904\n",
      " numerical solution is: 1.904\n"
     ]
    }
   ],
   "source": [
    "def utility(rho):\n",
    "    c_1 = w - c_2/(1+r)\n",
    "    u(c_1) = ln(c_1)\n",
    "    u(c_2) = ln(c_2)\n",
    "    return u(c_1) + 1/(1+rho)*u(c_2)"
   ]
  },
  {
   "cell_type": "code",
   "execution_count": null,
   "metadata": {},
   "outputs": [],
   "source": [
    "# 1. grids\n",
    "c1_vec = np.linspace(0,2,500)\n",
    "c2_vec = np.linspace(0,2,500)\n",
    "x1_grid,x2_grid = np.meshgrid(x1_vec,x2_vec,indexing='ij')\n",
    "grid = _f(x1_grid,x2_grid)\n",
    "\n",
    "# 2. main\n",
    "fig = plt.figure()\n",
    "ax = fig.add_subplot(1,1,1, projection='3d')\n",
    "s = ax.plot_surface(x1_grid,x2_grid,grid, cmap=cm.jet)\n",
    "\n",
    "# 3. name axis\n",
    "ax.set_xlabel('x_1')\n",
    "ax.set_ylabel('x_2')\n",
    "ax.set_zlabel('f')\n",
    "\n",
    "# 4. invert axis\n",
    "ax.invert_xaxis()\n",
    "\n",
    "# 5. add color\n",
    "fig.colorbar(cs);"
   ]
  },
  {
   "cell_type": "markdown",
   "metadata": {},
   "source": [
    "# Further analysis"
   ]
  },
  {
   "cell_type": "markdown",
   "metadata": {},
   "source": [
    "ADD FURTHER ANALYSIS, VISUALIZATIONS AND EXTENSIONS."
   ]
  },
  {
   "cell_type": "markdown",
   "metadata": {},
   "source": [
    "# Conclusion"
   ]
  },
  {
   "cell_type": "markdown",
   "metadata": {},
   "source": [
    "ADD CONCISE CONCLUSION."
   ]
  }
 ],
 "metadata": {
  "kernelspec": {
   "display_name": "Python 3",
   "language": "python",
   "name": "python3"
  },
  "language_info": {
   "codemirror_mode": {
    "name": "ipython",
    "version": 3
   },
   "file_extension": ".py",
   "mimetype": "text/x-python",
   "name": "python",
   "nbconvert_exporter": "python",
   "pygments_lexer": "ipython3",
   "version": "3.7.4-final"
  },
  "toc-autonumbering": true
 },
 "nbformat": 4,
 "nbformat_minor": 4
}