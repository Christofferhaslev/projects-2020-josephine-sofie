{
 "cells": [
  {
   "cell_type": "markdown",
   "metadata": {},
   "source": [
    "# YOUR PROJECT TITLE"
   ]
  },
  {
   "cell_type": "markdown",
   "metadata": {},
   "source": [
    "> **Note the following:** \n",
    "> 1. This is *not* meant to be an example of an actual **model analysis project**, just an example of how to structure such a project.\n",
    "> 1. Remember the general advice on structuring and commenting your code from [lecture 5](https://numeconcopenhagen.netlify.com/lectures/Workflow_and_debugging).\n",
    "> 1. Remember this [guide](https://www.markdownguide.org/basic-syntax/) on markdown and (a bit of) latex.\n",
    "> 1. Turn on automatic numbering by clicking on the small icon on top of the table of contents in the left sidebar.\n",
    "> 1. The `modelproject.py` file includes a function which could be used multiple times in this notebook."
   ]
  },
  {
   "cell_type": "markdown",
   "metadata": {},
   "source": [
    "Imports and set magics:"
   ]
  },
  {
   "cell_type": "code",
   "execution_count": 2,
   "metadata": {},
   "outputs": [],
   "source": [
    "import numpy as np\n",
    "from scipy import optimize\n",
    "import sympy as sm\n",
    "\n",
    "# autoreload modules when code is run\n",
    "%load_ext autoreload\n",
    "%autoreload 2\n",
    "\n",
    "# local modules\n",
    "import modelproject"
   ]
  },
  {
   "cell_type": "markdown",
   "metadata": {
    "toc-hr-collapsed": true
   },
   "source": [
    "# Model description"
   ]
  },
  {
   "cell_type": "markdown",
   "metadata": {},
   "source": [
    "We consider the **standard OLG-model** where:\n",
    "\n",
    "We assume that utility is given by $u(c)$ with constant relative risk aversion (CRRA utility function): \n",
    "\n",
    "\\begin{equation}\n",
    "  u(c)=\\begin{cases}\n",
    "    \\frac{c^{1-\\sigma}-1}{1-\\sigma} , & \\sigma ≠ 1 \\\\\n",
    "    log c, & \\sigma = 1\n",
    "  \\end{cases}\n",
    "\\end{equation}\n",
    "\n",
    "Individuals live for two periods, t = 1,2. $L_t$ individuals are born in period t and we assume that the population grows with a constant rate, n: \n",
    "\n",
    "$$ L_t = L_{t-1}(1+n) $$\n",
    "\n",
    "agents derive utility while alive: \n",
    "\n",
    "$$ U_t = u(c_{1t})+\\frac{1}{1+\\rho} u(c_{2t}) $$\n",
    "\n",
    "Agtens' budget constraint in each period is given by: \n",
    "\n",
    "$$ c_{1t} + s_t = w_t $$\n",
    "\n",
    "$$ c_{2t+1} = (1+r_{t+1}) s_t $$\n",
    "\n",
    "This implies that agents' lifetime budget constraint is given by: \n",
    "\n",
    "$$ c_{1t} + \\frac{c_{2t+1}}{1+r_{t+1}} = w_t $$\n",
    "\n"
   ]
  },
  {
   "cell_type": "markdown",
   "metadata": {},
   "source": [
    "# Analytical solution"
   ]
  },
  {
   "cell_type": "markdown",
   "metadata": {},
   "source": [
    "## Household problem"
   ]
  },
  {
   "cell_type": "markdown",
   "metadata": {},
   "source": [
    "Every agtens born at time t maximize utility subject to their lifetime budget constraint:"
   ]
  },
  {
   "cell_type": "markdown",
   "metadata": {},
   "source": [
    "First we define all **symbols**:"
   ]
  },
  {
   "cell_type": "code",
   "execution_count": 3,
   "metadata": {},
   "outputs": [],
   "source": [
    "c_1t = sm.symbols('c_1t')\n",
    "c_2t = sm.symbols('c_2t+1')\n",
    "rho = sm.symbols('rho')\n",
    "u_1 = sm.symbols('u_1')\n",
    "u_2 = sm.symbols('u_2')\n",
    "sigma = sm.symbols('sigma')\n",
    "w = sm.symbols('w_t')\n",
    "r_t1 = sm.symbols('r_t+1')\n",
    "lamb = sm.symbols('lambda')\n",
    "s = sm.symbols('s_t')\n",
    "k_t2 = sm.symbols('k_t+1')\n",
    "k_t1 = sm.symbols('k_t')\n",
    "alpha = sm.symbols('alpha')"
   ]
  },
  {
   "cell_type": "code",
   "execution_count": 78,
   "metadata": {},
   "outputs": [
    {
     "output_type": "execute_result",
     "data": {
      "text/plain": "log(c_1t) + log(c_2t+1)/(rho + 1)",
      "text/latex": "$\\displaystyle \\log{\\left(c_{1t} \\right)} + \\frac{\\log{\\left(c_{2t+1} \\right)}}{\\rho + 1}$"
     },
     "metadata": {},
     "execution_count": 78
    }
   ],
   "source": [
    "#Lifetime utility\n",
    "u_c1 = sm.ln(c_1t)\n",
    "u_c2 = sm.ln(c_2t)\n",
    "U = u_c1 + u_c2/(1+rho)\n",
    "U"
   ]
  },
  {
   "cell_type": "code",
   "execution_count": 79,
   "metadata": {},
   "outputs": [
    {
     "output_type": "execute_result",
     "data": {
      "text/plain": "-lambda*(c_1t + c_2t+1/(r_t+1 + 1) - w_t) + log(c_1t) + log(c_2t+1)/(rho + 1)",
      "text/latex": "$\\displaystyle - \\lambda \\left(c_{1t} + \\frac{c_{2t+1}}{r_{t+1} + 1} - w_{t}\\right) + \\log{\\left(c_{1t} \\right)} + \\frac{\\log{\\left(c_{2t+1} \\right)}}{\\rho + 1}$"
     },
     "metadata": {},
     "execution_count": 79
    }
   ],
   "source": [
    "# Lagrangian\n",
    "budget_l = c_1t + c_2t/(1+r_t1) - w\n",
    "L = U - lamb * budget_l\n",
    "L\n",
    "\n"
   ]
  },
  {
   "cell_type": "code",
   "execution_count": 81,
   "metadata": {},
   "outputs": [
    {
     "output_type": "execute_result",
     "data": {
      "text/plain": "Eq(c_2t+1, c_1t*(r_t+1 + 1)/(rho + 1))",
      "text/latex": "$\\displaystyle c_{2t+1} = \\frac{c_{1t} \\left(r_{t+1} + 1\\right)}{\\rho + 1}$"
     },
     "metadata": {},
     "execution_count": 81
    }
   ],
   "source": [
    "def Lan(x):\n",
    "    L_1 = sm.diff(L, x)\n",
    "    L_2 = sm.Eq(L_1,0)\n",
    "    L_3 = sm.solve(L_2, lamb) [0]\n",
    "    return L_3\n",
    "\n",
    "L_c1 = Lan(c_1t)\n",
    "L_c2 = Lan(c_2t)\n",
    "\n",
    "Eu = sm.Eq(L_c1, L_c2)\n",
    "Eu_1 = sm.solve(Eu, c_2t) [0]\n",
    "Euler = sm.Eq(c_2t, Eu_1)\n",
    "Euler\n",
    "\n",
    "\n"
   ]
  },
  {
   "cell_type": "code",
   "execution_count": 104,
   "metadata": {},
   "outputs": [
    {
     "output_type": "execute_result",
     "data": {
      "text/plain": "Eq(s_t, w_t/(rho + 2))",
      "text/latex": "$\\displaystyle s_{t} = \\frac{w_{t}}{\\rho + 2}$"
     },
     "metadata": {},
     "execution_count": 104
    }
   ],
   "source": [
    "budget_1 = w-s \n",
    "budget_2 = (1+r_t1)*s\n",
    "\n",
    "savings_1 = Euler.subs(c_1t,budget_1)\n",
    "\n",
    "savings_2 = savings_1.subs(c_2t, budget_2)\n",
    "\n",
    "savings = sm.solve(savings_2,s)[0]\n",
    "\n",
    "opt_savings = sm.Eq(s,savings)\n",
    "opt_savings"
   ]
  },
  {
   "cell_type": "markdown",
   "metadata": {},
   "source": [
    "For later use, we turn the solution into a **Python funciton**"
   ]
  },
  {
   "cell_type": "code",
   "execution_count": null,
   "metadata": {},
   "outputs": [],
   "source": []
  },
  {
   "cell_type": "code",
   "execution_count": 5,
   "metadata": {},
   "outputs": [],
   "source": [
    "ss_func = sm.lambdify((s,g,n,alpha,delta),kss)"
   ]
  },
  {
   "cell_type": "markdown",
   "metadata": {},
   "source": [
    "## Numerical solution"
   ]
  },
  {
   "cell_type": "markdown",
   "metadata": {},
   "source": [
    "We can re-write the equation for the steady state capital per capita as\n",
    "\n",
    "\\\\[ 0 = \\frac{1}{(1+n)(1+g)}[sf(\\tilde{k}^{\\ast})+(1-\\delta)\\tilde{k}^{\\ast}] - \\tilde{k}^{\\ast} \\\\]\n",
    "\n",
    "whereby it clearly becomes a **root-finding problem**. Such a problem can be solved by a **bisection method**."
   ]
  },
  {
   "cell_type": "markdown",
   "metadata": {},
   "source": [
    "Define the model **parameters**:"
   ]
  },
  {
   "cell_type": "code",
   "execution_count": 6,
   "metadata": {},
   "outputs": [],
   "source": [
    "s = 0.2\n",
    "g = 0.02\n",
    "n = 0.01\n",
    "alpha = 1/3\n",
    "delta = 0.1"
   ]
  },
  {
   "cell_type": "markdown",
   "metadata": {},
   "source": [
    "**Solve numerically** for the steady state:"
   ]
  },
  {
   "cell_type": "code",
   "execution_count": 7,
   "metadata": {},
   "outputs": [
    {
     "name": "stdout",
     "output_type": "stream",
     "text": [
      "analytical solution is: 1.904\n",
      " numerical solution is: 1.904\n"
     ]
    }
   ],
   "source": [
    "solution = modelproject.solve_for_ss(s,g,n,alpha,delta)\n",
    "\n",
    "print(f'analytical solution is: {ss_func(s,g,n,alpha,delta):.3f}')\n",
    "print(f' numerical solution is: {solution.root:.3f}')"
   ]
  },
  {
   "cell_type": "markdown",
   "metadata": {},
   "source": [
    "# Further analysis"
   ]
  },
  {
   "cell_type": "markdown",
   "metadata": {},
   "source": [
    "ADD FURTHER ANALYSIS, VISUALIZATIONS AND EXTENSIONS."
   ]
  },
  {
   "cell_type": "markdown",
   "metadata": {},
   "source": [
    "# Conclusion"
   ]
  },
  {
   "cell_type": "markdown",
   "metadata": {},
   "source": [
    "ADD CONCISE CONCLUSION."
   ]
  }
 ],
 "metadata": {
  "kernelspec": {
   "display_name": "Python 3",
   "language": "python",
   "name": "python3"
  },
  "language_info": {
   "codemirror_mode": {
    "name": "ipython",
    "version": 3
   },
   "file_extension": ".py",
   "mimetype": "text/x-python",
   "name": "python",
   "nbconvert_exporter": "python",
   "pygments_lexer": "ipython3",
   "version": "3.7.4-final"
  },
  "toc-autonumbering": true
 },
 "nbformat": 4,
 "nbformat_minor": 4
}