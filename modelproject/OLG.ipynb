{
 "cells": [
  {
   "cell_type": "markdown",
   "metadata": {},
   "source": [
    "# YOUR PROJECT TITLE"
   ]
  },
  {
   "cell_type": "markdown",
   "metadata": {},
   "source": [
    "> **Note the following:** \n",
    "> 1. This is *not* meant to be an example of an actual **model analysis project**, just an example of how to structure such a project.\n",
    "> 1. Remember the general advice on structuring and commenting your code from [lecture 5](https://numeconcopenhagen.netlify.com/lectures/Workflow_and_debugging).\n",
    "> 1. Remember this [guide](https://www.markdownguide.org/basic-syntax/) on markdown and (a bit of) latex.\n",
    "> 1. Turn on automatic numbering by clicking on the small icon on top of the table of contents in the left sidebar.\n",
    "> 1. The `modelproject.py` file includes a function which could be used multiple times in this notebook."
   ]
  },
  {
   "cell_type": "markdown",
   "metadata": {},
   "source": [
    "Imports and set magics:"
   ]
  },
  {
   "cell_type": "code",
   "execution_count": 21,
   "metadata": {},
   "outputs": [
    {
     "output_type": "stream",
     "name": "stdout",
     "text": "The autoreload extension is already loaded. To reload it, use:\n  %reload_ext autoreload\n"
    }
   ],
   "source": [
    "import numpy as np\n",
    "from scipy import optimize\n",
    "import sympy as sm\n",
    "\n",
    "# autoreload modules when code is run\n",
    "%load_ext autoreload\n",
    "%autoreload 2\n",
    "\n",
    "# local modules\n",
    "import modelproject"
   ]
  },
  {
   "cell_type": "markdown",
   "metadata": {
    "toc-hr-collapsed": true
   },
   "source": [
    "# Model description"
   ]
  },
  {
   "cell_type": "markdown",
   "metadata": {},
   "source": [
    "We consider the **standard OLG-model** where:\n",
    "\n",
    "We assume that utility is given by $u(c)$ with constant relative risk aversion (CRRA utility function): \n",
    "\n",
    "\\begin{equation}\n",
    "  u(c)=\\begin{cases}\n",
    "    \\frac{c^{1-\\sigma}-1}{1-\\sigma} , & \\sigma ≠ 1 \\\\\n",
    "    log c, & \\sigma = 1\n",
    "  \\end{cases}\n",
    "\\end{equation}\n",
    "\n",
    "Individuals live for two periods, t = 1,2. $L_t$ individuals are born in period t and we assume that the population grows with a constant rate, n: \n",
    "\n",
    "$$ L_t = L_{t-1}(1+n) $$\n",
    "\n",
    "agents derive utility while alive: \n",
    "\n",
    "$$ U_t = u(c_{1t})+\\frac{1}{1+\\rho} u(c_{2t}) $$\n",
    "\n",
    "Agtens' budget constraint in each period is given by: \n",
    "\n",
    "$$ c_{1t} + s_t = w_t $$\n",
    "\n",
    "$$ c_{2t+1} = (1+r_{t+1}) s_t $$\n",
    "\n",
    "This implies that agents' lifetime budget constraint is given by: \n",
    "\n",
    "$$ c_{1t} + \\frac{c_{2t+1}}{1+r_{t+1}} = w_t $$\n",
    "\n"
   ]
  },
  {
   "cell_type": "markdown",
   "metadata": {},
   "source": [
    "# Steady state"
   ]
  },
  {
   "cell_type": "markdown",
   "metadata": {},
   "source": [
    "## Analytical solution"
   ]
  },
  {
   "cell_type": "markdown",
   "metadata": {},
   "source": [
    "Every agtens born at time t maximize utility subject to their lifetime budget constraint:"
   ]
  },
  {
   "cell_type": "markdown",
   "metadata": {},
   "source": [
    "First we define all **symbols**:"
   ]
  },
  {
   "cell_type": "code",
   "execution_count": 52,
   "metadata": {},
   "outputs": [],
   "source": [
    "c_1t = sm.symbols('c_1t')\n",
    "c_2t = sm.symbols('c_2t+1')\n",
    "rho = sm.symbols('rho')\n",
    "u_1 = sm.symbols('u_1')\n",
    "u_2 = sm.symbols('u_2')\n",
    "sigma = sm.symbols('sigma')\n",
    "w = sm.symbols('w_t')\n",
    "r_t1 = sm.symbols('r_t+1')\n",
    "lamb = sm.symbols('lambda')"
   ]
  },
  {
   "cell_type": "code",
   "execution_count": 46,
   "metadata": {},
   "outputs": [
    {
     "output_type": "execute_result",
     "data": {
      "text/plain": "(c_1t**(1 - sigma) - 1)/(1 - sigma) + (c_2t+1**(1 - sigma) - 1)/((1 - sigma)*(rho + 1))",
      "text/latex": "$\\displaystyle \\frac{c_{1t}^{1 - \\sigma} - 1}{1 - \\sigma} + \\frac{c_{2t+1}^{1 - \\sigma} - 1}{\\left(1 - \\sigma\\right) \\left(\\rho + 1\\right)}$"
     },
     "metadata": {},
     "execution_count": 46
    }
   ],
   "source": [
    "# Define equations\n",
    "budget_c = sm.Eq(c_1t + c_2t/(1+r_t1), w)\n",
    "\n",
    "u_c1 = ((c_1t)**(1-sigma)-1)/(1-sigma)\n",
    "u_c2 = ((c_2t)**(1-sigma)-1)/(1-sigma)\n",
    "\n",
    "U = u_c1 + u_c2/(1+rho)\n",
    "U"
   ]
  },
  {
   "cell_type": "code",
   "execution_count": 45,
   "metadata": {},
   "outputs": [
    {
     "output_type": "execute_result",
     "data": {
      "text/plain": "(-c_2t+1 + r_t+1*w_t + w_t)/(r_t+1 + 1)",
      "text/latex": "$\\displaystyle \\frac{- c_{2t+1} + r_{t+1} w_{t} + w_{t}}{r_{t+1} + 1}$"
     },
     "metadata": {},
     "execution_count": 45
    }
   ],
   "source": [
    "#solve the budget constraint for $c_{1t}$\n",
    "budget_c1 = sm.solve(budget_c,c_1t)[0]\n",
    "budget_c1"
   ]
  },
  {
   "cell_type": "code",
   "execution_count": 48,
   "metadata": {},
   "outputs": [
    {
     "output_type": "execute_result",
     "data": {
      "text/plain": "(c_2t+1**(1 - sigma) - 1)/((1 - sigma)*(rho + 1)) + (((-c_2t+1 + r_t+1*w_t + w_t)/(r_t+1 + 1))**(1 - sigma) - 1)/(1 - sigma)",
      "text/latex": "$\\displaystyle \\frac{c_{2t+1}^{1 - \\sigma} - 1}{\\left(1 - \\sigma\\right) \\left(\\rho + 1\\right)} + \\frac{\\left(\\frac{- c_{2t+1} + r_{t+1} w_{t} + w_{t}}{r_{t+1} + 1}\\right)^{1 - \\sigma} - 1}{1 - \\sigma}$"
     },
     "metadata": {},
     "execution_count": 48
    }
   ],
   "source": [
    "# We substitute budget_c1 into U_lifetime: \n",
    "\n",
    "U_lifetime = U.subs(c_1t, budget_c1)\n",
    "U_lifetime"
   ]
  },
  {
   "cell_type": "code",
   "execution_count": 51,
   "metadata": {},
   "outputs": [
    {
     "output_type": "execute_result",
     "data": {
      "text/plain": "(-c_2t+1*((-c_2t+1 + r_t+1*w_t + w_t)/(r_t+1 + 1))**(1 - sigma)*(rho + 1) + c_2t+1**(1 - sigma)*(-c_2t+1 + r_t+1*w_t + w_t))/(c_2t+1*(rho + 1)*(-c_2t+1 + r_t+1*w_t + w_t))",
      "text/latex": "$\\displaystyle \\frac{- c_{2t+1} \\left(\\frac{- c_{2t+1} + r_{t+1} w_{t} + w_{t}}{r_{t+1} + 1}\\right)^{1 - \\sigma} \\left(\\rho + 1\\right) + c_{2t+1}^{1 - \\sigma} \\left(- c_{2t+1} + r_{t+1} w_{t} + w_{t}\\right)}{c_{2t+1} \\left(\\rho + 1\\right) \\left(- c_{2t+1} + r_{t+1} w_{t} + w_{t}\\right)}$"
     },
     "metadata": {},
     "execution_count": 51
    }
   ],
   "source": [
    "# Maximize lifetime utility\n",
    "\n",
    "max_c2 = sm.diff(U_lifetime, c_2t)\n",
    "max_c2 = sm.simplify(max_c2)\n",
    "max_c2"
   ]
  },
  {
   "cell_type": "code",
   "execution_count": 58,
   "metadata": {},
   "outputs": [
    {
     "output_type": "execute_result",
     "data": {
      "text/plain": "-lambda*(c_1t + c_2t+1/(r_t+1 + 1) - w_t) + (c_1t**(1 - sigma) - 1)/(1 - sigma) + (c_2t+1**(1 - sigma) - 1)/((1 - sigma)*(rho + 1))",
      "text/latex": "$\\displaystyle - \\lambda \\left(c_{1t} + \\frac{c_{2t+1}}{r_{t+1} + 1} - w_{t}\\right) + \\frac{c_{1t}^{1 - \\sigma} - 1}{1 - \\sigma} + \\frac{c_{2t+1}^{1 - \\sigma} - 1}{\\left(1 - \\sigma\\right) \\left(\\rho + 1\\right)}$"
     },
     "metadata": {},
     "execution_count": 58
    }
   ],
   "source": [
    "# Lagrangian\n",
    "budget_l = c_1t + c_2t/(1+r_t1) - w\n",
    "L = U - lamb * budget_l\n",
    "L\n",
    "\n"
   ]
  },
  {
   "cell_type": "code",
   "execution_count": 59,
   "metadata": {},
   "outputs": [
    {
     "output_type": "execute_result",
     "data": {
      "text/plain": "-lambda + c_1t**(1 - sigma)/c_1t",
      "text/latex": "$\\displaystyle - \\lambda + \\frac{c_{1t}^{1 - \\sigma}}{c_{1t}}$"
     },
     "metadata": {},
     "execution_count": 59
    }
   ],
   "source": [
    "L_c1 = sm.diff(L, c_1t)\n",
    "L_c1"
   ]
  },
  {
   "cell_type": "code",
   "execution_count": 84,
   "metadata": {},
   "outputs": [
    {
     "output_type": "execute_result",
     "data": {
      "text/plain": "-lambda/(r_t+1 + 1) + c_2t+1**(1 - sigma)/(c_2t+1*(rho + 1))",
      "text/latex": "$\\displaystyle - \\frac{\\lambda}{r_{t+1} + 1} + \\frac{c_{2t+1}^{1 - \\sigma}}{c_{2t+1} \\left(\\rho + 1\\right)}$"
     },
     "metadata": {},
     "execution_count": 84
    }
   ],
   "source": [
    "L_c2 = sm.diff(L,c_2t)\n",
    "L_c2"
   ]
  },
  {
   "cell_type": "code",
   "execution_count": 70,
   "metadata": {},
   "outputs": [
    {
     "output_type": "execute_result",
     "data": {
      "text/plain": "-c_1t - c_2t+1/(r_t+1 + 1) + w_t",
      "text/latex": "$\\displaystyle - c_{1t} - \\frac{c_{2t+1}}{r_{t+1} + 1} + w_{t}$"
     },
     "metadata": {},
     "execution_count": 70
    }
   ],
   "source": [
    "L_l = sm.diff(L, lamb)\n",
    "L_l"
   ]
  },
  {
   "cell_type": "code",
   "execution_count": 85,
   "metadata": {},
   "outputs": [
    {
     "output_type": "execute_result",
     "data": {
      "text/plain": "Eq(-lambda/(r_t+1 + 1) + c_2t+1**(1 - sigma)/(c_2t+1*(rho + 1)), 0)",
      "text/latex": "$\\displaystyle - \\frac{\\lambda}{r_{t+1} + 1} + \\frac{c_{2t+1}^{1 - \\sigma}}{c_{2t+1} \\left(\\rho + 1\\right)} = 0$"
     },
     "metadata": {},
     "execution_count": 85
    }
   ],
   "source": [
    "L_c2_eq = sm.Eq(L_c2,0)\n",
    "L_c2_eq\n",
    "\n"
   ]
  },
  {
   "cell_type": "code",
   "execution_count": 89,
   "metadata": {},
   "outputs": [
    {
     "output_type": "execute_result",
     "data": {
      "text/plain": "[c_2t+1**(-sigma)*(r_t+1 + 1)/(rho + 1)]"
     },
     "metadata": {},
     "execution_count": 89
    }
   ],
   "source": [
    "L_c2_s = sm.solve(L_c2_eq, lamb)\n",
    "L_c2_s"
   ]
  },
  {
   "cell_type": "markdown",
   "metadata": {},
   "source": [
    "For later use, we turn the solution into a **Python funciton**"
   ]
  },
  {
   "cell_type": "code",
   "execution_count": null,
   "metadata": {},
   "outputs": [],
   "source": []
  },
  {
   "cell_type": "code",
   "execution_count": 5,
   "metadata": {},
   "outputs": [],
   "source": [
    "ss_func = sm.lambdify((s,g,n,alpha,delta),kss)"
   ]
  },
  {
   "cell_type": "markdown",
   "metadata": {},
   "source": [
    "## Numerical solution"
   ]
  },
  {
   "cell_type": "markdown",
   "metadata": {},
   "source": [
    "We can re-write the equation for the steady state capital per capita as\n",
    "\n",
    "\\\\[ 0 = \\frac{1}{(1+n)(1+g)}[sf(\\tilde{k}^{\\ast})+(1-\\delta)\\tilde{k}^{\\ast}] - \\tilde{k}^{\\ast} \\\\]\n",
    "\n",
    "whereby it clearly becomes a **root-finding problem**. Such a problem can be solved by a **bisection method**."
   ]
  },
  {
   "cell_type": "markdown",
   "metadata": {},
   "source": [
    "Define the model **parameters**:"
   ]
  },
  {
   "cell_type": "code",
   "execution_count": 6,
   "metadata": {},
   "outputs": [],
   "source": [
    "s = 0.2\n",
    "g = 0.02\n",
    "n = 0.01\n",
    "alpha = 1/3\n",
    "delta = 0.1"
   ]
  },
  {
   "cell_type": "markdown",
   "metadata": {},
   "source": [
    "**Solve numerically** for the steady state:"
   ]
  },
  {
   "cell_type": "code",
   "execution_count": 7,
   "metadata": {},
   "outputs": [
    {
     "name": "stdout",
     "output_type": "stream",
     "text": [
      "analytical solution is: 1.904\n",
      " numerical solution is: 1.904\n"
     ]
    }
   ],
   "source": [
    "solution = modelproject.solve_for_ss(s,g,n,alpha,delta)\n",
    "\n",
    "print(f'analytical solution is: {ss_func(s,g,n,alpha,delta):.3f}')\n",
    "print(f' numerical solution is: {solution.root:.3f}')"
   ]
  },
  {
   "cell_type": "markdown",
   "metadata": {},
   "source": [
    "# Further analysis"
   ]
  },
  {
   "cell_type": "markdown",
   "metadata": {},
   "source": [
    "ADD FURTHER ANALYSIS, VISUALIZATIONS AND EXTENSIONS."
   ]
  },
  {
   "cell_type": "markdown",
   "metadata": {},
   "source": [
    "# Conclusion"
   ]
  },
  {
   "cell_type": "markdown",
   "metadata": {},
   "source": [
    "ADD CONCISE CONCLUSION."
   ]
  }
 ],
 "metadata": {
  "kernelspec": {
   "display_name": "Python 3",
   "language": "python",
   "name": "python3"
  },
  "language_info": {
   "codemirror_mode": {
    "name": "ipython",
    "version": 3
   },
   "file_extension": ".py",
   "mimetype": "text/x-python",
   "name": "python",
   "nbconvert_exporter": "python",
   "pygments_lexer": "ipython3",
   "version": "3.7.4-final"
  },
  "toc-autonumbering": true
 },
 "nbformat": 4,
 "nbformat_minor": 4
}