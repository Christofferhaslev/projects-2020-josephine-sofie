{
 "cells": [
  {
   "cell_type": "markdown",
   "metadata": {},
   "source": [
    "# Project 0: Inaugural"
   ]
  },
  {
   "cell_type": "markdown",
   "metadata": {},
   "source": [
    "> **Note the following:** \n",
    "> 1. This is an example of how to structure your **inaugural project**.\n",
    "> 1. Remember the general advice on structuring and commenting your code from [lecture 5](https://numeconcopenhagen.netlify.com/lectures/Workflow_and_debugging).\n",
    "> 1. Remember this [guide](https://www.markdownguide.org/basic-syntax/) on markdown and (a bit of) latex.\n",
    "> 1. Turn on automatic numbering by clicking on the small icon on top of the table of contents in the left sidebar.\n",
    "> 1. The `inauguralproject.py` file includes a function which can be used multiple times in this notebook."
   ]
  },
  {
   "cell_type": "markdown",
   "metadata": {},
   "source": [
    "Imports and set magics:"
   ]
  },
  {
   "cell_type": "code",
   "execution_count": 2,
   "metadata": {},
   "outputs": [],
   "source": [
    "import numpy as np\n",
    "\n",
    "from scipy import optimize\n",
    "\n",
    "%matplotlib inline\n",
    "import matplotlib.pyplot as plt # baseline modul\n",
    "from mpl_toolkits.mplot3d import Axes3D # for 3d figures\n",
    "plt.style.use('seaborn-whitegrid')\n",
    "\n",
    "# autoreload modules when code is run\n",
    "%load_ext autoreload\n",
    "%autoreload 2\n",
    "\n",
    "# local modules\n",
    "import inauguralproject"
   ]
  },
  {
   "cell_type": "code",
   "execution_count": 3,
   "metadata": {},
   "outputs": [],
   "source": [
    "# Question 1"
   ]
  },
  {
   "cell_type": "markdown",
   "metadata": {
    "toc-hr-collapsed": true
   },
   "source": [
    "# Question 1"
   ]
  },
  {
   "cell_type": "markdown",
   "metadata": {},
   "source": [
    "BRIEFLY EXPLAIN HOW YOU SOLVE THE MODEL."
   ]
  },
  {
   "cell_type": "code",
   "execution_count": 11,
   "metadata": {},
   "outputs": [
    {
     "name": "stdout",
     "output_type": "stream",
     "text": "c = 1.17347486\nl = 0.35593295\nu  = 0.13372067\n"
    }
   ],
   "source": [
    "# Functions used to solve the problem\n",
    "\n",
    "# Utility function\n",
    "def u_func(c,l,v,eps):\n",
    "    utility = np.log(c)-v*(l**(1+(1/eps))/(1+(1/eps)))\n",
    "    return utility\n",
    "\n",
    "# Total resources\n",
    "def total_resources(m,w,l,tax0,tax1,k):\n",
    "    x = m+w*l-(tax0*w*l + (tax1*np.max(w*l-k,0)))\n",
    "    return x\n",
    " \n",
    " \n",
    "# Print solution \n",
    "def print_solution(c,l,utility):\n",
    "    print(f'c = {c:.8f}')\n",
    "    print(f'l = {l:.8f}')\n",
    "    print(f'u  = {utility:.8f}')\n",
    "\n",
    "#Set parameters\n",
    "m = 1\n",
    "v = 10\n",
    "eps = 0.3\n",
    "tax0 = 0.4\n",
    "tax1 = 0.1\n",
    "k = 0.4\n",
    "w = 0.75\n",
    "\n",
    "#Value of choice\n",
    "def value_of_choice(l,m,w,tax0,tax1,k,eps,v):\n",
    "    c =  total_resources(m,w,l,tax0,tax1,k)\n",
    "    return -u_func(c,l,v,eps)\n",
    "\n",
    "\n",
    "# b. call solver\n",
    "sol_case1 = optimize.minimize_scalar(\n",
    "    value_of_choice,method='bounded',\n",
    "    bounds=(0,1),args=(m,w,tax0,tax1,k,eps,v))\n",
    "\n",
    "# c. unpack solution\n",
    "l = sol_case1.x\n",
    "c = total_resources(m,w,l,tax0,tax1,k)\n",
    "utility = u_func(c,l,v,eps)\n",
    "print_solution(c,l,utility)"
   ]
  },
  {
   "cell_type": "markdown",
   "metadata": {},
   "source": [
    "# Question 2"
   ]
  },
  {
   "cell_type": "markdown",
   "metadata": {},
   "source": [
    "ADD ANSWER."
   ]
  },
  {
   "cell_type": "code",
   "execution_count": 6,
   "metadata": {},
   "outputs": [
    {
     "data": {
      "text/plain": "Text(0,0.5,'$l$')"
     },
     "execution_count": 6,
     "metadata": {},
     "output_type": "execute_result"
    },
    {
     "data": {
      "image/png": "[encoded data removed]",
      "image/svg+xml": "<?xml version=\"1.0\" encoding=\"utf-8\" standalone=\"no\"?>\n<!DOCTYPE svg PUBLIC \"-//W3C//DTD SVG 1.1//EN\"\n  \"http://www.w3.org/Graphics/SVG/1.1/DTD/svg11.dtd\">\n<!-- Created with matplotlib (http://matplotlib.org/) -->\n<svg height=\"257.630625pt\" version=\"1.1\" viewBox=\"0 0 379.745313 257.630625\" width=\"379.745313pt\" xmlns=\"http://www.w3.org/2000/svg\" xmlns:xlink=\"http://www.w3.org/1999/xlink\">\n <defs>\n  <style type=\"text/css\">\n*{stroke-linecap:butt;stroke-linejoin:round;}\n  </style>\n </defs>\n <g id=\"figure_1\">\n  <g id=\"patch_1\">\n   <path d=\"M 0 257.630625 \nL 379.745313 257.630625 \nL 379.745313 0 \nL 0 0 \nz\n\" style=\"fill:none;\"/>\n  </g>\n  <g id=\"axes_1\">\n   <g id=\"patch_2\">\n    <path d=\"M 37.745313 224.64 \nL 372.545313 224.64 \nL 372.545313 7.2 \nL 37.745313 7.2 \nz\n\" style=\"fill:#ffffff;\"/>\n   </g>\n   <g id=\"matplotlib.axis_1\">\n    <g id=\"xtick_1\">\n     <g id=\"line2d_1\">\n      <path clip-path=\"url(#p516cea8a19)\" d=\"M 83.399858 224.64 \nL 83.399858 7.2 \n\" style=\"fill:none;stroke:#cccccc;stroke-linecap:round;stroke-width:0.8;\"/>\n     </g>\n     <g id=\"line2d_2\"/>\n     <g id=\"text_1\">\n      <!-- 0.6 -->\n      <defs>\n       <path d=\"M 4.15625 35.296875 \nQ 4.15625 48 6.765625 55.734375 \nQ 9.375 63.484375 14.515625 67.671875 \nQ 19.671875 71.875 27.484375 71.875 \nQ 33.25 71.875 37.59375 69.546875 \nQ 41.9375 67.234375 44.765625 62.859375 \nQ 47.609375 58.5 49.21875 52.21875 \nQ 50.828125 45.953125 50.828125 35.296875 \nQ 50.828125 22.703125 48.234375 14.96875 \nQ 45.65625 7.234375 40.5 3 \nQ 35.359375 -1.21875 27.484375 -1.21875 \nQ 17.140625 -1.21875 11.234375 6.203125 \nQ 4.15625 15.140625 4.15625 35.296875 \nz\nM 13.1875 35.296875 \nQ 13.1875 17.671875 17.3125 11.828125 \nQ 21.4375 6 27.484375 6 \nQ 33.546875 6 37.671875 11.859375 \nQ 41.796875 17.71875 41.796875 35.296875 \nQ 41.796875 52.984375 37.671875 58.78125 \nQ 33.546875 64.59375 27.390625 64.59375 \nQ 21.34375 64.59375 17.71875 59.46875 \nQ 13.1875 52.9375 13.1875 35.296875 \nz\n\" id=\"ArialMT-30\"/>\n       <path d=\"M 9.078125 0 \nL 9.078125 10.015625 \nL 19.09375 10.015625 \nL 19.09375 0 \nz\n\" id=\"ArialMT-2e\"/>\n       <path d=\"M 49.75 54.046875 \nL 41.015625 53.375 \nQ 39.84375 58.546875 37.703125 60.890625 \nQ 34.125 64.65625 28.90625 64.65625 \nQ 24.703125 64.65625 21.53125 62.3125 \nQ 17.390625 59.28125 14.984375 53.46875 \nQ 12.59375 47.65625 12.5 36.921875 \nQ 15.671875 41.75 20.265625 44.09375 \nQ 24.859375 46.4375 29.890625 46.4375 \nQ 38.671875 46.4375 44.84375 39.96875 \nQ 51.03125 33.5 51.03125 23.25 \nQ 51.03125 16.5 48.125 10.71875 \nQ 45.21875 4.9375 40.140625 1.859375 \nQ 35.0625 -1.21875 28.609375 -1.21875 \nQ 17.625 -1.21875 10.6875 6.859375 \nQ 3.765625 14.9375 3.765625 33.5 \nQ 3.765625 54.25 11.421875 63.671875 \nQ 18.109375 71.875 29.4375 71.875 \nQ 37.890625 71.875 43.28125 67.140625 \nQ 48.6875 62.40625 49.75 54.046875 \nz\nM 13.875 23.1875 \nQ 13.875 18.65625 15.796875 14.5 \nQ 17.71875 10.359375 21.1875 8.171875 \nQ 24.65625 6 28.46875 6 \nQ 34.03125 6 38.03125 10.484375 \nQ 42.046875 14.984375 42.046875 22.703125 \nQ 42.046875 30.125 38.078125 34.390625 \nQ 34.125 38.671875 28.125 38.671875 \nQ 22.171875 38.671875 18.015625 34.390625 \nQ 13.875 30.125 13.875 23.1875 \nz\n\" id=\"ArialMT-36\"/>\n      </defs>\n      <g style=\"fill:#262626;\" transform=\"translate(76.449858 235.297812)scale(0.1 -0.1)\">\n       <use xlink:href=\"#ArialMT-30\"/>\n       <use x=\"55.615234\" xlink:href=\"#ArialMT-2e\"/>\n       <use x=\"83.398438\" xlink:href=\"#ArialMT-36\"/>\n      </g>\n     </g>\n    </g>\n    <g id=\"xtick_2\">\n     <g id=\"line2d_3\">\n      <path clip-path=\"url(#p516cea8a19)\" d=\"M 144.272585 224.64 \nL 144.272585 7.2 \n\" style=\"fill:none;stroke:#cccccc;stroke-linecap:round;stroke-width:0.8;\"/>\n     </g>\n     <g id=\"line2d_4\"/>\n     <g id=\"text_2\">\n      <!-- 0.8 -->\n      <defs>\n       <path d=\"M 17.671875 38.8125 \nQ 12.203125 40.828125 9.5625 44.53125 \nQ 6.9375 48.25 6.9375 53.421875 \nQ 6.9375 61.234375 12.546875 66.546875 \nQ 18.171875 71.875 27.484375 71.875 \nQ 36.859375 71.875 42.578125 66.421875 \nQ 48.296875 60.984375 48.296875 53.171875 \nQ 48.296875 48.1875 45.671875 44.5 \nQ 43.0625 40.828125 37.75 38.8125 \nQ 44.34375 36.671875 47.78125 31.875 \nQ 51.21875 27.09375 51.21875 20.453125 \nQ 51.21875 11.28125 44.71875 5.03125 \nQ 38.234375 -1.21875 27.640625 -1.21875 \nQ 17.046875 -1.21875 10.546875 5.046875 \nQ 4.046875 11.328125 4.046875 20.703125 \nQ 4.046875 27.6875 7.59375 32.390625 \nQ 11.140625 37.109375 17.671875 38.8125 \nz\nM 15.921875 53.71875 \nQ 15.921875 48.640625 19.1875 45.40625 \nQ 22.46875 42.1875 27.6875 42.1875 \nQ 32.765625 42.1875 36.015625 45.375 \nQ 39.265625 48.578125 39.265625 53.21875 \nQ 39.265625 58.0625 35.90625 61.359375 \nQ 32.5625 64.65625 27.59375 64.65625 \nQ 22.5625 64.65625 19.234375 61.421875 \nQ 15.921875 58.203125 15.921875 53.71875 \nz\nM 13.09375 20.65625 \nQ 13.09375 16.890625 14.875 13.375 \nQ 16.65625 9.859375 20.171875 7.921875 \nQ 23.6875 6 27.734375 6 \nQ 34.03125 6 38.125 10.046875 \nQ 42.234375 14.109375 42.234375 20.359375 \nQ 42.234375 26.703125 38.015625 30.859375 \nQ 33.796875 35.015625 27.4375 35.015625 \nQ 21.234375 35.015625 17.15625 30.90625 \nQ 13.09375 26.8125 13.09375 20.65625 \nz\n\" id=\"ArialMT-38\"/>\n      </defs>\n      <g style=\"fill:#262626;\" transform=\"translate(137.322585 235.297812)scale(0.1 -0.1)\">\n       <use xlink:href=\"#ArialMT-30\"/>\n       <use x=\"55.615234\" xlink:href=\"#ArialMT-2e\"/>\n       <use x=\"83.398438\" xlink:href=\"#ArialMT-38\"/>\n      </g>\n     </g>\n    </g>\n    <g id=\"xtick_3\">\n     <g id=\"line2d_5\">\n      <path clip-path=\"url(#p516cea8a19)\" d=\"M 205.145313 224.64 \nL 205.145313 7.2 \n\" style=\"fill:none;stroke:#cccccc;stroke-linecap:round;stroke-width:0.8;\"/>\n     </g>\n     <g id=\"line2d_6\"/>\n     <g id=\"text_3\">\n      <!-- 1.0 -->\n      <defs>\n       <path d=\"M 37.25 0 \nL 28.46875 0 \nL 28.46875 56 \nQ 25.296875 52.984375 20.140625 49.953125 \nQ 14.984375 46.921875 10.890625 45.40625 \nL 10.890625 53.90625 \nQ 18.265625 57.375 23.78125 62.296875 \nQ 29.296875 67.234375 31.59375 71.875 \nL 37.25 71.875 \nz\n\" id=\"ArialMT-31\"/>\n      </defs>\n      <g style=\"fill:#262626;\" transform=\"translate(198.195313 235.297812)scale(0.1 -0.1)\">\n       <use xlink:href=\"#ArialMT-31\"/>\n       <use x=\"55.615234\" xlink:href=\"#ArialMT-2e\"/>\n       <use x=\"83.398438\" xlink:href=\"#ArialMT-30\"/>\n      </g>\n     </g>\n    </g>\n    <g id=\"xtick_4\">\n     <g id=\"line2d_7\">\n      <path clip-path=\"url(#p516cea8a19)\" d=\"M 266.01804 224.64 \nL 266.01804 7.2 \n\" style=\"fill:none;stroke:#cccccc;stroke-linecap:round;stroke-width:0.8;\"/>\n     </g>\n     <g id=\"line2d_8\"/>\n     <g id=\"text_4\">\n      <!-- 1.2 -->\n      <defs>\n       <path d=\"M 50.34375 8.453125 \nL 50.34375 0 \nL 3.03125 0 \nQ 2.9375 3.171875 4.046875 6.109375 \nQ 5.859375 10.9375 9.828125 15.625 \nQ 13.8125 20.3125 21.34375 26.46875 \nQ 33.015625 36.03125 37.109375 41.625 \nQ 41.21875 47.21875 41.21875 52.203125 \nQ 41.21875 57.421875 37.46875 61 \nQ 33.734375 64.59375 27.734375 64.59375 \nQ 21.390625 64.59375 17.578125 60.78125 \nQ 13.765625 56.984375 13.71875 50.25 \nL 4.6875 51.171875 \nQ 5.609375 61.28125 11.65625 66.578125 \nQ 17.71875 71.875 27.9375 71.875 \nQ 38.234375 71.875 44.234375 66.15625 \nQ 50.25 60.453125 50.25 52 \nQ 50.25 47.703125 48.484375 43.546875 \nQ 46.734375 39.40625 42.65625 34.8125 \nQ 38.578125 30.21875 29.109375 22.21875 \nQ 21.1875 15.578125 18.9375 13.203125 \nQ 16.703125 10.84375 15.234375 8.453125 \nz\n\" id=\"ArialMT-32\"/>\n      </defs>\n      <g style=\"fill:#262626;\" transform=\"translate(259.06804 235.297812)scale(0.1 -0.1)\">\n       <use xlink:href=\"#ArialMT-31\"/>\n       <use x=\"55.615234\" xlink:href=\"#ArialMT-2e\"/>\n       <use x=\"83.398438\" xlink:href=\"#ArialMT-32\"/>\n      </g>\n     </g>\n    </g>\n    <g id=\"xtick_5\">\n     <g id=\"line2d_9\">\n      <path clip-path=\"url(#p516cea8a19)\" d=\"M 326.890767 224.64 \nL 326.890767 7.2 \n\" style=\"fill:none;stroke:#cccccc;stroke-linecap:round;stroke-width:0.8;\"/>\n     </g>\n     <g id=\"line2d_10\"/>\n     <g id=\"text_5\">\n      <!-- 1.4 -->\n      <defs>\n       <path d=\"M 32.328125 0 \nL 32.328125 17.140625 \nL 1.265625 17.140625 \nL 1.265625 25.203125 \nL 33.9375 71.578125 \nL 41.109375 71.578125 \nL 41.109375 25.203125 \nL 50.78125 25.203125 \nL 50.78125 17.140625 \nL 41.109375 17.140625 \nL 41.109375 0 \nz\nM 32.328125 25.203125 \nL 32.328125 57.46875 \nL 9.90625 25.203125 \nz\n\" id=\"ArialMT-34\"/>\n      </defs>\n      <g style=\"fill:#262626;\" transform=\"translate(319.940767 235.297812)scale(0.1 -0.1)\">\n       <use xlink:href=\"#ArialMT-31\"/>\n       <use x=\"55.615234\" xlink:href=\"#ArialMT-2e\"/>\n       <use x=\"83.398438\" xlink:href=\"#ArialMT-34\"/>\n      </g>\n     </g>\n    </g>\n    <g id=\"text_6\">\n     <!-- $w$ -->\n     <defs>\n      <path d=\"M 8.5 54.6875 \nL 17.390625 54.6875 \nL 19.671875 10.6875 \nL 40.09375 54.6875 \nL 50.484375 54.6875 \nL 53.515625 10.6875 \nL 72.90625 54.6875 \nL 81.890625 54.6875 \nL 56.890625 0 \nL 46.390625 0 \nL 43.703125 45.3125 \nL 22.796875 0 \nL 12.203125 0 \nz\n\" id=\"DejaVuSans-Oblique-77\"/>\n     </defs>\n     <g style=\"fill:#262626;\" transform=\"translate(201.045313 248.443125)scale(0.1 -0.1)\">\n      <use transform=\"translate(0 0.3125)\" xlink:href=\"#DejaVuSans-Oblique-77\"/>\n     </g>\n    </g>\n   </g>\n   <g id=\"matplotlib.axis_2\">\n    <g id=\"ytick_1\">\n     <g id=\"line2d_11\">\n      <path clip-path=\"url(#p516cea8a19)\" d=\"M 37.745313 190.596364 \nL 372.545313 190.596364 \n\" style=\"fill:none;stroke:#cccccc;stroke-linecap:round;stroke-width:0.8;\"/>\n     </g>\n     <g id=\"line2d_12\"/>\n     <g id=\"text_7\">\n      <!-- 1.0 -->\n      <g style=\"fill:#262626;\" transform=\"translate(20.345313 194.17527)scale(0.1 -0.1)\">\n       <use xlink:href=\"#ArialMT-31\"/>\n       <use x=\"55.615234\" xlink:href=\"#ArialMT-2e\"/>\n       <use x=\"83.398438\" xlink:href=\"#ArialMT-30\"/>\n      </g>\n     </g>\n    </g>\n    <g id=\"ytick_2\">\n     <g id=\"line2d_13\">\n      <path clip-path=\"url(#p516cea8a19)\" d=\"M 37.745313 146.669091 \nL 372.545313 146.669091 \n\" style=\"fill:none;stroke:#cccccc;stroke-linecap:round;stroke-width:0.8;\"/>\n     </g>\n     <g id=\"line2d_14\"/>\n     <g id=\"text_8\">\n      <!-- 1.2 -->\n      <g style=\"fill:#262626;\" transform=\"translate(20.345313 150.247997)scale(0.1 -0.1)\">\n       <use xlink:href=\"#ArialMT-31\"/>\n       <use x=\"55.615234\" xlink:href=\"#ArialMT-2e\"/>\n       <use x=\"83.398438\" xlink:href=\"#ArialMT-32\"/>\n      </g>\n     </g>\n    </g>\n    <g id=\"ytick_3\">\n     <g id=\"line2d_15\">\n      <path clip-path=\"url(#p516cea8a19)\" d=\"M 37.745313 102.741818 \nL 372.545313 102.741818 \n\" style=\"fill:none;stroke:#cccccc;stroke-linecap:round;stroke-width:0.8;\"/>\n     </g>\n     <g id=\"line2d_16\"/>\n     <g id=\"text_9\">\n      <!-- 1.4 -->\n      <g style=\"fill:#262626;\" transform=\"translate(20.345313 106.320724)scale(0.1 -0.1)\">\n       <use xlink:href=\"#ArialMT-31\"/>\n       <use x=\"55.615234\" xlink:href=\"#ArialMT-2e\"/>\n       <use x=\"83.398438\" xlink:href=\"#ArialMT-34\"/>\n      </g>\n     </g>\n    </g>\n    <g id=\"ytick_4\">\n     <g id=\"line2d_17\">\n      <path clip-path=\"url(#p516cea8a19)\" d=\"M 37.745313 58.814545 \nL 372.545313 58.814545 \n\" style=\"fill:none;stroke:#cccccc;stroke-linecap:round;stroke-width:0.8;\"/>\n     </g>\n     <g id=\"line2d_18\"/>\n     <g id=\"text_10\">\n      <!-- 1.6 -->\n      <g style=\"fill:#262626;\" transform=\"translate(20.345313 62.393452)scale(0.1 -0.1)\">\n       <use xlink:href=\"#ArialMT-31\"/>\n       <use x=\"55.615234\" xlink:href=\"#ArialMT-2e\"/>\n       <use x=\"83.398438\" xlink:href=\"#ArialMT-36\"/>\n      </g>\n     </g>\n    </g>\n    <g id=\"ytick_5\">\n     <g id=\"line2d_19\">\n      <path clip-path=\"url(#p516cea8a19)\" d=\"M 37.745313 14.887273 \nL 372.545313 14.887273 \n\" style=\"fill:none;stroke:#cccccc;stroke-linecap:round;stroke-width:0.8;\"/>\n     </g>\n     <g id=\"line2d_20\"/>\n     <g id=\"text_11\">\n      <!-- 1.8 -->\n      <g style=\"fill:#262626;\" transform=\"translate(20.345313 18.466179)scale(0.1 -0.1)\">\n       <use xlink:href=\"#ArialMT-31\"/>\n       <use x=\"55.615234\" xlink:href=\"#ArialMT-2e\"/>\n       <use x=\"83.398438\" xlink:href=\"#ArialMT-38\"/>\n      </g>\n     </g>\n    </g>\n    <g id=\"text_12\">\n     <!-- $c$ -->\n     <defs>\n      <path d=\"M 53.609375 52.59375 \nL 51.8125 43.703125 \nQ 48.578125 46.046875 44.9375 47.21875 \nQ 41.3125 48.390625 37.40625 48.390625 \nQ 33.109375 48.390625 29.21875 46.875 \nQ 25.34375 45.359375 22.703125 42.578125 \nQ 18.5 38.328125 16.203125 32.609375 \nQ 13.921875 26.90625 13.921875 20.796875 \nQ 13.921875 13.421875 17.609375 9.8125 \nQ 21.296875 6.203125 28.8125 6.203125 \nQ 32.515625 6.203125 36.6875 7.328125 \nQ 40.875 8.453125 45.40625 10.6875 \nL 43.703125 1.8125 \nQ 39.796875 0.203125 35.671875 -0.609375 \nQ 31.546875 -1.421875 27.203125 -1.421875 \nQ 16.3125 -1.421875 10.453125 4.015625 \nQ 4.59375 9.46875 4.59375 19.578125 \nQ 4.59375 28.078125 7.640625 35.234375 \nQ 10.6875 42.390625 16.703125 48.09375 \nQ 20.796875 52 26.3125 54 \nQ 31.84375 56 38.375 56 \nQ 42.1875 56 45.9375 55.140625 \nQ 49.703125 54.296875 53.609375 52.59375 \nz\n\" id=\"DejaVuSans-Oblique-63\"/>\n     </defs>\n     <g style=\"fill:#262626;\" transform=\"translate(14.357813 118.67)rotate(-90)scale(0.1 -0.1)\">\n      <use xlink:href=\"#DejaVuSans-Oblique-63\"/>\n     </g>\n    </g>\n   </g>\n   <g id=\"line2d_21\">\n    <path clip-path=\"url(#p516cea8a19)\" d=\"M 52.963494 214.756364 \nL 56.037874 214.077353 \nL 59.112255 213.371451 \nL 62.186635 212.638658 \nL 65.261015 211.878973 \nL 68.335395 211.092396 \nL 71.409775 210.278928 \nL 74.484155 209.438569 \nL 77.558536 208.571318 \nL 80.632916 207.677175 \nL 83.707296 206.756141 \nL 86.781676 205.808215 \nL 89.856056 204.833398 \nL 92.930436 203.83169 \nL 96.004817 202.80309 \nL 99.079197 201.747598 \nL 102.153577 200.665215 \nL 105.227957 199.555941 \nL 108.302337 198.419775 \nL 111.376717 197.256717 \nL 114.451098 196.066768 \nL 117.525478 194.849927 \nL 120.599858 193.606195 \nL 123.674238 192.335572 \nL 126.748618 191.038057 \nL 129.822998 189.71365 \nL 132.897379 188.362352 \nL 135.971759 186.984162 \nL 139.046139 185.579081 \nL 142.120519 184.147109 \nL 145.194899 182.688244 \nL 148.269279 181.202489 \nL 151.34366 179.689842 \nL 154.41804 178.150303 \nL 157.49242 176.583873 \nL 160.5668 174.990551 \nL 163.64118 173.370338 \nL 166.71556 171.723233 \nL 169.789941 170.049237 \nL 172.864321 168.34835 \nL 175.938701 166.62057 \nL 179.013081 164.8659 \nL 182.087461 163.084338 \nL 185.161841 161.275884 \nL 188.236222 159.440539 \nL 191.310602 157.578302 \nL 194.384982 155.689174 \nL 197.459362 153.773154 \nL 200.533742 151.830243 \nL 203.608122 149.86044 \nL 206.682503 147.863746 \nL 209.756883 145.84016 \nL 212.831263 143.789683 \nL 215.905643 141.712314 \nL 218.980023 139.608054 \nL 222.054403 137.476902 \nL 225.128784 135.318859 \nL 228.203164 133.133924 \nL 231.277544 130.922098 \nL 234.351924 128.68338 \nL 237.426304 126.417771 \nL 240.500684 124.12527 \nL 243.575065 121.805878 \nL 246.649445 119.459594 \nL 249.723825 117.086419 \nL 252.798205 114.686352 \nL 255.872585 112.259394 \nL 258.946965 109.805544 \nL 262.021346 107.324803 \nL 265.095726 104.81717 \nL 268.170106 102.282646 \nL 271.244486 99.72123 \nL 274.318866 97.132923 \nL 277.393246 94.517724 \nL 280.467627 91.875633 \nL 283.542007 89.206652 \nL 286.616387 86.510778 \nL 289.690767 83.788013 \nL 292.765147 81.038357 \nL 295.839527 78.261809 \nL 298.913908 75.45837 \nL 301.988288 72.628039 \nL 305.062668 69.770817 \nL 308.137048 66.886703 \nL 311.211428 63.975697 \nL 314.285808 61.037801 \nL 317.360189 58.073012 \nL 320.434569 55.081332 \nL 323.508949 52.062761 \nL 326.583329 49.017298 \nL 329.657709 45.944944 \nL 332.732089 42.845698 \nL 335.80647 39.71956 \nL 338.88085 36.566531 \nL 341.95523 33.386611 \nL 345.02961 30.179799 \nL 348.10399 26.946096 \nL 351.17837 23.685501 \nL 354.252751 20.398014 \nL 357.327131 17.083636 \n\" style=\"fill:none;stroke:#1f77b4;stroke-linecap:round;stroke-width:1.5;\"/>\n   </g>\n   <g id=\"patch_3\">\n    <path d=\"M 37.745313 224.64 \nL 37.745313 7.2 \n\" style=\"fill:none;stroke:#cccccc;stroke-linecap:square;stroke-linejoin:miter;\"/>\n   </g>\n   <g id=\"patch_4\">\n    <path d=\"M 372.545313 224.64 \nL 372.545313 7.2 \n\" style=\"fill:none;stroke:#cccccc;stroke-linecap:square;stroke-linejoin:miter;\"/>\n   </g>\n   <g id=\"patch_5\">\n    <path d=\"M 37.745313 224.64 \nL 372.545313 224.64 \n\" style=\"fill:none;stroke:#cccccc;stroke-linecap:square;stroke-linejoin:miter;\"/>\n   </g>\n   <g id=\"patch_6\">\n    <path d=\"M 37.745313 7.2 \nL 372.545313 7.2 \n\" style=\"fill:none;stroke:#cccccc;stroke-linecap:square;stroke-linejoin:miter;\"/>\n   </g>\n  </g>\n </g>\n <defs>\n  <clipPath id=\"p516cea8a19\">\n   <rect height=\"217.44\" width=\"334.8\" x=\"37.745313\" y=\"7.2\"/>\n  </clipPath>\n </defs>\n</svg>\n",
      "text/plain": "<Figure size 432x288 with 1 Axes>"
     },
     "metadata": {
      "needs_background": "light"
     },
     "output_type": "display_data"
    },
    {
     "data": {
      "image/png": "[encoded data removed]",
      "image/svg+xml": "<?xml version=\"1.0\" encoding=\"utf-8\" standalone=\"no\"?>\n<!DOCTYPE svg PUBLIC \"-//W3C//DTD SVG 1.1//EN\"\n  \"http://www.w3.org/Graphics/SVG/1.1/DTD/svg11.dtd\">\n<!-- Created with matplotlib (http://matplotlib.org/) -->\n<svg height=\"257.630625pt\" version=\"1.1\" viewBox=\"0 0 379.745313 257.630625\" width=\"379.745313pt\" xmlns=\"http://www.w3.org/2000/svg\" xmlns:xlink=\"http://www.w3.org/1999/xlink\">\n <defs>\n  <style type=\"text/css\">\n*{stroke-linecap:butt;stroke-linejoin:round;}\n  </style>\n </defs>\n <g id=\"figure_1\">\n  <g id=\"patch_1\">\n   <path d=\"M 0 257.630625 \nL 379.745313 257.630625 \nL 379.745313 0 \nL 0 0 \nz\n\" style=\"fill:none;\"/>\n  </g>\n  <g id=\"axes_1\">\n   <g id=\"patch_2\">\n    <path d=\"M 37.745313 224.64 \nL 372.545313 224.64 \nL 372.545313 7.2 \nL 37.745313 7.2 \nz\n\" style=\"fill:#ffffff;\"/>\n   </g>\n   <g id=\"matplotlib.axis_1\">\n    <g id=\"xtick_1\">\n     <g id=\"line2d_1\">\n      <path clip-path=\"url(#p93f15a25df)\" d=\"M 83.399858 224.64 \nL 83.399858 7.2 \n\" style=\"fill:none;stroke:#cccccc;stroke-linecap:round;stroke-width:0.8;\"/>\n     </g>\n     <g id=\"line2d_2\"/>\n     <g id=\"text_1\">\n      <!-- 0.6 -->\n      <defs>\n       <path d=\"M 4.15625 35.296875 \nQ 4.15625 48 6.765625 55.734375 \nQ 9.375 63.484375 14.515625 67.671875 \nQ 19.671875 71.875 27.484375 71.875 \nQ 33.25 71.875 37.59375 69.546875 \nQ 41.9375 67.234375 44.765625 62.859375 \nQ 47.609375 58.5 49.21875 52.21875 \nQ 50.828125 45.953125 50.828125 35.296875 \nQ 50.828125 22.703125 48.234375 14.96875 \nQ 45.65625 7.234375 40.5 3 \nQ 35.359375 -1.21875 27.484375 -1.21875 \nQ 17.140625 -1.21875 11.234375 6.203125 \nQ 4.15625 15.140625 4.15625 35.296875 \nz\nM 13.1875 35.296875 \nQ 13.1875 17.671875 17.3125 11.828125 \nQ 21.4375 6 27.484375 6 \nQ 33.546875 6 37.671875 11.859375 \nQ 41.796875 17.71875 41.796875 35.296875 \nQ 41.796875 52.984375 37.671875 58.78125 \nQ 33.546875 64.59375 27.390625 64.59375 \nQ 21.34375 64.59375 17.71875 59.46875 \nQ 13.1875 52.9375 13.1875 35.296875 \nz\n\" id=\"ArialMT-30\"/>\n       <path d=\"M 9.078125 0 \nL 9.078125 10.015625 \nL 19.09375 10.015625 \nL 19.09375 0 \nz\n\" id=\"ArialMT-2e\"/>\n       <path d=\"M 49.75 54.046875 \nL 41.015625 53.375 \nQ 39.84375 58.546875 37.703125 60.890625 \nQ 34.125 64.65625 28.90625 64.65625 \nQ 24.703125 64.65625 21.53125 62.3125 \nQ 17.390625 59.28125 14.984375 53.46875 \nQ 12.59375 47.65625 12.5 36.921875 \nQ 15.671875 41.75 20.265625 44.09375 \nQ 24.859375 46.4375 29.890625 46.4375 \nQ 38.671875 46.4375 44.84375 39.96875 \nQ 51.03125 33.5 51.03125 23.25 \nQ 51.03125 16.5 48.125 10.71875 \nQ 45.21875 4.9375 40.140625 1.859375 \nQ 35.0625 -1.21875 28.609375 -1.21875 \nQ 17.625 -1.21875 10.6875 6.859375 \nQ 3.765625 14.9375 3.765625 33.5 \nQ 3.765625 54.25 11.421875 63.671875 \nQ 18.109375 71.875 29.4375 71.875 \nQ 37.890625 71.875 43.28125 67.140625 \nQ 48.6875 62.40625 49.75 54.046875 \nz\nM 13.875 23.1875 \nQ 13.875 18.65625 15.796875 14.5 \nQ 17.71875 10.359375 21.1875 8.171875 \nQ 24.65625 6 28.46875 6 \nQ 34.03125 6 38.03125 10.484375 \nQ 42.046875 14.984375 42.046875 22.703125 \nQ 42.046875 30.125 38.078125 34.390625 \nQ 34.125 38.671875 28.125 38.671875 \nQ 22.171875 38.671875 18.015625 34.390625 \nQ 13.875 30.125 13.875 23.1875 \nz\n\" id=\"ArialMT-36\"/>\n      </defs>\n      <g style=\"fill:#262626;\" transform=\"translate(76.449858 235.297812)scale(0.1 -0.1)\">\n       <use xlink:href=\"#ArialMT-30\"/>\n       <use x=\"55.615234\" xlink:href=\"#ArialMT-2e\"/>\n       <use x=\"83.398438\" xlink:href=\"#ArialMT-36\"/>\n      </g>\n     </g>\n    </g>\n    <g id=\"xtick_2\">\n     <g id=\"line2d_3\">\n      <path clip-path=\"url(#p93f15a25df)\" d=\"M 144.272585 224.64 \nL 144.272585 7.2 \n\" style=\"fill:none;stroke:#cccccc;stroke-linecap:round;stroke-width:0.8;\"/>\n     </g>\n     <g id=\"line2d_4\"/>\n     <g id=\"text_2\">\n      <!-- 0.8 -->\n      <defs>\n       <path d=\"M 17.671875 38.8125 \nQ 12.203125 40.828125 9.5625 44.53125 \nQ 6.9375 48.25 6.9375 53.421875 \nQ 6.9375 61.234375 12.546875 66.546875 \nQ 18.171875 71.875 27.484375 71.875 \nQ 36.859375 71.875 42.578125 66.421875 \nQ 48.296875 60.984375 48.296875 53.171875 \nQ 48.296875 48.1875 45.671875 44.5 \nQ 43.0625 40.828125 37.75 38.8125 \nQ 44.34375 36.671875 47.78125 31.875 \nQ 51.21875 27.09375 51.21875 20.453125 \nQ 51.21875 11.28125 44.71875 5.03125 \nQ 38.234375 -1.21875 27.640625 -1.21875 \nQ 17.046875 -1.21875 10.546875 5.046875 \nQ 4.046875 11.328125 4.046875 20.703125 \nQ 4.046875 27.6875 7.59375 32.390625 \nQ 11.140625 37.109375 17.671875 38.8125 \nz\nM 15.921875 53.71875 \nQ 15.921875 48.640625 19.1875 45.40625 \nQ 22.46875 42.1875 27.6875 42.1875 \nQ 32.765625 42.1875 36.015625 45.375 \nQ 39.265625 48.578125 39.265625 53.21875 \nQ 39.265625 58.0625 35.90625 61.359375 \nQ 32.5625 64.65625 27.59375 64.65625 \nQ 22.5625 64.65625 19.234375 61.421875 \nQ 15.921875 58.203125 15.921875 53.71875 \nz\nM 13.09375 20.65625 \nQ 13.09375 16.890625 14.875 13.375 \nQ 16.65625 9.859375 20.171875 7.921875 \nQ 23.6875 6 27.734375 6 \nQ 34.03125 6 38.125 10.046875 \nQ 42.234375 14.109375 42.234375 20.359375 \nQ 42.234375 26.703125 38.015625 30.859375 \nQ 33.796875 35.015625 27.4375 35.015625 \nQ 21.234375 35.015625 17.15625 30.90625 \nQ 13.09375 26.8125 13.09375 20.65625 \nz\n\" id=\"ArialMT-38\"/>\n      </defs>\n      <g style=\"fill:#262626;\" transform=\"translate(137.322585 235.297812)scale(0.1 -0.1)\">\n       <use xlink:href=\"#ArialMT-30\"/>\n       <use x=\"55.615234\" xlink:href=\"#ArialMT-2e\"/>\n       <use x=\"83.398438\" xlink:href=\"#ArialMT-38\"/>\n      </g>\n     </g>\n    </g>\n    <g id=\"xtick_3\">\n     <g id=\"line2d_5\">\n      <path clip-path=\"url(#p93f15a25df)\" d=\"M 205.145313 224.64 \nL 205.145313 7.2 \n\" style=\"fill:none;stroke:#cccccc;stroke-linecap:round;stroke-width:0.8;\"/>\n     </g>\n     <g id=\"line2d_6\"/>\n     <g id=\"text_3\">\n      <!-- 1.0 -->\n      <defs>\n       <path d=\"M 37.25 0 \nL 28.46875 0 \nL 28.46875 56 \nQ 25.296875 52.984375 20.140625 49.953125 \nQ 14.984375 46.921875 10.890625 45.40625 \nL 10.890625 53.90625 \nQ 18.265625 57.375 23.78125 62.296875 \nQ 29.296875 67.234375 31.59375 71.875 \nL 37.25 71.875 \nz\n\" id=\"ArialMT-31\"/>\n      </defs>\n      <g style=\"fill:#262626;\" transform=\"translate(198.195313 235.297812)scale(0.1 -0.1)\">\n       <use xlink:href=\"#ArialMT-31\"/>\n       <use x=\"55.615234\" xlink:href=\"#ArialMT-2e\"/>\n       <use x=\"83.398438\" xlink:href=\"#ArialMT-30\"/>\n      </g>\n     </g>\n    </g>\n    <g id=\"xtick_4\">\n     <g id=\"line2d_7\">\n      <path clip-path=\"url(#p93f15a25df)\" d=\"M 266.01804 224.64 \nL 266.01804 7.2 \n\" style=\"fill:none;stroke:#cccccc;stroke-linecap:round;stroke-width:0.8;\"/>\n     </g>\n     <g id=\"line2d_8\"/>\n     <g id=\"text_4\">\n      <!-- 1.2 -->\n      <defs>\n       <path d=\"M 50.34375 8.453125 \nL 50.34375 0 \nL 3.03125 0 \nQ 2.9375 3.171875 4.046875 6.109375 \nQ 5.859375 10.9375 9.828125 15.625 \nQ 13.8125 20.3125 21.34375 26.46875 \nQ 33.015625 36.03125 37.109375 41.625 \nQ 41.21875 47.21875 41.21875 52.203125 \nQ 41.21875 57.421875 37.46875 61 \nQ 33.734375 64.59375 27.734375 64.59375 \nQ 21.390625 64.59375 17.578125 60.78125 \nQ 13.765625 56.984375 13.71875 50.25 \nL 4.6875 51.171875 \nQ 5.609375 61.28125 11.65625 66.578125 \nQ 17.71875 71.875 27.9375 71.875 \nQ 38.234375 71.875 44.234375 66.15625 \nQ 50.25 60.453125 50.25 52 \nQ 50.25 47.703125 48.484375 43.546875 \nQ 46.734375 39.40625 42.65625 34.8125 \nQ 38.578125 30.21875 29.109375 22.21875 \nQ 21.1875 15.578125 18.9375 13.203125 \nQ 16.703125 10.84375 15.234375 8.453125 \nz\n\" id=\"ArialMT-32\"/>\n      </defs>\n      <g style=\"fill:#262626;\" transform=\"translate(259.06804 235.297812)scale(0.1 -0.1)\">\n       <use xlink:href=\"#ArialMT-31\"/>\n       <use x=\"55.615234\" xlink:href=\"#ArialMT-2e\"/>\n       <use x=\"83.398438\" xlink:href=\"#ArialMT-32\"/>\n      </g>\n     </g>\n    </g>\n    <g id=\"xtick_5\">\n     <g id=\"line2d_9\">\n      <path clip-path=\"url(#p93f15a25df)\" d=\"M 326.890767 224.64 \nL 326.890767 7.2 \n\" style=\"fill:none;stroke:#cccccc;stroke-linecap:round;stroke-width:0.8;\"/>\n     </g>\n     <g id=\"line2d_10\"/>\n     <g id=\"text_5\">\n      <!-- 1.4 -->\n      <defs>\n       <path d=\"M 32.328125 0 \nL 32.328125 17.140625 \nL 1.265625 17.140625 \nL 1.265625 25.203125 \nL 33.9375 71.578125 \nL 41.109375 71.578125 \nL 41.109375 25.203125 \nL 50.78125 25.203125 \nL 50.78125 17.140625 \nL 41.109375 17.140625 \nL 41.109375 0 \nz\nM 32.328125 25.203125 \nL 32.328125 57.46875 \nL 9.90625 25.203125 \nz\n\" id=\"ArialMT-34\"/>\n      </defs>\n      <g style=\"fill:#262626;\" transform=\"translate(319.940767 235.297812)scale(0.1 -0.1)\">\n       <use xlink:href=\"#ArialMT-31\"/>\n       <use x=\"55.615234\" xlink:href=\"#ArialMT-2e\"/>\n       <use x=\"83.398438\" xlink:href=\"#ArialMT-34\"/>\n      </g>\n     </g>\n    </g>\n    <g id=\"text_6\">\n     <!-- $w$ -->\n     <defs>\n      <path d=\"M 8.5 54.6875 \nL 17.390625 54.6875 \nL 19.671875 10.6875 \nL 40.09375 54.6875 \nL 50.484375 54.6875 \nL 53.515625 10.6875 \nL 72.90625 54.6875 \nL 81.890625 54.6875 \nL 56.890625 0 \nL 46.390625 0 \nL 43.703125 45.3125 \nL 22.796875 0 \nL 12.203125 0 \nz\n\" id=\"DejaVuSans-Oblique-77\"/>\n     </defs>\n     <g style=\"fill:#262626;\" transform=\"translate(201.045313 248.443125)scale(0.1 -0.1)\">\n      <use transform=\"translate(0 0.3125)\" xlink:href=\"#DejaVuSans-Oblique-77\"/>\n     </g>\n    </g>\n   </g>\n   <g id=\"matplotlib.axis_2\">\n    <g id=\"ytick_1\">\n     <g id=\"line2d_11\">\n      <path clip-path=\"url(#p93f15a25df)\" d=\"M 37.745313 214.756364 \nL 372.545313 214.756364 \n\" style=\"fill:none;stroke:#cccccc;stroke-linecap:round;stroke-width:0.8;\"/>\n     </g>\n     <g id=\"line2d_12\"/>\n     <g id=\"text_7\">\n      <!-- 0.0 -->\n      <g style=\"fill:#262626;\" transform=\"translate(20.345313 218.33527)scale(0.1 -0.1)\">\n       <use xlink:href=\"#ArialMT-30\"/>\n       <use x=\"55.615234\" xlink:href=\"#ArialMT-2e\"/>\n       <use x=\"83.398438\" xlink:href=\"#ArialMT-30\"/>\n      </g>\n     </g>\n    </g>\n    <g id=\"ytick_2\">\n     <g id=\"line2d_13\">\n      <path clip-path=\"url(#p93f15a25df)\" d=\"M 37.745313 175.221818 \nL 372.545313 175.221818 \n\" style=\"fill:none;stroke:#cccccc;stroke-linecap:round;stroke-width:0.8;\"/>\n     </g>\n     <g id=\"line2d_14\"/>\n     <g id=\"text_8\">\n      <!-- 0.2 -->\n      <g style=\"fill:#262626;\" transform=\"translate(20.345313 178.800724)scale(0.1 -0.1)\">\n       <use xlink:href=\"#ArialMT-30\"/>\n       <use x=\"55.615234\" xlink:href=\"#ArialMT-2e\"/>\n       <use x=\"83.398438\" xlink:href=\"#ArialMT-32\"/>\n      </g>\n     </g>\n    </g>\n    <g id=\"ytick_3\">\n     <g id=\"line2d_15\">\n      <path clip-path=\"url(#p93f15a25df)\" d=\"M 37.745313 135.687273 \nL 372.545313 135.687273 \n\" style=\"fill:none;stroke:#cccccc;stroke-linecap:round;stroke-width:0.8;\"/>\n     </g>\n     <g id=\"line2d_16\"/>\n     <g id=\"text_9\">\n      <!-- 0.4 -->\n      <g style=\"fill:#262626;\" transform=\"translate(20.345313 139.266179)scale(0.1 -0.1)\">\n       <use xlink:href=\"#ArialMT-30\"/>\n       <use x=\"55.615234\" xlink:href=\"#ArialMT-2e\"/>\n       <use x=\"83.398438\" xlink:href=\"#ArialMT-34\"/>\n      </g>\n     </g>\n    </g>\n    <g id=\"ytick_4\">\n     <g id=\"line2d_17\">\n      <path clip-path=\"url(#p93f15a25df)\" d=\"M 37.745313 96.152727 \nL 372.545313 96.152727 \n\" style=\"fill:none;stroke:#cccccc;stroke-linecap:round;stroke-width:0.8;\"/>\n     </g>\n     <g id=\"line2d_18\"/>\n     <g id=\"text_10\">\n      <!-- 0.6 -->\n      <g style=\"fill:#262626;\" transform=\"translate(20.345313 99.731634)scale(0.1 -0.1)\">\n       <use xlink:href=\"#ArialMT-30\"/>\n       <use x=\"55.615234\" xlink:href=\"#ArialMT-2e\"/>\n       <use x=\"83.398438\" xlink:href=\"#ArialMT-36\"/>\n      </g>\n     </g>\n    </g>\n    <g id=\"ytick_5\">\n     <g id=\"line2d_19\">\n      <path clip-path=\"url(#p93f15a25df)\" d=\"M 37.745313 56.618182 \nL 372.545313 56.618182 \n\" style=\"fill:none;stroke:#cccccc;stroke-linecap:round;stroke-width:0.8;\"/>\n     </g>\n     <g id=\"line2d_20\"/>\n     <g id=\"text_11\">\n      <!-- 0.8 -->\n      <g style=\"fill:#262626;\" transform=\"translate(20.345313 60.197088)scale(0.1 -0.1)\">\n       <use xlink:href=\"#ArialMT-30\"/>\n       <use x=\"55.615234\" xlink:href=\"#ArialMT-2e\"/>\n       <use x=\"83.398438\" xlink:href=\"#ArialMT-38\"/>\n      </g>\n     </g>\n    </g>\n    <g id=\"ytick_6\">\n     <g id=\"line2d_21\">\n      <path clip-path=\"url(#p93f15a25df)\" d=\"M 37.745313 17.083636 \nL 372.545313 17.083636 \n\" style=\"fill:none;stroke:#cccccc;stroke-linecap:round;stroke-width:0.8;\"/>\n     </g>\n     <g id=\"line2d_22\"/>\n     <g id=\"text_12\">\n      <!-- 1.0 -->\n      <g style=\"fill:#262626;\" transform=\"translate(20.345313 20.662543)scale(0.1 -0.1)\">\n       <use xlink:href=\"#ArialMT-31\"/>\n       <use x=\"55.615234\" xlink:href=\"#ArialMT-2e\"/>\n       <use x=\"83.398438\" xlink:href=\"#ArialMT-30\"/>\n      </g>\n     </g>\n    </g>\n    <g id=\"text_13\">\n     <!-- $l$ -->\n     <defs>\n      <path d=\"M 18.3125 75.984375 \nL 27.296875 75.984375 \nL 12.5 0 \nL 3.515625 0 \nz\n\" id=\"DejaVuSans-Oblique-6c\"/>\n     </defs>\n     <g style=\"fill:#262626;\" transform=\"translate(14.357813 117.32)rotate(-90)scale(0.1 -0.1)\">\n      <use transform=\"translate(0 0.015625)\" xlink:href=\"#DejaVuSans-Oblique-6c\"/>\n     </g>\n    </g>\n   </g>\n   <g id=\"line2d_23\">\n    <path clip-path=\"url(#p93f15a25df)\" d=\"M 52.963494 214.756364 \nL 56.037874 212.759669 \nL 59.112255 210.762975 \nL 62.186635 208.766281 \nL 65.261015 206.769587 \nL 68.335395 204.772893 \nL 71.409775 202.776198 \nL 74.484155 200.779504 \nL 77.558536 198.78281 \nL 80.632916 196.786116 \nL 83.707296 194.789421 \nL 86.781676 192.792727 \nL 89.856056 190.796033 \nL 92.930436 188.799339 \nL 96.004817 186.802645 \nL 99.079197 184.80595 \nL 102.153577 182.809256 \nL 105.227957 180.812562 \nL 108.302337 178.815868 \nL 111.376717 176.819174 \nL 114.451098 174.822479 \nL 117.525478 172.825785 \nL 120.599858 170.829091 \nL 123.674238 168.832397 \nL 126.748618 166.835702 \nL 129.822998 164.839008 \nL 132.897379 162.842314 \nL 135.971759 160.84562 \nL 139.046139 158.848926 \nL 142.120519 156.852231 \nL 145.194899 154.855537 \nL 148.269279 152.858843 \nL 151.34366 150.862149 \nL 154.41804 148.865455 \nL 157.49242 146.86876 \nL 160.5668 144.872066 \nL 163.64118 142.875372 \nL 166.71556 140.878678 \nL 169.789941 138.881983 \nL 172.864321 136.885289 \nL 175.938701 134.888595 \nL 179.013081 132.891901 \nL 182.087461 130.895207 \nL 185.161841 128.898512 \nL 188.236222 126.901818 \nL 191.310602 124.905124 \nL 194.384982 122.90843 \nL 197.459362 120.911736 \nL 200.533742 118.915041 \nL 203.608122 116.918347 \nL 206.682503 114.921653 \nL 209.756883 112.924959 \nL 212.831263 110.928264 \nL 215.905643 108.93157 \nL 218.980023 106.934876 \nL 222.054403 104.938182 \nL 225.128784 102.941488 \nL 228.203164 100.944793 \nL 231.277544 98.948099 \nL 234.351924 96.951405 \nL 237.426304 94.954711 \nL 240.500684 92.958017 \nL 243.575065 90.961322 \nL 246.649445 88.964628 \nL 249.723825 86.967934 \nL 252.798205 84.97124 \nL 255.872585 82.974545 \nL 258.946965 80.977851 \nL 262.021346 78.981157 \nL 265.095726 76.984463 \nL 268.170106 74.987769 \nL 271.244486 72.991074 \nL 274.318866 70.99438 \nL 277.393246 68.997686 \nL 280.467627 67.000992 \nL 283.542007 65.004298 \nL 286.616387 63.007603 \nL 289.690767 61.010909 \nL 292.765147 59.014215 \nL 295.839527 57.017521 \nL 298.913908 55.020826 \nL 301.988288 53.024132 \nL 305.062668 51.027438 \nL 308.137048 49.030744 \nL 311.211428 47.03405 \nL 314.285808 45.037355 \nL 317.360189 43.040661 \nL 320.434569 41.043967 \nL 323.508949 39.047273 \nL 326.583329 37.050579 \nL 329.657709 35.053884 \nL 332.732089 33.05719 \nL 335.80647 31.060496 \nL 338.88085 29.063802 \nL 341.95523 27.067107 \nL 345.02961 25.070413 \nL 348.10399 23.073719 \nL 351.17837 21.077025 \nL 354.252751 19.080331 \nL 357.327131 17.083636 \n\" style=\"fill:none;stroke:#1f77b4;stroke-linecap:round;stroke-width:1.5;\"/>\n   </g>\n   <g id=\"patch_3\">\n    <path d=\"M 37.745313 224.64 \nL 37.745313 7.2 \n\" style=\"fill:none;stroke:#cccccc;stroke-linecap:square;stroke-linejoin:miter;\"/>\n   </g>\n   <g id=\"patch_4\">\n    <path d=\"M 372.545313 224.64 \nL 372.545313 7.2 \n\" style=\"fill:none;stroke:#cccccc;stroke-linecap:square;stroke-linejoin:miter;\"/>\n   </g>\n   <g id=\"patch_5\">\n    <path d=\"M 37.745313 224.64 \nL 372.545313 224.64 \n\" style=\"fill:none;stroke:#cccccc;stroke-linecap:square;stroke-linejoin:miter;\"/>\n   </g>\n   <g id=\"patch_6\">\n    <path d=\"M 37.745313 7.2 \nL 372.545313 7.2 \n\" style=\"fill:none;stroke:#cccccc;stroke-linecap:square;stroke-linejoin:miter;\"/>\n   </g>\n  </g>\n </g>\n <defs>\n  <clipPath id=\"p93f15a25df\">\n   <rect height=\"217.44\" width=\"334.8\" x=\"37.745313\" y=\"7.2\"/>\n  </clipPath>\n </defs>\n</svg>\n",
      "text/plain": "<Figure size 432x288 with 1 Axes>"
     },
     "metadata": {
      "needs_background": "light"
     },
     "output_type": "display_data"
    }
   ],
   "source": [
    "# Values\n",
    "w_vec = np.linspace(0.5,1.5,100)\n",
    "l_values = np.linspace(0,1,100)\n",
    "c_values_alt = total_resources(m,w_vec,l_values,tax0,tax1,k)\n",
    "\n",
    "#Consumption plot\n",
    "fig_c = plt.figure()\n",
    "ax = fig_c.add_subplot(1,1,1)\n",
    "ax.plot(w_vec,c_values_alt)\n",
    "\n",
    "# a. Add labels\n",
    "ax.set_xlabel('$w$')\n",
    "ax.set_ylabel('$c$')\n",
    "\n",
    "#Labor plot\n",
    "fig_l = plt.figure()\n",
    "ax2 = fig_l.add_subplot(1,1,1)\n",
    "ax2.plot(w_vec, l_values)\n",
    "\n",
    "# a. Add labels\n",
    "ax2.set_xlabel('$w$')\n",
    "ax2.set_ylabel('$l$')\n"
   ]
  },
  {
   "cell_type": "markdown",
   "metadata": {},
   "source": [
    "# Question 3"
   ]
  },
  {
   "cell_type": "markdown",
   "metadata": {},
   "source": [
    "ADD ANSWER."
   ]
  },
  {
   "cell_type": "code",
   "execution_count": 21,
   "metadata": {},
   "outputs": [
    {
     "name": "stdout",
     "output_type": "stream",
     "text": "1708.7753835090189\n"
    }
   ],
   "source": [
    "N = 10000\n",
    "np.random.seed(888)\n",
    "w = np.random.uniform(0.5,1.5, size =N)\n",
    "\n",
    "for i in w:\n",
    "    l = sol_case1.x\n",
    "    tax_i = tax0*w*l+tax1*np.max(w*l-k,0)\n",
    "    \n",
    "total_tax = np.sum(tax_i)\n",
    "print(total_tax)"
   ]
  },
  {
   "cell_type": "markdown",
   "metadata": {},
   "source": [
    "# Question 4"
   ]
  },
  {
   "cell_type": "markdown",
   "metadata": {},
   "source": [
    "ADD ANSWER."
   ]
  },
  {
   "cell_type": "code",
   "execution_count": 87,
   "metadata": {},
   "outputs": [
    {
     "name": "stdout",
     "output_type": "stream",
     "text": "3623.2067092630477\n"
    }
   ],
   "source": [
    "N = 10000\n",
    "np.random.seed(888)\n",
    "w = np.random.uniform(0.5,1.5, size =N)\n",
    "\n",
    "for i in w:\n",
    "    #Set parameters\n",
    "    m = 1\n",
    "    v = 10\n",
    "    eps = 0.1\n",
    "    tax0 = 0.4\n",
    "    tax1 = 0.1\n",
    "    k = 0.4\n",
    "    \n",
    "    #Value of choice\n",
    "    def value_of_choice(l,m,i,tax0,tax1,k,eps,v):\n",
    "        c =  total_resources(m,i,l,tax0,tax1,k)\n",
    "        return -u_func(c,l,v,eps)\n",
    "        \n",
    "    # b. call solver\n",
    "    sol_case1 = optimize.minimize_scalar(value_of_choice,method='bounded',\n",
    "    bounds=(0,1),args=(m,i,tax0,tax1,k,eps,v))\n",
    "\n",
    "    l = sol_case1.x\n",
    "    tax_i = tax0*w*l+tax1*np.max(w*l-k,0)\n",
    "    \n",
    "total_tax = np.sum(tax_i)\n",
    "print(total_tax)"
   ]
  },
  {
   "cell_type": "markdown",
   "metadata": {},
   "source": [
    "# Question 5"
   ]
  },
  {
   "cell_type": "code",
   "execution_count": null,
   "metadata": {},
   "outputs": [],
   "source": []
  },
  {
   "cell_type": "markdown",
   "metadata": {},
   "source": [
    "ADD ANSWER."
   ]
  },
  {
   "cell_type": "code",
   "execution_count": 88,
   "metadata": {},
   "outputs": [
    {
     "name": "stdout",
     "output_type": "stream",
     "text": "tax0 = 0.45753101\ntax1 = 0.10507434\nk  = 0.38677616\nl  = 0.20246931\n"
    }
   ],
   "source": [
    "\n",
    "# a. objective function (to minimize)\n",
    "def value_of_choice(x,w):\n",
    "    # note: x is a vector\n",
    "    tax0 = x[0]\n",
    "    tax1 = x[1]\n",
    "    k = x[2]\n",
    "    l = x[3]\n",
    "    return -total_tax\n",
    "\n",
    "# b. constraints (violated if negative) and bounds\n",
    "constraints = ({'type': 'ineq', 'fun': lambda x: c-(m+w*x[3]-(x[0]*w*x[3] + (x[1]*np.max(w*x[3]-x[2],0))))}) \n",
    "bounds = ((0,1),(0,1),(0,1),(0,1))\n",
    "\n",
    "# c. call solver\n",
    "initial_guess = [0.4,0.1,0.4,0.3]\n",
    "sol_case2 = optimize.minimize(\n",
    "    value_of_choice,initial_guess,args=(i),\n",
    "    method='SLSQP',bounds=bounds,constraints=constraints)\n",
    "\n",
    "# Print solution \n",
    "def print_solution1(tax0,tax1,k,l):\n",
    "    print(f'tax0 = {tax0:.8f}')\n",
    "    print(f'tax1 = {tax1:.8f}')\n",
    "    print(f'k  = {k:.8f}')\n",
    "    print(f'l  = {l:.8f}')\n",
    "\n",
    "\n",
    "\n",
    "# d. unpack solution\n",
    "tax0 = sol_case2.x[0]\n",
    "tax1 = sol_case2.x[1]\n",
    "k = sol_case2.x[2]\n",
    "l = sol_case2.x[3]\n",
    "print_solution1(tax0,tax1,k,l)"
   ]
  },
  {
   "cell_type": "markdown",
   "metadata": {},
   "source": [
    "# Conclusion"
   ]
  },
  {
   "cell_type": "markdown",
   "metadata": {},
   "source": [
    "ADD CONCISE CONLUSION."
   ]
  }
 ],
 "metadata": {
  "kernelspec": {
   "display_name": "Python 3",
   "language": "python",
   "name": "python3"
  },
  "language_info": {
   "codemirror_mode": {
    "name": "ipython",
    "version": 3
   },
   "file_extension": ".py",
   "mimetype": "text/x-python",
   "name": "python",
   "nbconvert_exporter": "python",
   "pygments_lexer": "ipython3",
   "version": "3.7.4-final"
  },
  "toc-autonumbering": true
 },
 "nbformat": 4,
 "nbformat_minor": 4
}