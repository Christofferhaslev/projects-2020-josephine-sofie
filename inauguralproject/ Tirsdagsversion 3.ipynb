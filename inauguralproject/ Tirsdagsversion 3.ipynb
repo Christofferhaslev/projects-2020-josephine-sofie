{
 "cells": [
  {
   "cell_type": "markdown",
   "metadata": {},
   "source": [
    "# Project 0: Inaugural"
   ]
  },
  {
   "cell_type": "markdown",
   "metadata": {},
   "source": [
    "> **Note the following:** \n",
    "> 1. This is an example of how to structure your **inaugural project**.\n",
    "> 1. Remember the general advice on structuring and commenting your code from [lecture 5](https://numeconcopenhagen.netlify.com/lectures/Workflow_and_debugging).\n",
    "> 1. Remember this [guide](https://www.markdownguide.org/basic-syntax/) on markdown and (a bit of) latex.\n",
    "> 1. Turn on automatic numbering by clicking on the small icon on top of the table of contents in the left sidebar.\n",
    "> 1. The `inauguralproject.py` file includes a function which can be used multiple times in this notebook."
   ]
  },
  {
   "cell_type": "markdown",
   "metadata": {},
   "source": [
    "Imports and set magics:"
   ]
  },
  {
   "cell_type": "code",
   "execution_count": 2,
   "metadata": {},
   "outputs": [],
   "source": [
    "import numpy as np\n",
    "\n",
    "from scipy import optimize\n",
    "\n",
    "%matplotlib inline\n",
    "import matplotlib.pyplot as plt # baseline modul\n",
    "from mpl_toolkits.mplot3d import Axes3D # for 3d figures\n",
    "\n",
    "# autoreload modules when code is run\n",
    "%load_ext autoreload\n",
    "%autoreload 2\n",
    "\n",
    "# local modules\n",
    "import inauguralproject"
   ]
  },
  {
   "cell_type": "markdown",
   "metadata": {
    "toc-hr-collapsed": true
   },
   "source": [
    "# Question 1"
   ]
  },
  {
   "cell_type": "markdown",
   "metadata": {},
   "source": [
    "BRIEFLY EXPLAIN HOW YOU SOLVE THE MODEL."
   ]
  },
  {
   "cell_type": "code",
   "execution_count": 1,
   "metadata": {},
   "outputs": [
    {
     "ename": "IndentationError",
     "evalue": "unexpected indent (<ipython-input-1-473c7032c701>, line 4)",
     "output_type": "error",
     "traceback": [
      "\u001b[0;36m  File \u001b[0;32m\"<ipython-input-1-473c7032c701>\"\u001b[0;36m, line \u001b[0;32m4\u001b[0m\n\u001b[0;31m    def u_func(c,l,v,eps):\u001b[0m\n\u001b[0m    ^\u001b[0m\n\u001b[0;31mIndentationError\u001b[0m\u001b[0;31m:\u001b[0m unexpected indent\n"
     ]
    }
   ],
   "source": [
    "# Functions used to solve the problem\n",
    "\n",
    "# Utility function\n",
    "def u_func(c,l,v,eps):\n",
    "    utility = np.log(c)-v*(l**(1+1/eps))/(1+1/eps)\n",
    "    return utility \n",
    "\n",
    "# Total resources\n",
    "def total_resources(m,w,l,tax0,tax1,k):\n",
    "    x = m+w*l-(tax0*w*l+tax1*np.max(w*l-k,0))\n",
    "    return x\n",
    "\n",
    "# Function for printing the solution\n",
    "def print_solution(c,l,utility,x,w):\n",
    "    print(f'c = {c:.8f}')\n",
    "    print(f'l = {l:.8f}')\n",
    "    print(f'u  = {utility:.8f}')\n",
    "    print(f'x-(m+w*l-(tax0*w*l+tax1*np.max(wl-k,0))) = {x-(m+w*l-(tax0*w*l+tax1*np.max(wl-k,0))):.8f}') \n",
    "    \n",
    "# Objective function to minimize\n",
    "def value_of_choice(l,m,w,tax0,tax1,v,eps,k):\n",
    "    c = total_resources(m,w,l,tax0,tax1,k)\n",
    "    return -utility(c,l,v,eps)\n",
    "\n",
    "\n",
    "# b. call solver\n",
    "sol_case1 = optimize.minimize(\n",
    "    value_of_choice,method='bounded',\n",
    "    bounds=(0,1),args=(m,v,eps,tax0,tax1,k))\n",
    "\n",
    "# c. unpack solution\n",
    "l = sol_case1.x\n",
    "c = total_resources(m,w,l,tax0,tax1,k)\n",
    "utility = u_func(c,l,v,eps)\n",
    "print_solution(c,l,utility,x,w)\n"
   ]
  },
  {
   "cell_type": "code",
   "execution_count": null,
   "metadata": {},
   "outputs": [],
   "source": [
    "def find_best_choice_monotone(v,eps,m,x,)"
   ]
  },
  {
   "cell_type": "markdown",
   "metadata": {},
   "source": [
    "# Question 2"
   ]
  },
  {
   "cell_type": "markdown",
   "metadata": {},
   "source": [
    "ADD ANSWER."
   ]
  },
  {
   "cell_type": "code",
   "execution_count": 3,
   "metadata": {},
   "outputs": [],
   "source": [
    "#Define parameters\n",
    "m = 1\n",
    "v = 10\n",
    "eps = 0.3\n",
    "tax0 = 0.4\n",
    "tax1 = 0.1\n",
    "k = 0.4\n",
    "\n",
    "w_values = linspace(0.5,1.5)\n",
    "c = total_resources(m,w,l,tax0,tax1,k)\n",
    "l_values = sol_case1.x\n",
    "\n",
    "# A. Create 3d figure\n",
    "fig = plt.figure() \n",
    "ax = fig.add_subplot(1,1,1,projection='3d') \n",
    "ax.plot_surface(c_values,l_values,w_values);\n",
    "\n",
    "# B. Add labels\n",
    "ax.set_xlabel('$c$')\n",
    "ax.set_ylabel('$l$')\n",
    "ax.set_zlabel('$w$')\n",
    "\n",
    "# C. Save figure\n",
    "fig.tight_layout()\n",
    "fig.savefig('someplot.pdf')"
   ]
  },
  {
   "cell_type": "markdown",
   "metadata": {},
   "source": [
    "# Question 3"
   ]
  },
  {
   "cell_type": "markdown",
   "metadata": {},
   "source": [
    "ADD ANSWER."
   ]
  },
  {
   "cell_type": "code",
   "execution_count": 4,
   "metadata": {},
   "outputs": [],
   "source": [
    "# code"
   ]
  },
  {
   "cell_type": "markdown",
   "metadata": {},
   "source": [
    "# Question 4"
   ]
  },
  {
   "cell_type": "markdown",
   "metadata": {},
   "source": [
    "ADD ANSWER."
   ]
  },
  {
   "cell_type": "code",
   "execution_count": 5,
   "metadata": {},
   "outputs": [],
   "source": [
    "# code"
   ]
  },
  {
   "cell_type": "markdown",
   "metadata": {},
   "source": [
    "# Question 5"
   ]
  },
  {
   "cell_type": "markdown",
   "metadata": {},
   "source": [
    "ADD ANSWER."
   ]
  },
  {
   "cell_type": "code",
   "execution_count": 6,
   "metadata": {},
   "outputs": [],
   "source": [
    "# code"
   ]
  },
  {
   "cell_type": "markdown",
   "metadata": {},
   "source": [
    "# Conclusion"
   ]
  },
  {
   "cell_type": "markdown",
   "metadata": {},
   "source": [
    "ADD CONCISE CONLUSION."
   ]
  }
 ],
 "metadata": {
  "kernelspec": {
   "display_name": "Python 3",
   "language": "python",
   "name": "python3"
  },
  "language_info": {
   "codemirror_mode": {
    "name": "ipython",
    "version": 3
   },
   "file_extension": ".py",
   "mimetype": "text/x-python",
   "name": "python",
   "nbconvert_exporter": "python",
   "pygments_lexer": "ipython3",
   "version": "3.7.4-final"
  },
  "toc-autonumbering": true
 },
 "nbformat": 4,
 "nbformat_minor": 4
}