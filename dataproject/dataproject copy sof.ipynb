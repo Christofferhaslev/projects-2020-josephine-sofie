{
 "cells": [
  {
   "cell_type": "markdown",
   "metadata": {},
   "source": [
    "# YOUR PROJECT TITLE"
   ]
  },
  {
   "cell_type": "markdown",
   "metadata": {},
   "source": [
    "> **Note the following:** \n",
    "> 1. This is *not* meant to be an example of an actual **data analysis project**, just an example of how to structure such a project.\n",
    "> 1. Remember the general advice on structuring and commenting your code from [lecture 5](https://numeconcopenhagen.netlify.com/lectures/Workflow_and_debugging).\n",
    "> 1. Remember this [guide](https://www.markdownguide.org/basic-syntax/) on markdown and (a bit of) latex.\n",
    "> 1. Turn on automatic numbering by clicking on the small icon on top of the table of contents in the left sidebar.\n",
    "> 1. The `dataproject.py` file includes a function which will be used multiple times in this notebook."
   ]
  },
  {
   "cell_type": "markdown",
   "metadata": {},
   "source": [
    "Imports and set magics:"
   ]
  },
  {
   "cell_type": "code",
   "execution_count": 1,
   "metadata": {},
   "outputs": [],
   "source": [
    "import pandas as pd\n",
    "import matplotlib.pyplot as plt\n",
    "import ipywidgets as widgets\n",
    "from matplotlib_venn import venn2 \n",
    "import numpy as np\n",
    "# autoreload modules when code is run\n",
    "%load_ext autoreload\n",
    "%autoreload 2\n",
    "\n",
    "# local modules\n",
    "import dataproject\n",
    "\n",
    "# import pydst\n",
    "import pydst\n",
    "dst = pydst.Dst(lang='en')"
   ]
  },
  {
   "cell_type": "markdown",
   "metadata": {
    "toc-hr-collapsed": true
   },
   "source": [
    "# 1. Read and clean data"
   ]
  },
  {
   "cell_type": "markdown",
   "metadata": {},
   "source": [
    "## Employment data"
   ]
  },
  {
   "cell_type": "markdown",
   "metadata": {},
   "source": [
    "**Read the education data** from dst and **clean it** :"
   ]
  },
  {
   "cell_type": "code",
   "execution_count": 2,
   "metadata": {},
   "outputs": [
    {
     "data": {
      "text/html": [
       "<div>\n",
       "<style scoped>\n",
       "    .dataframe tbody tr th:only-of-type {\n",
       "        vertical-align: middle;\n",
       "    }\n",
       "\n",
       "    .dataframe tbody tr th {\n",
       "        vertical-align: top;\n",
       "    }\n",
       "\n",
       "    .dataframe thead th {\n",
       "        text-align: right;\n",
       "    }\n",
       "</style>\n",
       "<table border=\"1\" class=\"dataframe\">\n",
       "  <thead>\n",
       "    <tr style=\"text-align: right;\">\n",
       "      <th></th>\n",
       "      <th>Year</th>\n",
       "      <th>Ancestry</th>\n",
       "      <th>HCEDUC</th>\n",
       "      <th>Gender</th>\n",
       "      <th>Units</th>\n",
       "    </tr>\n",
       "  </thead>\n",
       "  <tbody>\n",
       "    <tr>\n",
       "      <td>0</td>\n",
       "      <td>2006</td>\n",
       "      <td>Descendant</td>\n",
       "      <td>Upper secondary education</td>\n",
       "      <td>Women</td>\n",
       "      <td>2485</td>\n",
       "    </tr>\n",
       "    <tr>\n",
       "      <td>1</td>\n",
       "      <td>2006</td>\n",
       "      <td>Descendant</td>\n",
       "      <td>Upper secondary education</td>\n",
       "      <td>Men</td>\n",
       "      <td>2001</td>\n",
       "    </tr>\n",
       "    <tr>\n",
       "      <td>2</td>\n",
       "      <td>2006</td>\n",
       "      <td>Descendant</td>\n",
       "      <td>Upper secondary education</td>\n",
       "      <td>Total</td>\n",
       "      <td>4486</td>\n",
       "    </tr>\n",
       "    <tr>\n",
       "      <td>3</td>\n",
       "      <td>2006</td>\n",
       "      <td>Descendant</td>\n",
       "      <td>Vocational Education and Training (VET)</td>\n",
       "      <td>Women</td>\n",
       "      <td>1938</td>\n",
       "    </tr>\n",
       "    <tr>\n",
       "      <td>4</td>\n",
       "      <td>2006</td>\n",
       "      <td>Descendant</td>\n",
       "      <td>Vocational Education and Training (VET)</td>\n",
       "      <td>Men</td>\n",
       "      <td>1756</td>\n",
       "    </tr>\n",
       "  </tbody>\n",
       "</table>\n",
       "</div>"
      ],
      "text/plain": [
       "   Year    Ancestry                                   HCEDUC Gender  Units\n",
       "0  2006  Descendant                Upper secondary education  Women   2485\n",
       "1  2006  Descendant                Upper secondary education    Men   2001\n",
       "2  2006  Descendant                Upper secondary education  Total   4486\n",
       "3  2006  Descendant  Vocational Education and Training (VET)  Women   1938\n",
       "4  2006  Descendant  Vocational Education and Training (VET)    Men   1756"
      ]
     },
     "execution_count": 2,
     "metadata": {},
     "output_type": "execute_result"
    }
   ],
   "source": [
    "educ_vars = dst.get_variables(table_id='HFUDD10')\n",
    "educ_vars\n",
    "\n",
    "#a. Download data\n",
    "educ = dst.get_data(table_id = 'HFUDD10', variables={'Tid':['*'],'HERKOMST':['*'], 'HFUDD':['TOT','H20','H30', 'H40','H50','H60','H70'], 'KØN':['*']})\n",
    "\n",
    "# b. drop columns\n",
    "drop_these = ['BOPOMR','ALDER']\n",
    "educ.drop(drop_these, axis=1, inplace=True)\n",
    "\n",
    "# c. rename columns\n",
    "educ.rename(columns = {'HERKOMST':'Ancestry', 'KØN':'Gender', 'TID':'Year', 'HFUDD':'HCEDUC', 'INDHOLD':'Units'}, inplace=True)\n",
    "\n",
    "educ['HCEDUC']=educ.HCEDUC.astype(str).str[4:]\n",
    "\n",
    "# d. Set index to year\n",
    "educ.set_index('Year')\n",
    "educ.head()"
   ]
  },
  {
   "cell_type": "markdown",
   "metadata": {},
   "source": [
    "# Merge with population data set"
   ]
  },
  {
   "cell_type": "markdown",
   "metadata": {},
   "source": [
    "## Clean the population data set"
   ]
  },
  {
   "cell_type": "code",
   "execution_count": 3,
   "metadata": {},
   "outputs": [],
   "source": [
    "#Download population data from dst\n",
    "pop = dst.get_data(table_id = 'FOLK1C', variables={'Tid':['*'], 'HERKOMST':['*'], 'KØN':['*']})\n",
    "\n",
    "#Drop columns\n",
    "drop_these = drop_these = ['OMRÅDE','ALDER', 'IELAND']\n",
    "pop.drop(drop_these, axis=1, inplace=True)\n",
    "\n",
    "#Rename columns\n",
    "pop.rename(columns = {'HERKOMST':'Ancestry', 'KØN':'Gender', 'TID':'Year','INDHOLD':'Pop'}, inplace=True)\n",
    "\n",
    "for val in ['Q2','Q3','Q4']: \n",
    "    I = pop.Year.str.contains(val)\n",
    "    pop.drop(pop[I].index, inplace=True)\n",
    "\n",
    "pop.Year.astype(str)\n",
    "pop['Year']= pop.Year.astype(str).str[:4]"
   ]
  },
  {
   "cell_type": "markdown",
   "metadata": {},
   "source": [
    "## Merge the datasets"
   ]
  },
  {
   "cell_type": "code",
   "execution_count": 4,
   "metadata": {},
   "outputs": [
    {
     "data": {
      "text/html": [
       "<div>\n",
       "<style scoped>\n",
       "    .dataframe tbody tr th:only-of-type {\n",
       "        vertical-align: middle;\n",
       "    }\n",
       "\n",
       "    .dataframe tbody tr th {\n",
       "        vertical-align: top;\n",
       "    }\n",
       "\n",
       "    .dataframe thead th {\n",
       "        text-align: right;\n",
       "    }\n",
       "</style>\n",
       "<table border=\"1\" class=\"dataframe\">\n",
       "  <thead>\n",
       "    <tr style=\"text-align: right;\">\n",
       "      <th></th>\n",
       "      <th>Year</th>\n",
       "      <th>Ancestry</th>\n",
       "      <th>HCEDUC</th>\n",
       "      <th>Gender</th>\n",
       "      <th>Units</th>\n",
       "      <th>Pop</th>\n",
       "    </tr>\n",
       "  </thead>\n",
       "  <tbody>\n",
       "    <tr>\n",
       "      <td>0</td>\n",
       "      <td>2008</td>\n",
       "      <td>Descendant</td>\n",
       "      <td>Upper secondary education</td>\n",
       "      <td>Women</td>\n",
       "      <td>3159</td>\n",
       "      <td>58393</td>\n",
       "    </tr>\n",
       "    <tr>\n",
       "      <td>1</td>\n",
       "      <td>2008</td>\n",
       "      <td>Descendant</td>\n",
       "      <td>Vocational Education and Training (VET)</td>\n",
       "      <td>Women</td>\n",
       "      <td>2273</td>\n",
       "      <td>58393</td>\n",
       "    </tr>\n",
       "    <tr>\n",
       "      <td>2</td>\n",
       "      <td>2008</td>\n",
       "      <td>Descendant</td>\n",
       "      <td>Short cycle higher education</td>\n",
       "      <td>Women</td>\n",
       "      <td>395</td>\n",
       "      <td>58393</td>\n",
       "    </tr>\n",
       "    <tr>\n",
       "      <td>3</td>\n",
       "      <td>2008</td>\n",
       "      <td>Descendant</td>\n",
       "      <td>Vocational bachelors educations</td>\n",
       "      <td>Women</td>\n",
       "      <td>1048</td>\n",
       "      <td>58393</td>\n",
       "    </tr>\n",
       "    <tr>\n",
       "      <td>4</td>\n",
       "      <td>2008</td>\n",
       "      <td>Descendant</td>\n",
       "      <td>Bachelors programmes</td>\n",
       "      <td>Women</td>\n",
       "      <td>397</td>\n",
       "      <td>58393</td>\n",
       "    </tr>\n",
       "    <tr>\n",
       "      <td>5</td>\n",
       "      <td>2008</td>\n",
       "      <td>Descendant</td>\n",
       "      <td>Masters programmes</td>\n",
       "      <td>Women</td>\n",
       "      <td>610</td>\n",
       "      <td>58393</td>\n",
       "    </tr>\n",
       "    <tr>\n",
       "      <td>6</td>\n",
       "      <td>2008</td>\n",
       "      <td>Descendant</td>\n",
       "      <td>l</td>\n",
       "      <td>Women</td>\n",
       "      <td>19010</td>\n",
       "      <td>58393</td>\n",
       "    </tr>\n",
       "    <tr>\n",
       "      <td>7</td>\n",
       "      <td>2008</td>\n",
       "      <td>Descendant</td>\n",
       "      <td>Upper secondary education</td>\n",
       "      <td>Men</td>\n",
       "      <td>2454</td>\n",
       "      <td>60904</td>\n",
       "    </tr>\n",
       "    <tr>\n",
       "      <td>8</td>\n",
       "      <td>2008</td>\n",
       "      <td>Descendant</td>\n",
       "      <td>Vocational Education and Training (VET)</td>\n",
       "      <td>Men</td>\n",
       "      <td>2070</td>\n",
       "      <td>60904</td>\n",
       "    </tr>\n",
       "    <tr>\n",
       "      <td>9</td>\n",
       "      <td>2008</td>\n",
       "      <td>Descendant</td>\n",
       "      <td>Short cycle higher education</td>\n",
       "      <td>Men</td>\n",
       "      <td>437</td>\n",
       "      <td>60904</td>\n",
       "    </tr>\n",
       "  </tbody>\n",
       "</table>\n",
       "</div>"
      ],
      "text/plain": [
       "   Year    Ancestry                                   HCEDUC Gender  Units  \\\n",
       "0  2008  Descendant                Upper secondary education  Women   3159   \n",
       "1  2008  Descendant  Vocational Education and Training (VET)  Women   2273   \n",
       "2  2008  Descendant             Short cycle higher education  Women    395   \n",
       "3  2008  Descendant          Vocational bachelors educations  Women   1048   \n",
       "4  2008  Descendant                     Bachelors programmes  Women    397   \n",
       "5  2008  Descendant                       Masters programmes  Women    610   \n",
       "6  2008  Descendant                                        l  Women  19010   \n",
       "7  2008  Descendant                Upper secondary education    Men   2454   \n",
       "8  2008  Descendant  Vocational Education and Training (VET)    Men   2070   \n",
       "9  2008  Descendant             Short cycle higher education    Men    437   \n",
       "\n",
       "     Pop  \n",
       "0  58393  \n",
       "1  58393  \n",
       "2  58393  \n",
       "3  58393  \n",
       "4  58393  \n",
       "5  58393  \n",
       "6  58393  \n",
       "7  60904  \n",
       "8  60904  \n",
       "9  60904  "
      ]
     },
     "execution_count": 4,
     "metadata": {},
     "output_type": "execute_result"
    }
   ],
   "source": [
    "#Merge population data with education data (merge pop with educ)\n",
    "pop.Year = pop.Year.astype(int)\n",
    "merged = pd.merge(educ, pop, how='inner',on=['Year','Ancestry','Gender'])\n",
    "merged.head(10)"
   ]
  },
  {
   "cell_type": "markdown",
   "metadata": {},
   "source": [
    "## Calculate shares"
   ]
  },
  {
   "cell_type": "code",
   "execution_count": 5,
   "metadata": {},
   "outputs": [
    {
     "data": {
      "text/html": [
       "<div>\n",
       "<style scoped>\n",
       "    .dataframe tbody tr th:only-of-type {\n",
       "        vertical-align: middle;\n",
       "    }\n",
       "\n",
       "    .dataframe tbody tr th {\n",
       "        vertical-align: top;\n",
       "    }\n",
       "\n",
       "    .dataframe thead th {\n",
       "        text-align: right;\n",
       "    }\n",
       "</style>\n",
       "<table border=\"1\" class=\"dataframe\">\n",
       "  <thead>\n",
       "    <tr style=\"text-align: right;\">\n",
       "      <th></th>\n",
       "      <th>Year</th>\n",
       "      <th>Ancestry</th>\n",
       "      <th>HCEDUC</th>\n",
       "      <th>Gender</th>\n",
       "      <th>Units</th>\n",
       "      <th>Pop</th>\n",
       "      <th>Share</th>\n",
       "    </tr>\n",
       "  </thead>\n",
       "  <tbody>\n",
       "    <tr>\n",
       "      <td>0</td>\n",
       "      <td>2008</td>\n",
       "      <td>Descendant</td>\n",
       "      <td>Upper secondary education</td>\n",
       "      <td>Women</td>\n",
       "      <td>3159</td>\n",
       "      <td>58393</td>\n",
       "      <td>5.409895</td>\n",
       "    </tr>\n",
       "    <tr>\n",
       "      <td>1</td>\n",
       "      <td>2008</td>\n",
       "      <td>Descendant</td>\n",
       "      <td>Vocational Education and Training (VET)</td>\n",
       "      <td>Women</td>\n",
       "      <td>2273</td>\n",
       "      <td>58393</td>\n",
       "      <td>3.892590</td>\n",
       "    </tr>\n",
       "    <tr>\n",
       "      <td>2</td>\n",
       "      <td>2008</td>\n",
       "      <td>Descendant</td>\n",
       "      <td>Short cycle higher education</td>\n",
       "      <td>Women</td>\n",
       "      <td>395</td>\n",
       "      <td>58393</td>\n",
       "      <td>0.676451</td>\n",
       "    </tr>\n",
       "    <tr>\n",
       "      <td>3</td>\n",
       "      <td>2008</td>\n",
       "      <td>Descendant</td>\n",
       "      <td>Vocational bachelors educations</td>\n",
       "      <td>Women</td>\n",
       "      <td>1048</td>\n",
       "      <td>58393</td>\n",
       "      <td>1.794736</td>\n",
       "    </tr>\n",
       "    <tr>\n",
       "      <td>4</td>\n",
       "      <td>2008</td>\n",
       "      <td>Descendant</td>\n",
       "      <td>Bachelors programmes</td>\n",
       "      <td>Women</td>\n",
       "      <td>397</td>\n",
       "      <td>58393</td>\n",
       "      <td>0.679876</td>\n",
       "    </tr>\n",
       "    <tr>\n",
       "      <td>5</td>\n",
       "      <td>2008</td>\n",
       "      <td>Descendant</td>\n",
       "      <td>Masters programmes</td>\n",
       "      <td>Women</td>\n",
       "      <td>610</td>\n",
       "      <td>58393</td>\n",
       "      <td>1.044646</td>\n",
       "    </tr>\n",
       "    <tr>\n",
       "      <td>6</td>\n",
       "      <td>2008</td>\n",
       "      <td>Descendant</td>\n",
       "      <td>l</td>\n",
       "      <td>Women</td>\n",
       "      <td>19010</td>\n",
       "      <td>58393</td>\n",
       "      <td>32.555272</td>\n",
       "    </tr>\n",
       "    <tr>\n",
       "      <td>7</td>\n",
       "      <td>2008</td>\n",
       "      <td>Descendant</td>\n",
       "      <td>Upper secondary education</td>\n",
       "      <td>Men</td>\n",
       "      <td>2454</td>\n",
       "      <td>60904</td>\n",
       "      <td>4.029292</td>\n",
       "    </tr>\n",
       "    <tr>\n",
       "      <td>8</td>\n",
       "      <td>2008</td>\n",
       "      <td>Descendant</td>\n",
       "      <td>Vocational Education and Training (VET)</td>\n",
       "      <td>Men</td>\n",
       "      <td>2070</td>\n",
       "      <td>60904</td>\n",
       "      <td>3.398792</td>\n",
       "    </tr>\n",
       "    <tr>\n",
       "      <td>9</td>\n",
       "      <td>2008</td>\n",
       "      <td>Descendant</td>\n",
       "      <td>Short cycle higher education</td>\n",
       "      <td>Men</td>\n",
       "      <td>437</td>\n",
       "      <td>60904</td>\n",
       "      <td>0.717523</td>\n",
       "    </tr>\n",
       "  </tbody>\n",
       "</table>\n",
       "</div>"
      ],
      "text/plain": [
       "   Year    Ancestry                                   HCEDUC Gender  Units  \\\n",
       "0  2008  Descendant                Upper secondary education  Women   3159   \n",
       "1  2008  Descendant  Vocational Education and Training (VET)  Women   2273   \n",
       "2  2008  Descendant             Short cycle higher education  Women    395   \n",
       "3  2008  Descendant          Vocational bachelors educations  Women   1048   \n",
       "4  2008  Descendant                     Bachelors programmes  Women    397   \n",
       "5  2008  Descendant                       Masters programmes  Women    610   \n",
       "6  2008  Descendant                                        l  Women  19010   \n",
       "7  2008  Descendant                Upper secondary education    Men   2454   \n",
       "8  2008  Descendant  Vocational Education and Training (VET)    Men   2070   \n",
       "9  2008  Descendant             Short cycle higher education    Men    437   \n",
       "\n",
       "     Pop      Share  \n",
       "0  58393   5.409895  \n",
       "1  58393   3.892590  \n",
       "2  58393   0.676451  \n",
       "3  58393   1.794736  \n",
       "4  58393   0.679876  \n",
       "5  58393   1.044646  \n",
       "6  58393  32.555272  \n",
       "7  60904   4.029292  \n",
       "8  60904   3.398792  \n",
       "9  60904   0.717523  "
      ]
     },
     "execution_count": 5,
     "metadata": {},
     "output_type": "execute_result"
    }
   ],
   "source": [
    "#Make a new column with number of people with education as a share of number of people in poplation \n",
    "merged['Share'] = merged['Units']/merged['Pop'] * 100\n",
    "merged.head(10)"
   ]
  },
  {
   "cell_type": "markdown",
   "metadata": {},
   "source": [
    "# Graphical analysis"
   ]
  },
  {
   "cell_type": "markdown",
   "metadata": {},
   "source": [
    "## Education by ancestry over time"
   ]
  },
  {
   "cell_type": "code",
   "execution_count": 6,
   "metadata": {},
   "outputs": [
    {
     "data": {
      "application/vnd.jupyter.widget-view+json": {
       "model_id": "6d3c6e149cb94590b191bd0591cfe12c",
       "version_major": 2,
       "version_minor": 0
      },
      "text/plain": [
       "interactive(children=(Dropdown(description='Educations', options=('Upper secondary education', 'Vocational Edu…"
      ]
     },
     "metadata": {},
     "output_type": "display_data"
    }
   ],
   "source": [
    "merged.set_index('Year')\n",
    "merged1 = merged.copy()\n",
    "\n",
    "for val in ['Men', 'Women']: \n",
    "    I = merged1.Gender.str.contains(val)\n",
    "    merged1 = merged1.loc[I == False] # keep everything else\n",
    "\n",
    "# a. split\n",
    "merged_grouped = merged1.groupby(['Ancestry', 'HCEDUC'])\n",
    "merged_grouped_first = merged_grouped.Share.first()\n",
    "merged_grouped_first.name = 'first'\n",
    "\n",
    "# b. apply\n",
    "merged1.set_index(['Ancestry','HCEDUC','Year'],inplace=True)\n",
    "merged1 = merged1.join(merged_grouped_first,how='left',on=['Ancestry','HCEDUC'])\n",
    "merged1.reset_index(inplace=True)\n",
    "\n",
    "# c. combine\n",
    "merged1['indexed'] = merged1['Share']/merged1['first']\n",
    "\n",
    "# d. plot\n",
    "def plot_index(dataframe, Educations):\n",
    "    dataframe_indexed = dataframe.set_index(['Year'])\n",
    "    I = dataframe_indexed.HCEDUC == Educations\n",
    "    dataframe_indexed[I].groupby(['Ancestry'])['indexed'].plot(legend=True);\n",
    "    \n",
    "def plot_index_i(dataframe):\n",
    "    widgets.interact(plot_index, dataframe = widgets.fixed(dataframe), \n",
    "    Educations=widgets.Dropdown(decription='Education', options=dataframe.HCEDUC.unique())\n",
    "); \n",
    "    \n",
    "#plot_index_i(educ1)\n",
    "plot_index_i(merged1)"
   ]
  },
  {
   "cell_type": "code",
   "execution_count": 7,
   "metadata": {},
   "outputs": [],
   "source": [
    "## Education share by gender"
   ]
  },
  {
   "cell_type": "code",
   "execution_count": 8,
   "metadata": {},
   "outputs": [
    {
     "data": {
      "text/html": [
       "<div>\n",
       "<style scoped>\n",
       "    .dataframe tbody tr th:only-of-type {\n",
       "        vertical-align: middle;\n",
       "    }\n",
       "\n",
       "    .dataframe tbody tr th {\n",
       "        vertical-align: top;\n",
       "    }\n",
       "\n",
       "    .dataframe thead th {\n",
       "        text-align: right;\n",
       "    }\n",
       "</style>\n",
       "<table border=\"1\" class=\"dataframe\">\n",
       "  <thead>\n",
       "    <tr style=\"text-align: right;\">\n",
       "      <th></th>\n",
       "      <th>Year</th>\n",
       "      <th>Ancestry</th>\n",
       "      <th>HCEDUC</th>\n",
       "      <th>Gender</th>\n",
       "      <th>Units</th>\n",
       "      <th>Pop</th>\n",
       "      <th>Share</th>\n",
       "    </tr>\n",
       "  </thead>\n",
       "  <tbody>\n",
       "    <tr>\n",
       "      <td>5</td>\n",
       "      <td>2008</td>\n",
       "      <td>Descendant</td>\n",
       "      <td>Masters programmes</td>\n",
       "      <td>Women</td>\n",
       "      <td>610</td>\n",
       "      <td>58393</td>\n",
       "      <td>1.044646</td>\n",
       "    </tr>\n",
       "    <tr>\n",
       "      <td>12</td>\n",
       "      <td>2008</td>\n",
       "      <td>Descendant</td>\n",
       "      <td>Masters programmes</td>\n",
       "      <td>Men</td>\n",
       "      <td>701</td>\n",
       "      <td>60904</td>\n",
       "      <td>1.150992</td>\n",
       "    </tr>\n",
       "    <tr>\n",
       "      <td>19</td>\n",
       "      <td>2008</td>\n",
       "      <td>Descendant</td>\n",
       "      <td>Masters programmes</td>\n",
       "      <td>Total</td>\n",
       "      <td>1311</td>\n",
       "      <td>119297</td>\n",
       "      <td>1.098938</td>\n",
       "    </tr>\n",
       "    <tr>\n",
       "      <td>26</td>\n",
       "      <td>2008</td>\n",
       "      <td>Immigrants</td>\n",
       "      <td>Masters programmes</td>\n",
       "      <td>Women</td>\n",
       "      <td>10899</td>\n",
       "      <td>192713</td>\n",
       "      <td>5.655560</td>\n",
       "    </tr>\n",
       "    <tr>\n",
       "      <td>33</td>\n",
       "      <td>2008</td>\n",
       "      <td>Immigrants</td>\n",
       "      <td>Masters programmes</td>\n",
       "      <td>Men</td>\n",
       "      <td>12721</td>\n",
       "      <td>185952</td>\n",
       "      <td>6.841013</td>\n",
       "    </tr>\n",
       "  </tbody>\n",
       "</table>\n",
       "</div>"
      ],
      "text/plain": [
       "    Year    Ancestry              HCEDUC Gender  Units     Pop     Share\n",
       "5   2008  Descendant  Masters programmes  Women    610   58393  1.044646\n",
       "12  2008  Descendant  Masters programmes    Men    701   60904  1.150992\n",
       "19  2008  Descendant  Masters programmes  Total   1311  119297  1.098938\n",
       "26  2008  Immigrants  Masters programmes  Women  10899  192713  5.655560\n",
       "33  2008  Immigrants  Masters programmes    Men  12721  185952  6.841013"
      ]
     },
     "execution_count": 8,
     "metadata": {},
     "output_type": "execute_result"
    }
   ],
   "source": [
    "#Only select the number of people with completed master programmes\n",
    "for val in ['Masters programmes']: \n",
    "    I = merged.HCEDUC.str.contains(val)\n",
    "    merged = merged.loc[I == True] # keep everything else\n",
    "merged.head()"
   ]
  },
  {
   "cell_type": "code",
   "execution_count": 9,
   "metadata": {},
   "outputs": [
    {
     "name": "stderr",
     "output_type": "stream",
     "text": [
      "/Applications/anaconda3/lib/python3.7/site-packages/pandas/core/frame.py:4223: SettingWithCopyWarning: \n",
      "A value is trying to be set on a copy of a slice from a DataFrame\n",
      "\n",
      "See the caveats in the documentation: http://pandas.pydata.org/pandas-docs/stable/user_guide/indexing.html#returning-a-view-versus-a-copy\n",
      "  return super().rename(**kwargs)\n"
     ]
    },
    {
     "data": {
      "image/png": "[encoded data removed]",
      "text/plain": [
       "<Figure size 864x936 with 3 Axes>"
      ]
     },
     "metadata": {
      "needs_background": "light"
     },
     "output_type": "display_data"
    }
   ],
   "source": [
    "# Make a figure with 3 subplots showing the share of people with master programmes by ancestry and gender\n",
    "plt.figure(figsize=(12,13))\n",
    "\n",
    "#Figure 1: Plot with share of descendants with master programmes by gender\n",
    "merged1 = merged.copy()\n",
    "I = merged1.Ancestry == 'Descendant'\n",
    "x = merged[I]\n",
    "\n",
    "ax = plt.subplot(311)\n",
    "\n",
    "J = x.Gender == 'Men'\n",
    "y1 = x[J]\n",
    "y1.rename(columns = {'Share':'Men'}, inplace=True)\n",
    "y1.plot(kind='line', x = 'Year', y='Men', ylim=(0,15), color='red', ax=ax)\n",
    "\n",
    "K = x.Gender == 'Women'\n",
    "y2 = x[K]\n",
    "y2.rename(columns = {'Share':'Women'}, inplace=True)\n",
    "y2.plot(kind='line', x = 'Year', y='Women', ylim=(0,15), color='blue', ax=ax)\n",
    "ax.set_title('Share of Descendants with Masters programmes by Gender')\n",
    "\n",
    "#Figure 2: Plot with share of immigrants with master programmes by gender\n",
    "merged2 = merged.copy()\n",
    "I = merged2.Ancestry == 'Immigrants'\n",
    "x = merged2[I]\n",
    "\n",
    "ax1 = plt.subplot(312)\n",
    "\n",
    "J = x.Gender == 'Men'\n",
    "y1 = x[J]\n",
    "y1.rename(columns = {'Share':'Men'}, inplace=True)\n",
    "y1.plot(kind='line', x = 'Year', y='Men', ylim=(0,15), color='red', label='Men', ax=ax1)\n",
    "\n",
    "K = x.Gender == 'Women'\n",
    "y2 = x[K]\n",
    "y2.rename(columns = {'Share':'Women'}, inplace=True)\n",
    "y2.plot(kind='line', x = 'Year', y='Women', ylim=(0,15), color='blue', ax=ax1, label='Women')\n",
    "ax1.set_title('Share of Immigrants with Masters programmes by Gender')\n",
    "\n",
    "#Figure 3: Plot with share of persons of danish origin with master programmes by gender\n",
    "merged3 = merged.copy()\n",
    "I = merged3.Ancestry == 'Persons of Danish origin'\n",
    "x = merged3[I]\n",
    "\n",
    "ax2 = plt.subplot(313)\n",
    "\n",
    "J = x.Gender == 'Men'\n",
    "y1 = x[J]\n",
    "y1.rename(columns = {'Share':'Men'}, inplace=True)\n",
    "y1.plot(kind='line', x = 'Year', y='Men', ylim=(0,15), color='red', ax=ax2)\n",
    "\n",
    "K = x.Gender == 'Women'\n",
    "y2 = x[K]\n",
    "y2.rename(columns = {'Share':'Women'}, inplace=True)\n",
    "y2.plot(kind='line', x = 'Year', y='Women', ylim=(0,15), color='blue', ax=ax2)\n",
    "ax2.set_title('Share of Persons of Danish origin with Masters programmes by Gender')\n",
    "\n",
    "plt.tight_layout(pad=10,h_pad=3,w_pad=20)\n",
    "\n",
    "widgets.interact(interactive_figure,\n",
    "    alphas=widgets.fixed(alphas),\n",
    "    =widgets.Dropdown(description=\"$p_1$\", options=[0.5,1,1.5,2.0,2.5,3], value=2),\n",
    "    p2=widgets.fixed(p2),\n",
    "    k=widgets.fixed(k)\n"
   ]
  },
  {
   "cell_type": "code",
   "execution_count": 39,
   "metadata": {},
   "outputs": [
    {
     "data": {
      "image/png": "[encoded data removed]",
      "text/plain": [
       "<Figure size 720x720 with 2 Axes>"
      ]
     },
     "metadata": {
      "needs_background": "light"
     },
     "output_type": "display_data"
    }
   ],
   "source": [
    "# Make a figure with 3 subplots showing the share of people with master programmes by ancestry and gender\n",
    "plt.figure(figsize=(10,10))\n",
    "\n",
    "#Figure 1: Plot with share of men with master programmes by ancestry\n",
    "merged4 = merged.copy()\n",
    "I = merged4.Gender == 'Men'\n",
    "x = merged[I]\n",
    "\n",
    "ax = plt.subplot(211)\n",
    "\n",
    "J = x.Ancestry == 'Descendant'\n",
    "y1 = x[J]\n",
    "y1.rename(columns = {'Share':'Descendant'}, inplace=True)\n",
    "y1.plot(kind='bar',stacked=True, x = 'Year', y='Descendant', ylim=(0,15), color='blue', ax=ax)\n",
    "\n",
    "K = x.Ancestry == 'Immigrants'\n",
    "y2 = x[K]\n",
    "y2.rename(columns = {'Share':'Immigrants'}, inplace=True)\n",
    "y2.plot(kind='bar',stacked=True, x = 'Year', y='Immigrants', ylim=(0,15), color='orange', ax=ax)\n",
    "\n",
    "K = x.Ancestry == 'Persons of Danish origin'\n",
    "y2 = x[K]\n",
    "y2.rename(columns = {'Share':'Persons of Danish origin'}, inplace=True)\n",
    "y2.plot(kind='bar',stacked=True, x = 'Year', y='Persons of Danish origin', ylim=(0,15), color='green', ax=ax)\n",
    "ax.set_title('Share of Men with Masters programmes by Ancestry')\n",
    "\n",
    "#Figure 2: Plot with share of women with master programmes by ancestry\n",
    "merged5 = merged.copy()\n",
    "I = merged5.Gender == 'Women'\n",
    "x = merged[I]\n",
    "\n",
    "ax1 = plt.subplot(212)\n",
    "\n",
    "J = x.Ancestry == 'Descendant'\n",
    "y1 = x[J]\n",
    "y1.rename(columns = {'Share':'Descendant'}, inplace=True)\n",
    "y1.plot.bar(stacked=True, x = 'Year', y='Descendant', ylim=(0,15), color='blue', ax=ax1)\n",
    "\n",
    "K = x.Ancestry == 'Immigrants'\n",
    "y2 = x[K]\n",
    "y2.rename(columns = {'Share':'Immigrants'}, inplace=True)\n",
    "y2.plot.bar(stacked=True, x = 'Year', y='Immigrants', ylim=(0,15), color='orange', ax=ax1)\n",
    "\n",
    "L = x.Ancestry == 'Persons of Danish origin'\n",
    "y3 = x[L]\n",
    "y3.rename(columns = {'Share':'Persons of Danish origin'}, inplace=True)\n",
    "y3.plot.bar(stacked=True, x = 'Year', y='Persons of Danish origin', ylim=(0,15), color='green', ax=ax1)\n",
    "ax1.set_title('Share of Women with Masters programmes by Ancestry')\n",
    "\n",
    "\n",
    "plt.tight_layout(pad=10,h_pad=1,w_pad=10)"
   ]
  },
  {
   "cell_type": "markdown",
   "metadata": {},
   "source": [
    "## Income data"
   ]
  },
  {
   "cell_type": "markdown",
   "metadata": {},
   "source": [
    "**Read the income data** in ``INDKP101.xlsx`` and **clean it**:"
   ]
  },
  {
   "cell_type": "code",
   "execution_count": 32,
   "metadata": {},
   "outputs": [],
   "source": [
    "# a. load\n",
    "#inc = pd.read_excel('INDKP101.xlsx', skiprows=2)\n",
    "\n",
    "# b. drop and rename columns\n",
    "#inc.drop([f'Unnamed: {i}' for i in range(3)], axis=1, inplace=True)\n",
    "#inc.rename(columns = {'Unnamed: 3':'municipality'}, inplace=True)\n",
    "\n",
    "# c. drop rows with missing\n",
    "#inc.dropna(inplace=True)\n",
    "\n",
    "# d. remove non-municipalities\n",
    "#inc = dataproject.only_keep_municipalities(inc)\n",
    "\n",
    "# e. convert to long\n",
    "#inc.rename(columns = {str(i):f'income{i}' for i in range(1986,2018)}, inplace=True)\n",
    "#inc_long = pd.wide_to_long(inc, stubnames='income', i='municipality', j='year').reset_index()\n",
    "\n",
    "# f. show\n",
    "#inc_long.head(5)"
   ]
  },
  {
   "cell_type": "markdown",
   "metadata": {},
   "source": [
    "> **Note:** The function ``dataproject.only_keep_municipalities()`` is used on both the employment and the income datasets."
   ]
  },
  {
   "cell_type": "markdown",
   "metadata": {},
   "source": [
    "## Explore data set"
   ]
  },
  {
   "cell_type": "markdown",
   "metadata": {},
   "source": [
    "In order to be able to **explore the raw data**, we here provide an **interactive plot** to show, respectively, the employment and income level in each municipality"
   ]
  },
  {
   "cell_type": "markdown",
   "metadata": {},
   "source": [
    "The **static plot** is:"
   ]
  },
  {
   "cell_type": "code",
   "execution_count": null,
   "metadata": {},
   "outputs": [],
   "source": [
    "def plot_empl_inc(empl,inc,dataset,municipality): \n",
    "    \n",
    "    if dataset == 'Employment':\n",
    "        df = empl\n",
    "        y = 'employment'\n",
    "    else:\n",
    "        df = inc\n",
    "        y = 'income'\n",
    "    \n",
    "    I = df['municipality'] == municipality\n",
    "    ax = df.loc[I,:].plot(x='year', y=y, style='-o')"
   ]
  },
  {
   "cell_type": "markdown",
   "metadata": {},
   "source": [
    "The **interactive plot** is:"
   ]
  },
  {
   "cell_type": "code",
   "execution_count": null,
   "metadata": {},
   "outputs": [],
   "source": [
    "widgets.interact(plot_empl_inc, \n",
    "    \n",
    "    empl = widgets.fixed(empl_long),\n",
    "    inc = widgets.fixed(inc_long),\n",
    "    dataset = widgets.Dropdown(description='Dataset', \n",
    "                               options=['Employment','Income']),\n",
    "    municipality = widgets.Dropdown(description='Municipality', \n",
    "                                    options=empl_long.municipality.unique())\n",
    "                 \n",
    "); "
   ]
  },
  {
   "cell_type": "markdown",
   "metadata": {},
   "source": [
    "ADD SOMETHING HERE IF THE READER SHOULD KNOW THAT E.G. SOME MUNICIPALITY IS SPECIAL."
   ]
  },
  {
   "cell_type": "markdown",
   "metadata": {},
   "source": [
    "# Merge data sets"
   ]
  },
  {
   "cell_type": "markdown",
   "metadata": {},
   "source": [
    "We now create a data set with **municpalities which are in both of our data sets**. We can illustrate this **merge** as:"
   ]
  },
  {
   "cell_type": "code",
   "execution_count": null,
   "metadata": {},
   "outputs": [],
   "source": [
    "plt.figure(figsize=(15,7))\n",
    "v = venn2(subsets = (4, 4, 10), set_labels = ('inc', 'empl'))\n",
    "v.get_label_by_id('100').set_text('dropped')\n",
    "v.get_label_by_id('010').set_text('dropped' )\n",
    "v.get_label_by_id('110').set_text('included')\n",
    "plt.show()"
   ]
  },
  {
   "cell_type": "code",
   "execution_count": null,
   "metadata": {},
   "outputs": [],
   "source": [
    "merged = pd.merge(empl_long, inc_long, how='inner',on=['municipality','year'])\n",
    "\n",
    "print(f'Number of municipalities = {len(merged.municipality.unique())}')\n",
    "print(f'Number of years          = {len(merged.year.unique())}')"
   ]
  },
  {
   "cell_type": "markdown",
   "metadata": {},
   "source": [
    "# Analysis"
   ]
  },
  {
   "cell_type": "markdown",
   "metadata": {},
   "source": [
    "To get a quick overview of the data, we show some **summary statistics by year**:"
   ]
  },
  {
   "cell_type": "code",
   "execution_count": null,
   "metadata": {},
   "outputs": [],
   "source": [
    "merged.groupby('year').agg(['mean','std']).round(2)"
   ]
  },
  {
   "cell_type": "markdown",
   "metadata": {},
   "source": [
    "ADD FURTHER ANALYSIS. EXPLAIN THE CODE BRIEFLY AND SUMMARIZE THE RESULTS."
   ]
  },
  {
   "cell_type": "markdown",
   "metadata": {},
   "source": [
    "# Conclusion"
   ]
  },
  {
   "cell_type": "markdown",
   "metadata": {},
   "source": [
    "ADD CONCISE CONLUSION."
   ]
  }
 ],
 "metadata": {
  "kernelspec": {
   "display_name": "Python 3",
   "language": "python",
   "name": "python3"
  },
  "language_info": {
   "codemirror_mode": {
    "name": "ipython",
    "version": 3
   },
   "file_extension": ".py",
   "mimetype": "text/x-python",
   "name": "python",
   "nbconvert_exporter": "python",
   "pygments_lexer": "ipython3",
   "version": "3.7.4"
  },
  "toc-autonumbering": true
 },
 "nbformat": 4,
 "nbformat_minor": 4
}
