{
 "cells": [
  {
   "cell_type": "markdown",
   "metadata": {},
   "source": [
    "# YOUR PROJECT TITLE"
   ]
  },
  {
   "cell_type": "markdown",
   "metadata": {},
   "source": [
    "> **Note the following:** \n",
    "> 1. This is *not* meant to be an example of an actual **data analysis project**, just an example of how to structure such a project.\n",
    "> 1. Remember the general advice on structuring and commenting your code from [lecture 5](https://numeconcopenhagen.netlify.com/lectures/Workflow_and_debugging).\n",
    "> 1. Remember this [guide](https://www.markdownguide.org/basic-syntax/) on markdown and (a bit of) latex.\n",
    "> 1. Turn on automatic numbering by clicking on the small icon on top of the table of contents in the left sidebar.\n",
    "> 1. The `dataproject.py` file includes a function which will be used multiple times in this notebook."
   ]
  },
  {
   "cell_type": "markdown",
   "metadata": {},
   "source": [
    "Imports and set magics:"
   ]
  },
  {
   "cell_type": "code",
   "execution_count": 5,
   "metadata": {},
   "outputs": [
    {
     "output_type": "stream",
     "name": "stdout",
     "text": "The autoreload extension is already loaded. To reload it, use:\n  %reload_ext autoreload\n"
    }
   ],
   "source": [
    "import pandas as pd\n",
    "import matplotlib.pyplot as plt\n",
    "import ipywidgets as widgets\n",
    "from matplotlib_venn import venn2 \n",
    "\n",
    "# autoreload modules when code is run\n",
    "%load_ext autoreload\n",
    "%autoreload 2\n",
    "\n",
    "# local modules\n",
    "import dataproject\n",
    "\n",
    "# import pydst\n",
    "import pydst\n",
    "dst = pydst.Dst(lang='en')"
   ]
  },
  {
   "cell_type": "markdown",
   "metadata": {
    "toc-hr-collapsed": true
   },
   "source": [
    "# Read and clean data"
   ]
  },
  {
   "cell_type": "markdown",
   "metadata": {},
   "source": [
    "## Employment data"
   ]
  },
  {
   "cell_type": "markdown",
   "metadata": {},
   "source": [
    "**Read the employment data** in ``RAS200.xlsx`` and **clean it** removing and renaming columns:"
   ]
  },
  {
   "cell_type": "code",
   "execution_count": 118,
   "metadata": {},
   "outputs": [
    {
     "output_type": "execute_result",
     "data": {
      "text/plain": "   Year    Ancestry                                   HCEDUC Gender  Units\n0  2006  Descendant  Vocational Education and Training (VET)  Women   1938\n1  2006  Descendant  Vocational Education and Training (VET)    Men   1756\n2  2006  Descendant  Vocational Education and Training (VET)  Total   3694\n3  2006  Descendant             Short cycle higher education  Women    314\n4  2006  Descendant             Short cycle higher education    Men    370\n5  2006  Descendant             Short cycle higher education  Total    684\n6  2006  Descendant          Vocational bachelors educations  Women    829\n7  2006  Descendant          Vocational bachelors educations    Men    509\n8  2006  Descendant          Vocational bachelors educations  Total   1338\n9  2006  Descendant                     Bachelors programmes  Women    302",
      "text/html": "<div>\n<style scoped>\n    .dataframe tbody tr th:only-of-type {\n        vertical-align: middle;\n    }\n\n    .dataframe tbody tr th {\n        vertical-align: top;\n    }\n\n    .dataframe thead th {\n        text-align: right;\n    }\n</style>\n<table border=\"1\" class=\"dataframe\">\n  <thead>\n    <tr style=\"text-align: right;\">\n      <th></th>\n      <th>Year</th>\n      <th>Ancestry</th>\n      <th>HCEDUC</th>\n      <th>Gender</th>\n      <th>Units</th>\n    </tr>\n  </thead>\n  <tbody>\n    <tr>\n      <td>0</td>\n      <td>2006</td>\n      <td>Descendant</td>\n      <td>Vocational Education and Training (VET)</td>\n      <td>Women</td>\n      <td>1938</td>\n    </tr>\n    <tr>\n      <td>1</td>\n      <td>2006</td>\n      <td>Descendant</td>\n      <td>Vocational Education and Training (VET)</td>\n      <td>Men</td>\n      <td>1756</td>\n    </tr>\n    <tr>\n      <td>2</td>\n      <td>2006</td>\n      <td>Descendant</td>\n      <td>Vocational Education and Training (VET)</td>\n      <td>Total</td>\n      <td>3694</td>\n    </tr>\n    <tr>\n      <td>3</td>\n      <td>2006</td>\n      <td>Descendant</td>\n      <td>Short cycle higher education</td>\n      <td>Women</td>\n      <td>314</td>\n    </tr>\n    <tr>\n      <td>4</td>\n      <td>2006</td>\n      <td>Descendant</td>\n      <td>Short cycle higher education</td>\n      <td>Men</td>\n      <td>370</td>\n    </tr>\n    <tr>\n      <td>5</td>\n      <td>2006</td>\n      <td>Descendant</td>\n      <td>Short cycle higher education</td>\n      <td>Total</td>\n      <td>684</td>\n    </tr>\n    <tr>\n      <td>6</td>\n      <td>2006</td>\n      <td>Descendant</td>\n      <td>Vocational bachelors educations</td>\n      <td>Women</td>\n      <td>829</td>\n    </tr>\n    <tr>\n      <td>7</td>\n      <td>2006</td>\n      <td>Descendant</td>\n      <td>Vocational bachelors educations</td>\n      <td>Men</td>\n      <td>509</td>\n    </tr>\n    <tr>\n      <td>8</td>\n      <td>2006</td>\n      <td>Descendant</td>\n      <td>Vocational bachelors educations</td>\n      <td>Total</td>\n      <td>1338</td>\n    </tr>\n    <tr>\n      <td>9</td>\n      <td>2006</td>\n      <td>Descendant</td>\n      <td>Bachelors programmes</td>\n      <td>Women</td>\n      <td>302</td>\n    </tr>\n  </tbody>\n</table>\n</div>"
     },
     "metadata": {},
     "execution_count": 118
    }
   ],
   "source": [
    "educ_vars = dst.get_variables(table_id='HFUDD10')\n",
    "educ_vars\n",
    "\n",
    "#a. Download data\n",
    "educ = dst.get_data(table_id = 'HFUDD10', variables={'Tid':['*'],'HERKOMST':['*'], 'HFUDD':['TOT','H30', 'H40', 'H50', 'H60', 'H70'], 'KØN':['*']})\n",
    "educ.head(10)\n",
    "\n",
    "# b. drop columns\n",
    "drop_these = ['BOPOMR','ALDER']\n",
    "educ.drop(drop_these, axis=1, inplace=True)\n",
    "educ.head(10)\n",
    "\n",
    "\n",
    "# c. rename columns\n",
    "educ.rename(columns = {'HERKOMST':'Ancestry','HFUDD':'HCEDUC', 'KØN':'Gender', 'TID':'Year', 'INDHOLD':'Units'}, inplace=True)\n",
    "educ.head(10)\n",
    "\n",
    "# d. Clean values in HCEDUC\n",
    "educ['HCEDUC']=educ.HCEDUC.astype(str).str[4:]\n",
    "educ.head(10)\n",
    "\n",
    ""
   ]
  },
  {
   "cell_type": "code",
   "execution_count": 129,
   "metadata": {},
   "outputs": [
    {
     "output_type": "execute_result",
     "data": {
      "text/plain": "                              Units                                        \\\n                              count           mean           std      min   \nYear Ancestry                                                               \n2006 Descendant                18.0    4322.111111  8.360324e+03    241.0   \n     Immigrants                18.0   49139.666667  7.894264e+04   1153.0   \n     Persons of Danish origin  18.0  615000.000000  9.120313e+05  25675.0   \n     Total                     18.0  668461.777778  9.984708e+05  27069.0   \n2007 Descendant                18.0    4782.444444  9.278292e+03    261.0   \n     Immigrants                18.0   51230.000000  8.257102e+04   1316.0   \n     Persons of Danish origin  18.0  617012.555556  9.113469e+05  26506.0   \n     Total                     18.0  673025.000000  1.002246e+06  28083.0   \n2008 Descendant                18.0    5337.333333  1.037295e+04    306.0   \n     Immigrants                18.0   54052.333333  8.742805e+04   1465.0   \n     Persons of Danish origin  18.0  619075.000000  9.109489e+05  27380.0   \n     Total                     18.0  678464.666667  1.007683e+06  29151.0   \n2009 Descendant                18.0    5941.666667  1.152655e+04    373.0   \n     Immigrants                18.0   57450.666667  9.289664e+04   1762.0   \n     Persons of Danish origin  18.0  620973.555556  9.104649e+05  28660.0   \n     Total                     18.0  684365.888889  1.013698e+06  30795.0   \n2010 Descendant                18.0    6436.666667  1.247899e+04    438.0   \n     Immigrants                18.0   59645.111111  9.577605e+04   2085.0   \n     Persons of Danish origin  18.0  623499.000000  9.108616e+05  29605.0   \n     Total                     18.0  689580.777778  1.017842e+06  32128.0   \n2011 Descendant                18.0    7082.000000  1.369299e+04    492.0   \n     Immigrants                18.0   62078.888889  9.907797e+04   2415.0   \n     Persons of Danish origin  18.0  625347.333333  9.104087e+05  30604.0   \n     Total                     18.0  694508.222222  1.021789e+06  33511.0   \n2012 Descendant                18.0    7771.000000  1.498701e+04    582.0   \n     Immigrants                18.0   64415.000000  1.018317e+05   2620.0   \n     Persons of Danish origin  18.0  626419.000000  9.089333e+05  31630.0   \n     Total                     18.0  698605.000000  1.024268e+06  34832.0   \n2013 Descendant                18.0    8485.333333  1.625779e+04    662.0   \n     Immigrants                18.0   67135.000000  1.049930e+05   2878.0   \n     Persons of Danish origin  18.0  626482.777778  9.060061e+05  32466.0   \n     Total                     18.0  702103.111111  1.025707e+06  36006.0   \n2014 Descendant                18.0    9210.888889  1.750812e+04    769.0   \n     Immigrants                18.0   70684.000000  1.090809e+05   3086.0   \n     Persons of Danish origin  18.0  625906.666667  9.017485e+05  33897.0   \n     Total                     18.0  705801.555556  1.026698e+06  37752.0   \n2015 Descendant                18.0   10031.000000  1.886862e+04    871.0   \n     Immigrants                18.0   75130.000000  1.138895e+05   3469.0   \n     Persons of Danish origin  18.0  624708.555556  8.961493e+05  35789.0   \n     Total                     18.0  709869.555556  1.027158e+06  40190.0   \n2016 Descendant                18.0   10903.333333  2.030468e+04    951.0   \n     Immigrants                18.0   81852.111111  1.214701e+05   3689.0   \n     Persons of Danish origin  18.0  622855.111111  8.898098e+05  37535.0   \n     Total                     18.0  715610.555556  1.029615e+06  42295.0   \n2017 Descendant                18.0   11807.111111  2.171519e+04   1062.0   \n     Immigrants                18.0   86759.222222  1.271895e+05   3713.0   \n     Persons of Danish origin  18.0  620647.666667  8.825462e+05  37981.0   \n     Total                     18.0  719214.000000  1.029360e+06  42899.0   \n2018 Descendant                18.0   12704.333333  2.311083e+04   1166.0   \n     Immigrants                18.0   90385.777778  1.314198e+05   3687.0   \n     Persons of Danish origin  18.0  618558.333333  8.760603e+05  37890.0   \n     Total                     18.0  721648.444444  1.028474e+06  42859.0   \n2019 Descendant                18.0   13586.111111  2.443914e+04   1270.0   \n     Immigrants                18.0   93163.888889  1.347042e+05   3762.0   \n     Persons of Danish origin  18.0  617027.444444  8.709644e+05  38166.0   \n     Total                     18.0  723777.444444  1.027946e+06  43347.0   \n\n                                                                          \n                                     25%       50%        75%        max  \nYear Ancestry                                                             \n2006 Descendant                   478.25     756.5    1892.50    31603.0  \n     Immigrants                  8215.00   15535.0   35095.75   305451.0  \n     Persons of Danish origin   79962.50  172620.0  640382.00  3496305.0  \n     Total                      88572.00  190275.5  677279.25  3833359.0  \n2007 Descendant                   538.50     837.0    2032.75    35065.0  \n     Immigrants                  8554.50   16026.5   35891.50   319544.0  \n     Persons of Danish origin   81974.75  177514.0  637801.50  3498373.0  \n     Total                      90958.50  196089.0  675623.25  3852982.0  \n2008 Descendant                   605.50     940.0    2222.25    39195.0  \n     Immigrants                  9078.00   16804.5   36947.00   338460.0  \n     Persons of Danish origin   84330.75  182499.5  634986.75  3501656.0  \n     Total                      93889.00  202365.5  674054.50  3879311.0  \n2009 Descendant                   688.25    1063.0    2431.50    43574.0  \n     Immigrants                  9809.75   17934.5   38362.50   359980.0  \n     Persons of Danish origin   86595.50  186821.5  632406.00  3504383.0  \n     Total                      96941.25  208449.5  673113.00  3907937.0  \n2010 Descendant                   727.00    1157.5    2632.00    47183.0  \n     Immigrants                 10469.25   19014.5   39056.50   371866.0  \n     Persons of Danish origin   88723.25  191808.5  630725.50  3510353.0  \n     Total                      99784.00  215090.0  672292.00  3929402.0  \n2011 Descendant                   789.50    1344.0    2840.25    51805.0  \n     Immigrants                 11308.00   20192.5   39679.50   385437.0  \n     Persons of Danish origin   90851.50  196230.0  628265.00  3513315.0  \n     Total                     102837.25  221573.0  670593.00  3950557.0  \n2012 Descendant                   880.75    1528.5    3065.75    56734.0  \n     Immigrants                 12228.00   21620.5   40824.50   397065.0  \n     Persons of Danish origin   92892.75  200478.5  625232.50  3512040.0  \n     Total                     105865.00  228229.5  668482.00  3965839.0  \n2013 Descendant                   979.25    1761.5    3379.75    61614.0  \n     Immigrants                 13117.75   23201.0   43247.50   410355.0  \n     Persons of Danish origin   95094.75  204582.5  620734.25  3505297.0  \n     Total                     109176.75  235128.5  665332.75  3977266.0  \n2014 Descendant                  1101.00    2058.5    3640.75    66451.0  \n     Immigrants                 14194.50   25366.0   47365.50   427541.0  \n     Persons of Danish origin   97437.00  208902.0  614557.50  3494151.0  \n     Total                     112943.50  243281.0  660781.25  3988143.0  \n2015 Descendant                  1259.00    2395.5    4003.75    71748.0  \n     Immigrants                 15749.75   29026.0   53886.00   448005.0  \n     Persons of Danish origin   99438.00  213722.0  608148.75  3478066.0  \n     Total                     116846.50  253206.5  656496.75  3997819.0  \n2016 Descendant                  1479.25    2782.0    4528.25    77348.0  \n     Immigrants                 18305.00   34832.0   64439.25   479803.0  \n     Persons of Danish origin  101535.75  219034.5  599222.50  3459752.0  \n     Total                     121728.75  266598.5  653250.25  4016903.0  \n2017 Descendant                  1759.50    3132.0    5167.00    82909.0  \n     Immigrants                 20199.25   38463.5   71666.50   503510.0  \n     Persons of Danish origin  104303.25  226703.0  591261.25  3437906.0  \n     Total                     126731.75  280229.0  651050.50  4024325.0  \n2018 Descendant                  2065.75    3470.0    5793.50    88419.0  \n     Immigrants                 22037.00   40400.0   76430.00   521117.0  \n     Persons of Danish origin  106131.75  234301.5  585466.50  3418649.0  \n     Total                     130619.50  291579.0  648168.25  4028185.0  \n2019 Descendant                  2353.25    3866.0    6500.50    93692.0  \n     Immigrants                 23550.75   42626.5   80777.25   534730.0  \n     Persons of Danish origin  107813.50  241043.5  580499.00  3404385.0  \n     Total                     133870.50  298608.0  645030.25  4032807.0  ",
      "text/html": "<div>\n<style scoped>\n    .dataframe tbody tr th:only-of-type {\n        vertical-align: middle;\n    }\n\n    .dataframe tbody tr th {\n        vertical-align: top;\n    }\n\n    .dataframe thead tr th {\n        text-align: left;\n    }\n\n    .dataframe thead tr:last-of-type th {\n        text-align: right;\n    }\n</style>\n<table border=\"1\" class=\"dataframe\">\n  <thead>\n    <tr>\n      <th></th>\n      <th></th>\n      <th colspan=\"8\" halign=\"left\">Units</th>\n    </tr>\n    <tr>\n      <th></th>\n      <th></th>\n      <th>count</th>\n      <th>mean</th>\n      <th>std</th>\n      <th>min</th>\n      <th>25%</th>\n      <th>50%</th>\n      <th>75%</th>\n      <th>max</th>\n    </tr>\n    <tr>\n      <th>Year</th>\n      <th>Ancestry</th>\n      <th></th>\n      <th></th>\n      <th></th>\n      <th></th>\n      <th></th>\n      <th></th>\n      <th></th>\n      <th></th>\n    </tr>\n  </thead>\n  <tbody>\n    <tr>\n      <td rowspan=\"4\" valign=\"top\">2006</td>\n      <td>Descendant</td>\n      <td>18.0</td>\n      <td>4322.111111</td>\n      <td>8.360324e+03</td>\n      <td>241.0</td>\n      <td>478.25</td>\n      <td>756.5</td>\n      <td>1892.50</td>\n      <td>31603.0</td>\n    </tr>\n    <tr>\n      <td>Immigrants</td>\n      <td>18.0</td>\n      <td>49139.666667</td>\n      <td>7.894264e+04</td>\n      <td>1153.0</td>\n      <td>8215.00</td>\n      <td>15535.0</td>\n      <td>35095.75</td>\n      <td>305451.0</td>\n    </tr>\n    <tr>\n      <td>Persons of Danish origin</td>\n      <td>18.0</td>\n      <td>615000.000000</td>\n      <td>9.120313e+05</td>\n      <td>25675.0</td>\n      <td>79962.50</td>\n      <td>172620.0</td>\n      <td>640382.00</td>\n      <td>3496305.0</td>\n    </tr>\n    <tr>\n      <td>Total</td>\n      <td>18.0</td>\n      <td>668461.777778</td>\n      <td>9.984708e+05</td>\n      <td>27069.0</td>\n      <td>88572.00</td>\n      <td>190275.5</td>\n      <td>677279.25</td>\n      <td>3833359.0</td>\n    </tr>\n    <tr>\n      <td rowspan=\"4\" valign=\"top\">2007</td>\n      <td>Descendant</td>\n      <td>18.0</td>\n      <td>4782.444444</td>\n      <td>9.278292e+03</td>\n      <td>261.0</td>\n      <td>538.50</td>\n      <td>837.0</td>\n      <td>2032.75</td>\n      <td>35065.0</td>\n    </tr>\n    <tr>\n      <td>Immigrants</td>\n      <td>18.0</td>\n      <td>51230.000000</td>\n      <td>8.257102e+04</td>\n      <td>1316.0</td>\n      <td>8554.50</td>\n      <td>16026.5</td>\n      <td>35891.50</td>\n      <td>319544.0</td>\n    </tr>\n    <tr>\n      <td>Persons of Danish origin</td>\n      <td>18.0</td>\n      <td>617012.555556</td>\n      <td>9.113469e+05</td>\n      <td>26506.0</td>\n      <td>81974.75</td>\n      <td>177514.0</td>\n      <td>637801.50</td>\n      <td>3498373.0</td>\n    </tr>\n    <tr>\n      <td>Total</td>\n      <td>18.0</td>\n      <td>673025.000000</td>\n      <td>1.002246e+06</td>\n      <td>28083.0</td>\n      <td>90958.50</td>\n      <td>196089.0</td>\n      <td>675623.25</td>\n      <td>3852982.0</td>\n    </tr>\n    <tr>\n      <td rowspan=\"4\" valign=\"top\">2008</td>\n      <td>Descendant</td>\n      <td>18.0</td>\n      <td>5337.333333</td>\n      <td>1.037295e+04</td>\n      <td>306.0</td>\n      <td>605.50</td>\n      <td>940.0</td>\n      <td>2222.25</td>\n      <td>39195.0</td>\n    </tr>\n    <tr>\n      <td>Immigrants</td>\n      <td>18.0</td>\n      <td>54052.333333</td>\n      <td>8.742805e+04</td>\n      <td>1465.0</td>\n      <td>9078.00</td>\n      <td>16804.5</td>\n      <td>36947.00</td>\n      <td>338460.0</td>\n    </tr>\n    <tr>\n      <td>Persons of Danish origin</td>\n      <td>18.0</td>\n      <td>619075.000000</td>\n      <td>9.109489e+05</td>\n      <td>27380.0</td>\n      <td>84330.75</td>\n      <td>182499.5</td>\n      <td>634986.75</td>\n      <td>3501656.0</td>\n    </tr>\n    <tr>\n      <td>Total</td>\n      <td>18.0</td>\n      <td>678464.666667</td>\n      <td>1.007683e+06</td>\n      <td>29151.0</td>\n      <td>93889.00</td>\n      <td>202365.5</td>\n      <td>674054.50</td>\n      <td>3879311.0</td>\n    </tr>\n    <tr>\n      <td rowspan=\"4\" valign=\"top\">2009</td>\n      <td>Descendant</td>\n      <td>18.0</td>\n      <td>5941.666667</td>\n      <td>1.152655e+04</td>\n      <td>373.0</td>\n      <td>688.25</td>\n      <td>1063.0</td>\n      <td>2431.50</td>\n      <td>43574.0</td>\n    </tr>\n    <tr>\n      <td>Immigrants</td>\n      <td>18.0</td>\n      <td>57450.666667</td>\n      <td>9.289664e+04</td>\n      <td>1762.0</td>\n      <td>9809.75</td>\n      <td>17934.5</td>\n      <td>38362.50</td>\n      <td>359980.0</td>\n    </tr>\n    <tr>\n      <td>Persons of Danish origin</td>\n      <td>18.0</td>\n      <td>620973.555556</td>\n      <td>9.104649e+05</td>\n      <td>28660.0</td>\n      <td>86595.50</td>\n      <td>186821.5</td>\n      <td>632406.00</td>\n      <td>3504383.0</td>\n    </tr>\n    <tr>\n      <td>Total</td>\n      <td>18.0</td>\n      <td>684365.888889</td>\n      <td>1.013698e+06</td>\n      <td>30795.0</td>\n      <td>96941.25</td>\n      <td>208449.5</td>\n      <td>673113.00</td>\n      <td>3907937.0</td>\n    </tr>\n    <tr>\n      <td rowspan=\"4\" valign=\"top\">2010</td>\n      <td>Descendant</td>\n      <td>18.0</td>\n      <td>6436.666667</td>\n      <td>1.247899e+04</td>\n      <td>438.0</td>\n      <td>727.00</td>\n      <td>1157.5</td>\n      <td>2632.00</td>\n      <td>47183.0</td>\n    </tr>\n    <tr>\n      <td>Immigrants</td>\n      <td>18.0</td>\n      <td>59645.111111</td>\n      <td>9.577605e+04</td>\n      <td>2085.0</td>\n      <td>10469.25</td>\n      <td>19014.5</td>\n      <td>39056.50</td>\n      <td>371866.0</td>\n    </tr>\n    <tr>\n      <td>Persons of Danish origin</td>\n      <td>18.0</td>\n      <td>623499.000000</td>\n      <td>9.108616e+05</td>\n      <td>29605.0</td>\n      <td>88723.25</td>\n      <td>191808.5</td>\n      <td>630725.50</td>\n      <td>3510353.0</td>\n    </tr>\n    <tr>\n      <td>Total</td>\n      <td>18.0</td>\n      <td>689580.777778</td>\n      <td>1.017842e+06</td>\n      <td>32128.0</td>\n      <td>99784.00</td>\n      <td>215090.0</td>\n      <td>672292.00</td>\n      <td>3929402.0</td>\n    </tr>\n    <tr>\n      <td rowspan=\"4\" valign=\"top\">2011</td>\n      <td>Descendant</td>\n      <td>18.0</td>\n      <td>7082.000000</td>\n      <td>1.369299e+04</td>\n      <td>492.0</td>\n      <td>789.50</td>\n      <td>1344.0</td>\n      <td>2840.25</td>\n      <td>51805.0</td>\n    </tr>\n    <tr>\n      <td>Immigrants</td>\n      <td>18.0</td>\n      <td>62078.888889</td>\n      <td>9.907797e+04</td>\n      <td>2415.0</td>\n      <td>11308.00</td>\n      <td>20192.5</td>\n      <td>39679.50</td>\n      <td>385437.0</td>\n    </tr>\n    <tr>\n      <td>Persons of Danish origin</td>\n      <td>18.0</td>\n      <td>625347.333333</td>\n      <td>9.104087e+05</td>\n      <td>30604.0</td>\n      <td>90851.50</td>\n      <td>196230.0</td>\n      <td>628265.00</td>\n      <td>3513315.0</td>\n    </tr>\n    <tr>\n      <td>Total</td>\n      <td>18.0</td>\n      <td>694508.222222</td>\n      <td>1.021789e+06</td>\n      <td>33511.0</td>\n      <td>102837.25</td>\n      <td>221573.0</td>\n      <td>670593.00</td>\n      <td>3950557.0</td>\n    </tr>\n    <tr>\n      <td rowspan=\"4\" valign=\"top\">2012</td>\n      <td>Descendant</td>\n      <td>18.0</td>\n      <td>7771.000000</td>\n      <td>1.498701e+04</td>\n      <td>582.0</td>\n      <td>880.75</td>\n      <td>1528.5</td>\n      <td>3065.75</td>\n      <td>56734.0</td>\n    </tr>\n    <tr>\n      <td>Immigrants</td>\n      <td>18.0</td>\n      <td>64415.000000</td>\n      <td>1.018317e+05</td>\n      <td>2620.0</td>\n      <td>12228.00</td>\n      <td>21620.5</td>\n      <td>40824.50</td>\n      <td>397065.0</td>\n    </tr>\n    <tr>\n      <td>Persons of Danish origin</td>\n      <td>18.0</td>\n      <td>626419.000000</td>\n      <td>9.089333e+05</td>\n      <td>31630.0</td>\n      <td>92892.75</td>\n      <td>200478.5</td>\n      <td>625232.50</td>\n      <td>3512040.0</td>\n    </tr>\n    <tr>\n      <td>Total</td>\n      <td>18.0</td>\n      <td>698605.000000</td>\n      <td>1.024268e+06</td>\n      <td>34832.0</td>\n      <td>105865.00</td>\n      <td>228229.5</td>\n      <td>668482.00</td>\n      <td>3965839.0</td>\n    </tr>\n    <tr>\n      <td rowspan=\"4\" valign=\"top\">2013</td>\n      <td>Descendant</td>\n      <td>18.0</td>\n      <td>8485.333333</td>\n      <td>1.625779e+04</td>\n      <td>662.0</td>\n      <td>979.25</td>\n      <td>1761.5</td>\n      <td>3379.75</td>\n      <td>61614.0</td>\n    </tr>\n    <tr>\n      <td>Immigrants</td>\n      <td>18.0</td>\n      <td>67135.000000</td>\n      <td>1.049930e+05</td>\n      <td>2878.0</td>\n      <td>13117.75</td>\n      <td>23201.0</td>\n      <td>43247.50</td>\n      <td>410355.0</td>\n    </tr>\n    <tr>\n      <td>Persons of Danish origin</td>\n      <td>18.0</td>\n      <td>626482.777778</td>\n      <td>9.060061e+05</td>\n      <td>32466.0</td>\n      <td>95094.75</td>\n      <td>204582.5</td>\n      <td>620734.25</td>\n      <td>3505297.0</td>\n    </tr>\n    <tr>\n      <td>Total</td>\n      <td>18.0</td>\n      <td>702103.111111</td>\n      <td>1.025707e+06</td>\n      <td>36006.0</td>\n      <td>109176.75</td>\n      <td>235128.5</td>\n      <td>665332.75</td>\n      <td>3977266.0</td>\n    </tr>\n    <tr>\n      <td rowspan=\"4\" valign=\"top\">2014</td>\n      <td>Descendant</td>\n      <td>18.0</td>\n      <td>9210.888889</td>\n      <td>1.750812e+04</td>\n      <td>769.0</td>\n      <td>1101.00</td>\n      <td>2058.5</td>\n      <td>3640.75</td>\n      <td>66451.0</td>\n    </tr>\n    <tr>\n      <td>Immigrants</td>\n      <td>18.0</td>\n      <td>70684.000000</td>\n      <td>1.090809e+05</td>\n      <td>3086.0</td>\n      <td>14194.50</td>\n      <td>25366.0</td>\n      <td>47365.50</td>\n      <td>427541.0</td>\n    </tr>\n    <tr>\n      <td>Persons of Danish origin</td>\n      <td>18.0</td>\n      <td>625906.666667</td>\n      <td>9.017485e+05</td>\n      <td>33897.0</td>\n      <td>97437.00</td>\n      <td>208902.0</td>\n      <td>614557.50</td>\n      <td>3494151.0</td>\n    </tr>\n    <tr>\n      <td>Total</td>\n      <td>18.0</td>\n      <td>705801.555556</td>\n      <td>1.026698e+06</td>\n      <td>37752.0</td>\n      <td>112943.50</td>\n      <td>243281.0</td>\n      <td>660781.25</td>\n      <td>3988143.0</td>\n    </tr>\n    <tr>\n      <td rowspan=\"4\" valign=\"top\">2015</td>\n      <td>Descendant</td>\n      <td>18.0</td>\n      <td>10031.000000</td>\n      <td>1.886862e+04</td>\n      <td>871.0</td>\n      <td>1259.00</td>\n      <td>2395.5</td>\n      <td>4003.75</td>\n      <td>71748.0</td>\n    </tr>\n    <tr>\n      <td>Immigrants</td>\n      <td>18.0</td>\n      <td>75130.000000</td>\n      <td>1.138895e+05</td>\n      <td>3469.0</td>\n      <td>15749.75</td>\n      <td>29026.0</td>\n      <td>53886.00</td>\n      <td>448005.0</td>\n    </tr>\n    <tr>\n      <td>Persons of Danish origin</td>\n      <td>18.0</td>\n      <td>624708.555556</td>\n      <td>8.961493e+05</td>\n      <td>35789.0</td>\n      <td>99438.00</td>\n      <td>213722.0</td>\n      <td>608148.75</td>\n      <td>3478066.0</td>\n    </tr>\n    <tr>\n      <td>Total</td>\n      <td>18.0</td>\n      <td>709869.555556</td>\n      <td>1.027158e+06</td>\n      <td>40190.0</td>\n      <td>116846.50</td>\n      <td>253206.5</td>\n      <td>656496.75</td>\n      <td>3997819.0</td>\n    </tr>\n    <tr>\n      <td rowspan=\"4\" valign=\"top\">2016</td>\n      <td>Descendant</td>\n      <td>18.0</td>\n      <td>10903.333333</td>\n      <td>2.030468e+04</td>\n      <td>951.0</td>\n      <td>1479.25</td>\n      <td>2782.0</td>\n      <td>4528.25</td>\n      <td>77348.0</td>\n    </tr>\n    <tr>\n      <td>Immigrants</td>\n      <td>18.0</td>\n      <td>81852.111111</td>\n      <td>1.214701e+05</td>\n      <td>3689.0</td>\n      <td>18305.00</td>\n      <td>34832.0</td>\n      <td>64439.25</td>\n      <td>479803.0</td>\n    </tr>\n    <tr>\n      <td>Persons of Danish origin</td>\n      <td>18.0</td>\n      <td>622855.111111</td>\n      <td>8.898098e+05</td>\n      <td>37535.0</td>\n      <td>101535.75</td>\n      <td>219034.5</td>\n      <td>599222.50</td>\n      <td>3459752.0</td>\n    </tr>\n    <tr>\n      <td>Total</td>\n      <td>18.0</td>\n      <td>715610.555556</td>\n      <td>1.029615e+06</td>\n      <td>42295.0</td>\n      <td>121728.75</td>\n      <td>266598.5</td>\n      <td>653250.25</td>\n      <td>4016903.0</td>\n    </tr>\n    <tr>\n      <td rowspan=\"4\" valign=\"top\">2017</td>\n      <td>Descendant</td>\n      <td>18.0</td>\n      <td>11807.111111</td>\n      <td>2.171519e+04</td>\n      <td>1062.0</td>\n      <td>1759.50</td>\n      <td>3132.0</td>\n      <td>5167.00</td>\n      <td>82909.0</td>\n    </tr>\n    <tr>\n      <td>Immigrants</td>\n      <td>18.0</td>\n      <td>86759.222222</td>\n      <td>1.271895e+05</td>\n      <td>3713.0</td>\n      <td>20199.25</td>\n      <td>38463.5</td>\n      <td>71666.50</td>\n      <td>503510.0</td>\n    </tr>\n    <tr>\n      <td>Persons of Danish origin</td>\n      <td>18.0</td>\n      <td>620647.666667</td>\n      <td>8.825462e+05</td>\n      <td>37981.0</td>\n      <td>104303.25</td>\n      <td>226703.0</td>\n      <td>591261.25</td>\n      <td>3437906.0</td>\n    </tr>\n    <tr>\n      <td>Total</td>\n      <td>18.0</td>\n      <td>719214.000000</td>\n      <td>1.029360e+06</td>\n      <td>42899.0</td>\n      <td>126731.75</td>\n      <td>280229.0</td>\n      <td>651050.50</td>\n      <td>4024325.0</td>\n    </tr>\n    <tr>\n      <td rowspan=\"4\" valign=\"top\">2018</td>\n      <td>Descendant</td>\n      <td>18.0</td>\n      <td>12704.333333</td>\n      <td>2.311083e+04</td>\n      <td>1166.0</td>\n      <td>2065.75</td>\n      <td>3470.0</td>\n      <td>5793.50</td>\n      <td>88419.0</td>\n    </tr>\n    <tr>\n      <td>Immigrants</td>\n      <td>18.0</td>\n      <td>90385.777778</td>\n      <td>1.314198e+05</td>\n      <td>3687.0</td>\n      <td>22037.00</td>\n      <td>40400.0</td>\n      <td>76430.00</td>\n      <td>521117.0</td>\n    </tr>\n    <tr>\n      <td>Persons of Danish origin</td>\n      <td>18.0</td>\n      <td>618558.333333</td>\n      <td>8.760603e+05</td>\n      <td>37890.0</td>\n      <td>106131.75</td>\n      <td>234301.5</td>\n      <td>585466.50</td>\n      <td>3418649.0</td>\n    </tr>\n    <tr>\n      <td>Total</td>\n      <td>18.0</td>\n      <td>721648.444444</td>\n      <td>1.028474e+06</td>\n      <td>42859.0</td>\n      <td>130619.50</td>\n      <td>291579.0</td>\n      <td>648168.25</td>\n      <td>4028185.0</td>\n    </tr>\n    <tr>\n      <td rowspan=\"4\" valign=\"top\">2019</td>\n      <td>Descendant</td>\n      <td>18.0</td>\n      <td>13586.111111</td>\n      <td>2.443914e+04</td>\n      <td>1270.0</td>\n      <td>2353.25</td>\n      <td>3866.0</td>\n      <td>6500.50</td>\n      <td>93692.0</td>\n    </tr>\n    <tr>\n      <td>Immigrants</td>\n      <td>18.0</td>\n      <td>93163.888889</td>\n      <td>1.347042e+05</td>\n      <td>3762.0</td>\n      <td>23550.75</td>\n      <td>42626.5</td>\n      <td>80777.25</td>\n      <td>534730.0</td>\n    </tr>\n    <tr>\n      <td>Persons of Danish origin</td>\n      <td>18.0</td>\n      <td>617027.444444</td>\n      <td>8.709644e+05</td>\n      <td>38166.0</td>\n      <td>107813.50</td>\n      <td>241043.5</td>\n      <td>580499.00</td>\n      <td>3404385.0</td>\n    </tr>\n    <tr>\n      <td>Total</td>\n      <td>18.0</td>\n      <td>723777.444444</td>\n      <td>1.027946e+06</td>\n      <td>43347.0</td>\n      <td>133870.50</td>\n      <td>298608.0</td>\n      <td>645030.25</td>\n      <td>4032807.0</td>\n    </tr>\n  </tbody>\n</table>\n</div>"
     },
     "metadata": {},
     "execution_count": 129
    }
   ],
   "source": [
    "educ.groupby(['Year','Ancestry']).describe()\n",
    "\n",
    ""
   ]
  },
  {
   "cell_type": "code",
   "execution_count": 127,
   "metadata": {},
   "outputs": [
    {
     "output_type": "error",
     "ename": "AttributeError",
     "evalue": "Cannot access attribute 'values' of 'DataFrameGroupBy' objects, try using the 'apply' method",
     "traceback": [
      "\u001b[0;31m---------------------------------------------------------------------------\u001b[0m",
      "\u001b[0;31mAttributeError\u001b[0m                            Traceback (most recent call last)",
      "\u001b[0;32m<ipython-input-127-b4b062ad2346>\u001b[0m in \u001b[0;36m<module>\u001b[0;34m\u001b[0m\n\u001b[1;32m      1\u001b[0m \u001b[0;31m# a. split\u001b[0m\u001b[0;34m\u001b[0m\u001b[0;34m\u001b[0m\u001b[0;34m\u001b[0m\u001b[0m\n\u001b[1;32m      2\u001b[0m \u001b[0meduc_grouped\u001b[0m \u001b[0;34m=\u001b[0m \u001b[0meduc\u001b[0m\u001b[0;34m.\u001b[0m\u001b[0mgroupby\u001b[0m\u001b[0;34m(\u001b[0m\u001b[0;34m[\u001b[0m\u001b[0;34m'Year'\u001b[0m\u001b[0;34m,\u001b[0m\u001b[0;34m'Ancestry'\u001b[0m\u001b[0;34m]\u001b[0m\u001b[0;34m)\u001b[0m\u001b[0;34m\u001b[0m\u001b[0;34m\u001b[0m\u001b[0m\n\u001b[0;32m----> 3\u001b[0;31m \u001b[0meduc_grouped_first\u001b[0m \u001b[0;34m=\u001b[0m \u001b[0meduc_grouped\u001b[0m\u001b[0;34m.\u001b[0m\u001b[0mvalues\u001b[0m\u001b[0;34m.\u001b[0m\u001b[0mfirst\u001b[0m\u001b[0;34m(\u001b[0m\u001b[0;34m)\u001b[0m\u001b[0;34m\u001b[0m\u001b[0;34m\u001b[0m\u001b[0m\n\u001b[0m\u001b[1;32m      4\u001b[0m \u001b[0meduc_grouped_first\u001b[0m\u001b[0;34m.\u001b[0m\u001b[0mname\u001b[0m \u001b[0;34m=\u001b[0m \u001b[0;34m'first'\u001b[0m\u001b[0;34m\u001b[0m\u001b[0;34m\u001b[0m\u001b[0m\n\u001b[1;32m      5\u001b[0m \u001b[0;34m\u001b[0m\u001b[0m\n",
      "\u001b[0;32m~/opt/anaconda3/lib/python3.7/site-packages/pandas/core/groupby/groupby.py\u001b[0m in \u001b[0;36m__getattr__\u001b[0;34m(self, attr)\u001b[0m\n\u001b[1;32m    561\u001b[0m             \u001b[0;32mreturn\u001b[0m \u001b[0mself\u001b[0m\u001b[0;34m[\u001b[0m\u001b[0mattr\u001b[0m\u001b[0;34m]\u001b[0m\u001b[0;34m\u001b[0m\u001b[0;34m\u001b[0m\u001b[0m\n\u001b[1;32m    562\u001b[0m         \u001b[0;32mif\u001b[0m \u001b[0mhasattr\u001b[0m\u001b[0;34m(\u001b[0m\u001b[0mself\u001b[0m\u001b[0;34m.\u001b[0m\u001b[0mobj\u001b[0m\u001b[0;34m,\u001b[0m \u001b[0mattr\u001b[0m\u001b[0;34m)\u001b[0m\u001b[0;34m:\u001b[0m\u001b[0;34m\u001b[0m\u001b[0;34m\u001b[0m\u001b[0m\n\u001b[0;32m--> 563\u001b[0;31m             \u001b[0;32mreturn\u001b[0m \u001b[0mself\u001b[0m\u001b[0;34m.\u001b[0m\u001b[0m_make_wrapper\u001b[0m\u001b[0;34m(\u001b[0m\u001b[0mattr\u001b[0m\u001b[0;34m)\u001b[0m\u001b[0;34m\u001b[0m\u001b[0;34m\u001b[0m\u001b[0m\n\u001b[0m\u001b[1;32m    564\u001b[0m \u001b[0;34m\u001b[0m\u001b[0m\n\u001b[1;32m    565\u001b[0m         raise AttributeError(\n",
      "\u001b[0;32m~/opt/anaconda3/lib/python3.7/site-packages/pandas/core/groupby/groupby.py\u001b[0m in \u001b[0;36m_make_wrapper\u001b[0;34m(self, name)\u001b[0m\n\u001b[1;32m    602\u001b[0m                 \u001b[0;34m\"using the 'apply' method\"\u001b[0m\u001b[0;34m.\u001b[0m\u001b[0mformat\u001b[0m\u001b[0;34m(\u001b[0m\u001b[0mkind\u001b[0m\u001b[0;34m,\u001b[0m \u001b[0mname\u001b[0m\u001b[0;34m,\u001b[0m \u001b[0mtype\u001b[0m\u001b[0;34m(\u001b[0m\u001b[0mself\u001b[0m\u001b[0;34m)\u001b[0m\u001b[0;34m.\u001b[0m\u001b[0m__name__\u001b[0m\u001b[0;34m)\u001b[0m\u001b[0;34m\u001b[0m\u001b[0;34m\u001b[0m\u001b[0m\n\u001b[1;32m    603\u001b[0m             )\n\u001b[0;32m--> 604\u001b[0;31m             \u001b[0;32mraise\u001b[0m \u001b[0mAttributeError\u001b[0m\u001b[0;34m(\u001b[0m\u001b[0mmsg\u001b[0m\u001b[0;34m)\u001b[0m\u001b[0;34m\u001b[0m\u001b[0;34m\u001b[0m\u001b[0m\n\u001b[0m\u001b[1;32m    605\u001b[0m \u001b[0;34m\u001b[0m\u001b[0m\n\u001b[1;32m    606\u001b[0m         \u001b[0mself\u001b[0m\u001b[0;34m.\u001b[0m\u001b[0m_set_group_selection\u001b[0m\u001b[0;34m(\u001b[0m\u001b[0;34m)\u001b[0m\u001b[0;34m\u001b[0m\u001b[0;34m\u001b[0m\u001b[0m\n",
      "\u001b[0;31mAttributeError\u001b[0m: Cannot access attribute 'values' of 'DataFrameGroupBy' objects, try using the 'apply' method"
     ]
    }
   ],
   "source": [
    "\n",
    "# a. split\n",
    "educ_grouped = educ.groupby(['Year','Ancestry'])\n",
    "educ_grouped_first = educ_grouped.values.first()\n",
    "educ_grouped_first.name = 'first'\n",
    "\n",
    "# b. apply\n",
    "educ.set_index(['Year','Ancestry','HCEDUC'],inplace=True)\n",
    "educ = educ.join(educ_grouped_first,how='left',on=['Ancestry','HCEDUC'])\n",
    "educ.reset_index(inplace=True)\n",
    "\n",
    "# c. combine\n",
    "educ['indexed'] = educ['Units']/educ['first']\n",
    "\n",
    "# d. plot\n",
    "def plot(df):\n",
    "    df_indexed = df.set_index('Year')\n",
    "    I = df_indexed.unit == 'Bachelors programmes'\n",
    "    df_indexed[I].groupby(['Ancestry'])['indexed'].plot(legend=True);\n",
    "    \n",
    "plot(educ)"
   ]
  },
  {
   "cell_type": "markdown",
   "metadata": {},
   "source": [
    "## Income data"
   ]
  },
  {
   "cell_type": "markdown",
   "metadata": {},
   "source": [
    "**Read the income data** in ``INDKP101.xlsx`` and **clean it**:"
   ]
  },
  {
   "cell_type": "code",
   "execution_count": null,
   "metadata": {},
   "outputs": [],
   "source": [
    "# a. load\n",
    "#inc = pd.read_excel('INDKP101.xlsx', skiprows=2)\n",
    "\n",
    "# b. drop and rename columns\n",
    "#inc.drop([f'Unnamed: {i}' for i in range(3)], axis=1, inplace=True)\n",
    "#inc.rename(columns = {'Unnamed: 3':'municipality'}, inplace=True)\n",
    "\n",
    "# c. drop rows with missing\n",
    "#inc.dropna(inplace=True)\n",
    "\n",
    "# d. remove non-municipalities\n",
    "#inc = dataproject.only_keep_municipalities(inc)\n",
    "\n",
    "# e. convert to long\n",
    "#inc.rename(columns = {str(i):f'income{i}' for i in range(1986,2018)}, inplace=True)\n",
    "#inc_long = pd.wide_to_long(inc, stubnames='income', i='municipality', j='year').reset_index()\n",
    "\n",
    "# f. show\n",
    "#inc_long.head(5)"
   ]
  },
  {
   "cell_type": "markdown",
   "metadata": {},
   "source": [
    "> **Note:** The function ``dataproject.only_keep_municipalities()`` is used on both the employment and the income datasets."
   ]
  },
  {
   "cell_type": "markdown",
   "metadata": {},
   "source": [
    "## Explore data set"
   ]
  },
  {
   "cell_type": "markdown",
   "metadata": {},
   "source": [
    "In order to be able to **explore the raw data**, we here provide an **interactive plot** to show, respectively, the employment and income level in each municipality"
   ]
  },
  {
   "cell_type": "markdown",
   "metadata": {},
   "source": [
    "The **static plot** is:"
   ]
  },
  {
   "cell_type": "code",
   "execution_count": null,
   "metadata": {},
   "outputs": [],
   "source": [
    "def plot_empl_inc(empl,inc,dataset,municipality): \n",
    "    \n",
    "    if dataset == 'Employment':\n",
    "        df = empl\n",
    "        y = 'employment'\n",
    "    else:\n",
    "        df = inc\n",
    "        y = 'income'\n",
    "    \n",
    "    I = df['municipality'] == municipality\n",
    "    ax = df.loc[I,:].plot(x='year', y=y, style='-o')"
   ]
  },
  {
   "cell_type": "markdown",
   "metadata": {},
   "source": [
    "The **interactive plot** is:"
   ]
  },
  {
   "cell_type": "code",
   "execution_count": null,
   "metadata": {},
   "outputs": [],
   "source": [
    "widgets.interact(plot_empl_inc, \n",
    "    \n",
    "    empl = widgets.fixed(empl_long),\n",
    "    inc = widgets.fixed(inc_long),\n",
    "    dataset = widgets.Dropdown(description='Dataset', \n",
    "                               options=['Employment','Income']),\n",
    "    municipality = widgets.Dropdown(description='Municipality', \n",
    "                                    options=empl_long.municipality.unique())\n",
    "                 \n",
    "); "
   ]
  },
  {
   "cell_type": "markdown",
   "metadata": {},
   "source": [
    "ADD SOMETHING HERE IF THE READER SHOULD KNOW THAT E.G. SOME MUNICIPALITY IS SPECIAL."
   ]
  },
  {
   "cell_type": "markdown",
   "metadata": {},
   "source": [
    "# Merge data sets"
   ]
  },
  {
   "cell_type": "markdown",
   "metadata": {},
   "source": [
    "We now create a data set with **municpalities which are in both of our data sets**. We can illustrate this **merge** as:"
   ]
  },
  {
   "cell_type": "code",
   "execution_count": null,
   "metadata": {},
   "outputs": [],
   "source": [
    "plt.figure(figsize=(15,7))\n",
    "v = venn2(subsets = (4, 4, 10), set_labels = ('inc', 'empl'))\n",
    "v.get_label_by_id('100').set_text('dropped')\n",
    "v.get_label_by_id('010').set_text('dropped' )\n",
    "v.get_label_by_id('110').set_text('included')\n",
    "plt.show()"
   ]
  },
  {
   "cell_type": "code",
   "execution_count": null,
   "metadata": {},
   "outputs": [],
   "source": [
    "merged = pd.merge(empl_long, inc_long, how='inner',on=['municipality','year'])\n",
    "\n",
    "print(f'Number of municipalities = {len(merged.municipality.unique())}')\n",
    "print(f'Number of years          = {len(merged.year.unique())}')"
   ]
  },
  {
   "cell_type": "markdown",
   "metadata": {},
   "source": [
    "# Analysis"
   ]
  },
  {
   "cell_type": "markdown",
   "metadata": {},
   "source": [
    "To get a quick overview of the data, we show some **summary statistics by year**:"
   ]
  },
  {
   "cell_type": "code",
   "execution_count": null,
   "metadata": {},
   "outputs": [],
   "source": [
    "merged.groupby('year').agg(['mean','std']).round(2)"
   ]
  },
  {
   "cell_type": "markdown",
   "metadata": {},
   "source": [
    "ADD FURTHER ANALYSIS. EXPLAIN THE CODE BRIEFLY AND SUMMARIZE THE RESULTS."
   ]
  },
  {
   "cell_type": "markdown",
   "metadata": {},
   "source": [
    "# Conclusion"
   ]
  },
  {
   "cell_type": "markdown",
   "metadata": {},
   "source": [
    "ADD CONCISE CONLUSION."
   ]
  }
 ],
 "metadata": {
  "kernelspec": {
   "display_name": "Python 3",
   "language": "python",
   "name": "python3"
  },
  "language_info": {
   "codemirror_mode": {
    "name": "ipython",
    "version": 3
   },
   "file_extension": ".py",
   "mimetype": "text/x-python",
   "name": "python",
   "nbconvert_exporter": "python",
   "pygments_lexer": "ipython3",
   "version": "3.7.4-final"
  },
  "toc-autonumbering": true
 },
 "nbformat": 4,
 "nbformat_minor": 4
}