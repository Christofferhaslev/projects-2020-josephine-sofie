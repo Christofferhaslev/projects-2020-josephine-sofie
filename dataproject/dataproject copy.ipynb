{
 "cells": [
  {
   "cell_type": "markdown",
   "metadata": {},
   "source": [
    "# YOUR PROJECT TITLE"
   ]
  },
  {
   "cell_type": "markdown",
   "metadata": {},
   "source": [
    "> **Note the following:** \n",
    "> 1. This is *not* meant to be an example of an actual **data analysis project**, just an example of how to structure such a project.\n",
    "> 1. Remember the general advice on structuring and commenting your code from [lecture 5](https://numeconcopenhagen.netlify.com/lectures/Workflow_and_debugging).\n",
    "> 1. Remember this [guide](https://www.markdownguide.org/basic-syntax/) on markdown and (a bit of) latex.\n",
    "> 1. Turn on automatic numbering by clicking on the small icon on top of the table of contents in the left sidebar.\n",
    "> 1. The `dataproject.py` file includes a function which will be used multiple times in this notebook."
   ]
  },
  {
   "cell_type": "markdown",
   "metadata": {},
   "source": [
    "Imports and set magics:"
   ]
  },
  {
   "cell_type": "code",
   "execution_count": 5,
   "metadata": {},
   "outputs": [
    {
     "output_type": "stream",
     "name": "stdout",
     "text": "The autoreload extension is already loaded. To reload it, use:\n  %reload_ext autoreload\n"
    }
   ],
   "source": [
    "import pandas as pd\n",
    "import matplotlib.pyplot as plt\n",
    "import ipywidgets as widgets\n",
    "from matplotlib_venn import venn2 \n",
    "\n",
    "# autoreload modules when code is run\n",
    "%load_ext autoreload\n",
    "%autoreload 2\n",
    "\n",
    "# local modules\n",
    "import dataproject\n",
    "\n",
    "# import pydst\n",
    "import pydst\n",
    "dst = pydst.Dst(lang='en')"
   ]
  },
  {
   "cell_type": "markdown",
   "metadata": {
    "toc-hr-collapsed": true
   },
   "source": [
    "# Read and clean data"
   ]
  },
  {
   "cell_type": "markdown",
   "metadata": {},
   "source": [
    "## Employment data"
   ]
  },
  {
   "cell_type": "markdown",
   "metadata": {},
   "source": [
    "**Read the employment data** in ``RAS200.xlsx`` and **clean it** removing and renaming columns:"
   ]
  },
  {
   "cell_type": "code",
   "execution_count": 42,
   "metadata": {},
   "outputs": [
    {
     "output_type": "execute_result",
     "data": {
      "text/plain": "   Year                  Ancestry          Age  \\\n0  2016                     Total  40-44 years   \n1  2016                Immigrants   Age, total   \n2  2016  Persons of Danish origin  65-69 years   \n3  2016                Descendant   Age, total   \n4  2016                Descendant   Age, total   \n5  2016                Immigrants   Age, total   \n6  2016                Immigrants  30-34 years   \n7  2016  Persons of Danish origin  35-39 years   \n8  2016                Descendant  40-44 years   \n9  2016  Persons of Danish origin   Age, total   \n\n                                        HCEDUC Gender   Units  \n0  H30 Vocational Education and Training (VET)  Total  141758  \n1  H30 Vocational Education and Training (VET)  Women   43424  \n2                     H60 Bachelors programmes  Total    1528  \n3                     H60 Bachelors programmes  Women    1386  \n4                     H60 Bachelors programmes  Total    2457  \n5                     H60 Bachelors programmes  Women    6026  \n6  H30 Vocational Education and Training (VET)  Total   10105  \n7                                        Total  Total  286370  \n8                                        Total  Women    1473  \n9  H30 Vocational Education and Training (VET)    Men  630689  ",
      "text/html": "<div>\n<style scoped>\n    .dataframe tbody tr th:only-of-type {\n        vertical-align: middle;\n    }\n\n    .dataframe tbody tr th {\n        vertical-align: top;\n    }\n\n    .dataframe thead th {\n        text-align: right;\n    }\n</style>\n<table border=\"1\" class=\"dataframe\">\n  <thead>\n    <tr style=\"text-align: right;\">\n      <th></th>\n      <th>Year</th>\n      <th>Ancestry</th>\n      <th>Age</th>\n      <th>HCEDUC</th>\n      <th>Gender</th>\n      <th>Units</th>\n    </tr>\n  </thead>\n  <tbody>\n    <tr>\n      <td>0</td>\n      <td>2016</td>\n      <td>Total</td>\n      <td>40-44 years</td>\n      <td>H30 Vocational Education and Training (VET)</td>\n      <td>Total</td>\n      <td>141758</td>\n    </tr>\n    <tr>\n      <td>1</td>\n      <td>2016</td>\n      <td>Immigrants</td>\n      <td>Age, total</td>\n      <td>H30 Vocational Education and Training (VET)</td>\n      <td>Women</td>\n      <td>43424</td>\n    </tr>\n    <tr>\n      <td>2</td>\n      <td>2016</td>\n      <td>Persons of Danish origin</td>\n      <td>65-69 years</td>\n      <td>H60 Bachelors programmes</td>\n      <td>Total</td>\n      <td>1528</td>\n    </tr>\n    <tr>\n      <td>3</td>\n      <td>2016</td>\n      <td>Descendant</td>\n      <td>Age, total</td>\n      <td>H60 Bachelors programmes</td>\n      <td>Women</td>\n      <td>1386</td>\n    </tr>\n    <tr>\n      <td>4</td>\n      <td>2016</td>\n      <td>Descendant</td>\n      <td>Age, total</td>\n      <td>H60 Bachelors programmes</td>\n      <td>Total</td>\n      <td>2457</td>\n    </tr>\n    <tr>\n      <td>5</td>\n      <td>2016</td>\n      <td>Immigrants</td>\n      <td>Age, total</td>\n      <td>H60 Bachelors programmes</td>\n      <td>Women</td>\n      <td>6026</td>\n    </tr>\n    <tr>\n      <td>6</td>\n      <td>2016</td>\n      <td>Immigrants</td>\n      <td>30-34 years</td>\n      <td>H30 Vocational Education and Training (VET)</td>\n      <td>Total</td>\n      <td>10105</td>\n    </tr>\n    <tr>\n      <td>7</td>\n      <td>2016</td>\n      <td>Persons of Danish origin</td>\n      <td>35-39 years</td>\n      <td>Total</td>\n      <td>Total</td>\n      <td>286370</td>\n    </tr>\n    <tr>\n      <td>8</td>\n      <td>2016</td>\n      <td>Descendant</td>\n      <td>40-44 years</td>\n      <td>Total</td>\n      <td>Women</td>\n      <td>1473</td>\n    </tr>\n    <tr>\n      <td>9</td>\n      <td>2016</td>\n      <td>Persons of Danish origin</td>\n      <td>Age, total</td>\n      <td>H30 Vocational Education and Training (VET)</td>\n      <td>Men</td>\n      <td>630689</td>\n    </tr>\n  </tbody>\n</table>\n</div>"
     },
     "metadata": {},
     "execution_count": 42
    }
   ],
   "source": [
    "educ_vars = dst.get_variables(table_id='HFUDD10')\n",
    "educ_vars\n",
    "\n",
    "educ = dst.get_data(table_id = 'HFUDD10', variables={'Tid':['*'],'HERKOMST':['*'], 'ALDER':['*'], 'HFUDD':['TOT','H30', 'H40', 'H50', 'H60', 'H70'], 'KØN':['*']})\n",
    "educ.head(10)\n",
    "\n",
    "#Uddannelse: H10, H20, H30, H40, H50, H60, H70 \n",
    "\n",
    "# b. drop columns\n",
    "drop_these = ['BOPOMR']\n",
    "educ.drop(drop_these, axis=1, inplace=True)\n",
    "educ.head(10)\n",
    "\n",
    "\n",
    "# c. rename columns\n",
    "educ.rename(columns = {'HERKOMST':'Ancestry', 'ALDER':'Age', 'HFUDD':'HCEDUC', 'KØN':'Gender', 'TID':'Year', 'INDHOLD':'Units'}, inplace=True)\n",
    "educ.head(10)\n",
    "\n",
    "\n"
   ]
  },
  {
   "cell_type": "markdown",
   "metadata": {},
   "source": [
    "The dataset now looks like this:"
   ]
  },
  {
   "cell_type": "code",
   "execution_count": null,
   "metadata": {},
   "outputs": [],
   "source": [
    "empl.head()"
   ]
  },
  {
   "cell_type": "markdown",
   "metadata": {},
   "source": [
    "**Remove all rows which are not municipalities**:"
   ]
  },
  {
   "cell_type": "code",
   "execution_count": null,
   "metadata": {},
   "outputs": [],
   "source": [
    "empl = dataproject.only_keep_municipalities(empl)\n",
    "empl.head()"
   ]
  },
  {
   "cell_type": "markdown",
   "metadata": {},
   "source": [
    "**Convert the dataset to long format**:"
   ]
  },
  {
   "cell_type": "code",
   "execution_count": null,
   "metadata": {},
   "outputs": [],
   "source": [
    "# a. rename year columns\n",
    "mydict = {str(i):f'employment{i}' for i in range(2008,2018)}\n",
    "empl.rename(columns = mydict, inplace=True)\n",
    "\n",
    "# b. convert to long\n",
    "empl_long = pd.wide_to_long(empl, stubnames='employment', i='municipality', j='year').reset_index()\n",
    "\n",
    "# c. show\n",
    "empl_long.head()"
   ]
  },
  {
   "cell_type": "markdown",
   "metadata": {},
   "source": [
    "## Income data"
   ]
  },
  {
   "cell_type": "markdown",
   "metadata": {},
   "source": [
    "**Read the income data** in ``INDKP101.xlsx`` and **clean it**:"
   ]
  },
  {
   "cell_type": "code",
   "execution_count": null,
   "metadata": {},
   "outputs": [],
   "source": [
    "# a. load\n",
    "inc = pd.read_excel('INDKP101.xlsx', skiprows=2)\n",
    "\n",
    "# b. drop and rename columns\n",
    "inc.drop([f'Unnamed: {i}' for i in range(3)], axis=1, inplace=True)\n",
    "inc.rename(columns = {'Unnamed: 3':'municipality'}, inplace=True)\n",
    "\n",
    "# c. drop rows with missing\n",
    "inc.dropna(inplace=True)\n",
    "\n",
    "# d. remove non-municipalities\n",
    "inc = dataproject.only_keep_municipalities(inc)\n",
    "\n",
    "# e. convert to long\n",
    "inc.rename(columns = {str(i):f'income{i}' for i in range(1986,2018)}, inplace=True)\n",
    "inc_long = pd.wide_to_long(inc, stubnames='income', i='municipality', j='year').reset_index()\n",
    "\n",
    "# f. show\n",
    "inc_long.head(5)"
   ]
  },
  {
   "cell_type": "markdown",
   "metadata": {},
   "source": [
    "> **Note:** The function ``dataproject.only_keep_municipalities()`` is used on both the employment and the income datasets."
   ]
  },
  {
   "cell_type": "markdown",
   "metadata": {},
   "source": [
    "## Explore data set"
   ]
  },
  {
   "cell_type": "markdown",
   "metadata": {},
   "source": [
    "In order to be able to **explore the raw data**, we here provide an **interactive plot** to show, respectively, the employment and income level in each municipality"
   ]
  },
  {
   "cell_type": "markdown",
   "metadata": {},
   "source": [
    "The **static plot** is:"
   ]
  },
  {
   "cell_type": "code",
   "execution_count": null,
   "metadata": {},
   "outputs": [],
   "source": [
    "def plot_empl_inc(empl,inc,dataset,municipality): \n",
    "    \n",
    "    if dataset == 'Employment':\n",
    "        df = empl\n",
    "        y = 'employment'\n",
    "    else:\n",
    "        df = inc\n",
    "        y = 'income'\n",
    "    \n",
    "    I = df['municipality'] == municipality\n",
    "    ax = df.loc[I,:].plot(x='year', y=y, style='-o')"
   ]
  },
  {
   "cell_type": "markdown",
   "metadata": {},
   "source": [
    "The **interactive plot** is:"
   ]
  },
  {
   "cell_type": "code",
   "execution_count": null,
   "metadata": {},
   "outputs": [],
   "source": [
    "widgets.interact(plot_empl_inc, \n",
    "    \n",
    "    empl = widgets.fixed(empl_long),\n",
    "    inc = widgets.fixed(inc_long),\n",
    "    dataset = widgets.Dropdown(description='Dataset', \n",
    "                               options=['Employment','Income']),\n",
    "    municipality = widgets.Dropdown(description='Municipality', \n",
    "                                    options=empl_long.municipality.unique())\n",
    "                 \n",
    "); "
   ]
  },
  {
   "cell_type": "markdown",
   "metadata": {},
   "source": [
    "ADD SOMETHING HERE IF THE READER SHOULD KNOW THAT E.G. SOME MUNICIPALITY IS SPECIAL."
   ]
  },
  {
   "cell_type": "markdown",
   "metadata": {},
   "source": [
    "# Merge data sets"
   ]
  },
  {
   "cell_type": "markdown",
   "metadata": {},
   "source": [
    "We now create a data set with **municpalities which are in both of our data sets**. We can illustrate this **merge** as:"
   ]
  },
  {
   "cell_type": "code",
   "execution_count": null,
   "metadata": {},
   "outputs": [],
   "source": [
    "plt.figure(figsize=(15,7))\n",
    "v = venn2(subsets = (4, 4, 10), set_labels = ('inc', 'empl'))\n",
    "v.get_label_by_id('100').set_text('dropped')\n",
    "v.get_label_by_id('010').set_text('dropped' )\n",
    "v.get_label_by_id('110').set_text('included')\n",
    "plt.show()"
   ]
  },
  {
   "cell_type": "code",
   "execution_count": null,
   "metadata": {},
   "outputs": [],
   "source": [
    "merged = pd.merge(empl_long, inc_long, how='inner',on=['municipality','year'])\n",
    "\n",
    "print(f'Number of municipalities = {len(merged.municipality.unique())}')\n",
    "print(f'Number of years          = {len(merged.year.unique())}')"
   ]
  },
  {
   "cell_type": "markdown",
   "metadata": {},
   "source": [
    "# Analysis"
   ]
  },
  {
   "cell_type": "markdown",
   "metadata": {},
   "source": [
    "To get a quick overview of the data, we show some **summary statistics by year**:"
   ]
  },
  {
   "cell_type": "code",
   "execution_count": null,
   "metadata": {},
   "outputs": [],
   "source": [
    "merged.groupby('year').agg(['mean','std']).round(2)"
   ]
  },
  {
   "cell_type": "markdown",
   "metadata": {},
   "source": [
    "ADD FURTHER ANALYSIS. EXPLAIN THE CODE BRIEFLY AND SUMMARIZE THE RESULTS."
   ]
  },
  {
   "cell_type": "markdown",
   "metadata": {},
   "source": [
    "# Conclusion"
   ]
  },
  {
   "cell_type": "markdown",
   "metadata": {},
   "source": [
    "ADD CONCISE CONLUSION."
   ]
  }
 ],
 "metadata": {
  "kernelspec": {
   "display_name": "Python 3",
   "language": "python",
   "name": "python3"
  },
  "language_info": {
   "codemirror_mode": {
    "name": "ipython",
    "version": 3
   },
   "file_extension": ".py",
   "mimetype": "text/x-python",
   "name": "python",
   "nbconvert_exporter": "python",
   "pygments_lexer": "ipython3",
   "version": "3.7.4-final"
  },
  "toc-autonumbering": true
 },
 "nbformat": 4,
 "nbformat_minor": 4
}