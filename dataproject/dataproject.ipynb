{
 "cells": [
  {
   "cell_type": "markdown",
   "metadata": {},
   "source": [
    "# Education in Denmark 2008-2019"
   ]
  },
  {
   "cell_type": "markdown",
   "metadata": {},
   "source": [
    "The scope of this project is to examine the development of the level of education in Denmark using data from Denmark Statistisk. First, we examine the overall development of education in Denmark with data on highest education completed. Second, we examine this development by ancestry and, finally by gender. "
   ]
  },
  {
   "cell_type": "markdown",
   "metadata": {},
   "source": [
    "Imports and set magics:"
   ]
  },
  {
   "cell_type": "code",
   "execution_count": 1,
   "metadata": {},
   "outputs": [],
   "source": [
    "import pandas as pd\n",
    "import matplotlib.pyplot as plt\n",
    "import ipywidgets as widgets #install with pip install ipywidgets\n",
    "import numpy as np\n",
    "from matplotlib import cm\n",
    "\n",
    "# Autoreload modules when code is run\n",
    "%load_ext autoreload\n",
    "%autoreload 2\n",
    "\n",
    "# Local modules\n",
    "import dataproject\n",
    "\n",
    "# Import pydst\n",
    "import pydst\n",
    "dst = pydst.Dst(lang='en')"
   ]
  },
  {
   "cell_type": "markdown",
   "metadata": {
    "toc-hr-collapsed": true
   },
   "source": [
    "# 1. Read and clean data"
   ]
  },
  {
   "cell_type": "markdown",
   "metadata": {},
   "source": [
    "We read the highest completed education data from dst and clean it:"
   ]
  },
  {
   "cell_type": "code",
   "execution_count": 2,
   "metadata": {},
   "outputs": [
    {
     "data": {
      "text/html": [
       "<div>\n",
       "<style scoped>\n",
       "    .dataframe tbody tr th:only-of-type {\n",
       "        vertical-align: middle;\n",
       "    }\n",
       "\n",
       "    .dataframe tbody tr th {\n",
       "        vertical-align: top;\n",
       "    }\n",
       "\n",
       "    .dataframe thead th {\n",
       "        text-align: right;\n",
       "    }\n",
       "</style>\n",
       "<table border=\"1\" class=\"dataframe\">\n",
       "  <thead>\n",
       "    <tr style=\"text-align: right;\">\n",
       "      <th></th>\n",
       "      <th>Year</th>\n",
       "      <th>Ancestry</th>\n",
       "      <th>HCEDUC</th>\n",
       "      <th>Gender</th>\n",
       "      <th>Units</th>\n",
       "    </tr>\n",
       "  </thead>\n",
       "  <tbody>\n",
       "    <tr>\n",
       "      <td>0</td>\n",
       "      <td>2006</td>\n",
       "      <td>Descendant</td>\n",
       "      <td>Primary education</td>\n",
       "      <td>Women</td>\n",
       "      <td>8201</td>\n",
       "    </tr>\n",
       "    <tr>\n",
       "      <td>1</td>\n",
       "      <td>2006</td>\n",
       "      <td>Descendant</td>\n",
       "      <td>Primary education</td>\n",
       "      <td>Men</td>\n",
       "      <td>9614</td>\n",
       "    </tr>\n",
       "    <tr>\n",
       "      <td>2</td>\n",
       "      <td>2006</td>\n",
       "      <td>Descendant</td>\n",
       "      <td>Primary education</td>\n",
       "      <td>Total</td>\n",
       "      <td>17815</td>\n",
       "    </tr>\n",
       "    <tr>\n",
       "      <td>3</td>\n",
       "      <td>2006</td>\n",
       "      <td>Descendant</td>\n",
       "      <td>Upper secondary education</td>\n",
       "      <td>Women</td>\n",
       "      <td>2485</td>\n",
       "    </tr>\n",
       "    <tr>\n",
       "      <td>4</td>\n",
       "      <td>2006</td>\n",
       "      <td>Descendant</td>\n",
       "      <td>Upper secondary education</td>\n",
       "      <td>Men</td>\n",
       "      <td>2001</td>\n",
       "    </tr>\n",
       "  </tbody>\n",
       "</table>\n",
       "</div>"
      ],
      "text/plain": [
       "   Year    Ancestry                     HCEDUC Gender  Units\n",
       "0  2006  Descendant          Primary education  Women   8201\n",
       "1  2006  Descendant          Primary education    Men   9614\n",
       "2  2006  Descendant          Primary education  Total  17815\n",
       "3  2006  Descendant  Upper secondary education  Women   2485\n",
       "4  2006  Descendant  Upper secondary education    Men   2001"
      ]
     },
     "execution_count": 2,
     "metadata": {},
     "output_type": "execute_result"
    }
   ],
   "source": [
    "educ_vars = dst.get_variables(table_id='HFUDD10')\n",
    "educ_vars\n",
    "\n",
    "# Download data\n",
    "educ = dst.get_data(table_id = 'HFUDD10', variables={'Tid':['*'],'HERKOMST':['*'], 'HFUDD':['TOT','H10','H20','H30', 'H40','H50','H60','H70'], 'KØN':['*']})\n",
    "\n",
    "# Drop columns\n",
    "drop_these = ['BOPOMR','ALDER']\n",
    "educ.drop(drop_these, axis=1, inplace=True)\n",
    "\n",
    "# Rename columns\n",
    "educ.rename(columns = {'HERKOMST':'Ancestry', 'KØN':'Gender', 'TID':'Year', 'HFUDD':'HCEDUC', 'INDHOLD':'Units'}, inplace=True)\n",
    "\n",
    "# Set index to year\n",
    "educ['HCEDUC']=educ.HCEDUC.astype(str).str[4:]\n",
    "educ.set_index('Year')\n",
    "educ.head()"
   ]
  },
  {
   "cell_type": "markdown",
   "metadata": {},
   "source": [
    "# Merge with population data set"
   ]
  },
  {
   "cell_type": "markdown",
   "metadata": {},
   "source": [
    "## Clean the population data set"
   ]
  },
  {
   "cell_type": "markdown",
   "metadata": {},
   "source": [
    "We want to compare the level of education by ancestry. Therefor, we have to take into account that the numbers of people within each ancestry are uneven. Thus, we merge with population data by ancestry in order to calculate the share of individuals with completed education by ancestry relative to the number of individuals within ancestries.\n"
   ]
  },
  {
   "cell_type": "code",
   "execution_count": 3,
   "metadata": {},
   "outputs": [],
   "source": [
    "# Download population data from dst\n",
    "pop = dst.get_data(table_id = 'FOLK1C', variables={'Tid':['*'], 'HERKOMST':['*'], 'KØN':['*']})\n",
    "\n",
    "# Drop columns\n",
    "drop_these = drop_these = ['OMRÅDE','ALDER', 'IELAND']\n",
    "pop.drop(drop_these, axis=1, inplace=True)\n",
    "\n",
    "# Rename columns\n",
    "pop.rename(columns = {'HERKOMST':'Ancestry', 'KØN':'Gender', 'TID':'Year','INDHOLD':'Pop'}, inplace=True)\n",
    "\n",
    "for val in ['Q2','Q3','Q4']: \n",
    "    I = pop.Year.str.contains(val)\n",
    "    pop.drop(pop[I].index, inplace=True)\n",
    "\n",
    "pop.Year.astype(str)\n",
    "pop['Year']= pop.Year.astype(str).str[:4]\n"
   ]
  },
  {
   "cell_type": "markdown",
   "metadata": {},
   "source": [
    "## Merge the datasets"
   ]
  },
  {
   "cell_type": "markdown",
   "metadata": {},
   "source": [
    "We see that the two datasets do not cover the same years. We want to be able to calculate shares for all observations included our analysis, so we merge the data using the inner method. Thus, we will be left with data for 2008 - 2019."
   ]
  },
  {
   "cell_type": "code",
   "execution_count": 4,
   "metadata": {},
   "outputs": [
    {
     "name": "stdout",
     "output_type": "stream",
     "text": [
      "Years in education data = [2006 2007 2008 2009 2010 2011 2012 2013 2014 2015 2016 2017 2018 2019]\n",
      "Years in education data = ['2008' '2009' '2010' '2011' '2012' '2013' '2014' '2015' '2016' '2017'\n",
      " '2018' '2019' '2020']\n"
     ]
    }
   ],
   "source": [
    "print(f'Years in education data = {educ.Year.unique()}')\n",
    "print(f'Years in education data = {pop.Year.unique()}')"
   ]
  },
  {
   "cell_type": "code",
   "execution_count": 5,
   "metadata": {},
   "outputs": [
    {
     "data": {
      "text/html": [
       "<div>\n",
       "<style scoped>\n",
       "    .dataframe tbody tr th:only-of-type {\n",
       "        vertical-align: middle;\n",
       "    }\n",
       "\n",
       "    .dataframe tbody tr th {\n",
       "        vertical-align: top;\n",
       "    }\n",
       "\n",
       "    .dataframe thead th {\n",
       "        text-align: right;\n",
       "    }\n",
       "</style>\n",
       "<table border=\"1\" class=\"dataframe\">\n",
       "  <thead>\n",
       "    <tr style=\"text-align: right;\">\n",
       "      <th></th>\n",
       "      <th>Year</th>\n",
       "      <th>Ancestry</th>\n",
       "      <th>HCEDUC</th>\n",
       "      <th>Gender</th>\n",
       "      <th>Units</th>\n",
       "      <th>Pop</th>\n",
       "    </tr>\n",
       "  </thead>\n",
       "  <tbody>\n",
       "    <tr>\n",
       "      <td>0</td>\n",
       "      <td>2008</td>\n",
       "      <td>Descendant</td>\n",
       "      <td>Primary education</td>\n",
       "      <td>Women</td>\n",
       "      <td>9995</td>\n",
       "      <td>58393</td>\n",
       "    </tr>\n",
       "    <tr>\n",
       "      <td>1</td>\n",
       "      <td>2008</td>\n",
       "      <td>Descendant</td>\n",
       "      <td>Upper secondary education</td>\n",
       "      <td>Women</td>\n",
       "      <td>3159</td>\n",
       "      <td>58393</td>\n",
       "    </tr>\n",
       "    <tr>\n",
       "      <td>2</td>\n",
       "      <td>2008</td>\n",
       "      <td>Descendant</td>\n",
       "      <td>Vocational Education and Training (VET)</td>\n",
       "      <td>Women</td>\n",
       "      <td>2273</td>\n",
       "      <td>58393</td>\n",
       "    </tr>\n",
       "    <tr>\n",
       "      <td>3</td>\n",
       "      <td>2008</td>\n",
       "      <td>Descendant</td>\n",
       "      <td>Short cycle higher education</td>\n",
       "      <td>Women</td>\n",
       "      <td>395</td>\n",
       "      <td>58393</td>\n",
       "    </tr>\n",
       "    <tr>\n",
       "      <td>4</td>\n",
       "      <td>2008</td>\n",
       "      <td>Descendant</td>\n",
       "      <td>Vocational bachelors educations</td>\n",
       "      <td>Women</td>\n",
       "      <td>1048</td>\n",
       "      <td>58393</td>\n",
       "    </tr>\n",
       "    <tr>\n",
       "      <td>5</td>\n",
       "      <td>2008</td>\n",
       "      <td>Descendant</td>\n",
       "      <td>Bachelors programmes</td>\n",
       "      <td>Women</td>\n",
       "      <td>397</td>\n",
       "      <td>58393</td>\n",
       "    </tr>\n",
       "    <tr>\n",
       "      <td>6</td>\n",
       "      <td>2008</td>\n",
       "      <td>Descendant</td>\n",
       "      <td>Masters programmes</td>\n",
       "      <td>Women</td>\n",
       "      <td>610</td>\n",
       "      <td>58393</td>\n",
       "    </tr>\n",
       "    <tr>\n",
       "      <td>7</td>\n",
       "      <td>2008</td>\n",
       "      <td>Descendant</td>\n",
       "      <td>l</td>\n",
       "      <td>Women</td>\n",
       "      <td>19010</td>\n",
       "      <td>58393</td>\n",
       "    </tr>\n",
       "    <tr>\n",
       "      <td>8</td>\n",
       "      <td>2008</td>\n",
       "      <td>Descendant</td>\n",
       "      <td>Primary education</td>\n",
       "      <td>Men</td>\n",
       "      <td>11987</td>\n",
       "      <td>60904</td>\n",
       "    </tr>\n",
       "    <tr>\n",
       "      <td>9</td>\n",
       "      <td>2008</td>\n",
       "      <td>Descendant</td>\n",
       "      <td>Upper secondary education</td>\n",
       "      <td>Men</td>\n",
       "      <td>2454</td>\n",
       "      <td>60904</td>\n",
       "    </tr>\n",
       "  </tbody>\n",
       "</table>\n",
       "</div>"
      ],
      "text/plain": [
       "   Year    Ancestry                                   HCEDUC Gender  Units  \\\n",
       "0  2008  Descendant                        Primary education  Women   9995   \n",
       "1  2008  Descendant                Upper secondary education  Women   3159   \n",
       "2  2008  Descendant  Vocational Education and Training (VET)  Women   2273   \n",
       "3  2008  Descendant             Short cycle higher education  Women    395   \n",
       "4  2008  Descendant          Vocational bachelors educations  Women   1048   \n",
       "5  2008  Descendant                     Bachelors programmes  Women    397   \n",
       "6  2008  Descendant                       Masters programmes  Women    610   \n",
       "7  2008  Descendant                                        l  Women  19010   \n",
       "8  2008  Descendant                        Primary education    Men  11987   \n",
       "9  2008  Descendant                Upper secondary education    Men   2454   \n",
       "\n",
       "     Pop  \n",
       "0  58393  \n",
       "1  58393  \n",
       "2  58393  \n",
       "3  58393  \n",
       "4  58393  \n",
       "5  58393  \n",
       "6  58393  \n",
       "7  58393  \n",
       "8  60904  \n",
       "9  60904  "
      ]
     },
     "execution_count": 5,
     "metadata": {},
     "output_type": "execute_result"
    }
   ],
   "source": [
    "# Merge population data with data of highest education completed \n",
    "pop.Year = pop.Year.astype(int)\n",
    "merged = pd.merge(educ, pop, how='inner',on=['Year','Ancestry','Gender'])\n",
    "merged.head(10)"
   ]
  },
  {
   "cell_type": "markdown",
   "metadata": {},
   "source": [
    "## Calculate shares"
   ]
  },
  {
   "cell_type": "code",
   "execution_count": 6,
   "metadata": {},
   "outputs": [
    {
     "data": {
      "text/html": [
       "<div>\n",
       "<style scoped>\n",
       "    .dataframe tbody tr th:only-of-type {\n",
       "        vertical-align: middle;\n",
       "    }\n",
       "\n",
       "    .dataframe tbody tr th {\n",
       "        vertical-align: top;\n",
       "    }\n",
       "\n",
       "    .dataframe thead th {\n",
       "        text-align: right;\n",
       "    }\n",
       "</style>\n",
       "<table border=\"1\" class=\"dataframe\">\n",
       "  <thead>\n",
       "    <tr style=\"text-align: right;\">\n",
       "      <th></th>\n",
       "      <th>Year</th>\n",
       "      <th>Ancestry</th>\n",
       "      <th>HCEDUC</th>\n",
       "      <th>Gender</th>\n",
       "      <th>Units</th>\n",
       "      <th>Pop</th>\n",
       "      <th>Share</th>\n",
       "    </tr>\n",
       "  </thead>\n",
       "  <tbody>\n",
       "    <tr>\n",
       "      <td>0</td>\n",
       "      <td>2008</td>\n",
       "      <td>Descendant</td>\n",
       "      <td>Primary education</td>\n",
       "      <td>Women</td>\n",
       "      <td>9995</td>\n",
       "      <td>58393</td>\n",
       "      <td>17.116778</td>\n",
       "    </tr>\n",
       "    <tr>\n",
       "      <td>1</td>\n",
       "      <td>2008</td>\n",
       "      <td>Descendant</td>\n",
       "      <td>Upper secondary education</td>\n",
       "      <td>Women</td>\n",
       "      <td>3159</td>\n",
       "      <td>58393</td>\n",
       "      <td>5.409895</td>\n",
       "    </tr>\n",
       "    <tr>\n",
       "      <td>2</td>\n",
       "      <td>2008</td>\n",
       "      <td>Descendant</td>\n",
       "      <td>Vocational Education and Training (VET)</td>\n",
       "      <td>Women</td>\n",
       "      <td>2273</td>\n",
       "      <td>58393</td>\n",
       "      <td>3.892590</td>\n",
       "    </tr>\n",
       "    <tr>\n",
       "      <td>3</td>\n",
       "      <td>2008</td>\n",
       "      <td>Descendant</td>\n",
       "      <td>Short cycle higher education</td>\n",
       "      <td>Women</td>\n",
       "      <td>395</td>\n",
       "      <td>58393</td>\n",
       "      <td>0.676451</td>\n",
       "    </tr>\n",
       "    <tr>\n",
       "      <td>4</td>\n",
       "      <td>2008</td>\n",
       "      <td>Descendant</td>\n",
       "      <td>Vocational bachelors educations</td>\n",
       "      <td>Women</td>\n",
       "      <td>1048</td>\n",
       "      <td>58393</td>\n",
       "      <td>1.794736</td>\n",
       "    </tr>\n",
       "    <tr>\n",
       "      <td>5</td>\n",
       "      <td>2008</td>\n",
       "      <td>Descendant</td>\n",
       "      <td>Bachelors programmes</td>\n",
       "      <td>Women</td>\n",
       "      <td>397</td>\n",
       "      <td>58393</td>\n",
       "      <td>0.679876</td>\n",
       "    </tr>\n",
       "    <tr>\n",
       "      <td>6</td>\n",
       "      <td>2008</td>\n",
       "      <td>Descendant</td>\n",
       "      <td>Masters programmes</td>\n",
       "      <td>Women</td>\n",
       "      <td>610</td>\n",
       "      <td>58393</td>\n",
       "      <td>1.044646</td>\n",
       "    </tr>\n",
       "    <tr>\n",
       "      <td>7</td>\n",
       "      <td>2008</td>\n",
       "      <td>Descendant</td>\n",
       "      <td>l</td>\n",
       "      <td>Women</td>\n",
       "      <td>19010</td>\n",
       "      <td>58393</td>\n",
       "      <td>32.555272</td>\n",
       "    </tr>\n",
       "    <tr>\n",
       "      <td>8</td>\n",
       "      <td>2008</td>\n",
       "      <td>Descendant</td>\n",
       "      <td>Primary education</td>\n",
       "      <td>Men</td>\n",
       "      <td>11987</td>\n",
       "      <td>60904</td>\n",
       "      <td>19.681794</td>\n",
       "    </tr>\n",
       "    <tr>\n",
       "      <td>9</td>\n",
       "      <td>2008</td>\n",
       "      <td>Descendant</td>\n",
       "      <td>Upper secondary education</td>\n",
       "      <td>Men</td>\n",
       "      <td>2454</td>\n",
       "      <td>60904</td>\n",
       "      <td>4.029292</td>\n",
       "    </tr>\n",
       "  </tbody>\n",
       "</table>\n",
       "</div>"
      ],
      "text/plain": [
       "   Year    Ancestry                                   HCEDUC Gender  Units  \\\n",
       "0  2008  Descendant                        Primary education  Women   9995   \n",
       "1  2008  Descendant                Upper secondary education  Women   3159   \n",
       "2  2008  Descendant  Vocational Education and Training (VET)  Women   2273   \n",
       "3  2008  Descendant             Short cycle higher education  Women    395   \n",
       "4  2008  Descendant          Vocational bachelors educations  Women   1048   \n",
       "5  2008  Descendant                     Bachelors programmes  Women    397   \n",
       "6  2008  Descendant                       Masters programmes  Women    610   \n",
       "7  2008  Descendant                                        l  Women  19010   \n",
       "8  2008  Descendant                        Primary education    Men  11987   \n",
       "9  2008  Descendant                Upper secondary education    Men   2454   \n",
       "\n",
       "     Pop      Share  \n",
       "0  58393  17.116778  \n",
       "1  58393   5.409895  \n",
       "2  58393   3.892590  \n",
       "3  58393   0.676451  \n",
       "4  58393   1.794736  \n",
       "5  58393   0.679876  \n",
       "6  58393   1.044646  \n",
       "7  58393  32.555272  \n",
       "8  60904  19.681794  \n",
       "9  60904   4.029292  "
      ]
     },
     "execution_count": 6,
     "metadata": {},
     "output_type": "execute_result"
    }
   ],
   "source": [
    "# Make a new column with calculated shares\n",
    "merged['Share'] = merged['Units']/merged['Pop'] * 100\n",
    "merged.head(10)"
   ]
  },
  {
   "cell_type": "markdown",
   "metadata": {},
   "source": [
    "# Graphical analysis"
   ]
  },
  {
   "cell_type": "markdown",
   "metadata": {},
   "source": [
    "## Education level in Denmark 2008-2019"
   ]
  },
  {
   "cell_type": "markdown",
   "metadata": {},
   "source": [
    "In order to get an overview of the development in the highest completed education of the population, we make a stacked bar plot of the share of people having each education as the highest they have completed."
   ]
  },
  {
   "cell_type": "code",
   "execution_count": 7,
   "metadata": {},
   "outputs": [
    {
     "data": {
      "text/plain": [
       "<matplotlib.axes._subplots.AxesSubplot at 0x122490710>"
      ]
     },
     "execution_count": 7,
     "metadata": {},
     "output_type": "execute_result"
    },
    {
     "data": {
      "image/png": "[encoded data removed]",
      "text/plain": [
       "<Figure size 720x504 with 1 Axes>"
      ]
     },
     "metadata": {
      "needs_background": "light"
     },
     "output_type": "display_data"
    }
   ],
   "source": [
    "# Make a copy of the merged dataset\n",
    "merged1 = merged.copy()\n",
    "\n",
    "# Drop gender from dataset\n",
    "for val in ['Men', 'Women']: \n",
    "    I = merged1.Gender.str.contains(val)\n",
    "    merged1 = merged1.loc[I == False] # keep everything else\n",
    "\n",
    "# Drop ancestry from dataset\n",
    "for val in ['Descendant','Immigrants','Persons of Danish origin']: \n",
    "    J = merged1.Ancestry.str.contains(val)\n",
    "    merged1 = merged1.loc[J == False] \n",
    "\n",
    "#Make a pivot table and use it to make a stacked bar plot\n",
    "pivot = merged1.pivot(index='Year', columns='HCEDUC', values='Share')\n",
    "pivot.drop('l',axis=1,inplace=True)\n",
    "pivot.plot.bar(stacked=True, figsize=(10,7), title='Development of Highest Education Completed in Denmark',colormap='Spectral')\n"
   ]
  },
  {
   "cell_type": "markdown",
   "metadata": {},
   "source": [
    "We see three clear trends in the figure: \n",
    "\n",
    "1. The share of people with upper secondary education as their highest education level has increased from 2008 to 2019 \n",
    "2. The share of people with primary education as their highest education has decreased from 2008 to 2019\n",
    "3. The share of people with master programmes has increased from 2008 to 2019"
   ]
  },
  {
   "cell_type": "markdown",
   "metadata": {},
   "source": [
    "## Education level by ancestry 2008-2019"
   ]
  },
  {
   "cell_type": "markdown",
   "metadata": {},
   "source": [
    "We wish to get an overview of the development in the different education levels by ancestry. \n",
    "\n",
    "\n",
    "We wish to normalize the first observation within each ancestry within each type of education. This makes the comparison of development between ancestries more straight forward. We use the split-apply-combine method to make a column containing the first observation within each ancestry within each education, so we can normalize the data.\n",
    "\n",
    "Last, we construct a plot with a dropdown menu for choosing the education of interest."
   ]
  },
  {
   "cell_type": "code",
   "execution_count": 8,
   "metadata": {},
   "outputs": [
    {
     "data": {
      "application/vnd.jupyter.widget-view+json": {
       "model_id": "bf93c4ffeb264f44866ba075ca139e98",
       "version_major": 2,
       "version_minor": 0
      },
      "text/plain": [
       "interactive(children=(Dropdown(description='Educations', options=('Primary education', 'Upper secondary educat…"
      ]
     },
     "metadata": {},
     "output_type": "display_data"
    }
   ],
   "source": [
    "merged.set_index('Year')\n",
    "merged2 = merged.copy()\n",
    "\n",
    "# Drop gender from the dataset\n",
    "for val in ['Men', 'Women']: \n",
    "    I = merged2.Gender.str.contains(val)\n",
    "    merged2 = merged2.loc[I == False] # keep everything else\n",
    "\n",
    "# a. Split the dataset\n",
    "merged_grouped = merged2.groupby(['Ancestry', 'HCEDUC'])\n",
    "merged_grouped_first = merged_grouped.Share.first()\n",
    "merged_grouped_first.name = 'first'\n",
    "\n",
    "# b. Apply \n",
    "merged2.set_index(['Ancestry','HCEDUC','Year'],inplace=True)\n",
    "merged2 = merged2.join(merged_grouped_first,how='left',on=['Ancestry','HCEDUC'])\n",
    "merged2.reset_index(inplace=True)\n",
    "\n",
    "# c. combine\n",
    "merged2['indexed'] = merged2['Share']/merged2['first']\n",
    "\n",
    "# plot\n",
    "def plot_index(dataframe, Educations):\n",
    "    dataframe_indexed = dataframe.set_index(['Year'])\n",
    "    I = dataframe_indexed.HCEDUC == Educations\n",
    "    dataframe_indexed[I].groupby(['Ancestry'])['indexed'].plot(legend=True);\n",
    "    \n",
    "def plot_index_i(dataframe):\n",
    "    widgets.interact(plot_index, dataframe = widgets.fixed(dataframe), \n",
    "    Educations=widgets.Dropdown(decription='Education', options=dataframe.HCEDUC.unique())\n",
    "); \n",
    "    \n",
    "#plot_index_i(educ1)\n",
    "plot_index_i(merged2)"
   ]
  },
  {
   "cell_type": "markdown",
   "metadata": {},
   "source": [
    "We see that the share of descendants has increased within any education level, implying that more and more descendants complete an education at all levels. The share is only slightly dropping in primary education, which most likely is a sign of them educating further. Another clear trend is that the share of people getting a university degree is increasing. The increase in master degrees is steepest for descendants, next for imimigrants and then for persons of danish origin. \n",
    "\n",
    "We wish to examine the development in master programmes further, as education is positively correlated with income, thus the development in master degrees is very interesting for income and social structures."
   ]
  },
  {
   "cell_type": "markdown",
   "metadata": {},
   "source": [
    "## Education share by gender"
   ]
  },
  {
   "cell_type": "markdown",
   "metadata": {},
   "source": [
    "We want to examine the development in the share of people with master programmes as their highest education. Therefor, we are interested in the development of people with master programmes by gender wihtin ancestries, to see whether the development is driven by men, women or both. "
   ]
  },
  {
   "cell_type": "code",
   "execution_count": 9,
   "metadata": {},
   "outputs": [
    {
     "data": {
      "text/html": [
       "<div>\n",
       "<style scoped>\n",
       "    .dataframe tbody tr th:only-of-type {\n",
       "        vertical-align: middle;\n",
       "    }\n",
       "\n",
       "    .dataframe tbody tr th {\n",
       "        vertical-align: top;\n",
       "    }\n",
       "\n",
       "    .dataframe thead th {\n",
       "        text-align: right;\n",
       "    }\n",
       "</style>\n",
       "<table border=\"1\" class=\"dataframe\">\n",
       "  <thead>\n",
       "    <tr style=\"text-align: right;\">\n",
       "      <th></th>\n",
       "      <th>Year</th>\n",
       "      <th>Ancestry</th>\n",
       "      <th>HCEDUC</th>\n",
       "      <th>Gender</th>\n",
       "      <th>Units</th>\n",
       "      <th>Pop</th>\n",
       "      <th>Share</th>\n",
       "    </tr>\n",
       "  </thead>\n",
       "  <tbody>\n",
       "    <tr>\n",
       "      <td>6</td>\n",
       "      <td>2008</td>\n",
       "      <td>Descendant</td>\n",
       "      <td>Masters programmes</td>\n",
       "      <td>Women</td>\n",
       "      <td>610</td>\n",
       "      <td>58393</td>\n",
       "      <td>1.044646</td>\n",
       "    </tr>\n",
       "    <tr>\n",
       "      <td>14</td>\n",
       "      <td>2008</td>\n",
       "      <td>Descendant</td>\n",
       "      <td>Masters programmes</td>\n",
       "      <td>Men</td>\n",
       "      <td>701</td>\n",
       "      <td>60904</td>\n",
       "      <td>1.150992</td>\n",
       "    </tr>\n",
       "    <tr>\n",
       "      <td>22</td>\n",
       "      <td>2008</td>\n",
       "      <td>Descendant</td>\n",
       "      <td>Masters programmes</td>\n",
       "      <td>Total</td>\n",
       "      <td>1311</td>\n",
       "      <td>119297</td>\n",
       "      <td>1.098938</td>\n",
       "    </tr>\n",
       "    <tr>\n",
       "      <td>30</td>\n",
       "      <td>2008</td>\n",
       "      <td>Immigrants</td>\n",
       "      <td>Masters programmes</td>\n",
       "      <td>Women</td>\n",
       "      <td>10899</td>\n",
       "      <td>192713</td>\n",
       "      <td>5.655560</td>\n",
       "    </tr>\n",
       "    <tr>\n",
       "      <td>38</td>\n",
       "      <td>2008</td>\n",
       "      <td>Immigrants</td>\n",
       "      <td>Masters programmes</td>\n",
       "      <td>Men</td>\n",
       "      <td>12721</td>\n",
       "      <td>185952</td>\n",
       "      <td>6.841013</td>\n",
       "    </tr>\n",
       "    <tr>\n",
       "      <td>46</td>\n",
       "      <td>2008</td>\n",
       "      <td>Immigrants</td>\n",
       "      <td>Masters programmes</td>\n",
       "      <td>Total</td>\n",
       "      <td>23620</td>\n",
       "      <td>378665</td>\n",
       "      <td>6.237704</td>\n",
       "    </tr>\n",
       "    <tr>\n",
       "      <td>54</td>\n",
       "      <td>2008</td>\n",
       "      <td>Persons of Danish origin</td>\n",
       "      <td>Masters programmes</td>\n",
       "      <td>Women</td>\n",
       "      <td>91338</td>\n",
       "      <td>2512019</td>\n",
       "      <td>3.636039</td>\n",
       "    </tr>\n",
       "    <tr>\n",
       "      <td>62</td>\n",
       "      <td>2008</td>\n",
       "      <td>Persons of Danish origin</td>\n",
       "      <td>Masters programmes</td>\n",
       "      <td>Men</td>\n",
       "      <td>117850</td>\n",
       "      <td>2465810</td>\n",
       "      <td>4.779363</td>\n",
       "    </tr>\n",
       "    <tr>\n",
       "      <td>70</td>\n",
       "      <td>2008</td>\n",
       "      <td>Persons of Danish origin</td>\n",
       "      <td>Masters programmes</td>\n",
       "      <td>Total</td>\n",
       "      <td>209188</td>\n",
       "      <td>4977829</td>\n",
       "      <td>4.202394</td>\n",
       "    </tr>\n",
       "    <tr>\n",
       "      <td>78</td>\n",
       "      <td>2008</td>\n",
       "      <td>Total</td>\n",
       "      <td>Masters programmes</td>\n",
       "      <td>Women</td>\n",
       "      <td>102847</td>\n",
       "      <td>2763125</td>\n",
       "      <td>3.722126</td>\n",
       "    </tr>\n",
       "  </tbody>\n",
       "</table>\n",
       "</div>"
      ],
      "text/plain": [
       "    Year                  Ancestry              HCEDUC Gender   Units  \\\n",
       "6   2008                Descendant  Masters programmes  Women     610   \n",
       "14  2008                Descendant  Masters programmes    Men     701   \n",
       "22  2008                Descendant  Masters programmes  Total    1311   \n",
       "30  2008                Immigrants  Masters programmes  Women   10899   \n",
       "38  2008                Immigrants  Masters programmes    Men   12721   \n",
       "46  2008                Immigrants  Masters programmes  Total   23620   \n",
       "54  2008  Persons of Danish origin  Masters programmes  Women   91338   \n",
       "62  2008  Persons of Danish origin  Masters programmes    Men  117850   \n",
       "70  2008  Persons of Danish origin  Masters programmes  Total  209188   \n",
       "78  2008                     Total  Masters programmes  Women  102847   \n",
       "\n",
       "        Pop     Share  \n",
       "6     58393  1.044646  \n",
       "14    60904  1.150992  \n",
       "22   119297  1.098938  \n",
       "30   192713  5.655560  \n",
       "38   185952  6.841013  \n",
       "46   378665  6.237704  \n",
       "54  2512019  3.636039  \n",
       "62  2465810  4.779363  \n",
       "70  4977829  4.202394  \n",
       "78  2763125  3.722126  "
      ]
     },
     "execution_count": 9,
     "metadata": {},
     "output_type": "execute_result"
    }
   ],
   "source": [
    "#Only select the number of people with completed master programmes as their highest education\n",
    "for val in ['Masters programmes']: \n",
    "    I = merged.HCEDUC.str.contains(val)\n",
    "    merged = merged.loc[I == True] \n",
    "merged.head(10)"
   ]
  },
  {
   "cell_type": "code",
   "execution_count": 11,
   "metadata": {},
   "outputs": [
    {
     "data": {
      "image/png": "[encoded data removed]",
      "text/plain": [
       "<Figure size 864x936 with 3 Axes>"
      ]
     },
     "metadata": {
      "needs_background": "light"
     },
     "output_type": "display_data"
    }
   ],
   "source": [
    "# Make a figure with 3 subplots \n",
    "plt.figure(figsize=(12,13))\n",
    "\n",
    "#Figure 1: Plot with share of descendants with master programmes by gender\n",
    "merged3 = merged.copy()\n",
    "I = merged3.Ancestry == 'Descendant'\n",
    "x = merged3[I]\n",
    "\n",
    "ax = plt.subplot(311)\n",
    "\n",
    "J = x.Gender == 'Men'\n",
    "y1 = x[J]\n",
    "y1.rename(columns = {'Share':'Men'}, inplace=True)\n",
    "y1.plot(kind='line', x = 'Year', y='Men', ylim=(0,15), color='blue', ax=ax)\n",
    "\n",
    "K = x.Gender == 'Women'\n",
    "y2 = x[K]\n",
    "y2.rename(columns = {'Share':'Women'}, inplace=True)\n",
    "y2.plot(kind='line', x = 'Year', y='Women', ylim=(0,15), color='red', ax=ax)\n",
    "ax.set_title('Share of Descendants with Master Programmes by Gender')\n",
    "\n",
    "#Figure 2: Plot with share of immigrants with master programmes by gender\n",
    "merged4 = merged.copy()\n",
    "I = merged4.Ancestry == 'Immigrants'\n",
    "x = merged4[I]\n",
    "\n",
    "ax1 = plt.subplot(312)\n",
    "\n",
    "J = x.Gender == 'Men'\n",
    "y1 = x[J]\n",
    "y1.rename(columns = {'Share':'Men'}, inplace=True)\n",
    "y1.plot(kind='line', x = 'Year', y='Men', ylim=(0,15), color='blue', label='Men', ax=ax1)\n",
    "\n",
    "K = x.Gender == 'Women'\n",
    "y2 = x[K]\n",
    "y2.rename(columns = {'Share':'Women'}, inplace=True)\n",
    "y2.plot(kind='line', x = 'Year', y='Women', ylim=(0,15), color='red', ax=ax1, label='Women')\n",
    "ax1.set_title('Share of Immigrants with Master Programmes by Gender')\n",
    "\n",
    "#Figure 3: Plot with share of persons of danish origin with master programmes by gender\n",
    "merged5 = merged.copy()\n",
    "I = merged5.Ancestry == 'Persons of Danish origin'\n",
    "x = merged5[I]\n",
    "\n",
    "ax2 = plt.subplot(313)\n",
    "\n",
    "J = x.Gender == 'Men'\n",
    "y1 = x[J]\n",
    "y1.rename(columns = {'Share':'Men'}, inplace=True)\n",
    "y1.plot(kind='line', x = 'Year', y='Men', ylim=(0,15), color='blue', ax=ax2)\n",
    "\n",
    "K = x.Gender == 'Women'\n",
    "y2 = x[K]\n",
    "y2.rename(columns = {'Share':'Women'}, inplace=True)\n",
    "y2.plot(kind='line', x = 'Year', y='Women', ylim=(0,15), color='red', ax=ax2)\n",
    "ax2.set_title('Share of Persons of Danish origin with Master Programmes by Gender')\n",
    "\n",
    "\n",
    "plt.tight_layout(pad=10,h_pad=3,w_pad=20)"
   ]
  },
  {
   "cell_type": "markdown",
   "metadata": {},
   "source": [
    "We see that the share of female descendants with a master degree increase more than the share of male descendants with a master degree from 2008 to 2019. In 2019 the share of female descendants with a master degree is around 0.5 percent higher than the share of male descendants with a master degree.  \n",
    "\n",
    "In constrast, the gap between female immigrants and male immigrants with a master degree closes during the period in the analysis. In 2008 more men had a master degree as their highest education. The share of male immigrants with a master degree was about 7% and the share of female immigrants with a master degree was about 6%. Both shares increase to about 12-13%, but the increase in the share of female is higher. \n",
    "\n",
    "Finally, more men with danish origin had a master degree as their highest education in 2008, but again the gap between men and women closes from 2008 to 2019 with a higher increase in the share of women with a master degree relative to the increase in the share of men with a master degree. In 2019 the share of women with a master degree as their highest education just exceeded the share of men. \n",
    "\n",
    "We now want compare the share of men and women with master programmes as their highest education by ancestry. \n"
   ]
  },
  {
   "cell_type": "code",
   "execution_count": 12,
   "metadata": {},
   "outputs": [
    {
     "data": {
      "image/png": "[encoded data removed]",
      "text/plain": [
       "<Figure size 720x720 with 2 Axes>"
      ]
     },
     "metadata": {
      "needs_background": "light"
     },
     "output_type": "display_data"
    }
   ],
   "source": [
    "# Make a figure with 2 subplots \n",
    "plt.figure(figsize=(10,10))\n",
    "\n",
    "#Figure 1: Plot with share of men with master programmes by ancestry\n",
    "merged6 = merged.copy()\n",
    "I = merged6.Gender == 'Men'\n",
    "x = merged6[I]\n",
    "\n",
    "ax = plt.subplot(211)\n",
    "\n",
    "J = x.Ancestry == 'Descendant'\n",
    "y1 = x[J]\n",
    "y1.rename(columns = {'Share':'Descendant'}, inplace=True)\n",
    "y1.plot(kind='line', x = 'Year', y='Descendant', ylim=(0,15), color='blue', ax=ax)\n",
    "\n",
    "K = x.Ancestry == 'Immigrants'\n",
    "y2 = x[K]\n",
    "y2.rename(columns = {'Share':'Immigrants'}, inplace=True)\n",
    "y2.plot(kind='line', x = 'Year', y='Immigrants', ylim=(0,15), color='orange', ax=ax)\n",
    "\n",
    "K = x.Ancestry == 'Persons of Danish origin'\n",
    "y2 = x[K]\n",
    "y2.rename(columns = {'Share':'Persons of Danish origin'}, inplace=True)\n",
    "y2.plot(kind='line', x = 'Year', y='Persons of Danish origin', ylim=(0,15), color='green', ax=ax)\n",
    "ax.set_title('Share of Men with Master Programmes by Ancestry')\n",
    "\n",
    "#Figure 2: Plot with share of women with master programmes by ancestry\n",
    "merged7 = merged.copy()\n",
    "I = merged7.Gender == 'Women'\n",
    "x = merged7[I]\n",
    "\n",
    "ax1 = plt.subplot(212)\n",
    "\n",
    "J = x.Ancestry == 'Descendant'\n",
    "y1 = x[J]\n",
    "y1.rename(columns = {'Share':'Descendant'}, inplace=True)\n",
    "y1.plot(kind = 'line', x = 'Year', y='Descendant', ylim=(0,15), color='blue', ax=ax1)\n",
    "\n",
    "K = x.Ancestry == 'Immigrants'\n",
    "y2 = x[K]\n",
    "y2.rename(columns = {'Share':'Immigrants'}, inplace=True)\n",
    "y2.plot(kind='line', x = 'Year', y='Immigrants', ylim=(0,15), color='orange', ax=ax1)\n",
    "\n",
    "L = x.Ancestry == 'Persons of Danish origin'\n",
    "y3 = x[L]\n",
    "y3.rename(columns = {'Share':'Persons of Danish origin'}, inplace=True)\n",
    "y3.plot(kind='line', x = 'Year', y='Persons of Danish origin', ylim=(0,15), color='green', ax=ax1)\n",
    "ax1.set_title('Share of Women with Master Programmes by Ancestry')\n",
    "\n",
    "\n",
    "plt.tight_layout(pad=10,h_pad=1,w_pad=10)"
   ]
  },
  {
   "cell_type": "markdown",
   "metadata": {},
   "source": [
    "When comparing the share of men with a master degree by ancestry, we see that in 2008 the share of male immigrants with a master degree is the highest, it is around 7. The share of male immigrants with a master degrees also increase the most, which might represent that the male immigrants comming to Denmark are a special type. The share of male descendants with a master degreee as their higehst education is the lowest throughout the period, but the share increase from 1% in 2008 to 1.5% in 2019. \n",
    "The share of male descendants with a master degree increase more during the period of the analysis than the share of men with danish origin. \n",
    "\n",
    "The development of women with a master degree by ancestry is almost the same as for men. Again the share of female immigrants with a master degree as their highest education is the highest and also experience the highest increase during the period. The share of female descendants with a master degree increase from 1% in 2008 to 3% in 2019, and the share of women with danish origin with a master degree increase from 3.5% in 2008 to 5.5% in 2019. \n",
    "\n",
    "Note that the increase in the share of both females and males with master programmes can be due to changes in the size of age groups within each ancestry during the period as we have not taking age into account.\n",
    "\n"
   ]
  },
  {
   "cell_type": "markdown",
   "metadata": {},
   "source": [
    "# Conclusion "
   ]
  },
  {
   "cell_type": "markdown",
   "metadata": {},
   "source": [
    "We find that the share of people who has primary education as their highest level of education has decreased from 2008 to 2019, while the share of people with upper secondary education and share of people with a master as their highest education level has increased. \n",
    "\n",
    "We see that the share of descandants increase for all education levels, representing an overall increase in level of education for descendants in Denmark. Further, we see that the share of people with a master programmes as their highest completed education has increased within all ancestries. \n",
    "The development is primarily driven by the increase in share of women with a master degree as their highest completed education. \n",
    "\n",
    "Last we find that the increase in the share of both female and male immigrants with a master degree as their highest education is the highest in percentage points. "
   ]
  },
  {
   "cell_type": "code",
   "execution_count": null,
   "metadata": {},
   "outputs": [],
   "source": []
  }
 ],
 "metadata": {
  "kernelspec": {
   "display_name": "Python 3",
   "language": "python",
   "name": "python3"
  },
  "language_info": {
   "codemirror_mode": {
    "name": "ipython",
    "version": 3
   },
   "file_extension": ".py",
   "mimetype": "text/x-python",
   "name": "python",
   "nbconvert_exporter": "python",
   "pygments_lexer": "ipython3",
   "version": "3.7.4"
  },
  "toc-autonumbering": true
 },
 "nbformat": 4,
 "nbformat_minor": 4
}
